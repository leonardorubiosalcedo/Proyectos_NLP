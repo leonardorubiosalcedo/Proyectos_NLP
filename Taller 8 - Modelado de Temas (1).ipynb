{
 "cells": [
  {
   "cell_type": "markdown",
   "metadata": {},
   "source": [
    "<img src='https://encrypted-tbn0.gstatic.com/images?q=tbn%3AANd9GcQ-VfNtOyJbsaxu43Kztf_cv1mgBG6ZIQZEVw&usqp=CAU'>\n",
    "\n",
    "# Procesamiento de Lenguage Natural\n",
    "\n",
    "## Taller #8: Modelado de temas\n",
    "`Fecha de entrega: 🎃Octubre 31, 2020. (Antes del inicio de la próxima clase).`\n",
    "\n",
    "`Modo de entrega: Subir link de GitHub al aula virtual.`\n",
    "\n",
    "Leonardo Rubio Salcedo"
   ]
  },
  {
   "cell_type": "code",
   "execution_count": 1,
   "metadata": {},
   "outputs": [
    {
     "name": "stderr",
     "output_type": "stream",
     "text": [
      "C:\\ProgramData\\Anaconda3\\lib\\site-packages\\scipy\\sparse\\sparsetools.py:21: DeprecationWarning: `scipy.sparse.sparsetools` is deprecated!\n",
      "scipy.sparse.sparsetools is a private module for scipy.sparse, and should not be used.\n",
      "  _deprecated()\n"
     ]
    }
   ],
   "source": [
    "import re\n",
    "import pandas as pd \n",
    "from pprint import pprint\n",
    "\n",
    "from nltk.corpus import stopwords\n",
    "stopwords = stopwords.words('spanish')\n",
    "\n",
    "import pyLDAvis.gensim\n",
    "from gensim.models import LdaModel\n",
    "from gensim.corpora import Dictionary\n",
    "\n",
    "import warnings\n",
    "warnings.filterwarnings(\"ignore\", category=DeprecationWarning)"
   ]
  },
  {
   "cell_type": "code",
   "execution_count": 5,
   "metadata": {},
   "outputs": [
    {
     "data": {
      "text/html": [
       "<div>\n",
       "<style scoped>\n",
       "    .dataframe tbody tr th:only-of-type {\n",
       "        vertical-align: middle;\n",
       "    }\n",
       "\n",
       "    .dataframe tbody tr th {\n",
       "        vertical-align: top;\n",
       "    }\n",
       "\n",
       "    .dataframe thead th {\n",
       "        text-align: right;\n",
       "    }\n",
       "</style>\n",
       "<table border=\"1\" class=\"dataframe\">\n",
       "  <thead>\n",
       "    <tr style=\"text-align: right;\">\n",
       "      <th></th>\n",
       "      <th>review_id</th>\n",
       "      <th>product_id</th>\n",
       "      <th>reviewer_id</th>\n",
       "      <th>stars</th>\n",
       "      <th>review_body</th>\n",
       "      <th>review_title</th>\n",
       "      <th>language</th>\n",
       "      <th>product_category</th>\n",
       "    </tr>\n",
       "  </thead>\n",
       "  <tbody>\n",
       "    <tr>\n",
       "      <th>0</th>\n",
       "      <td>es_0825565</td>\n",
       "      <td>product_es_0370490</td>\n",
       "      <td>reviewer_es_0174781</td>\n",
       "      <td>3</td>\n",
       "      <td>Buen. Buena calidad, y buena presentación.</td>\n",
       "      <td>Contenta</td>\n",
       "      <td>es</td>\n",
       "      <td>jewelry</td>\n",
       "    </tr>\n",
       "    <tr>\n",
       "      <th>1</th>\n",
       "      <td>es_0227934</td>\n",
       "      <td>product_es_0354224</td>\n",
       "      <td>reviewer_es_0411613</td>\n",
       "      <td>3</td>\n",
       "      <td>Un producto a perfecto, para salir de casa con...</td>\n",
       "      <td>Versatilidad</td>\n",
       "      <td>es</td>\n",
       "      <td>video_games</td>\n",
       "    </tr>\n",
       "    <tr>\n",
       "      <th>2</th>\n",
       "      <td>es_0468601</td>\n",
       "      <td>product_es_0665460</td>\n",
       "      <td>reviewer_es_0348315</td>\n",
       "      <td>1</td>\n",
       "      <td>No funciona con Nintendo Switch. No hay forma ...</td>\n",
       "      <td>Decepción absoluta</td>\n",
       "      <td>es</td>\n",
       "      <td>video_games</td>\n",
       "    </tr>\n",
       "    <tr>\n",
       "      <th>3</th>\n",
       "      <td>es_0814494</td>\n",
       "      <td>product_es_0692692</td>\n",
       "      <td>reviewer_es_0951508</td>\n",
       "      <td>5</td>\n",
       "      <td>Recomendado, los utilizo para pc y no me dan n...</td>\n",
       "      <td>Auriculares Pecham ps4</td>\n",
       "      <td>es</td>\n",
       "      <td>video_games</td>\n",
       "    </tr>\n",
       "    <tr>\n",
       "      <th>4</th>\n",
       "      <td>es_0206329</td>\n",
       "      <td>product_es_0728826</td>\n",
       "      <td>reviewer_es_0493255</td>\n",
       "      <td>4</td>\n",
       "      <td>El cable funciona bien podria ser un poco mas ...</td>\n",
       "      <td>Perfecto</td>\n",
       "      <td>es</td>\n",
       "      <td>video_games</td>\n",
       "    </tr>\n",
       "  </tbody>\n",
       "</table>\n",
       "</div>"
      ],
      "text/plain": [
       "    review_id          product_id          reviewer_id  stars  \\\n",
       "0  es_0825565  product_es_0370490  reviewer_es_0174781      3   \n",
       "1  es_0227934  product_es_0354224  reviewer_es_0411613      3   \n",
       "2  es_0468601  product_es_0665460  reviewer_es_0348315      1   \n",
       "3  es_0814494  product_es_0692692  reviewer_es_0951508      5   \n",
       "4  es_0206329  product_es_0728826  reviewer_es_0493255      4   \n",
       "\n",
       "                                         review_body            review_title  \\\n",
       "0         Buen. Buena calidad, y buena presentación.                Contenta   \n",
       "1  Un producto a perfecto, para salir de casa con...            Versatilidad   \n",
       "2  No funciona con Nintendo Switch. No hay forma ...      Decepción absoluta   \n",
       "3  Recomendado, los utilizo para pc y no me dan n...  Auriculares Pecham ps4   \n",
       "4  El cable funciona bien podria ser un poco mas ...                Perfecto   \n",
       "\n",
       "  language product_category  \n",
       "0       es          jewelry  \n",
       "1       es      video_games  \n",
       "2       es      video_games  \n",
       "3       es      video_games  \n",
       "4       es      video_games  "
      ]
     },
     "execution_count": 5,
     "metadata": {},
     "output_type": "execute_result"
    }
   ],
   "source": [
    "# Cargar datos\n",
    "path = 'reviews_vidjew_es.csv'\n",
    "datos = pd.read_csv(path)\n",
    "datos.head()"
   ]
  },
  {
   "cell_type": "markdown",
   "metadata": {},
   "source": [
    "###  `[12 pts]` Punto 1: Hacer pre-procesamiento del texto"
   ]
  },
  {
   "cell_type": "code",
   "execution_count": 12,
   "metadata": {},
   "outputs": [],
   "source": [
    "from nltk.stem.snowball import SnowballStemmer\n",
    "spanishStemmer=SnowballStemmer(\"spanish\")\n",
    "def pre_procesado(texto):\n",
    "    texto = texto.lower()\n",
    "    texto = re.sub(r\"[\\W\\d_]+\", \" \", texto)\n",
    "    #texto = \" \".join([palabra for palabra in texto.split() if palabra not in stopwords_sp])\n",
    "    texto = [palabra for palabra in texto.split() if palabra not in stopwords_sp]\n",
    "    #texto = \" \".join([spanishStemmer.stem(palabra) for palabra in texto.split() ])\n",
    "    return texto"
   ]
  },
  {
   "cell_type": "code",
   "execution_count": 14,
   "metadata": {},
   "outputs": [
    {
     "data": {
      "text/html": [
       "<div>\n",
       "<style scoped>\n",
       "    .dataframe tbody tr th:only-of-type {\n",
       "        vertical-align: middle;\n",
       "    }\n",
       "\n",
       "    .dataframe tbody tr th {\n",
       "        vertical-align: top;\n",
       "    }\n",
       "\n",
       "    .dataframe thead th {\n",
       "        text-align: right;\n",
       "    }\n",
       "</style>\n",
       "<table border=\"1\" class=\"dataframe\">\n",
       "  <thead>\n",
       "    <tr style=\"text-align: right;\">\n",
       "      <th></th>\n",
       "      <th>review_id</th>\n",
       "      <th>product_id</th>\n",
       "      <th>reviewer_id</th>\n",
       "      <th>stars</th>\n",
       "      <th>review_body</th>\n",
       "      <th>review_title</th>\n",
       "      <th>language</th>\n",
       "      <th>product_category</th>\n",
       "      <th>pp</th>\n",
       "    </tr>\n",
       "  </thead>\n",
       "  <tbody>\n",
       "    <tr>\n",
       "      <th>0</th>\n",
       "      <td>es_0825565</td>\n",
       "      <td>product_es_0370490</td>\n",
       "      <td>reviewer_es_0174781</td>\n",
       "      <td>3</td>\n",
       "      <td>Buen. Buena calidad, y buena presentación.</td>\n",
       "      <td>Contenta</td>\n",
       "      <td>es</td>\n",
       "      <td>jewelry</td>\n",
       "      <td>[buen, buena, calidad, buena, presentación]</td>\n",
       "    </tr>\n",
       "    <tr>\n",
       "      <th>1</th>\n",
       "      <td>es_0227934</td>\n",
       "      <td>product_es_0354224</td>\n",
       "      <td>reviewer_es_0411613</td>\n",
       "      <td>3</td>\n",
       "      <td>Un producto a perfecto, para salir de casa con...</td>\n",
       "      <td>Versatilidad</td>\n",
       "      <td>es</td>\n",
       "      <td>video_games</td>\n",
       "      <td>[producto, perfecto, salir, casa, nintendo, sw...</td>\n",
       "    </tr>\n",
       "    <tr>\n",
       "      <th>2</th>\n",
       "      <td>es_0468601</td>\n",
       "      <td>product_es_0665460</td>\n",
       "      <td>reviewer_es_0348315</td>\n",
       "      <td>1</td>\n",
       "      <td>No funciona con Nintendo Switch. No hay forma ...</td>\n",
       "      <td>Decepción absoluta</td>\n",
       "      <td>es</td>\n",
       "      <td>video_games</td>\n",
       "      <td>[funciona, nintendo, switch, forma, emparejarl...</td>\n",
       "    </tr>\n",
       "    <tr>\n",
       "      <th>3</th>\n",
       "      <td>es_0814494</td>\n",
       "      <td>product_es_0692692</td>\n",
       "      <td>reviewer_es_0951508</td>\n",
       "      <td>5</td>\n",
       "      <td>Recomendado, los utilizo para pc y no me dan n...</td>\n",
       "      <td>Auriculares Pecham ps4</td>\n",
       "      <td>es</td>\n",
       "      <td>video_games</td>\n",
       "      <td>[recomendado, utilizo, pc, dan, ningún, proble...</td>\n",
       "    </tr>\n",
       "    <tr>\n",
       "      <th>4</th>\n",
       "      <td>es_0206329</td>\n",
       "      <td>product_es_0728826</td>\n",
       "      <td>reviewer_es_0493255</td>\n",
       "      <td>4</td>\n",
       "      <td>El cable funciona bien podria ser un poco mas ...</td>\n",
       "      <td>Perfecto</td>\n",
       "      <td>es</td>\n",
       "      <td>video_games</td>\n",
       "      <td>[cable, funciona, bien, podria, ser, mas, larg...</td>\n",
       "    </tr>\n",
       "  </tbody>\n",
       "</table>\n",
       "</div>"
      ],
      "text/plain": [
       "    review_id          product_id          reviewer_id  stars  \\\n",
       "0  es_0825565  product_es_0370490  reviewer_es_0174781      3   \n",
       "1  es_0227934  product_es_0354224  reviewer_es_0411613      3   \n",
       "2  es_0468601  product_es_0665460  reviewer_es_0348315      1   \n",
       "3  es_0814494  product_es_0692692  reviewer_es_0951508      5   \n",
       "4  es_0206329  product_es_0728826  reviewer_es_0493255      4   \n",
       "\n",
       "                                         review_body            review_title  \\\n",
       "0         Buen. Buena calidad, y buena presentación.                Contenta   \n",
       "1  Un producto a perfecto, para salir de casa con...            Versatilidad   \n",
       "2  No funciona con Nintendo Switch. No hay forma ...      Decepción absoluta   \n",
       "3  Recomendado, los utilizo para pc y no me dan n...  Auriculares Pecham ps4   \n",
       "4  El cable funciona bien podria ser un poco mas ...                Perfecto   \n",
       "\n",
       "  language product_category                                                 pp  \n",
       "0       es          jewelry        [buen, buena, calidad, buena, presentación]  \n",
       "1       es      video_games  [producto, perfecto, salir, casa, nintendo, sw...  \n",
       "2       es      video_games  [funciona, nintendo, switch, forma, emparejarl...  \n",
       "3       es      video_games  [recomendado, utilizo, pc, dan, ningún, proble...  \n",
       "4       es      video_games  [cable, funciona, bien, podria, ser, mas, larg...  "
      ]
     },
     "execution_count": 14,
     "metadata": {},
     "output_type": "execute_result"
    }
   ],
   "source": [
    "datos[\"pp\"]= datos['review_body'].apply(lambda texto: pre_procesado(texto))\n",
    "datos.head()"
   ]
  },
  {
   "cell_type": "markdown",
   "metadata": {},
   "source": [
    "###  `[13 pts]` Punto 2: Modelo de LDA"
   ]
  },
  {
   "cell_type": "code",
   "execution_count": 15,
   "metadata": {},
   "outputs": [],
   "source": [
    "# Crear una representación de los documentos en forma de diccionario\n",
    "import pyLDAvis.gensim\n",
    "from gensim.models import LdaModel\n",
    "from gensim.corpora import Dictionary\n",
    "from pprint import pprint"
   ]
  },
  {
   "cell_type": "code",
   "execution_count": 16,
   "metadata": {},
   "outputs": [
    {
     "data": {
      "text/plain": [
       "<gensim.corpora.dictionary.Dictionary at 0x270ddade6a0>"
      ]
     },
     "execution_count": 16,
     "metadata": {},
     "output_type": "execute_result"
    }
   ],
   "source": [
    "# Crear una representación de los documentos en forma de diccionario\n",
    "dictionary = Dictionary(datos['pp'].values)\n",
    "dictionary"
   ]
  },
  {
   "cell_type": "code",
   "execution_count": 49,
   "metadata": {},
   "outputs": [],
   "source": [
    "# Filtrar palabras muy frecuentes y poco frecuentes\n",
    "dictionary.filter_extremes(no_below=20, no_above=0.4)\n",
    "corpus = [dictionary.doc2bow(text) for text in datos['pp'].values]"
   ]
  },
  {
   "cell_type": "code",
   "execution_count": 56,
   "metadata": {},
   "outputs": [],
   "source": [
    "#Train the topic model\n",
    "model = LdaModel(corpus=corpus, id2word=dictionary, num_topics=2, passes=200)"
   ]
  },
  {
   "cell_type": "markdown",
   "metadata": {},
   "source": [
    "###  `[25 pts]` Punto 3: Visualización de LDA"
   ]
  },
  {
   "cell_type": "code",
   "execution_count": 57,
   "metadata": {},
   "outputs": [
    {
     "data": {
      "text/plain": [
       "[(0,\n",
       "  '0.075*\"calidad\" + 0.060*\"precio\" + 0.046*\"bien\" + 0.035*\"si\" + 0.034*\"buena\" + 0.033*\"bonito\" + 0.028*\"bastante\" + 0.027*\"foto\" + 0.027*\"mando\" + 0.026*\"puede\"'),\n",
       " (1,\n",
       "  '0.066*\"juego\" + 0.059*\"producto\" + 0.055*\"bien\" + 0.033*\"perfecto\" + 0.031*\"buen\" + 0.028*\"llegado\" + 0.027*\"día\" + 0.026*\"caja\" + 0.026*\"si\" + 0.025*\"solo\"')]"
      ]
     },
     "execution_count": 57,
     "metadata": {},
     "output_type": "execute_result"
    }
   ],
   "source": [
    "model.print_topics(7)"
   ]
  },
  {
   "cell_type": "code",
   "execution_count": 58,
   "metadata": {},
   "outputs": [
    {
     "data": {
      "text/html": [
       "\n",
       "<link rel=\"stylesheet\" type=\"text/css\" href=\"https://cdn.rawgit.com/bmabey/pyLDAvis/files/ldavis.v1.0.0.css\">\n",
       "\n",
       "\n",
       "<div id=\"ldavis_el1769226837855898085417119712\"></div>\n",
       "<script type=\"text/javascript\">\n",
       "\n",
       "var ldavis_el1769226837855898085417119712_data = {\"mdsDat\": {\"x\": [0.22237128019332883, -0.22237128019332883], \"y\": [0.0, 0.0], \"topics\": [1, 2], \"cluster\": [1, 1], \"Freq\": [51.95449447631836, 48.04550552368164]}, \"tinfo\": {\"Term\": [\"calidad\", \"juego\", \"producto\", \"precio\", \"perfecto\", \"buena\", \"bonito\", \"llegado\", \"d\\u00eda\", \"caja\", \"bastante\", \"foto\", \"mando\", \"lleg\\u00f3\", \"solo\", \"puede\", \"tiempo\", \"as\\u00ed\", \"bonitos\", \"parece\", \"aunque\", \"buen\", \"amazon\", \"funciona\", \"plata\", \"llego\", \"pulsera\", \"queda\", \"mejor\", \"cadena\", \"calidad\", \"precio\", \"buena\", \"bonito\", \"bastante\", \"foto\", \"mando\", \"aunque\", \"cadena\", \"queda\", \"pulsera\", \"grande\", \"ps\", \"peque\\u00f1o\", \"puede\", \"bonita\", \"jugar\", \"colgante\", \"mejor\", \"mala\", \"gustado\", \"cierre\", \"tan\", \"ve\", \"demasiado\", \"color\", \"verdad\", \"gusta\", \"parece\", \"material\", \"tal\", \"cable\", \"si\", \"bien\", \"mas\", \"regalo\", \"tama\\u00f1o\", \"ser\", \"juego\", \"producto\", \"perfecto\", \"d\\u00eda\", \"llegado\", \"caja\", \"lleg\\u00f3\", \"bonitos\", \"amazon\", \"llego\", \"tiempo\", \"funciona\", \"as\\u00ed\", \"plata\", \"pedido\", \"despu\\u00e9s\", \"entrega\", \"comprar\", \"sido\", \"env\\u00edo\", \"quedan\", \"gracias\", \"r\\u00e1pido\", \"problema\", \"solo\", \"pendientes\", \"hacer\", \"vez\", \"peque\\u00f1os\", \"momento\", \"cumple\", \"parte\", \"buen\", \"bien\", \"si\", \"perfectamente\", \"regalo\", \"dos\", \"mas\"], \"Freq\": [149.0, 122.0, 109.0, 120.0, 61.0, 68.0, 66.0, 52.0, 50.0, 49.0, 55.0, 54.0, 54.0, 45.0, 48.0, 52.0, 44.0, 42.0, 41.0, 50.0, 44.0, 63.0, 36.0, 36.0, 36.0, 35.0, 38.0, 36.0, 36.0, 34.0, 149.12721252441406, 119.55323791503906, 67.46830749511719, 65.52361297607422, 54.78937530517578, 53.78790283203125, 53.756309509277344, 44.0838737487793, 33.49619674682617, 36.36539840698242, 38.259490966796875, 30.553430557250977, 29.578214645385742, 30.514890670776367, 51.45105743408203, 26.65663719177246, 34.26557540893555, 25.691619873046875, 36.1501579284668, 24.71994400024414, 33.26180648803711, 24.67182731628418, 23.721433639526367, 22.744842529296875, 29.36624526977539, 21.787744522094727, 23.65190315246582, 22.6991024017334, 49.175968170166016, 20.766286849975586, 30.179800033569336, 22.600379943847656, 69.76838684082031, 92.16767883300781, 41.85742950439453, 35.03329849243164, 25.87716293334961, 25.540748596191406, 121.92810821533203, 109.1878890991211, 61.1938362121582, 50.4028434753418, 52.33266830444336, 48.39276123046875, 44.44853591918945, 40.505615234375, 35.68149948120117, 34.702293395996094, 43.33026123046875, 35.62218475341797, 41.33812713623047, 35.53289794921875, 24.96209716796875, 27.778610229492188, 23.945659637451172, 25.84855842590332, 27.733684539794922, 21.98944664001465, 22.931543350219727, 21.952472686767578, 20.991077423095703, 24.804134368896484, 46.71687698364258, 29.551584243774414, 20.011280059814453, 26.635183334350586, 21.854766845703125, 21.836397171020508, 24.66420555114746, 30.56747055053711, 56.35289764404297, 101.16041564941406, 47.28021240234375, 27.142131805419922, 29.371950149536133, 26.30438995361328, 25.430322647094727], \"Total\": [149.0, 122.0, 109.0, 120.0, 61.0, 68.0, 66.0, 52.0, 50.0, 49.0, 55.0, 54.0, 54.0, 45.0, 48.0, 52.0, 44.0, 42.0, 41.0, 50.0, 44.0, 63.0, 36.0, 36.0, 36.0, 35.0, 38.0, 36.0, 36.0, 34.0, 149.6996307373047, 120.54174041748047, 68.04780578613281, 66.10372924804688, 55.41155242919922, 54.43974304199219, 54.439998626708984, 44.71915054321289, 34.025821685791016, 36.94231414794922, 38.88679885864258, 31.109886169433594, 30.137859344482422, 31.11018943786621, 52.49899673461914, 27.221755981445312, 34.99950408935547, 26.249670028686523, 36.944091796875, 25.27761459350586, 34.027706146240234, 25.277997970581055, 24.3057804107666, 23.333770751953125, 30.13957977294922, 22.361597061157227, 24.306337356567383, 23.33412742614746, 50.55773162841797, 21.389951705932617, 31.112987518310547, 23.33493995666504, 117.04859924316406, 193.32809448242188, 67.28775024414062, 64.4052505493164, 36.052059173583984, 38.01578903198242, 122.54609680175781, 109.80076599121094, 61.76088333129883, 50.97626495361328, 52.93679428100586, 49.014976501464844, 45.09311294555664, 41.17129135131836, 36.26991653442383, 35.28949737548828, 44.11149215698242, 36.26936721801758, 42.1504020690918, 36.26856994628906, 25.48596954345703, 28.42605209350586, 24.50520133972168, 26.465492248535156, 28.425649642944336, 22.54442596435547, 23.524473190307617, 22.5440673828125, 21.56383514404297, 25.484514236450195, 48.028602600097656, 30.38525390625, 20.583431243896484, 27.4442138671875, 22.543188095092773, 22.54302978515625, 25.483261108398438, 32.33798599243164, 63.663482666015625, 193.32809448242188, 117.04859924316406, 39.11302947998047, 64.4052505493164, 41.04997253417969, 67.28775024414062], \"Category\": [\"Default\", \"Default\", \"Default\", \"Default\", \"Default\", \"Default\", \"Default\", \"Default\", \"Default\", \"Default\", \"Default\", \"Default\", \"Default\", \"Default\", \"Default\", \"Default\", \"Default\", \"Default\", \"Default\", \"Default\", \"Default\", \"Default\", \"Default\", \"Default\", \"Default\", \"Default\", \"Default\", \"Default\", \"Default\", \"Default\", \"Topic1\", \"Topic1\", \"Topic1\", \"Topic1\", \"Topic1\", \"Topic1\", \"Topic1\", \"Topic1\", \"Topic1\", \"Topic1\", \"Topic1\", \"Topic1\", \"Topic1\", \"Topic1\", \"Topic1\", \"Topic1\", \"Topic1\", \"Topic1\", \"Topic1\", \"Topic1\", \"Topic1\", \"Topic1\", \"Topic1\", \"Topic1\", \"Topic1\", \"Topic1\", \"Topic1\", \"Topic1\", \"Topic1\", \"Topic1\", \"Topic1\", \"Topic1\", \"Topic1\", \"Topic1\", \"Topic1\", \"Topic1\", \"Topic1\", \"Topic1\", \"Topic2\", \"Topic2\", \"Topic2\", \"Topic2\", \"Topic2\", \"Topic2\", \"Topic2\", \"Topic2\", \"Topic2\", \"Topic2\", \"Topic2\", \"Topic2\", \"Topic2\", \"Topic2\", \"Topic2\", \"Topic2\", \"Topic2\", \"Topic2\", \"Topic2\", \"Topic2\", \"Topic2\", \"Topic2\", \"Topic2\", \"Topic2\", \"Topic2\", \"Topic2\", \"Topic2\", \"Topic2\", \"Topic2\", \"Topic2\", \"Topic2\", \"Topic2\", \"Topic2\", \"Topic2\", \"Topic2\", \"Topic2\", \"Topic2\", \"Topic2\", \"Topic2\"], \"logprob\": [30.0, 29.0, 28.0, 27.0, 26.0, 25.0, 24.0, 23.0, 22.0, 21.0, 20.0, 19.0, 18.0, 17.0, 16.0, 15.0, 14.0, 13.0, 12.0, 11.0, 10.0, 9.0, 8.0, 7.0, 6.0, 5.0, 4.0, 3.0, 2.0, 1.0, -2.5908000469207764, -2.811800003051758, -3.3838999271392822, -3.413100004196167, -3.592099905014038, -3.6105000972747803, -3.6110999584198, -3.809499979019165, -4.084099769592285, -4.0019001960754395, -3.951200008392334, -4.17609977722168, -4.208499908447266, -4.177299976348877, -3.654900074005127, -4.3125, -4.061399936676025, -4.349400043487549, -4.007900238037109, -4.387899875640869, -4.091100215911865, -4.389900207519531, -4.429200172424316, -4.471199989318848, -4.215700149536133, -4.514200210571289, -4.43209981918335, -4.473199844360352, -3.700200080871582, -4.56220006942749, -4.188399791717529, -4.47760009765625, -3.350399971008301, -3.071899890899658, -3.861299991607666, -4.039299964904785, -4.342199802398682, -4.355299949645996, -2.713900089263916, -2.8243000507354736, -3.4033000469207764, -3.5973000526428223, -3.5597000122070312, -3.638000011444092, -3.7230000495910645, -3.8159000873565674, -3.942699909210205, -3.9704999923706055, -3.748500108718872, -3.9444000720977783, -3.795599937438965, -3.946899890899658, -4.300000190734863, -4.1930999755859375, -4.341599941253662, -4.265100002288818, -4.194699764251709, -4.426799774169922, -4.384799957275391, -4.428500175476074, -4.473199844360352, -4.306300163269043, -3.6731998920440674, -4.131199836730957, -4.520999908447266, -4.235099792480469, -4.4328999519348145, -4.433800220489502, -4.311999797821045, -4.097400188446045, -3.4856998920440674, -2.900599956512451, -3.6612000465393066, -4.21619987487793, -4.13730001449585, -4.247600078582764, -4.281400203704834], \"loglift\": [30.0, 29.0, 28.0, 27.0, 26.0, 25.0, 24.0, 23.0, 22.0, 21.0, 20.0, 19.0, 18.0, 17.0, 16.0, 15.0, 14.0, 13.0, 12.0, 11.0, 10.0, 9.0, 8.0, 7.0, 6.0, 5.0, 4.0, 3.0, 2.0, 1.0, 0.6510000228881836, 0.6466000080108643, 0.6462000012397766, 0.6460000276565552, 0.6434999704360962, 0.642799973487854, 0.6421999931335449, 0.640500009059906, 0.6391000151634216, 0.6391000151634216, 0.6384999752044678, 0.6367999911308289, 0.6360999941825867, 0.6355000138282776, 0.6345999836921692, 0.6338000297546387, 0.6335999965667725, 0.6333000063896179, 0.6330999732017517, 0.6324999928474426, 0.6320000290870667, 0.6305000185966492, 0.6305000185966492, 0.6291999816894531, 0.6287999749183655, 0.6287999749183655, 0.6274999976158142, 0.6272000074386597, 0.6270999908447266, 0.6251999735832214, 0.6243000030517578, 0.6227999925613403, 0.13740000128746033, -0.0860000029206276, 0.1800999939441681, 0.045899998396635056, 0.323199987411499, 0.257099986076355, 0.7279999852180481, 0.727400004863739, 0.723800003528595, 0.7217000126838684, 0.7214999794960022, 0.7202000021934509, 0.7185999751091003, 0.71670001745224, 0.71670001745224, 0.7161999940872192, 0.7152000069618225, 0.7149999737739563, 0.7135999798774719, 0.7124999761581421, 0.7123000025749207, 0.7099999785423279, 0.7099000215530396, 0.7093999981880188, 0.7084000110626221, 0.7081000208854675, 0.7074999809265137, 0.7063999772071838, 0.7060999870300293, 0.7059999704360962, 0.705299973487854, 0.7052000164985657, 0.704800009727478, 0.7031000256538391, 0.7020000219345093, 0.701200008392334, 0.7003999948501587, 0.6766999959945679, 0.6110000014305115, 0.08529999852180481, -0.17350000143051147, 0.3677000105381012, -0.05209999904036522, 0.2879999876022339, -0.23999999463558197]}, \"token.table\": {\"Topic\": [1, 2, 1, 2, 1, 2, 1, 2, 1, 2, 1, 2, 1, 2, 1, 2, 1, 2, 1, 2, 1, 2, 1, 2, 1, 2, 1, 2, 1, 2, 1, 2, 1, 2, 1, 2, 1, 2, 1, 2, 1, 2, 1, 2, 1, 2, 1, 2, 1, 2, 1, 2, 1, 2, 1, 2, 1, 2, 1, 2, 1, 2, 1, 2, 1, 2, 1, 2, 1, 2, 1, 2, 1, 2, 1, 2, 1, 2, 1, 2, 1, 2, 1, 2, 1, 2, 1, 2, 1, 2, 1, 2, 1, 2, 1, 2, 1, 2, 1, 2, 1, 2, 1, 2, 1, 2, 1, 2, 1, 2, 1, 2, 1, 2, 1, 2, 1, 2, 1, 2, 1, 2, 1, 2, 1, 2, 1, 2, 1, 2, 1, 2, 1, 2, 1, 2, 1, 2, 1, 2, 1, 2, 1, 2, 1, 2], \"Freq\": [0.0275710579007864, 0.9925581216812134, 0.023724565282464027, 0.972707211971283, 0.9839184880256653, 0.022361785173416138, 0.9925727844238281, 0.018046777695417404, 0.47587496042251587, 0.5224279761314392, 0.9918537139892578, 0.03673532232642174, 0.9984307885169983, 0.015127739869058132, 0.02428876981139183, 0.995839536190033, 0.1099531427025795, 0.879625141620636, 0.9846019148826599, 0.014695551246404648, 0.9856464266777039, 0.042854193598032, 0.9698516726493835, 0.02938944473862648, 0.020401926711201668, 0.9792925119400024, 0.9953264594078064, 0.006680043414235115, 0.9890023469924927, 0.039560094475746155, 0.9904886484146118, 0.03809571638703346, 0.9838295578956604, 0.044719524681568146, 0.03778505325317383, 0.9824113249778748, 0.03924144431948662, 0.9810361266136169, 0.9621899127960205, 0.033178962767124176, 0.03517899662256241, 0.9850119352340698, 0.3654082715511322, 0.6333743333816528, 0.019616972655057907, 0.9808486104011536, 0.04080766439437866, 0.9793838858604431, 0.04435686394572258, 0.9758509993553162, 0.9919223785400391, 0.018368933349847794, 0.027571476995944977, 0.9925731420516968, 0.04435756802558899, 0.9758664965629578, 0.9964678287506104, 0.03214412182569504, 0.9856807589530945, 0.04285568371415138, 0.9697979688644409, 0.029387816786766052, 0.0485827662050724, 0.9716553092002869, 0.008160194382071495, 0.9955437183380127, 0.9714423418045044, 0.028571832925081253, 0.01889045163989067, 0.9823035597801208, 0.028337042778730392, 0.9917964935302734, 0.022176334634423256, 0.9757587313652039, 0.9890173673629761, 0.03956069424748421, 0.9919177293777466, 0.01836884766817093, 0.6241849064826965, 0.3715386390686035, 0.9817693829536438, 0.04675092548131943, 0.9744454026222229, 0.02706792764365673, 0.044359609484672546, 0.9759114384651184, 0.9691890478134155, 0.019779369235038757, 0.0618467703461647, 0.9586249589920044, 0.03923727571964264, 0.9809318780899048, 0.032910700887441635, 0.9873210191726685, 0.996458113193512, 0.03214380890130997, 0.044359296560287476, 0.9759045839309692, 0.3068031370639801, 0.6903070211410522, 0.016191478818655014, 0.987680196762085, 0.027572082355618477, 0.9925949573516846, 0.9955058097839355, 0.008295881561934948, 0.039239514619112015, 0.9809879064559937, 0.009107404388487339, 0.9927070736885071, 0.9954257011413574, 0.033180855214595795, 0.9714471101760864, 0.01904798299074173, 0.9771953821182251, 0.025715667754411697, 0.9744922518730164, 0.027069229632616043, 0.04250892251729965, 0.977705180644989, 0.5434339642524719, 0.4502738416194916, 0.046373941004276276, 0.9738527536392212, 0.6839263439178467, 0.3156583309173584, 0.5980421900749207, 0.401542603969574, 0.0351794958114624, 0.9850258827209473, 0.020820926874876022, 0.9785835146903992, 0.964227557182312, 0.03214091807603836, 0.7211793065071106, 0.2773766815662384, 0.9874194264411926, 0.04114247485995293, 0.022669829428195953, 0.9748026728630066, 0.9856957793235779, 0.04285633936524391, 0.9873968362808228, 0.041141532361507416, 0.03643755242228508, 0.9838139414787292], \"Term\": [\"amazon\", \"amazon\", \"as\\u00ed\", \"as\\u00ed\", \"aunque\", \"aunque\", \"bastante\", \"bastante\", \"bien\", \"bien\", \"bonita\", \"bonita\", \"bonito\", \"bonito\", \"bonitos\", \"bonitos\", \"buen\", \"buen\", \"buena\", \"buena\", \"cable\", \"cable\", \"cadena\", \"cadena\", \"caja\", \"caja\", \"calidad\", \"calidad\", \"cierre\", \"cierre\", \"colgante\", \"colgante\", \"color\", \"color\", \"comprar\", \"comprar\", \"cumple\", \"cumple\", \"demasiado\", \"demasiado\", \"despu\\u00e9s\", \"despu\\u00e9s\", \"dos\", \"dos\", \"d\\u00eda\", \"d\\u00eda\", \"entrega\", \"entrega\", \"env\\u00edo\", \"env\\u00edo\", \"foto\", \"foto\", \"funciona\", \"funciona\", \"gracias\", \"gracias\", \"grande\", \"grande\", \"gusta\", \"gusta\", \"gustado\", \"gustado\", \"hacer\", \"hacer\", \"juego\", \"juego\", \"jugar\", \"jugar\", \"llegado\", \"llegado\", \"llego\", \"llego\", \"lleg\\u00f3\", \"lleg\\u00f3\", \"mala\", \"mala\", \"mando\", \"mando\", \"mas\", \"mas\", \"material\", \"material\", \"mejor\", \"mejor\", \"momento\", \"momento\", \"parece\", \"parece\", \"parte\", \"parte\", \"pedido\", \"pedido\", \"pendientes\", \"pendientes\", \"peque\\u00f1o\", \"peque\\u00f1o\", \"peque\\u00f1os\", \"peque\\u00f1os\", \"perfectamente\", \"perfectamente\", \"perfecto\", \"perfecto\", \"plata\", \"plata\", \"precio\", \"precio\", \"problema\", \"problema\", \"producto\", \"producto\", \"ps\", \"ps\", \"puede\", \"puede\", \"pulsera\", \"pulsera\", \"queda\", \"queda\", \"quedan\", \"quedan\", \"regalo\", \"regalo\", \"r\\u00e1pido\", \"r\\u00e1pido\", \"ser\", \"ser\", \"si\", \"si\", \"sido\", \"sido\", \"solo\", \"solo\", \"tal\", \"tal\", \"tama\\u00f1o\", \"tama\\u00f1o\", \"tan\", \"tan\", \"tiempo\", \"tiempo\", \"ve\", \"ve\", \"verdad\", \"verdad\", \"vez\", \"vez\"]}, \"R\": 30, \"lambda.step\": 0.01, \"plot.opts\": {\"xlab\": \"PC1\", \"ylab\": \"PC2\"}, \"topic.order\": [1, 2]};\n",
       "\n",
       "function LDAvis_load_lib(url, callback){\n",
       "  var s = document.createElement('script');\n",
       "  s.src = url;\n",
       "  s.async = true;\n",
       "  s.onreadystatechange = s.onload = callback;\n",
       "  s.onerror = function(){console.warn(\"failed to load library \" + url);};\n",
       "  document.getElementsByTagName(\"head\")[0].appendChild(s);\n",
       "}\n",
       "\n",
       "if(typeof(LDAvis) !== \"undefined\"){\n",
       "   // already loaded: just create the visualization\n",
       "   !function(LDAvis){\n",
       "       new LDAvis(\"#\" + \"ldavis_el1769226837855898085417119712\", ldavis_el1769226837855898085417119712_data);\n",
       "   }(LDAvis);\n",
       "}else if(typeof define === \"function\" && define.amd){\n",
       "   // require.js is available: use it to load d3/LDAvis\n",
       "   require.config({paths: {d3: \"https://cdnjs.cloudflare.com/ajax/libs/d3/3.5.5/d3.min\"}});\n",
       "   require([\"d3\"], function(d3){\n",
       "      window.d3 = d3;\n",
       "      LDAvis_load_lib(\"https://cdn.rawgit.com/bmabey/pyLDAvis/files/ldavis.v1.0.0.js\", function(){\n",
       "        new LDAvis(\"#\" + \"ldavis_el1769226837855898085417119712\", ldavis_el1769226837855898085417119712_data);\n",
       "      });\n",
       "    });\n",
       "}else{\n",
       "    // require.js not available: dynamically load d3 & LDAvis\n",
       "    LDAvis_load_lib(\"https://cdnjs.cloudflare.com/ajax/libs/d3/3.5.5/d3.min.js\", function(){\n",
       "         LDAvis_load_lib(\"https://cdn.rawgit.com/bmabey/pyLDAvis/files/ldavis.v1.0.0.js\", function(){\n",
       "                 new LDAvis(\"#\" + \"ldavis_el1769226837855898085417119712\", ldavis_el1769226837855898085417119712_data);\n",
       "            })\n",
       "         });\n",
       "}\n",
       "</script>"
      ],
      "text/plain": [
       "<IPython.core.display.HTML object>"
      ]
     },
     "execution_count": 58,
     "metadata": {},
     "output_type": "execute_result"
    }
   ],
   "source": [
    "lda_display = pyLDAvis.gensim.prepare(model, corpus, dictionary, sort_topics=True)\n",
    "pyLDAvis.display(lda_display)"
   ]
  }
 ],
 "metadata": {
  "kernelspec": {
   "display_name": "Python 3",
   "language": "python",
   "name": "python3"
  },
  "language_info": {
   "codemirror_mode": {
    "name": "ipython",
    "version": 3
   },
   "file_extension": ".py",
   "mimetype": "text/x-python",
   "name": "python",
   "nbconvert_exporter": "python",
   "pygments_lexer": "ipython3",
   "version": "3.8.3"
  }
 },
 "nbformat": 4,
 "nbformat_minor": 2
}
