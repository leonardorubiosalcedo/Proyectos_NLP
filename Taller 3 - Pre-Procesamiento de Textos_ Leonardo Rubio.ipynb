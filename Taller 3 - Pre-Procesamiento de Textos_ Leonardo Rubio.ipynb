{
 "cells": [
  {
   "cell_type": "markdown",
   "metadata": {},
   "source": [
    "<img src='https://encrypted-tbn0.gstatic.com/images?q=tbn%3AANd9GcQ-VfNtOyJbsaxu43Kztf_cv1mgBG6ZIQZEVw&usqp=CAU'>\n",
    "\n",
    "# Procesamiento de Lenguage Natural\n",
    "\n",
    "## Taller #3: Pre-Procesamiento de Textos\n",
    "`Fecha de entrega: Septiembre 5, 2020. (Antes del inicio de la próxima clase).`\n",
    "\n",
    "`Modo de entrega: Subir link de GitHub al aula virtual.`\n",
    "\n",
    "`Leonardo Rubio Salcedo .`"
   ]
  },
  {
   "cell_type": "markdown",
   "metadata": {},
   "source": [
    "# Punto 1:\n",
    "\n",
    "- `[4pts]` Leer el archivo UNA_SOLITARIA_VOZ_HUMANA.txt con `with open`\n",
    "- `[4pts]` Convertir a minúsculas\n",
    "- `[4pts]` Conservar sólo palabras\n",
    "- `[4pts]` Tokenizar"
   ]
  },
  {
   "cell_type": "code",
   "execution_count": 2,
   "metadata": {},
   "outputs": [
    {
     "name": "stdout",
     "output_type": "stream",
     "text": [
      "UNA SOLITARIA VOZ HUMANA\n",
      "    No sé de qué hablar… ¿De la muerte o del amor? ¿O es lo mismo? ¿De qué?\n",
      "    Nos habíamos casado no hacía mucho. Aún íbamos por la calle agarrados de la mano, hasta cuando íbamos de compras. Siempre juntos. Yo le decía: «Te quiero». Pero aún no sabía cuánto le quería. Ni me lo imaginaba… Vivíamos en la residencia de la unidad de bomberos, donde él trabajaba. En el piso de arriba. Junto a otras tres familias jóvenes, con una sola cocina para todos. Y en el bajo estaban los coches. Unos camiones de bomberos rojos. Este era su trabajo. Yo siempre estaba al corriente: dónde se encontraba, qué le pasaba…\n",
      "    En mitad de la noche oí un ruido. Gritos. Miré por la ventana. Él me vio:\n",
      "    —Cierra las ventanillas y acuéstate. Hay un incendio en la central. Volveré pronto.\n",
      "    No vi la explosión. Solo las llamas. Todo parecía iluminado. El cielo entero… Unas llamas altas. Y hollín. Un calor horroroso. Y él seguía sin regresar. El hollín se debía a que ardía el alquitrán; el techo de la central estaba cubierto de asfalto. Sobre el que la gente andaba, como él después recordaría, como si fuera resina. Sofocaban las llamas y él, mientras, reptaba. Subía hacia el reactor. Tiraban el grafito ardiente con los pies… Acudieron allí sin los trajes de lona; se fueron para allá tal como iban, en camisa. Nadie les advirtió; era un aviso de un incendio normal.\n",
      "    Las cuatro… Las cinco… Las seis… A las seis teníamos la intención de ir a ver a sus padres. Para plantar patatas. Desde la ciudad de Prípiat hasta la aldea de Sperizhie, donde vivían sus padres, hay 40 kilómetros. Íbamos a sembrar, a arar. Era su trabajo favorito… Su madre recordaba a menudo que ni ella ni su padre querían dejarlo marchar a la ciudad; incluso le construyeron una casa nueva.\n",
      "    Pero se lo llevaron al ejército. Sirvió en Moscú, en las tropas de bomberos, y cuando regresó, solo quería ser bombero. Ninguna otra cosa. [ Calla .]\n",
      "    A veces me parece oír su voz… Oírle vivo… Ni siquiera las fotografías me producen tanto efecto como la voz. Pero nunca me llama… Ni en sueños… Soy yo quien lo llama a él…\n",
      "    Las siete… A las siete me comunicaron que estaba en el hospital. Corrí hacia allí, pero el hospital ya estaba acordonado por la milicia; no dejaban pasar a nadie. Solo entraban las ambulancias. Los milicianos gritaban: «Los coches están irradiados, no os acerquéis». No sólo yo, vinieron todas las mujeres, todas cuyos maridos habían estado aquella noche en la central.\n",
      "    Corrí en busca de una conocida que trabajaba como médico en aquel hospital. La agarré de la bata cuando salía de un coche:\n",
      "    —¡Déjame pasar!\n",
      "    —¡No puedo! Está mal. Todos están mal.\n",
      "    Yo la tenía agarrada:\n",
      "    —Solo quiero verlo.\n",
      "    —Bueno —me dice—, corre. Quince o veinte minutos.\n",
      "    Lo vi… Estaba hinchado, todo inflamado… Casi no tenía ojos…\n",
      "    —¡Leche! ¡Mucha leche! —me dijo mi conocida—. Que beba al menos tres litros.\n",
      "    —Él no toma leche.\n",
      "    —Pues ahora la tendrá que beber.\n",
      "    Muchos médicos, enfermeras y, especialmente, las auxiliares de aquel hospital, al cabo de un tiempo, se pondrían enfermas. Morirían… Pero entonces nadie lo sabía.\n",
      "    A las diez de la mañana murió el técnico Shishenok. Fue el primero… El primer día… Luego supimos que, bajo los escombros, se había quedado otro… Valera Jodemchuk. No lograron sacarlo. Lo emparedaron con el hormigón. Pero entonces aún no sabíamos que todos ellos serían solo los primeros…\n",
      "    Le pregunto:\n",
      "    —Vasia [3] , ¿qué hago?\n",
      "    —¡Vete de aquí! ¡Vete! Estás esperando un niño.\n",
      "    —Estoy embarazada, es cierto. Pero ¿cómo lo voy a dejar?\n",
      "    Él me pide:\n",
      "    —¡Vete! ¡Salva al crío!\n",
      "    —Primero te tengo que traer leche, y luego ya veremos.\n",
      "    Llega mi amiga Tania Kibenok. Su marido está en la misma sala. Ha venido con su padre, que tiene coche. Nos subimos al coche y vamos a la aldea más cercana a por leche. A unos tres kilómetros de la ciudad. Compramos muchas garrafas de tres litros de leche. Seis, para que hubiera para todos. Pero la leche les provocaba unos vómitos terribles. Perdían el sentido sin parar y les pusieron el gota a gota. Los médicos nos aseguraban, no sé por qué, que se habían envenenado con los gases, nadie hablaba de la radiación.\n",
      "    Entretanto, la ciudad se llenó de vehículos militares, se cerraron todas las carreteras… Se veían soldados por todas partes. Dejaron de circular los trenes de cercanías, los expresos… Lavaban las calles con un polvo blanco… Me alarmé: ¿cómo iba a conseguir llegar al pueblo al día siguiente para comprarle leche fresca? Nadie hablaba de la radiación… Solo los militares iban con caretas. La gente de la ciudad llevaba su pan de las tiendas, las bolsas abiertas con los bollos. En los estantes había pasteles… La vida seguía como de costumbre. Solo… lavaban las calles con un polvo…\n",
      "    Por la noche no me dejaron entrar en el hospital… Había un mar de gente en los alrededores. Yo estaba frente a su ventana; él se acercó a ella y me gritó algo. ¡Se le veía tan desesperado! Entre la muchedumbre, alguien entendió lo que decía: que aquella noche se los llevaban a Moscú. Todas las esposas nos arremolinamos en un corro. Y decidimos: nos vamos con ellos. ¡Dejadnos estar con nuestros maridos! ¡No tenéis derecho! Quisimos abrirnos paso a golpes, a arañazos. Los soldados…, los soldados ya habían formado un doble cordón y nos impedían pasar a empujones. Entonces salió el médico y nos confirmó que se los llevaban aquella misma noche en avión a Moscú; que debíamos traerles ropa; la que llevaban en la central se había quemado. Los autobuses ya no funcionaban, y fuimos a pie, corriendo, a casa. Cuando volvimos con las bolsas, el avión ya se había marchado… Nos engañaron a propósito. Para que no gritáramos, ni lloráramos…\n",
      "\n",
      "—————\n",
      "Fragmento de Voces de Chernóbil\n",
      "Por Svetlana Alexievich\n"
     ]
    }
   ],
   "source": [
    "with open(\"UNA_SOLITARIA_VOZ_HUMANA.txt\", encoding='utf-8') as archivo:\n",
    "    data = archivo.read()\n",
    "print(data)"
   ]
  },
  {
   "cell_type": "markdown",
   "metadata": {},
   "source": [
    "Convertir a minúsculas"
   ]
  },
  {
   "cell_type": "code",
   "execution_count": 3,
   "metadata": {},
   "outputs": [
    {
     "data": {
      "text/plain": [
       "'una solitaria voz humana\\n\\xa0\\xa0\\xa0\\xa0no sé de qué hablar… ¿de la muerte o del amor? ¿o es lo mismo? ¿de qué?\\n\\xa0\\xa0\\xa0\\xa0nos habíamos casado no hacía mucho. aún íbamos por la calle agarrados de la mano, hasta cuando íbamos de compras. siempre juntos. yo le decía: «te quiero». pero aún no sabía cuánto le quería. ni me lo imaginaba… vivíamos en la residencia de la unidad de bomberos, donde él trabajaba. en el piso de arriba. junto a otras tres familias jóvenes, con una sola cocina para todos. y en el bajo estaban los coches. unos camiones de bomberos rojos. este era su trabajo. yo siempre estaba al corriente: dónde se encontraba, qué le pasaba…\\n\\xa0\\xa0\\xa0\\xa0en mitad de la noche oí un ruido. gritos. miré por la ventana. él me vio:\\n\\xa0\\xa0\\xa0\\xa0—cierra las ventanillas y acuéstate. hay un incendio en la central. volveré pronto.\\n\\xa0\\xa0\\xa0\\xa0no vi la explosión. solo las llamas. todo parecía iluminado. el cielo entero… unas llamas altas. y hollín. un calor horroroso. y él seguía sin regresar. el hollín se debía a que ardía el alquitrán; el techo de la central estaba cubierto de asfalto. sobre el que la gente andaba, como él después recordaría, como si fuera resina. sofocaban las llamas y él, mientras, reptaba. subía hacia el reactor. tiraban el grafito ardiente con los pies… acudieron allí sin los trajes de lona; se fueron para allá tal como iban, en camisa. nadie les advirtió; era un aviso de un incendio normal.\\n\\xa0\\xa0\\xa0\\xa0las cuatro… las cinco… las seis… a las seis teníamos la intención de ir a ver a sus padres. para plantar patatas. desde la ciudad de prípiat hasta la aldea de sperizhie, donde vivían sus padres, hay 40 kilómetros. íbamos a sembrar, a arar. era su trabajo favorito… su madre recordaba a menudo que ni ella ni su padre querían dejarlo marchar a la ciudad; incluso le construyeron una casa nueva.\\n\\xa0\\xa0\\xa0\\xa0pero se lo llevaron al ejército. sirvió en moscú, en las tropas de bomberos, y cuando regresó, solo quería ser bombero. ninguna otra cosa. [ calla .]\\n\\xa0\\xa0\\xa0\\xa0a veces me parece oír su voz… oírle vivo… ni siquiera las fotografías me producen tanto efecto como la voz. pero nunca me llama… ni en sueños… soy yo quien lo llama a él…\\n\\xa0\\xa0\\xa0\\xa0las siete… a las siete me comunicaron que estaba en el hospital. corrí hacia allí, pero el hospital ya estaba acordonado por la milicia; no dejaban pasar a nadie. solo entraban las ambulancias. los milicianos gritaban: «los coches están irradiados, no os acerquéis». no sólo yo, vinieron todas las mujeres, todas cuyos maridos habían estado aquella noche en la central.\\n\\xa0\\xa0\\xa0\\xa0corrí en busca de una conocida que trabajaba como médico en aquel hospital. la agarré de la bata cuando salía de un coche:\\n\\xa0\\xa0\\xa0\\xa0—¡déjame pasar!\\n\\xa0\\xa0\\xa0\\xa0—¡no puedo! está mal. todos están mal.\\n\\xa0\\xa0\\xa0\\xa0yo la tenía agarrada:\\n\\xa0\\xa0\\xa0\\xa0—solo quiero verlo.\\n\\xa0\\xa0\\xa0\\xa0—bueno —me dice—, corre. quince o veinte minutos.\\n\\xa0\\xa0\\xa0\\xa0lo vi… estaba hinchado, todo inflamado… casi no tenía ojos…\\n\\xa0\\xa0\\xa0\\xa0—¡leche! ¡mucha leche! —me dijo mi conocida—. que beba al menos tres litros.\\n\\xa0\\xa0\\xa0\\xa0—él no toma leche.\\n\\xa0\\xa0\\xa0\\xa0—pues ahora la tendrá que beber.\\n\\xa0\\xa0\\xa0\\xa0muchos médicos, enfermeras y, especialmente, las auxiliares de aquel hospital, al cabo de un tiempo, se pondrían enfermas. morirían… pero entonces nadie lo sabía.\\n\\xa0\\xa0\\xa0\\xa0a las diez de la mañana murió el técnico shishenok. fue el primero… el primer día… luego supimos que, bajo los escombros, se había quedado otro… valera jodemchuk. no lograron sacarlo. lo emparedaron con el hormigón. pero entonces aún no sabíamos que todos ellos serían solo los primeros…\\n\\xa0\\xa0\\xa0\\xa0le pregunto:\\n\\xa0\\xa0\\xa0\\xa0—vasia [3] , ¿qué hago?\\n\\xa0\\xa0\\xa0\\xa0—¡vete de aquí! ¡vete! estás esperando un niño.\\n\\xa0\\xa0\\xa0\\xa0—estoy embarazada, es cierto. pero ¿cómo lo voy a dejar?\\n\\xa0\\xa0\\xa0\\xa0él me pide:\\n\\xa0\\xa0\\xa0\\xa0—¡vete! ¡salva al crío!\\n\\xa0\\xa0\\xa0\\xa0—primero te tengo que traer leche, y luego ya veremos.\\n\\xa0\\xa0\\xa0\\xa0llega mi amiga tania kibenok. su marido está en la misma sala. ha venido con su padre, que tiene coche. nos subimos al coche y vamos a la aldea más cercana a por leche. a unos tres kilómetros de la ciudad. compramos muchas garrafas de tres litros de leche. seis, para que hubiera para todos. pero la leche les provocaba unos vómitos terribles. perdían el sentido sin parar y les pusieron el gota a gota. los médicos nos aseguraban, no sé por qué, que se habían envenenado con los gases, nadie hablaba de la radiación.\\n\\xa0\\xa0\\xa0\\xa0entretanto, la ciudad se llenó de vehículos militares, se cerraron todas las carreteras… se veían soldados por todas partes. dejaron de circular los trenes de cercanías, los expresos… lavaban las calles con un polvo blanco… me alarmé: ¿cómo iba a conseguir llegar al pueblo al día siguiente para comprarle leche fresca? nadie hablaba de la radiación… solo los militares iban con caretas. la gente de la ciudad llevaba su pan de las tiendas, las bolsas abiertas con los bollos. en los estantes había pasteles… la vida seguía como de costumbre. solo… lavaban las calles con un polvo…\\n\\xa0\\xa0\\xa0\\xa0por la noche no me dejaron entrar en el hospital… había un mar de gente en los alrededores. yo estaba frente a su ventana; él se acercó a ella y me gritó algo. ¡se le veía tan desesperado! entre la muchedumbre, alguien entendió lo que decía: que aquella noche se los llevaban a moscú. todas las esposas nos arremolinamos en un corro. y decidimos: nos vamos con ellos. ¡dejadnos estar con nuestros maridos! ¡no tenéis derecho! quisimos abrirnos paso a golpes, a arañazos. los soldados…, los soldados ya habían formado un doble cordón y nos impedían pasar a empujones. entonces salió el médico y nos confirmó que se los llevaban aquella misma noche en avión a moscú; que debíamos traerles ropa; la que llevaban en la central se había quemado. los autobuses ya no funcionaban, y fuimos a pie, corriendo, a casa. cuando volvimos con las bolsas, el avión ya se había marchado… nos engañaron a propósito. para que no gritáramos, ni lloráramos…\\n\\n—————\\nfragmento de voces de chernóbil\\npor svetlana alexievich'"
      ]
     },
     "execution_count": 3,
     "metadata": {},
     "output_type": "execute_result"
    }
   ],
   "source": [
    "data=data.lower()\n",
    "data"
   ]
  },
  {
   "cell_type": "markdown",
   "metadata": {},
   "source": [
    "Conservar sólo palabras"
   ]
  },
  {
   "cell_type": "code",
   "execution_count": 4,
   "metadata": {},
   "outputs": [
    {
     "data": {
      "text/plain": [
       "'una solitaria voz humana no sé de qué hablar de la muerte o del amor o es lo mismo de qué nos habíamos casado no hacía mucho aún íbamos por la calle agarrados de la mano hasta cuando íbamos de compras siempre juntos yo le decía te quiero pero aún no sabía cuánto le quería ni me lo imaginaba vivíamos en la residencia de la unidad de bomberos donde él trabajaba en el piso de arriba junto a otras tres familias jóvenes con una sola cocina para todos y en el bajo estaban los coches unos camiones de bomberos rojos este era su trabajo yo siempre estaba al corriente dónde se encontraba qué le pasaba en mitad de la noche oí un ruido gritos miré por la ventana él me vio cierra las ventanillas y acuéstate hay un incendio en la central volveré pronto no vi la explosión solo las llamas todo parecía iluminado el cielo entero unas llamas altas y hollín un calor horroroso y él seguía sin regresar el hollín se debía a que ardía el alquitrán el techo de la central estaba cubierto de asfalto sobre el que la gente andaba como él después recordaría como si fuera resina sofocaban las llamas y él mientras reptaba subía hacia el reactor tiraban el grafito ardiente con los pies acudieron allí sin los trajes de lona se fueron para allá tal como iban en camisa nadie les advirtió era un aviso de un incendio normal las cuatro las cinco las seis a las seis teníamos la intención de ir a ver a sus padres para plantar patatas desde la ciudad de prípiat hasta la aldea de sperizhie donde vivían sus padres hay kilómetros íbamos a sembrar a arar era su trabajo favorito su madre recordaba a menudo que ni ella ni su padre querían dejarlo marchar a la ciudad incluso le construyeron una casa nueva pero se lo llevaron al ejército sirvió en moscú en las tropas de bomberos y cuando regresó solo quería ser bombero ninguna otra cosa calla a veces me parece oír su voz oírle vivo ni siquiera las fotografías me producen tanto efecto como la voz pero nunca me llama ni en sueños soy yo quien lo llama a él las siete a las siete me comunicaron que estaba en el hospital corrí hacia allí pero el hospital ya estaba acordonado por la milicia no dejaban pasar a nadie solo entraban las ambulancias los milicianos gritaban los coches están irradiados no os acerquéis no sólo yo vinieron todas las mujeres todas cuyos maridos habían estado aquella noche en la central corrí en busca de una conocida que trabajaba como médico en aquel hospital la agarré de la bata cuando salía de un coche déjame pasar no puedo está mal todos están mal yo la tenía agarrada solo quiero verlo bueno me dice corre quince o veinte minutos lo vi estaba hinchado todo inflamado casi no tenía ojos leche mucha leche me dijo mi conocida que beba al menos tres litros él no toma leche pues ahora la tendrá que beber muchos médicos enfermeras y especialmente las auxiliares de aquel hospital al cabo de un tiempo se pondrían enfermas morirían pero entonces nadie lo sabía a las diez de la mañana murió el técnico shishenok fue el primero el primer día luego supimos que bajo los escombros se había quedado otro valera jodemchuk no lograron sacarlo lo emparedaron con el hormigón pero entonces aún no sabíamos que todos ellos serían solo los primeros le pregunto vasia qué hago vete de aquí vete estás esperando un niño estoy embarazada es cierto pero cómo lo voy a dejar él me pide vete salva al crío primero te tengo que traer leche y luego ya veremos llega mi amiga tania kibenok su marido está en la misma sala ha venido con su padre que tiene coche nos subimos al coche y vamos a la aldea más cercana a por leche a unos tres kilómetros de la ciudad compramos muchas garrafas de tres litros de leche seis para que hubiera para todos pero la leche les provocaba unos vómitos terribles perdían el sentido sin parar y les pusieron el gota a gota los médicos nos aseguraban no sé por qué que se habían envenenado con los gases nadie hablaba de la radiación entretanto la ciudad se llenó de vehículos militares se cerraron todas las carreteras se veían soldados por todas partes dejaron de circular los trenes de cercanías los expresos lavaban las calles con un polvo blanco me alarmé cómo iba a conseguir llegar al pueblo al día siguiente para comprarle leche fresca nadie hablaba de la radiación solo los militares iban con caretas la gente de la ciudad llevaba su pan de las tiendas las bolsas abiertas con los bollos en los estantes había pasteles la vida seguía como de costumbre solo lavaban las calles con un polvo por la noche no me dejaron entrar en el hospital había un mar de gente en los alrededores yo estaba frente a su ventana él se acercó a ella y me gritó algo se le veía tan desesperado entre la muchedumbre alguien entendió lo que decía que aquella noche se los llevaban a moscú todas las esposas nos arremolinamos en un corro y decidimos nos vamos con ellos dejadnos estar con nuestros maridos no tenéis derecho quisimos abrirnos paso a golpes a arañazos los soldados los soldados ya habían formado un doble cordón y nos impedían pasar a empujones entonces salió el médico y nos confirmó que se los llevaban aquella misma noche en avión a moscú que debíamos traerles ropa la que llevaban en la central se había quemado los autobuses ya no funcionaban y fuimos a pie corriendo a casa cuando volvimos con las bolsas el avión ya se había marchado nos engañaron a propósito para que no gritáramos ni lloráramos fragmento de voces de chernóbil por svetlana alexievich'"
      ]
     },
     "execution_count": 4,
     "metadata": {},
     "output_type": "execute_result"
    }
   ],
   "source": [
    "import re\n",
    "data= re.sub(r\"[\\W\\d_]+\", \" \", data)\n",
    "data"
   ]
  },
  {
   "cell_type": "markdown",
   "metadata": {},
   "source": [
    "Resultado Tokenizado"
   ]
  },
  {
   "cell_type": "code",
   "execution_count": 7,
   "metadata": {},
   "outputs": [
    {
     "data": {
      "text/plain": [
       "['solitaria',\n",
       " 'voz',\n",
       " 'humana',\n",
       " 'no',\n",
       " 'sé',\n",
       " 'de',\n",
       " 'qué',\n",
       " 'hablar',\n",
       " 'de',\n",
       " 'la',\n",
       " 'muerte',\n",
       " 'o',\n",
       " 'del',\n",
       " 'amor',\n",
       " 'o',\n",
       " 'es',\n",
       " 'lo',\n",
       " 'mismo',\n",
       " 'de']"
      ]
     },
     "execution_count": 7,
     "metadata": {},
     "output_type": "execute_result"
    }
   ],
   "source": [
    "token=data.split()\n",
    "token[1:20]"
   ]
  },
  {
   "cell_type": "markdown",
   "metadata": {},
   "source": [
    "# Punto 2:\n",
    "\n",
    "- `[8pts]` Quitar palabras vacias\n"
   ]
  },
  {
   "cell_type": "code",
   "execution_count": 9,
   "metadata": {},
   "outputs": [],
   "source": [
    "from nltk.corpus import stopwords\n",
    "stopwords_sp = stopwords.words('spanish')"
   ]
  },
  {
   "cell_type": "code",
   "execution_count": 10,
   "metadata": {},
   "outputs": [
    {
     "data": {
      "text/plain": [
       "['voz',\n",
       " 'humana',\n",
       " 'sé',\n",
       " 'hablar',\n",
       " 'muerte',\n",
       " 'amor',\n",
       " 'mismo',\n",
       " 'casado',\n",
       " 'hacía',\n",
       " 'aún',\n",
       " 'íbamos',\n",
       " 'calle',\n",
       " 'agarrados',\n",
       " 'mano',\n",
       " 'íbamos',\n",
       " 'compras',\n",
       " 'siempre',\n",
       " 'juntos',\n",
       " 'decía']"
      ]
     },
     "execution_count": 10,
     "metadata": {},
     "output_type": "execute_result"
    }
   ],
   "source": [
    "arreglo_sin_vacias = [token for token in token if token not in stopwords_sp]\n",
    "arreglo_sin_vacias[1:20]"
   ]
  },
  {
   "cell_type": "markdown",
   "metadata": {},
   "source": [
    "- `[9pts]` ¿Cuáles son las 10 palabras no vacias más usadas?"
   ]
  },
  {
   "cell_type": "code",
   "execution_count": 11,
   "metadata": {},
   "outputs": [],
   "source": [
    "import collections\n",
    "words_count = collections.Counter(arreglo_sin_vacias)"
   ]
  },
  {
   "cell_type": "code",
   "execution_count": 12,
   "metadata": {},
   "outputs": [
    {
     "data": {
      "text/html": [
       "<div>\n",
       "<style scoped>\n",
       "    .dataframe tbody tr th:only-of-type {\n",
       "        vertical-align: middle;\n",
       "    }\n",
       "\n",
       "    .dataframe tbody tr th {\n",
       "        vertical-align: top;\n",
       "    }\n",
       "\n",
       "    .dataframe thead th {\n",
       "        text-align: right;\n",
       "    }\n",
       "</style>\n",
       "<table border=\"1\" class=\"dataframe\">\n",
       "  <thead>\n",
       "    <tr style=\"text-align: right;\">\n",
       "      <th></th>\n",
       "      <th>ColumnName</th>\n",
       "    </tr>\n",
       "  </thead>\n",
       "  <tbody>\n",
       "    <tr>\n",
       "      <th>leche</th>\n",
       "      <td>8</td>\n",
       "    </tr>\n",
       "    <tr>\n",
       "      <th>solo</th>\n",
       "      <td>7</td>\n",
       "    </tr>\n",
       "    <tr>\n",
       "      <th>todas</th>\n",
       "      <td>5</td>\n",
       "    </tr>\n",
       "    <tr>\n",
       "      <th>hospital</th>\n",
       "      <td>5</td>\n",
       "    </tr>\n",
       "    <tr>\n",
       "      <th>nadie</th>\n",
       "      <td>5</td>\n",
       "    </tr>\n",
       "    <tr>\n",
       "      <th>noche</th>\n",
       "      <td>5</td>\n",
       "    </tr>\n",
       "    <tr>\n",
       "      <th>ciudad</th>\n",
       "      <td>5</td>\n",
       "    </tr>\n",
       "    <tr>\n",
       "      <th>central</th>\n",
       "      <td>4</td>\n",
       "    </tr>\n",
       "    <tr>\n",
       "      <th>tres</th>\n",
       "      <td>4</td>\n",
       "    </tr>\n",
       "    <tr>\n",
       "      <th>entonces</th>\n",
       "      <td>3</td>\n",
       "    </tr>\n",
       "  </tbody>\n",
       "</table>\n",
       "</div>"
      ],
      "text/plain": [
       "          ColumnName\n",
       "leche              8\n",
       "solo               7\n",
       "todas              5\n",
       "hospital           5\n",
       "nadie              5\n",
       "noche              5\n",
       "ciudad             5\n",
       "central            4\n",
       "tres               4\n",
       "entonces           3"
      ]
     },
     "execution_count": 12,
     "metadata": {},
     "output_type": "execute_result"
    }
   ],
   "source": [
    "import pandas as pd \n",
    "dataframe_org=pd.Series(words_count).to_frame('ColumnName')\n",
    "dataframe_ord=dataframe_org.sort_values(by=['ColumnName'], ascending=False)\n",
    "dataframe_ord.head(10)"
   ]
  },
  {
   "cell_type": "markdown",
   "metadata": {},
   "source": [
    "# Punto 3:\n",
    "\n",
    "- `[8pts]` Stemming del documento\n",
    "- `[9pts]` ¿Cuáles son las 10 raíces más usadas?"
   ]
  },
  {
   "cell_type": "code",
   "execution_count": 13,
   "metadata": {},
   "outputs": [],
   "source": [
    "from nltk.stem.snowball import SnowballStemmer\n",
    "spanishStemmer=SnowballStemmer(\"spanish\")"
   ]
  },
  {
   "cell_type": "code",
   "execution_count": 14,
   "metadata": {},
   "outputs": [],
   "source": [
    "arreglo2=arreglo_sin_vacias"
   ]
  },
  {
   "cell_type": "code",
   "execution_count": 15,
   "metadata": {},
   "outputs": [],
   "source": [
    "contar=0\n",
    "#raises=[]\n",
    "for filas in arreglo2:\n",
    "    arreglo2[contar] =spanishStemmer.stem(filas)\n",
    "    contar+=1"
   ]
  },
  {
   "cell_type": "code",
   "execution_count": 16,
   "metadata": {},
   "outputs": [],
   "source": [
    "contador_origenes = collections.Counter(arreglo2)"
   ]
  },
  {
   "cell_type": "code",
   "execution_count": 17,
   "metadata": {},
   "outputs": [
    {
     "data": {
      "text/html": [
       "<div>\n",
       "<style scoped>\n",
       "    .dataframe tbody tr th:only-of-type {\n",
       "        vertical-align: middle;\n",
       "    }\n",
       "\n",
       "    .dataframe tbody tr th {\n",
       "        vertical-align: top;\n",
       "    }\n",
       "\n",
       "    .dataframe thead th {\n",
       "        text-align: right;\n",
       "    }\n",
       "</style>\n",
       "<table border=\"1\" class=\"dataframe\">\n",
       "  <thead>\n",
       "    <tr style=\"text-align: right;\">\n",
       "      <th></th>\n",
       "      <th>ColumnName</th>\n",
       "    </tr>\n",
       "  </thead>\n",
       "  <tbody>\n",
       "    <tr>\n",
       "      <th>sol</th>\n",
       "      <td>9</td>\n",
       "    </tr>\n",
       "    <tr>\n",
       "      <th>lech</th>\n",
       "      <td>8</td>\n",
       "    </tr>\n",
       "    <tr>\n",
       "      <th>dej</th>\n",
       "      <td>5</td>\n",
       "    </tr>\n",
       "    <tr>\n",
       "      <th>ciud</th>\n",
       "      <td>5</td>\n",
       "    </tr>\n",
       "    <tr>\n",
       "      <th>tod</th>\n",
       "      <td>5</td>\n",
       "    </tr>\n",
       "    <tr>\n",
       "      <th>llam</th>\n",
       "      <td>5</td>\n",
       "    </tr>\n",
       "    <tr>\n",
       "      <th>corr</th>\n",
       "      <td>5</td>\n",
       "    </tr>\n",
       "    <tr>\n",
       "      <th>hospital</th>\n",
       "      <td>5</td>\n",
       "    </tr>\n",
       "    <tr>\n",
       "      <th>noch</th>\n",
       "      <td>5</td>\n",
       "    </tr>\n",
       "    <tr>\n",
       "      <th>pas</th>\n",
       "      <td>5</td>\n",
       "    </tr>\n",
       "  </tbody>\n",
       "</table>\n",
       "</div>"
      ],
      "text/plain": [
       "          ColumnName\n",
       "sol                9\n",
       "lech               8\n",
       "dej                5\n",
       "ciud               5\n",
       "tod                5\n",
       "llam               5\n",
       "corr               5\n",
       "hospital           5\n",
       "noch               5\n",
       "pas                5"
      ]
     },
     "execution_count": 17,
     "metadata": {},
     "output_type": "execute_result"
    }
   ],
   "source": [
    "data_frame_origenes=pd.Series(contador_origenes).to_frame('ColumnName')\n",
    "data_frame_origenes=data_frame_origenes.sort_values(by=['ColumnName'], ascending=False)\n",
    "data_frame_origenes.head(10)"
   ]
  },
  {
   "cell_type": "markdown",
   "metadata": {},
   "source": [
    "# BONUS Punto 4:\n",
    "\n",
    "- `[5pts]` Contar cuántas ocurrencias hay por cada parte de la oración"
   ]
  },
  {
   "cell_type": "code",
   "execution_count": 18,
   "metadata": {},
   "outputs": [],
   "source": [
    "import es_core_news_sm\n",
    "spacy_es = es_core_news_sm.load()\n",
    "#documento= spacy_es(data)\n",
    "documento= spacy_es(data)"
   ]
  },
  {
   "cell_type": "code",
   "execution_count": 19,
   "metadata": {},
   "outputs": [],
   "source": [
    "arreglo_definicion = {}\n",
    "conador_definicion = 0"
   ]
  },
  {
   "cell_type": "code",
   "execution_count": 20,
   "metadata": {},
   "outputs": [],
   "source": [
    "for palabras in documento:\n",
    "    palabra_arreglo= palabras.text\n",
    "    tipo_palabra= palabras.pos_\n",
    "    arreglo_definicion[conador_definicion] =tipo_palabra  \n",
    "    conador_definicion+=1"
   ]
  },
  {
   "cell_type": "code",
   "execution_count": 29,
   "metadata": {},
   "outputs": [
    {
     "data": {
      "text/html": [
       "<div>\n",
       "<style scoped>\n",
       "    .dataframe tbody tr th:only-of-type {\n",
       "        vertical-align: middle;\n",
       "    }\n",
       "\n",
       "    .dataframe tbody tr th {\n",
       "        vertical-align: top;\n",
       "    }\n",
       "\n",
       "    .dataframe thead th {\n",
       "        text-align: right;\n",
       "    }\n",
       "</style>\n",
       "<table border=\"1\" class=\"dataframe\">\n",
       "  <thead>\n",
       "    <tr style=\"text-align: right;\">\n",
       "      <th></th>\n",
       "      <th>contador</th>\n",
       "    </tr>\n",
       "    <tr>\n",
       "      <th>Nombre</th>\n",
       "      <th></th>\n",
       "    </tr>\n",
       "  </thead>\n",
       "  <tbody>\n",
       "    <tr>\n",
       "      <th>NOUN</th>\n",
       "      <td>178</td>\n",
       "    </tr>\n",
       "    <tr>\n",
       "      <th>DET</th>\n",
       "      <td>151</td>\n",
       "    </tr>\n",
       "    <tr>\n",
       "      <th>ADP</th>\n",
       "      <td>136</td>\n",
       "    </tr>\n",
       "    <tr>\n",
       "      <th>VERB</th>\n",
       "      <td>128</td>\n",
       "    </tr>\n",
       "    <tr>\n",
       "      <th>PRON</th>\n",
       "      <td>106</td>\n",
       "    </tr>\n",
       "    <tr>\n",
       "      <th>AUX</th>\n",
       "      <td>75</td>\n",
       "    </tr>\n",
       "    <tr>\n",
       "      <th>ADV</th>\n",
       "      <td>61</td>\n",
       "    </tr>\n",
       "    <tr>\n",
       "      <th>ADJ</th>\n",
       "      <td>48</td>\n",
       "    </tr>\n",
       "    <tr>\n",
       "      <th>SCONJ</th>\n",
       "      <td>32</td>\n",
       "    </tr>\n",
       "    <tr>\n",
       "      <th>CCONJ</th>\n",
       "      <td>30</td>\n",
       "    </tr>\n",
       "    <tr>\n",
       "      <th>NUM</th>\n",
       "      <td>16</td>\n",
       "    </tr>\n",
       "    <tr>\n",
       "      <th>INTJ</th>\n",
       "      <td>14</td>\n",
       "    </tr>\n",
       "    <tr>\n",
       "      <th>PROPN</th>\n",
       "      <td>14</td>\n",
       "    </tr>\n",
       "    <tr>\n",
       "      <th>PART</th>\n",
       "      <td>1</td>\n",
       "    </tr>\n",
       "  </tbody>\n",
       "</table>\n",
       "</div>"
      ],
      "text/plain": [
       "        contador\n",
       "Nombre          \n",
       "NOUN         178\n",
       "DET          151\n",
       "ADP          136\n",
       "VERB         128\n",
       "PRON         106\n",
       "AUX           75\n",
       "ADV           61\n",
       "ADJ           48\n",
       "SCONJ         32\n",
       "CCONJ         30\n",
       "NUM           16\n",
       "INTJ          14\n",
       "PROPN         14\n",
       "PART           1"
      ]
     },
     "execution_count": 29,
     "metadata": {},
     "output_type": "execute_result"
    }
   ],
   "source": [
    "data_final=pd.Series(arreglo_definicion).to_frame('Nombre')\n",
    "data_final[\"contador\"] = 1\n",
    "data_final.groupby('Nombre').count().sort_values(by=['contador'], ascending=False)"
   ]
  }
 ],
 "metadata": {
  "kernelspec": {
   "display_name": "Python 3",
   "language": "python",
   "name": "python3"
  },
  "language_info": {
   "codemirror_mode": {
    "name": "ipython",
    "version": 3
   },
   "file_extension": ".py",
   "mimetype": "text/x-python",
   "name": "python",
   "nbconvert_exporter": "python",
   "pygments_lexer": "ipython3",
   "version": "3.8.3"
  }
 },
 "nbformat": 4,
 "nbformat_minor": 2
}
