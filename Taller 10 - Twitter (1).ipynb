{
 "cells": [
  {
   "cell_type": "markdown",
   "metadata": {},
   "source": [
    "<img src='https://encrypted-tbn0.gstatic.com/images?q=tbn%3AANd9GcQ-VfNtOyJbsaxu43Kztf_cv1mgBG6ZIQZEVw&usqp=CAU'>\n",
    "\n",
    "# Procesamiento de Lenguage Natural\n",
    "\n",
    "## Taller #10: Twitter\n",
    "`Fecha de entrega: Noviembre 14, 2020 (Antes del inicio de la próxima clase).`\n",
    "\n",
    "`Modo de entrega: Subir link de GitHub al aula virtual.`\n",
    "\n",
    "Leonardo Rubio Salcedo "
   ]
  },
  {
   "cell_type": "markdown",
   "metadata": {},
   "source": [
    "Bogota cuenta con un total de casos de covid 337.000 de las cuales 305.000 personas ya se recuperaron y tiene registradas 7917 muertes, por lo que la pregunta es ahora los Bogotanos que piensan del Covid-19"
   ]
  },
  {
   "cell_type": "markdown",
   "metadata": {},
   "source": [
    "###  `[25 pts]` Punto 1: Extraer Tuits\n",
    "Extraer mínimo 100 tuits de Twitter usando la API\n",
    "\n",
    "(Si exponen sus claves, les haré maldades 😈)\n",
    "\n",
    "❌🎃❌ ¡No Halloween!"
   ]
  },
  {
   "cell_type": "code",
   "execution_count": 15,
   "metadata": {},
   "outputs": [],
   "source": [
    "import pandas as pd\n",
    "import tweepy"
   ]
  },
  {
   "cell_type": "code",
   "execution_count": 16,
   "metadata": {},
   "outputs": [],
   "source": [
    "# Leer llaves\n",
    "keys = pd.read_csv(\"keys_demo.csv\", header=None, sep='\\t')\n",
    "keys = dict(zip(keys[0],keys[1]))"
   ]
  },
  {
   "cell_type": "code",
   "execution_count": 17,
   "metadata": {},
   "outputs": [],
   "source": [
    "# Autorizar a través API\n",
    "auth = tweepy.OAuthHandler(keys['api_key'], keys['api_key_secret'])\n",
    "auth.set_access_token(keys['access_token'], keys['access_token_secret'])\n",
    "api = tweepy.API(auth, wait_on_rate_limit=True)"
   ]
  },
  {
   "cell_type": "code",
   "execution_count": 18,
   "metadata": {},
   "outputs": [],
   "source": [
    "tweets = tweepy.Cursor(api.search,\n",
    "                       q=['covid -RT'],\n",
    "                       lang='es',\n",
    "                       geocode=f'4.610147,-74.075608,23km',\n",
    "                       tweet_mode='extended',\n",
    "                       include_rts=False).items(2000)"
   ]
  },
  {
   "cell_type": "code",
   "execution_count": 19,
   "metadata": {},
   "outputs": [],
   "source": [
    "t = []\n",
    "for tweet in tweets:\n",
    "    temp = []\n",
    "    temp.append(tweet.full_text)\n",
    "    temp.append(tweet.created_at)\n",
    "    temp.append(\"Bogota\")\n",
    "    temp.append(tweet.user.location)\n",
    "    temp.append(tweet.place)\n",
    "    temp.append(tweet.coordinates)\n",
    "    temp.append(tweet.id)\n",
    "    temp.append(f\"https://twitter.com/i/web/status/{tweet.id}\")\n",
    "    t.append(temp)"
   ]
  },
  {
   "cell_type": "code",
   "execution_count": 20,
   "metadata": {},
   "outputs": [],
   "source": [
    "data = pd.DataFrame(t)\n",
    "data.columns = ['tweet', 'date', 'city', 'user_location', 'place', 'coordinates', 'id', 'link']"
   ]
  },
  {
   "cell_type": "code",
   "execution_count": 21,
   "metadata": {},
   "outputs": [],
   "source": [
    "import re\n",
    " \n",
    "pattern1 = '?P<pic>pic.twitter.com/[^\\s]+'\n",
    "pattern2 = '?P<url>https?://[^\\s]+'\n",
    " \n",
    "def text_clean(row):\n",
    "    text = row['tweet']\n",
    "\n",
    "    links = [tuple(j for j in i if j)[-1] for i in re.findall(f\"({pattern1})|({pattern2})\",text)]\n",
    "    for link in links:\n",
    "        text = text.replace(link,\"\")\n",
    "\n",
    "    hashtags = [interaction for interaction in text.split() if interaction.startswith(\"#\")]\n",
    "    for hashtag in hashtags:\n",
    "        text = text.replace(hashtag,\"\")\n",
    "\n",
    "    mentions = [interaction for interaction in text.split() if interaction.startswith(\"@\")]\n",
    "    for mention in mentions:\n",
    "        text = text.replace(mention,\"\")\n",
    "\n",
    "    return text, links, hashtags, mentions"
   ]
  },
  {
   "cell_type": "code",
   "execution_count": 22,
   "metadata": {},
   "outputs": [
    {
     "data": {
      "text/html": [
       "<div>\n",
       "<style scoped>\n",
       "    .dataframe tbody tr th:only-of-type {\n",
       "        vertical-align: middle;\n",
       "    }\n",
       "\n",
       "    .dataframe tbody tr th {\n",
       "        vertical-align: top;\n",
       "    }\n",
       "\n",
       "    .dataframe thead th {\n",
       "        text-align: right;\n",
       "    }\n",
       "</style>\n",
       "<table border=\"1\" class=\"dataframe\">\n",
       "  <thead>\n",
       "    <tr style=\"text-align: right;\">\n",
       "      <th></th>\n",
       "      <th>tweet</th>\n",
       "      <th>date</th>\n",
       "      <th>city</th>\n",
       "      <th>user_location</th>\n",
       "      <th>place</th>\n",
       "      <th>coordinates</th>\n",
       "      <th>id</th>\n",
       "      <th>link</th>\n",
       "      <th>clean</th>\n",
       "      <th>links</th>\n",
       "      <th>hashtags</th>\n",
       "      <th>mentions</th>\n",
       "    </tr>\n",
       "  </thead>\n",
       "  <tbody>\n",
       "    <tr>\n",
       "      <th>0</th>\n",
       "      <td>«Hay que dejar de ser un país de maricas»: Bol...</td>\n",
       "      <td>2020-11-10 23:10:36</td>\n",
       "      <td>Bogota</td>\n",
       "      <td>Bogotá, Colombia</td>\n",
       "      <td>None</td>\n",
       "      <td>None</td>\n",
       "      <td>1326301261268987905</td>\n",
       "      <td>https://twitter.com/i/web/status/1326301261268...</td>\n",
       "      <td>«Hay que dejar de ser un país de maricas»: Bol...</td>\n",
       "      <td>[https://t.co/qF3wrPtulf]</td>\n",
       "      <td>[#Brasil]</td>\n",
       "      <td>[]</td>\n",
       "    </tr>\n",
       "    <tr>\n",
       "      <th>1</th>\n",
       "      <td>#NoticiasCapital | Continúa la implementación ...</td>\n",
       "      <td>2020-11-10 23:10:00</td>\n",
       "      <td>Bogota</td>\n",
       "      <td>Bogotá, Colombia</td>\n",
       "      <td>None</td>\n",
       "      <td>None</td>\n",
       "      <td>1326301107895767040</td>\n",
       "      <td>https://twitter.com/i/web/status/1326301107895...</td>\n",
       "      <td>| Continúa la implementación de medidas contr...</td>\n",
       "      <td>[https://t.co/rz7TN7nAIv]</td>\n",
       "      <td>[#NoticiasCapital]</td>\n",
       "      <td>[]</td>\n",
       "    </tr>\n",
       "    <tr>\n",
       "      <th>2</th>\n",
       "      <td>El problema de creer que a los niños no les da...</td>\n",
       "      <td>2020-11-10 23:08:09</td>\n",
       "      <td>Bogota</td>\n",
       "      <td>Bogotá, Colombia</td>\n",
       "      <td>None</td>\n",
       "      <td>None</td>\n",
       "      <td>1326300643573850112</td>\n",
       "      <td>https://twitter.com/i/web/status/1326300643573...</td>\n",
       "      <td>El problema de creer que a los niños no les da...</td>\n",
       "      <td>[https://t.co/jzQURHwBa6]</td>\n",
       "      <td>[]</td>\n",
       "      <td>[]</td>\n",
       "    </tr>\n",
       "    <tr>\n",
       "      <th>3</th>\n",
       "      <td>a este paso la moda será no ser positivo covid...</td>\n",
       "      <td>2020-11-10 23:07:24</td>\n",
       "      <td>Bogota</td>\n",
       "      <td>BOGOTÁ</td>\n",
       "      <td>None</td>\n",
       "      <td>None</td>\n",
       "      <td>1326300453966123014</td>\n",
       "      <td>https://twitter.com/i/web/status/1326300453966...</td>\n",
       "      <td>a este paso la moda será no ser positivo covid...</td>\n",
       "      <td>[]</td>\n",
       "      <td>[#suerteenelplatanal]</td>\n",
       "      <td>[]</td>\n",
       "    </tr>\n",
       "    <tr>\n",
       "      <th>4</th>\n",
       "      <td>Uy hace un siglo no como esto por miedo al cov...</td>\n",
       "      <td>2020-11-10 23:07:16</td>\n",
       "      <td>Bogota</td>\n",
       "      <td>Bogotá, Colombia</td>\n",
       "      <td>None</td>\n",
       "      <td>None</td>\n",
       "      <td>1326300422538190850</td>\n",
       "      <td>https://twitter.com/i/web/status/1326300422538...</td>\n",
       "      <td>Uy hace un siglo no como esto por miedo al cov...</td>\n",
       "      <td>[https://t.co/cNgJ3RnDi8]</td>\n",
       "      <td>[]</td>\n",
       "      <td>[]</td>\n",
       "    </tr>\n",
       "  </tbody>\n",
       "</table>\n",
       "</div>"
      ],
      "text/plain": [
       "                                               tweet                date  \\\n",
       "0  «Hay que dejar de ser un país de maricas»: Bol... 2020-11-10 23:10:36   \n",
       "1  #NoticiasCapital | Continúa la implementación ... 2020-11-10 23:10:00   \n",
       "2  El problema de creer que a los niños no les da... 2020-11-10 23:08:09   \n",
       "3  a este paso la moda será no ser positivo covid... 2020-11-10 23:07:24   \n",
       "4  Uy hace un siglo no como esto por miedo al cov... 2020-11-10 23:07:16   \n",
       "\n",
       "     city     user_location place coordinates                   id  \\\n",
       "0  Bogota  Bogotá, Colombia  None        None  1326301261268987905   \n",
       "1  Bogota  Bogotá, Colombia  None        None  1326301107895767040   \n",
       "2  Bogota  Bogotá, Colombia  None        None  1326300643573850112   \n",
       "3  Bogota            BOGOTÁ  None        None  1326300453966123014   \n",
       "4  Bogota  Bogotá, Colombia  None        None  1326300422538190850   \n",
       "\n",
       "                                                link  \\\n",
       "0  https://twitter.com/i/web/status/1326301261268...   \n",
       "1  https://twitter.com/i/web/status/1326301107895...   \n",
       "2  https://twitter.com/i/web/status/1326300643573...   \n",
       "3  https://twitter.com/i/web/status/1326300453966...   \n",
       "4  https://twitter.com/i/web/status/1326300422538...   \n",
       "\n",
       "                                               clean  \\\n",
       "0  «Hay que dejar de ser un país de maricas»: Bol...   \n",
       "1   | Continúa la implementación de medidas contr...   \n",
       "2  El problema de creer que a los niños no les da...   \n",
       "3  a este paso la moda será no ser positivo covid...   \n",
       "4  Uy hace un siglo no como esto por miedo al cov...   \n",
       "\n",
       "                       links               hashtags mentions  \n",
       "0  [https://t.co/qF3wrPtulf]              [#Brasil]       []  \n",
       "1  [https://t.co/rz7TN7nAIv]     [#NoticiasCapital]       []  \n",
       "2  [https://t.co/jzQURHwBa6]                     []       []  \n",
       "3                         []  [#suerteenelplatanal]       []  \n",
       "4  [https://t.co/cNgJ3RnDi8]                     []       []  "
      ]
     },
     "execution_count": 22,
     "metadata": {},
     "output_type": "execute_result"
    }
   ],
   "source": [
    "data[['clean', 'links', 'hashtags', 'mentions']] = data.apply(text_clean, axis=1, result_type='expand')\n",
    "\n"
   ]
  },
  {
   "cell_type": "code",
   "execution_count": 23,
   "metadata": {},
   "outputs": [],
   "source": [
    "import regex\n",
    "import emoji\n",
    " \n",
    "def get_emojis(text):\n",
    "    emoji_list = []\n",
    "    data = regex.findall(r'\\X', text)\n",
    "    for word in data:\n",
    "        if any(char in emoji.UNICODE_EMOJI for char in word):\n",
    "            emoji_list.append(word)\n",
    "    return emoji_list\n",
    " \n",
    "data['emojis'] = data['clean'].apply(lambda text: get_emojis(text))"
   ]
  },
  {
   "cell_type": "code",
   "execution_count": 24,
   "metadata": {},
   "outputs": [
    {
     "data": {
      "text/html": [
       "<div>\n",
       "<style scoped>\n",
       "    .dataframe tbody tr th:only-of-type {\n",
       "        vertical-align: middle;\n",
       "    }\n",
       "\n",
       "    .dataframe tbody tr th {\n",
       "        vertical-align: top;\n",
       "    }\n",
       "\n",
       "    .dataframe thead th {\n",
       "        text-align: right;\n",
       "    }\n",
       "</style>\n",
       "<table border=\"1\" class=\"dataframe\">\n",
       "  <thead>\n",
       "    <tr style=\"text-align: right;\">\n",
       "      <th></th>\n",
       "      <th>tweet</th>\n",
       "      <th>date</th>\n",
       "      <th>city</th>\n",
       "      <th>user_location</th>\n",
       "      <th>place</th>\n",
       "      <th>coordinates</th>\n",
       "      <th>id</th>\n",
       "      <th>link</th>\n",
       "      <th>clean</th>\n",
       "      <th>links</th>\n",
       "      <th>hashtags</th>\n",
       "      <th>mentions</th>\n",
       "      <th>emojis</th>\n",
       "    </tr>\n",
       "  </thead>\n",
       "  <tbody>\n",
       "    <tr>\n",
       "      <th>0</th>\n",
       "      <td>«Hay que dejar de ser un país de maricas»: Bol...</td>\n",
       "      <td>2020-11-10 23:10:36</td>\n",
       "      <td>Bogota</td>\n",
       "      <td>Bogotá, Colombia</td>\n",
       "      <td>None</td>\n",
       "      <td>None</td>\n",
       "      <td>1326301261268987905</td>\n",
       "      <td>https://twitter.com/i/web/status/1326301261268...</td>\n",
       "      <td>«Hay que dejar de ser un país de maricas»: Bol...</td>\n",
       "      <td>[https://t.co/qF3wrPtulf]</td>\n",
       "      <td>[#Brasil]</td>\n",
       "      <td>[]</td>\n",
       "      <td>[]</td>\n",
       "    </tr>\n",
       "    <tr>\n",
       "      <th>1</th>\n",
       "      <td>#NoticiasCapital | Continúa la implementación ...</td>\n",
       "      <td>2020-11-10 23:10:00</td>\n",
       "      <td>Bogota</td>\n",
       "      <td>Bogotá, Colombia</td>\n",
       "      <td>None</td>\n",
       "      <td>None</td>\n",
       "      <td>1326301107895767040</td>\n",
       "      <td>https://twitter.com/i/web/status/1326301107895...</td>\n",
       "      <td>| Continúa la implementación de medidas contr...</td>\n",
       "      <td>[https://t.co/rz7TN7nAIv]</td>\n",
       "      <td>[#NoticiasCapital]</td>\n",
       "      <td>[]</td>\n",
       "      <td>[]</td>\n",
       "    </tr>\n",
       "    <tr>\n",
       "      <th>2</th>\n",
       "      <td>El problema de creer que a los niños no les da...</td>\n",
       "      <td>2020-11-10 23:08:09</td>\n",
       "      <td>Bogota</td>\n",
       "      <td>Bogotá, Colombia</td>\n",
       "      <td>None</td>\n",
       "      <td>None</td>\n",
       "      <td>1326300643573850112</td>\n",
       "      <td>https://twitter.com/i/web/status/1326300643573...</td>\n",
       "      <td>El problema de creer que a los niños no les da...</td>\n",
       "      <td>[https://t.co/jzQURHwBa6]</td>\n",
       "      <td>[]</td>\n",
       "      <td>[]</td>\n",
       "      <td>[😢]</td>\n",
       "    </tr>\n",
       "    <tr>\n",
       "      <th>3</th>\n",
       "      <td>a este paso la moda será no ser positivo covid...</td>\n",
       "      <td>2020-11-10 23:07:24</td>\n",
       "      <td>Bogota</td>\n",
       "      <td>BOGOTÁ</td>\n",
       "      <td>None</td>\n",
       "      <td>None</td>\n",
       "      <td>1326300453966123014</td>\n",
       "      <td>https://twitter.com/i/web/status/1326300453966...</td>\n",
       "      <td>a este paso la moda será no ser positivo covid...</td>\n",
       "      <td>[]</td>\n",
       "      <td>[#suerteenelplatanal]</td>\n",
       "      <td>[]</td>\n",
       "      <td>[]</td>\n",
       "    </tr>\n",
       "    <tr>\n",
       "      <th>4</th>\n",
       "      <td>Uy hace un siglo no como esto por miedo al cov...</td>\n",
       "      <td>2020-11-10 23:07:16</td>\n",
       "      <td>Bogota</td>\n",
       "      <td>Bogotá, Colombia</td>\n",
       "      <td>None</td>\n",
       "      <td>None</td>\n",
       "      <td>1326300422538190850</td>\n",
       "      <td>https://twitter.com/i/web/status/1326300422538...</td>\n",
       "      <td>Uy hace un siglo no como esto por miedo al cov...</td>\n",
       "      <td>[https://t.co/cNgJ3RnDi8]</td>\n",
       "      <td>[]</td>\n",
       "      <td>[]</td>\n",
       "      <td>[😭]</td>\n",
       "    </tr>\n",
       "  </tbody>\n",
       "</table>\n",
       "</div>"
      ],
      "text/plain": [
       "                                               tweet                date  \\\n",
       "0  «Hay que dejar de ser un país de maricas»: Bol... 2020-11-10 23:10:36   \n",
       "1  #NoticiasCapital | Continúa la implementación ... 2020-11-10 23:10:00   \n",
       "2  El problema de creer que a los niños no les da... 2020-11-10 23:08:09   \n",
       "3  a este paso la moda será no ser positivo covid... 2020-11-10 23:07:24   \n",
       "4  Uy hace un siglo no como esto por miedo al cov... 2020-11-10 23:07:16   \n",
       "\n",
       "     city     user_location place coordinates                   id  \\\n",
       "0  Bogota  Bogotá, Colombia  None        None  1326301261268987905   \n",
       "1  Bogota  Bogotá, Colombia  None        None  1326301107895767040   \n",
       "2  Bogota  Bogotá, Colombia  None        None  1326300643573850112   \n",
       "3  Bogota            BOGOTÁ  None        None  1326300453966123014   \n",
       "4  Bogota  Bogotá, Colombia  None        None  1326300422538190850   \n",
       "\n",
       "                                                link  \\\n",
       "0  https://twitter.com/i/web/status/1326301261268...   \n",
       "1  https://twitter.com/i/web/status/1326301107895...   \n",
       "2  https://twitter.com/i/web/status/1326300643573...   \n",
       "3  https://twitter.com/i/web/status/1326300453966...   \n",
       "4  https://twitter.com/i/web/status/1326300422538...   \n",
       "\n",
       "                                               clean  \\\n",
       "0  «Hay que dejar de ser un país de maricas»: Bol...   \n",
       "1   | Continúa la implementación de medidas contr...   \n",
       "2  El problema de creer que a los niños no les da...   \n",
       "3  a este paso la moda será no ser positivo covid...   \n",
       "4  Uy hace un siglo no como esto por miedo al cov...   \n",
       "\n",
       "                       links               hashtags mentions emojis  \n",
       "0  [https://t.co/qF3wrPtulf]              [#Brasil]       []     []  \n",
       "1  [https://t.co/rz7TN7nAIv]     [#NoticiasCapital]       []     []  \n",
       "2  [https://t.co/jzQURHwBa6]                     []       []    [😢]  \n",
       "3                         []  [#suerteenelplatanal]       []     []  \n",
       "4  [https://t.co/cNgJ3RnDi8]                     []       []    [😭]  "
      ]
     },
     "execution_count": 24,
     "metadata": {},
     "output_type": "execute_result"
    }
   ],
   "source": [
    "data.head()"
   ]
  },
  {
   "cell_type": "markdown",
   "metadata": {},
   "source": [
    "###  `[25 pts]` Punto 2: Hacer una visualización sobre esos tuits\n",
    "\n",
    "❌🎃❌ ¡No Halloween!"
   ]
  },
  {
   "cell_type": "code",
   "execution_count": 25,
   "metadata": {},
   "outputs": [],
   "source": [
    "data['fecha'] = data.date.dt.date\n",
    "temp = pd.DataFrame(data.fecha.value_counts()).reset_index()\n",
    "temp.columns = ['fecha', 'cnt']\n",
    "temp = temp.sort_values('fecha')"
   ]
  },
  {
   "cell_type": "code",
   "execution_count": 29,
   "metadata": {
    "scrolled": true
   },
   "outputs": [
    {
     "data": {
      "text/html": [
       "        <script type=\"text/javascript\">\n",
       "        window.PlotlyConfig = {MathJaxConfig: 'local'};\n",
       "        if (window.MathJax) {MathJax.Hub.Config({SVG: {font: \"STIX-Web\"}});}\n",
       "        if (typeof require !== 'undefined') {\n",
       "        require.undef(\"plotly\");\n",
       "        requirejs.config({\n",
       "            paths: {\n",
       "                'plotly': ['https://cdn.plot.ly/plotly-latest.min']\n",
       "            }\n",
       "        });\n",
       "        require(['plotly'], function(Plotly) {\n",
       "            window._Plotly = Plotly;\n",
       "        });\n",
       "        }\n",
       "        </script>\n",
       "        "
      ]
     },
     "metadata": {},
     "output_type": "display_data"
    },
    {
     "data": {
      "application/vnd.plotly.v1+json": {
       "config": {
        "linkText": "Export to plot.ly",
        "plotlyServerURL": "https://plot.ly",
        "showLink": false
       },
       "data": [
        {
         "hoverinfo": "text",
         "line": {
          "color": "#1DA1F2"
         },
         "mode": "lines+markers",
         "name": "Días",
         "text": [
          "Fecha: 2020-11-05<br>Tuits: 51",
          "Fecha: 2020-11-06<br>Tuits: 506",
          "Fecha: 2020-11-07<br>Tuits: 325",
          "Fecha: 2020-11-08<br>Tuits: 266",
          "Fecha: 2020-11-09<br>Tuits: 432",
          "Fecha: 2020-11-10<br>Tuits: 420"
         ],
         "type": "scatter",
         "x": [
          "2020-11-05",
          "2020-11-06",
          "2020-11-07",
          "2020-11-08",
          "2020-11-09",
          "2020-11-10"
         ],
         "y": [
          51,
          506,
          325,
          266,
          432,
          420
         ]
        }
       ],
       "layout": {
        "template": {
         "data": {
          "bar": [
           {
            "error_x": {
             "color": "#2a3f5f"
            },
            "error_y": {
             "color": "#2a3f5f"
            },
            "marker": {
             "line": {
              "color": "#E5ECF6",
              "width": 0.5
             }
            },
            "type": "bar"
           }
          ],
          "barpolar": [
           {
            "marker": {
             "line": {
              "color": "#E5ECF6",
              "width": 0.5
             }
            },
            "type": "barpolar"
           }
          ],
          "carpet": [
           {
            "aaxis": {
             "endlinecolor": "#2a3f5f",
             "gridcolor": "white",
             "linecolor": "white",
             "minorgridcolor": "white",
             "startlinecolor": "#2a3f5f"
            },
            "baxis": {
             "endlinecolor": "#2a3f5f",
             "gridcolor": "white",
             "linecolor": "white",
             "minorgridcolor": "white",
             "startlinecolor": "#2a3f5f"
            },
            "type": "carpet"
           }
          ],
          "choropleth": [
           {
            "colorbar": {
             "outlinewidth": 0,
             "ticks": ""
            },
            "type": "choropleth"
           }
          ],
          "contour": [
           {
            "colorbar": {
             "outlinewidth": 0,
             "ticks": ""
            },
            "colorscale": [
             [
              0,
              "#0d0887"
             ],
             [
              0.1111111111111111,
              "#46039f"
             ],
             [
              0.2222222222222222,
              "#7201a8"
             ],
             [
              0.3333333333333333,
              "#9c179e"
             ],
             [
              0.4444444444444444,
              "#bd3786"
             ],
             [
              0.5555555555555556,
              "#d8576b"
             ],
             [
              0.6666666666666666,
              "#ed7953"
             ],
             [
              0.7777777777777778,
              "#fb9f3a"
             ],
             [
              0.8888888888888888,
              "#fdca26"
             ],
             [
              1,
              "#f0f921"
             ]
            ],
            "type": "contour"
           }
          ],
          "contourcarpet": [
           {
            "colorbar": {
             "outlinewidth": 0,
             "ticks": ""
            },
            "type": "contourcarpet"
           }
          ],
          "heatmap": [
           {
            "colorbar": {
             "outlinewidth": 0,
             "ticks": ""
            },
            "colorscale": [
             [
              0,
              "#0d0887"
             ],
             [
              0.1111111111111111,
              "#46039f"
             ],
             [
              0.2222222222222222,
              "#7201a8"
             ],
             [
              0.3333333333333333,
              "#9c179e"
             ],
             [
              0.4444444444444444,
              "#bd3786"
             ],
             [
              0.5555555555555556,
              "#d8576b"
             ],
             [
              0.6666666666666666,
              "#ed7953"
             ],
             [
              0.7777777777777778,
              "#fb9f3a"
             ],
             [
              0.8888888888888888,
              "#fdca26"
             ],
             [
              1,
              "#f0f921"
             ]
            ],
            "type": "heatmap"
           }
          ],
          "heatmapgl": [
           {
            "colorbar": {
             "outlinewidth": 0,
             "ticks": ""
            },
            "colorscale": [
             [
              0,
              "#0d0887"
             ],
             [
              0.1111111111111111,
              "#46039f"
             ],
             [
              0.2222222222222222,
              "#7201a8"
             ],
             [
              0.3333333333333333,
              "#9c179e"
             ],
             [
              0.4444444444444444,
              "#bd3786"
             ],
             [
              0.5555555555555556,
              "#d8576b"
             ],
             [
              0.6666666666666666,
              "#ed7953"
             ],
             [
              0.7777777777777778,
              "#fb9f3a"
             ],
             [
              0.8888888888888888,
              "#fdca26"
             ],
             [
              1,
              "#f0f921"
             ]
            ],
            "type": "heatmapgl"
           }
          ],
          "histogram": [
           {
            "marker": {
             "colorbar": {
              "outlinewidth": 0,
              "ticks": ""
             }
            },
            "type": "histogram"
           }
          ],
          "histogram2d": [
           {
            "colorbar": {
             "outlinewidth": 0,
             "ticks": ""
            },
            "colorscale": [
             [
              0,
              "#0d0887"
             ],
             [
              0.1111111111111111,
              "#46039f"
             ],
             [
              0.2222222222222222,
              "#7201a8"
             ],
             [
              0.3333333333333333,
              "#9c179e"
             ],
             [
              0.4444444444444444,
              "#bd3786"
             ],
             [
              0.5555555555555556,
              "#d8576b"
             ],
             [
              0.6666666666666666,
              "#ed7953"
             ],
             [
              0.7777777777777778,
              "#fb9f3a"
             ],
             [
              0.8888888888888888,
              "#fdca26"
             ],
             [
              1,
              "#f0f921"
             ]
            ],
            "type": "histogram2d"
           }
          ],
          "histogram2dcontour": [
           {
            "colorbar": {
             "outlinewidth": 0,
             "ticks": ""
            },
            "colorscale": [
             [
              0,
              "#0d0887"
             ],
             [
              0.1111111111111111,
              "#46039f"
             ],
             [
              0.2222222222222222,
              "#7201a8"
             ],
             [
              0.3333333333333333,
              "#9c179e"
             ],
             [
              0.4444444444444444,
              "#bd3786"
             ],
             [
              0.5555555555555556,
              "#d8576b"
             ],
             [
              0.6666666666666666,
              "#ed7953"
             ],
             [
              0.7777777777777778,
              "#fb9f3a"
             ],
             [
              0.8888888888888888,
              "#fdca26"
             ],
             [
              1,
              "#f0f921"
             ]
            ],
            "type": "histogram2dcontour"
           }
          ],
          "mesh3d": [
           {
            "colorbar": {
             "outlinewidth": 0,
             "ticks": ""
            },
            "type": "mesh3d"
           }
          ],
          "parcoords": [
           {
            "line": {
             "colorbar": {
              "outlinewidth": 0,
              "ticks": ""
             }
            },
            "type": "parcoords"
           }
          ],
          "pie": [
           {
            "automargin": true,
            "type": "pie"
           }
          ],
          "scatter": [
           {
            "marker": {
             "colorbar": {
              "outlinewidth": 0,
              "ticks": ""
             }
            },
            "type": "scatter"
           }
          ],
          "scatter3d": [
           {
            "line": {
             "colorbar": {
              "outlinewidth": 0,
              "ticks": ""
             }
            },
            "marker": {
             "colorbar": {
              "outlinewidth": 0,
              "ticks": ""
             }
            },
            "type": "scatter3d"
           }
          ],
          "scattercarpet": [
           {
            "marker": {
             "colorbar": {
              "outlinewidth": 0,
              "ticks": ""
             }
            },
            "type": "scattercarpet"
           }
          ],
          "scattergeo": [
           {
            "marker": {
             "colorbar": {
              "outlinewidth": 0,
              "ticks": ""
             }
            },
            "type": "scattergeo"
           }
          ],
          "scattergl": [
           {
            "marker": {
             "colorbar": {
              "outlinewidth": 0,
              "ticks": ""
             }
            },
            "type": "scattergl"
           }
          ],
          "scattermapbox": [
           {
            "marker": {
             "colorbar": {
              "outlinewidth": 0,
              "ticks": ""
             }
            },
            "type": "scattermapbox"
           }
          ],
          "scatterpolar": [
           {
            "marker": {
             "colorbar": {
              "outlinewidth": 0,
              "ticks": ""
             }
            },
            "type": "scatterpolar"
           }
          ],
          "scatterpolargl": [
           {
            "marker": {
             "colorbar": {
              "outlinewidth": 0,
              "ticks": ""
             }
            },
            "type": "scatterpolargl"
           }
          ],
          "scatterternary": [
           {
            "marker": {
             "colorbar": {
              "outlinewidth": 0,
              "ticks": ""
             }
            },
            "type": "scatterternary"
           }
          ],
          "surface": [
           {
            "colorbar": {
             "outlinewidth": 0,
             "ticks": ""
            },
            "colorscale": [
             [
              0,
              "#0d0887"
             ],
             [
              0.1111111111111111,
              "#46039f"
             ],
             [
              0.2222222222222222,
              "#7201a8"
             ],
             [
              0.3333333333333333,
              "#9c179e"
             ],
             [
              0.4444444444444444,
              "#bd3786"
             ],
             [
              0.5555555555555556,
              "#d8576b"
             ],
             [
              0.6666666666666666,
              "#ed7953"
             ],
             [
              0.7777777777777778,
              "#fb9f3a"
             ],
             [
              0.8888888888888888,
              "#fdca26"
             ],
             [
              1,
              "#f0f921"
             ]
            ],
            "type": "surface"
           }
          ],
          "table": [
           {
            "cells": {
             "fill": {
              "color": "#EBF0F8"
             },
             "line": {
              "color": "white"
             }
            },
            "header": {
             "fill": {
              "color": "#C8D4E3"
             },
             "line": {
              "color": "white"
             }
            },
            "type": "table"
           }
          ]
         },
         "layout": {
          "annotationdefaults": {
           "arrowcolor": "#2a3f5f",
           "arrowhead": 0,
           "arrowwidth": 1
          },
          "coloraxis": {
           "colorbar": {
            "outlinewidth": 0,
            "ticks": ""
           }
          },
          "colorscale": {
           "diverging": [
            [
             0,
             "#8e0152"
            ],
            [
             0.1,
             "#c51b7d"
            ],
            [
             0.2,
             "#de77ae"
            ],
            [
             0.3,
             "#f1b6da"
            ],
            [
             0.4,
             "#fde0ef"
            ],
            [
             0.5,
             "#f7f7f7"
            ],
            [
             0.6,
             "#e6f5d0"
            ],
            [
             0.7,
             "#b8e186"
            ],
            [
             0.8,
             "#7fbc41"
            ],
            [
             0.9,
             "#4d9221"
            ],
            [
             1,
             "#276419"
            ]
           ],
           "sequential": [
            [
             0,
             "#0d0887"
            ],
            [
             0.1111111111111111,
             "#46039f"
            ],
            [
             0.2222222222222222,
             "#7201a8"
            ],
            [
             0.3333333333333333,
             "#9c179e"
            ],
            [
             0.4444444444444444,
             "#bd3786"
            ],
            [
             0.5555555555555556,
             "#d8576b"
            ],
            [
             0.6666666666666666,
             "#ed7953"
            ],
            [
             0.7777777777777778,
             "#fb9f3a"
            ],
            [
             0.8888888888888888,
             "#fdca26"
            ],
            [
             1,
             "#f0f921"
            ]
           ],
           "sequentialminus": [
            [
             0,
             "#0d0887"
            ],
            [
             0.1111111111111111,
             "#46039f"
            ],
            [
             0.2222222222222222,
             "#7201a8"
            ],
            [
             0.3333333333333333,
             "#9c179e"
            ],
            [
             0.4444444444444444,
             "#bd3786"
            ],
            [
             0.5555555555555556,
             "#d8576b"
            ],
            [
             0.6666666666666666,
             "#ed7953"
            ],
            [
             0.7777777777777778,
             "#fb9f3a"
            ],
            [
             0.8888888888888888,
             "#fdca26"
            ],
            [
             1,
             "#f0f921"
            ]
           ]
          },
          "colorway": [
           "#636efa",
           "#EF553B",
           "#00cc96",
           "#ab63fa",
           "#FFA15A",
           "#19d3f3",
           "#FF6692",
           "#B6E880",
           "#FF97FF",
           "#FECB52"
          ],
          "font": {
           "color": "#2a3f5f"
          },
          "geo": {
           "bgcolor": "white",
           "lakecolor": "white",
           "landcolor": "#E5ECF6",
           "showlakes": true,
           "showland": true,
           "subunitcolor": "white"
          },
          "hoverlabel": {
           "align": "left"
          },
          "hovermode": "closest",
          "mapbox": {
           "style": "light"
          },
          "paper_bgcolor": "white",
          "plot_bgcolor": "#E5ECF6",
          "polar": {
           "angularaxis": {
            "gridcolor": "white",
            "linecolor": "white",
            "ticks": ""
           },
           "bgcolor": "#E5ECF6",
           "radialaxis": {
            "gridcolor": "white",
            "linecolor": "white",
            "ticks": ""
           }
          },
          "scene": {
           "xaxis": {
            "backgroundcolor": "#E5ECF6",
            "gridcolor": "white",
            "gridwidth": 2,
            "linecolor": "white",
            "showbackground": true,
            "ticks": "",
            "zerolinecolor": "white"
           },
           "yaxis": {
            "backgroundcolor": "#E5ECF6",
            "gridcolor": "white",
            "gridwidth": 2,
            "linecolor": "white",
            "showbackground": true,
            "ticks": "",
            "zerolinecolor": "white"
           },
           "zaxis": {
            "backgroundcolor": "#E5ECF6",
            "gridcolor": "white",
            "gridwidth": 2,
            "linecolor": "white",
            "showbackground": true,
            "ticks": "",
            "zerolinecolor": "white"
           }
          },
          "shapedefaults": {
           "line": {
            "color": "#2a3f5f"
           }
          },
          "ternary": {
           "aaxis": {
            "gridcolor": "white",
            "linecolor": "white",
            "ticks": ""
           },
           "baxis": {
            "gridcolor": "white",
            "linecolor": "white",
            "ticks": ""
           },
           "bgcolor": "#E5ECF6",
           "caxis": {
            "gridcolor": "white",
            "linecolor": "white",
            "ticks": ""
           }
          },
          "title": {
           "x": 0.05
          },
          "xaxis": {
           "automargin": true,
           "gridcolor": "white",
           "linecolor": "white",
           "ticks": "",
           "title": {
            "standoff": 15
           },
           "zerolinecolor": "white",
           "zerolinewidth": 2
          },
          "yaxis": {
           "automargin": true,
           "gridcolor": "white",
           "linecolor": "white",
           "ticks": "",
           "title": {
            "standoff": 15
           },
           "zerolinecolor": "white",
           "zerolinewidth": 2
          }
         }
        },
        "title": {
         "text": "Número de tuits por día"
        }
       }
      },
      "text/html": [
       "<div>                            <div id=\"54e39b04-ed4a-4a4c-b295-d3b52a5c9d8b\" class=\"plotly-graph-div\" style=\"height:525px; width:100%;\"></div>            <script type=\"text/javascript\">                require([\"plotly\"], function(Plotly) {                    window.PLOTLYENV=window.PLOTLYENV || {};                                    if (document.getElementById(\"54e39b04-ed4a-4a4c-b295-d3b52a5c9d8b\")) {                    Plotly.newPlot(                        \"54e39b04-ed4a-4a4c-b295-d3b52a5c9d8b\",                        [{\"hoverinfo\": \"text\", \"line\": {\"color\": \"#1DA1F2\"}, \"mode\": \"lines+markers\", \"name\": \"D\\u00edas\", \"text\": [\"Fecha: 2020-11-05<br>Tuits: 51\", \"Fecha: 2020-11-06<br>Tuits: 506\", \"Fecha: 2020-11-07<br>Tuits: 325\", \"Fecha: 2020-11-08<br>Tuits: 266\", \"Fecha: 2020-11-09<br>Tuits: 432\", \"Fecha: 2020-11-10<br>Tuits: 420\"], \"type\": \"scatter\", \"x\": [\"2020-11-05\", \"2020-11-06\", \"2020-11-07\", \"2020-11-08\", \"2020-11-09\", \"2020-11-10\"], \"y\": [51, 506, 325, 266, 432, 420]}],                        {\"template\": {\"data\": {\"bar\": [{\"error_x\": {\"color\": \"#2a3f5f\"}, \"error_y\": {\"color\": \"#2a3f5f\"}, \"marker\": {\"line\": {\"color\": \"#E5ECF6\", \"width\": 0.5}}, \"type\": \"bar\"}], \"barpolar\": [{\"marker\": {\"line\": {\"color\": \"#E5ECF6\", \"width\": 0.5}}, \"type\": \"barpolar\"}], \"carpet\": [{\"aaxis\": {\"endlinecolor\": \"#2a3f5f\", \"gridcolor\": \"white\", \"linecolor\": \"white\", \"minorgridcolor\": \"white\", \"startlinecolor\": \"#2a3f5f\"}, \"baxis\": {\"endlinecolor\": \"#2a3f5f\", \"gridcolor\": \"white\", \"linecolor\": \"white\", \"minorgridcolor\": \"white\", \"startlinecolor\": \"#2a3f5f\"}, \"type\": \"carpet\"}], \"choropleth\": [{\"colorbar\": {\"outlinewidth\": 0, \"ticks\": \"\"}, \"type\": \"choropleth\"}], \"contour\": [{\"colorbar\": {\"outlinewidth\": 0, \"ticks\": \"\"}, \"colorscale\": [[0.0, \"#0d0887\"], [0.1111111111111111, \"#46039f\"], [0.2222222222222222, \"#7201a8\"], [0.3333333333333333, \"#9c179e\"], [0.4444444444444444, \"#bd3786\"], [0.5555555555555556, \"#d8576b\"], [0.6666666666666666, \"#ed7953\"], [0.7777777777777778, \"#fb9f3a\"], [0.8888888888888888, \"#fdca26\"], [1.0, \"#f0f921\"]], \"type\": \"contour\"}], \"contourcarpet\": [{\"colorbar\": {\"outlinewidth\": 0, \"ticks\": \"\"}, \"type\": \"contourcarpet\"}], \"heatmap\": [{\"colorbar\": {\"outlinewidth\": 0, \"ticks\": \"\"}, \"colorscale\": [[0.0, \"#0d0887\"], [0.1111111111111111, \"#46039f\"], [0.2222222222222222, \"#7201a8\"], [0.3333333333333333, \"#9c179e\"], [0.4444444444444444, \"#bd3786\"], [0.5555555555555556, \"#d8576b\"], [0.6666666666666666, \"#ed7953\"], [0.7777777777777778, \"#fb9f3a\"], [0.8888888888888888, \"#fdca26\"], [1.0, \"#f0f921\"]], \"type\": \"heatmap\"}], \"heatmapgl\": [{\"colorbar\": {\"outlinewidth\": 0, \"ticks\": \"\"}, \"colorscale\": [[0.0, \"#0d0887\"], [0.1111111111111111, \"#46039f\"], [0.2222222222222222, \"#7201a8\"], [0.3333333333333333, \"#9c179e\"], [0.4444444444444444, \"#bd3786\"], [0.5555555555555556, \"#d8576b\"], [0.6666666666666666, \"#ed7953\"], [0.7777777777777778, \"#fb9f3a\"], [0.8888888888888888, \"#fdca26\"], [1.0, \"#f0f921\"]], \"type\": \"heatmapgl\"}], \"histogram\": [{\"marker\": {\"colorbar\": {\"outlinewidth\": 0, \"ticks\": \"\"}}, \"type\": \"histogram\"}], \"histogram2d\": [{\"colorbar\": {\"outlinewidth\": 0, \"ticks\": \"\"}, \"colorscale\": [[0.0, \"#0d0887\"], [0.1111111111111111, \"#46039f\"], [0.2222222222222222, \"#7201a8\"], [0.3333333333333333, \"#9c179e\"], [0.4444444444444444, \"#bd3786\"], [0.5555555555555556, \"#d8576b\"], [0.6666666666666666, \"#ed7953\"], [0.7777777777777778, \"#fb9f3a\"], [0.8888888888888888, \"#fdca26\"], [1.0, \"#f0f921\"]], \"type\": \"histogram2d\"}], \"histogram2dcontour\": [{\"colorbar\": {\"outlinewidth\": 0, \"ticks\": \"\"}, \"colorscale\": [[0.0, \"#0d0887\"], [0.1111111111111111, \"#46039f\"], [0.2222222222222222, \"#7201a8\"], [0.3333333333333333, \"#9c179e\"], [0.4444444444444444, \"#bd3786\"], [0.5555555555555556, \"#d8576b\"], [0.6666666666666666, \"#ed7953\"], [0.7777777777777778, \"#fb9f3a\"], [0.8888888888888888, \"#fdca26\"], [1.0, \"#f0f921\"]], \"type\": \"histogram2dcontour\"}], \"mesh3d\": [{\"colorbar\": {\"outlinewidth\": 0, \"ticks\": \"\"}, \"type\": \"mesh3d\"}], \"parcoords\": [{\"line\": {\"colorbar\": {\"outlinewidth\": 0, \"ticks\": \"\"}}, \"type\": \"parcoords\"}], \"pie\": [{\"automargin\": true, \"type\": \"pie\"}], \"scatter\": [{\"marker\": {\"colorbar\": {\"outlinewidth\": 0, \"ticks\": \"\"}}, \"type\": \"scatter\"}], \"scatter3d\": [{\"line\": {\"colorbar\": {\"outlinewidth\": 0, \"ticks\": \"\"}}, \"marker\": {\"colorbar\": {\"outlinewidth\": 0, \"ticks\": \"\"}}, \"type\": \"scatter3d\"}], \"scattercarpet\": [{\"marker\": {\"colorbar\": {\"outlinewidth\": 0, \"ticks\": \"\"}}, \"type\": \"scattercarpet\"}], \"scattergeo\": [{\"marker\": {\"colorbar\": {\"outlinewidth\": 0, \"ticks\": \"\"}}, \"type\": \"scattergeo\"}], \"scattergl\": [{\"marker\": {\"colorbar\": {\"outlinewidth\": 0, \"ticks\": \"\"}}, \"type\": \"scattergl\"}], \"scattermapbox\": [{\"marker\": {\"colorbar\": {\"outlinewidth\": 0, \"ticks\": \"\"}}, \"type\": \"scattermapbox\"}], \"scatterpolar\": [{\"marker\": {\"colorbar\": {\"outlinewidth\": 0, \"ticks\": \"\"}}, \"type\": \"scatterpolar\"}], \"scatterpolargl\": [{\"marker\": {\"colorbar\": {\"outlinewidth\": 0, \"ticks\": \"\"}}, \"type\": \"scatterpolargl\"}], \"scatterternary\": [{\"marker\": {\"colorbar\": {\"outlinewidth\": 0, \"ticks\": \"\"}}, \"type\": \"scatterternary\"}], \"surface\": [{\"colorbar\": {\"outlinewidth\": 0, \"ticks\": \"\"}, \"colorscale\": [[0.0, \"#0d0887\"], [0.1111111111111111, \"#46039f\"], [0.2222222222222222, \"#7201a8\"], [0.3333333333333333, \"#9c179e\"], [0.4444444444444444, \"#bd3786\"], [0.5555555555555556, \"#d8576b\"], [0.6666666666666666, \"#ed7953\"], [0.7777777777777778, \"#fb9f3a\"], [0.8888888888888888, \"#fdca26\"], [1.0, \"#f0f921\"]], \"type\": \"surface\"}], \"table\": [{\"cells\": {\"fill\": {\"color\": \"#EBF0F8\"}, \"line\": {\"color\": \"white\"}}, \"header\": {\"fill\": {\"color\": \"#C8D4E3\"}, \"line\": {\"color\": \"white\"}}, \"type\": \"table\"}]}, \"layout\": {\"annotationdefaults\": {\"arrowcolor\": \"#2a3f5f\", \"arrowhead\": 0, \"arrowwidth\": 1}, \"coloraxis\": {\"colorbar\": {\"outlinewidth\": 0, \"ticks\": \"\"}}, \"colorscale\": {\"diverging\": [[0, \"#8e0152\"], [0.1, \"#c51b7d\"], [0.2, \"#de77ae\"], [0.3, \"#f1b6da\"], [0.4, \"#fde0ef\"], [0.5, \"#f7f7f7\"], [0.6, \"#e6f5d0\"], [0.7, \"#b8e186\"], [0.8, \"#7fbc41\"], [0.9, \"#4d9221\"], [1, \"#276419\"]], \"sequential\": [[0.0, \"#0d0887\"], [0.1111111111111111, \"#46039f\"], [0.2222222222222222, \"#7201a8\"], [0.3333333333333333, \"#9c179e\"], [0.4444444444444444, \"#bd3786\"], [0.5555555555555556, \"#d8576b\"], [0.6666666666666666, \"#ed7953\"], [0.7777777777777778, \"#fb9f3a\"], [0.8888888888888888, \"#fdca26\"], [1.0, \"#f0f921\"]], \"sequentialminus\": [[0.0, \"#0d0887\"], [0.1111111111111111, \"#46039f\"], [0.2222222222222222, \"#7201a8\"], [0.3333333333333333, \"#9c179e\"], [0.4444444444444444, \"#bd3786\"], [0.5555555555555556, \"#d8576b\"], [0.6666666666666666, \"#ed7953\"], [0.7777777777777778, \"#fb9f3a\"], [0.8888888888888888, \"#fdca26\"], [1.0, \"#f0f921\"]]}, \"colorway\": [\"#636efa\", \"#EF553B\", \"#00cc96\", \"#ab63fa\", \"#FFA15A\", \"#19d3f3\", \"#FF6692\", \"#B6E880\", \"#FF97FF\", \"#FECB52\"], \"font\": {\"color\": \"#2a3f5f\"}, \"geo\": {\"bgcolor\": \"white\", \"lakecolor\": \"white\", \"landcolor\": \"#E5ECF6\", \"showlakes\": true, \"showland\": true, \"subunitcolor\": \"white\"}, \"hoverlabel\": {\"align\": \"left\"}, \"hovermode\": \"closest\", \"mapbox\": {\"style\": \"light\"}, \"paper_bgcolor\": \"white\", \"plot_bgcolor\": \"#E5ECF6\", \"polar\": {\"angularaxis\": {\"gridcolor\": \"white\", \"linecolor\": \"white\", \"ticks\": \"\"}, \"bgcolor\": \"#E5ECF6\", \"radialaxis\": {\"gridcolor\": \"white\", \"linecolor\": \"white\", \"ticks\": \"\"}}, \"scene\": {\"xaxis\": {\"backgroundcolor\": \"#E5ECF6\", \"gridcolor\": \"white\", \"gridwidth\": 2, \"linecolor\": \"white\", \"showbackground\": true, \"ticks\": \"\", \"zerolinecolor\": \"white\"}, \"yaxis\": {\"backgroundcolor\": \"#E5ECF6\", \"gridcolor\": \"white\", \"gridwidth\": 2, \"linecolor\": \"white\", \"showbackground\": true, \"ticks\": \"\", \"zerolinecolor\": \"white\"}, \"zaxis\": {\"backgroundcolor\": \"#E5ECF6\", \"gridcolor\": \"white\", \"gridwidth\": 2, \"linecolor\": \"white\", \"showbackground\": true, \"ticks\": \"\", \"zerolinecolor\": \"white\"}}, \"shapedefaults\": {\"line\": {\"color\": \"#2a3f5f\"}}, \"ternary\": {\"aaxis\": {\"gridcolor\": \"white\", \"linecolor\": \"white\", \"ticks\": \"\"}, \"baxis\": {\"gridcolor\": \"white\", \"linecolor\": \"white\", \"ticks\": \"\"}, \"bgcolor\": \"#E5ECF6\", \"caxis\": {\"gridcolor\": \"white\", \"linecolor\": \"white\", \"ticks\": \"\"}}, \"title\": {\"x\": 0.05}, \"xaxis\": {\"automargin\": true, \"gridcolor\": \"white\", \"linecolor\": \"white\", \"ticks\": \"\", \"title\": {\"standoff\": 15}, \"zerolinecolor\": \"white\", \"zerolinewidth\": 2}, \"yaxis\": {\"automargin\": true, \"gridcolor\": \"white\", \"linecolor\": \"white\", \"ticks\": \"\", \"title\": {\"standoff\": 15}, \"zerolinecolor\": \"white\", \"zerolinewidth\": 2}}}, \"title\": {\"text\": \"N\\u00famero de tuits por d\\u00eda\"}},                        {\"responsive\": true}                    ).then(function(){\n",
       "                            \n",
       "var gd = document.getElementById('54e39b04-ed4a-4a4c-b295-d3b52a5c9d8b');\n",
       "var x = new MutationObserver(function (mutations, observer) {{\n",
       "        var display = window.getComputedStyle(gd).display;\n",
       "        if (!display || display === 'none') {{\n",
       "            console.log([gd, 'removed!']);\n",
       "            Plotly.purge(gd);\n",
       "            observer.disconnect();\n",
       "        }}\n",
       "}});\n",
       "\n",
       "// Listen for the removal of the full notebook cells\n",
       "var notebookContainer = gd.closest('#notebook-container');\n",
       "if (notebookContainer) {{\n",
       "    x.observe(notebookContainer, {childList: true});\n",
       "}}\n",
       "\n",
       "// Listen for the clearing of the current output cell\n",
       "var outputEl = gd.closest('.output');\n",
       "if (outputEl) {{\n",
       "    x.observe(outputEl, {childList: true});\n",
       "}}\n",
       "\n",
       "                        })                };                });            </script>        </div>"
      ]
     },
     "metadata": {},
     "output_type": "display_data"
    }
   ],
   "source": [
    "import plotly.io as pio\n",
    "import plotly.express as px\n",
    "import plotly.graph_objs as go\n",
    "from plotly.offline import download_plotlyjs, init_notebook_mode, plot, iplot\n",
    " \n",
    "import matplotlib.pyplot as plt\n",
    "%matplotlib inline\n",
    "init_notebook_mode(connected=True)\n",
    "trace = go.Scatter(x=temp.fecha.values,\n",
    "                   y=temp.cnt.values,\n",
    "                   text=[f\"Fecha: {f}<br>Tuits: {c}\" for f,c in zip(temp.fecha.values,temp.cnt.values)],\n",
    "                   hoverinfo='text',\n",
    "                   mode='lines+markers',\n",
    "                   name='Días',\n",
    "                   line={'color':'#1DA1F2'})\n",
    "layout = go.Layout(title='Número de tuits por día')\n",
    " \n",
    "fig = go.Figure(data=trace, layout=layout)\n",
    "iplot(fig)"
   ]
  },
  {
   "cell_type": "code",
   "execution_count": 30,
   "metadata": {},
   "outputs": [
    {
     "data": {
      "text/html": [
       "<div>\n",
       "<style scoped>\n",
       "    .dataframe tbody tr th:only-of-type {\n",
       "        vertical-align: middle;\n",
       "    }\n",
       "\n",
       "    .dataframe tbody tr th {\n",
       "        vertical-align: top;\n",
       "    }\n",
       "\n",
       "    .dataframe thead th {\n",
       "        text-align: right;\n",
       "    }\n",
       "</style>\n",
       "<table border=\"1\" class=\"dataframe\">\n",
       "  <thead>\n",
       "    <tr style=\"text-align: right;\">\n",
       "      <th></th>\n",
       "      <th>emoji</th>\n",
       "      <th>cnt</th>\n",
       "    </tr>\n",
       "  </thead>\n",
       "  <tbody>\n",
       "    <tr>\n",
       "      <th>3</th>\n",
       "      <td>👉</td>\n",
       "      <td>82</td>\n",
       "    </tr>\n",
       "    <tr>\n",
       "      <th>51</th>\n",
       "      <td>➡️</td>\n",
       "      <td>34</td>\n",
       "    </tr>\n",
       "    <tr>\n",
       "      <th>54</th>\n",
       "      <td>🇨🇴</td>\n",
       "      <td>31</td>\n",
       "    </tr>\n",
       "    <tr>\n",
       "      <th>11</th>\n",
       "      <td>👇</td>\n",
       "      <td>25</td>\n",
       "    </tr>\n",
       "    <tr>\n",
       "      <th>1</th>\n",
       "      <td>😭</td>\n",
       "      <td>25</td>\n",
       "    </tr>\n",
       "  </tbody>\n",
       "</table>\n",
       "</div>"
      ],
      "text/plain": [
       "   emoji  cnt\n",
       "3      👉   82\n",
       "51    ➡️   34\n",
       "54    🇨🇴   31\n",
       "11     👇   25\n",
       "1      😭   25"
      ]
     },
     "execution_count": 30,
     "metadata": {},
     "output_type": "execute_result"
    }
   ],
   "source": [
    "from collections import Counter\n",
    " \n",
    "temp_emojis = pd.DataFrame(list(zip(Counter(sum(data.emojis.values,[])).keys(),Counter(sum(data.emojis.values,[])).values())))\n",
    "temp_emojis.columns = ['emoji', 'cnt']\n",
    "temp_emojis.sort_values('cnt', ascending=False, inplace=True)\n",
    "temp_emojis.head()"
   ]
  },
  {
   "cell_type": "code",
   "execution_count": 31,
   "metadata": {},
   "outputs": [
    {
     "data": {
      "application/vnd.plotly.v1+json": {
       "config": {
        "linkText": "Export to plot.ly",
        "plotlyServerURL": "https://plot.ly",
        "showLink": false
       },
       "data": [
        {
         "type": "bar",
         "x": [
          "👉",
          "➡️",
          "🇨🇴",
          "👇",
          "😭",
          "📺",
          "⚠️",
          "📻",
          "😷",
          "✅",
          "🤦🏻‍♀️",
          "🔊",
          "🦠",
          "🚨",
          "🙄"
         ],
         "y": [
          82,
          34,
          31,
          25,
          25,
          19,
          16,
          15,
          15,
          14,
          14,
          13,
          12,
          12,
          10
         ]
        }
       ],
       "layout": {
        "template": {
         "data": {
          "bar": [
           {
            "error_x": {
             "color": "#2a3f5f"
            },
            "error_y": {
             "color": "#2a3f5f"
            },
            "marker": {
             "line": {
              "color": "#E5ECF6",
              "width": 0.5
             }
            },
            "type": "bar"
           }
          ],
          "barpolar": [
           {
            "marker": {
             "line": {
              "color": "#E5ECF6",
              "width": 0.5
             }
            },
            "type": "barpolar"
           }
          ],
          "carpet": [
           {
            "aaxis": {
             "endlinecolor": "#2a3f5f",
             "gridcolor": "white",
             "linecolor": "white",
             "minorgridcolor": "white",
             "startlinecolor": "#2a3f5f"
            },
            "baxis": {
             "endlinecolor": "#2a3f5f",
             "gridcolor": "white",
             "linecolor": "white",
             "minorgridcolor": "white",
             "startlinecolor": "#2a3f5f"
            },
            "type": "carpet"
           }
          ],
          "choropleth": [
           {
            "colorbar": {
             "outlinewidth": 0,
             "ticks": ""
            },
            "type": "choropleth"
           }
          ],
          "contour": [
           {
            "colorbar": {
             "outlinewidth": 0,
             "ticks": ""
            },
            "colorscale": [
             [
              0,
              "#0d0887"
             ],
             [
              0.1111111111111111,
              "#46039f"
             ],
             [
              0.2222222222222222,
              "#7201a8"
             ],
             [
              0.3333333333333333,
              "#9c179e"
             ],
             [
              0.4444444444444444,
              "#bd3786"
             ],
             [
              0.5555555555555556,
              "#d8576b"
             ],
             [
              0.6666666666666666,
              "#ed7953"
             ],
             [
              0.7777777777777778,
              "#fb9f3a"
             ],
             [
              0.8888888888888888,
              "#fdca26"
             ],
             [
              1,
              "#f0f921"
             ]
            ],
            "type": "contour"
           }
          ],
          "contourcarpet": [
           {
            "colorbar": {
             "outlinewidth": 0,
             "ticks": ""
            },
            "type": "contourcarpet"
           }
          ],
          "heatmap": [
           {
            "colorbar": {
             "outlinewidth": 0,
             "ticks": ""
            },
            "colorscale": [
             [
              0,
              "#0d0887"
             ],
             [
              0.1111111111111111,
              "#46039f"
             ],
             [
              0.2222222222222222,
              "#7201a8"
             ],
             [
              0.3333333333333333,
              "#9c179e"
             ],
             [
              0.4444444444444444,
              "#bd3786"
             ],
             [
              0.5555555555555556,
              "#d8576b"
             ],
             [
              0.6666666666666666,
              "#ed7953"
             ],
             [
              0.7777777777777778,
              "#fb9f3a"
             ],
             [
              0.8888888888888888,
              "#fdca26"
             ],
             [
              1,
              "#f0f921"
             ]
            ],
            "type": "heatmap"
           }
          ],
          "heatmapgl": [
           {
            "colorbar": {
             "outlinewidth": 0,
             "ticks": ""
            },
            "colorscale": [
             [
              0,
              "#0d0887"
             ],
             [
              0.1111111111111111,
              "#46039f"
             ],
             [
              0.2222222222222222,
              "#7201a8"
             ],
             [
              0.3333333333333333,
              "#9c179e"
             ],
             [
              0.4444444444444444,
              "#bd3786"
             ],
             [
              0.5555555555555556,
              "#d8576b"
             ],
             [
              0.6666666666666666,
              "#ed7953"
             ],
             [
              0.7777777777777778,
              "#fb9f3a"
             ],
             [
              0.8888888888888888,
              "#fdca26"
             ],
             [
              1,
              "#f0f921"
             ]
            ],
            "type": "heatmapgl"
           }
          ],
          "histogram": [
           {
            "marker": {
             "colorbar": {
              "outlinewidth": 0,
              "ticks": ""
             }
            },
            "type": "histogram"
           }
          ],
          "histogram2d": [
           {
            "colorbar": {
             "outlinewidth": 0,
             "ticks": ""
            },
            "colorscale": [
             [
              0,
              "#0d0887"
             ],
             [
              0.1111111111111111,
              "#46039f"
             ],
             [
              0.2222222222222222,
              "#7201a8"
             ],
             [
              0.3333333333333333,
              "#9c179e"
             ],
             [
              0.4444444444444444,
              "#bd3786"
             ],
             [
              0.5555555555555556,
              "#d8576b"
             ],
             [
              0.6666666666666666,
              "#ed7953"
             ],
             [
              0.7777777777777778,
              "#fb9f3a"
             ],
             [
              0.8888888888888888,
              "#fdca26"
             ],
             [
              1,
              "#f0f921"
             ]
            ],
            "type": "histogram2d"
           }
          ],
          "histogram2dcontour": [
           {
            "colorbar": {
             "outlinewidth": 0,
             "ticks": ""
            },
            "colorscale": [
             [
              0,
              "#0d0887"
             ],
             [
              0.1111111111111111,
              "#46039f"
             ],
             [
              0.2222222222222222,
              "#7201a8"
             ],
             [
              0.3333333333333333,
              "#9c179e"
             ],
             [
              0.4444444444444444,
              "#bd3786"
             ],
             [
              0.5555555555555556,
              "#d8576b"
             ],
             [
              0.6666666666666666,
              "#ed7953"
             ],
             [
              0.7777777777777778,
              "#fb9f3a"
             ],
             [
              0.8888888888888888,
              "#fdca26"
             ],
             [
              1,
              "#f0f921"
             ]
            ],
            "type": "histogram2dcontour"
           }
          ],
          "mesh3d": [
           {
            "colorbar": {
             "outlinewidth": 0,
             "ticks": ""
            },
            "type": "mesh3d"
           }
          ],
          "parcoords": [
           {
            "line": {
             "colorbar": {
              "outlinewidth": 0,
              "ticks": ""
             }
            },
            "type": "parcoords"
           }
          ],
          "pie": [
           {
            "automargin": true,
            "type": "pie"
           }
          ],
          "scatter": [
           {
            "marker": {
             "colorbar": {
              "outlinewidth": 0,
              "ticks": ""
             }
            },
            "type": "scatter"
           }
          ],
          "scatter3d": [
           {
            "line": {
             "colorbar": {
              "outlinewidth": 0,
              "ticks": ""
             }
            },
            "marker": {
             "colorbar": {
              "outlinewidth": 0,
              "ticks": ""
             }
            },
            "type": "scatter3d"
           }
          ],
          "scattercarpet": [
           {
            "marker": {
             "colorbar": {
              "outlinewidth": 0,
              "ticks": ""
             }
            },
            "type": "scattercarpet"
           }
          ],
          "scattergeo": [
           {
            "marker": {
             "colorbar": {
              "outlinewidth": 0,
              "ticks": ""
             }
            },
            "type": "scattergeo"
           }
          ],
          "scattergl": [
           {
            "marker": {
             "colorbar": {
              "outlinewidth": 0,
              "ticks": ""
             }
            },
            "type": "scattergl"
           }
          ],
          "scattermapbox": [
           {
            "marker": {
             "colorbar": {
              "outlinewidth": 0,
              "ticks": ""
             }
            },
            "type": "scattermapbox"
           }
          ],
          "scatterpolar": [
           {
            "marker": {
             "colorbar": {
              "outlinewidth": 0,
              "ticks": ""
             }
            },
            "type": "scatterpolar"
           }
          ],
          "scatterpolargl": [
           {
            "marker": {
             "colorbar": {
              "outlinewidth": 0,
              "ticks": ""
             }
            },
            "type": "scatterpolargl"
           }
          ],
          "scatterternary": [
           {
            "marker": {
             "colorbar": {
              "outlinewidth": 0,
              "ticks": ""
             }
            },
            "type": "scatterternary"
           }
          ],
          "surface": [
           {
            "colorbar": {
             "outlinewidth": 0,
             "ticks": ""
            },
            "colorscale": [
             [
              0,
              "#0d0887"
             ],
             [
              0.1111111111111111,
              "#46039f"
             ],
             [
              0.2222222222222222,
              "#7201a8"
             ],
             [
              0.3333333333333333,
              "#9c179e"
             ],
             [
              0.4444444444444444,
              "#bd3786"
             ],
             [
              0.5555555555555556,
              "#d8576b"
             ],
             [
              0.6666666666666666,
              "#ed7953"
             ],
             [
              0.7777777777777778,
              "#fb9f3a"
             ],
             [
              0.8888888888888888,
              "#fdca26"
             ],
             [
              1,
              "#f0f921"
             ]
            ],
            "type": "surface"
           }
          ],
          "table": [
           {
            "cells": {
             "fill": {
              "color": "#EBF0F8"
             },
             "line": {
              "color": "white"
             }
            },
            "header": {
             "fill": {
              "color": "#C8D4E3"
             },
             "line": {
              "color": "white"
             }
            },
            "type": "table"
           }
          ]
         },
         "layout": {
          "annotationdefaults": {
           "arrowcolor": "#2a3f5f",
           "arrowhead": 0,
           "arrowwidth": 1
          },
          "coloraxis": {
           "colorbar": {
            "outlinewidth": 0,
            "ticks": ""
           }
          },
          "colorscale": {
           "diverging": [
            [
             0,
             "#8e0152"
            ],
            [
             0.1,
             "#c51b7d"
            ],
            [
             0.2,
             "#de77ae"
            ],
            [
             0.3,
             "#f1b6da"
            ],
            [
             0.4,
             "#fde0ef"
            ],
            [
             0.5,
             "#f7f7f7"
            ],
            [
             0.6,
             "#e6f5d0"
            ],
            [
             0.7,
             "#b8e186"
            ],
            [
             0.8,
             "#7fbc41"
            ],
            [
             0.9,
             "#4d9221"
            ],
            [
             1,
             "#276419"
            ]
           ],
           "sequential": [
            [
             0,
             "#0d0887"
            ],
            [
             0.1111111111111111,
             "#46039f"
            ],
            [
             0.2222222222222222,
             "#7201a8"
            ],
            [
             0.3333333333333333,
             "#9c179e"
            ],
            [
             0.4444444444444444,
             "#bd3786"
            ],
            [
             0.5555555555555556,
             "#d8576b"
            ],
            [
             0.6666666666666666,
             "#ed7953"
            ],
            [
             0.7777777777777778,
             "#fb9f3a"
            ],
            [
             0.8888888888888888,
             "#fdca26"
            ],
            [
             1,
             "#f0f921"
            ]
           ],
           "sequentialminus": [
            [
             0,
             "#0d0887"
            ],
            [
             0.1111111111111111,
             "#46039f"
            ],
            [
             0.2222222222222222,
             "#7201a8"
            ],
            [
             0.3333333333333333,
             "#9c179e"
            ],
            [
             0.4444444444444444,
             "#bd3786"
            ],
            [
             0.5555555555555556,
             "#d8576b"
            ],
            [
             0.6666666666666666,
             "#ed7953"
            ],
            [
             0.7777777777777778,
             "#fb9f3a"
            ],
            [
             0.8888888888888888,
             "#fdca26"
            ],
            [
             1,
             "#f0f921"
            ]
           ]
          },
          "colorway": [
           "#636efa",
           "#EF553B",
           "#00cc96",
           "#ab63fa",
           "#FFA15A",
           "#19d3f3",
           "#FF6692",
           "#B6E880",
           "#FF97FF",
           "#FECB52"
          ],
          "font": {
           "color": "#2a3f5f"
          },
          "geo": {
           "bgcolor": "white",
           "lakecolor": "white",
           "landcolor": "#E5ECF6",
           "showlakes": true,
           "showland": true,
           "subunitcolor": "white"
          },
          "hoverlabel": {
           "align": "left"
          },
          "hovermode": "closest",
          "mapbox": {
           "style": "light"
          },
          "paper_bgcolor": "white",
          "plot_bgcolor": "#E5ECF6",
          "polar": {
           "angularaxis": {
            "gridcolor": "white",
            "linecolor": "white",
            "ticks": ""
           },
           "bgcolor": "#E5ECF6",
           "radialaxis": {
            "gridcolor": "white",
            "linecolor": "white",
            "ticks": ""
           }
          },
          "scene": {
           "xaxis": {
            "backgroundcolor": "#E5ECF6",
            "gridcolor": "white",
            "gridwidth": 2,
            "linecolor": "white",
            "showbackground": true,
            "ticks": "",
            "zerolinecolor": "white"
           },
           "yaxis": {
            "backgroundcolor": "#E5ECF6",
            "gridcolor": "white",
            "gridwidth": 2,
            "linecolor": "white",
            "showbackground": true,
            "ticks": "",
            "zerolinecolor": "white"
           },
           "zaxis": {
            "backgroundcolor": "#E5ECF6",
            "gridcolor": "white",
            "gridwidth": 2,
            "linecolor": "white",
            "showbackground": true,
            "ticks": "",
            "zerolinecolor": "white"
           }
          },
          "shapedefaults": {
           "line": {
            "color": "#2a3f5f"
           }
          },
          "ternary": {
           "aaxis": {
            "gridcolor": "white",
            "linecolor": "white",
            "ticks": ""
           },
           "baxis": {
            "gridcolor": "white",
            "linecolor": "white",
            "ticks": ""
           },
           "bgcolor": "#E5ECF6",
           "caxis": {
            "gridcolor": "white",
            "linecolor": "white",
            "ticks": ""
           }
          },
          "title": {
           "x": 0.05
          },
          "xaxis": {
           "automargin": true,
           "gridcolor": "white",
           "linecolor": "white",
           "ticks": "",
           "title": {
            "standoff": 15
           },
           "zerolinecolor": "white",
           "zerolinewidth": 2
          },
          "yaxis": {
           "automargin": true,
           "gridcolor": "white",
           "linecolor": "white",
           "ticks": "",
           "title": {
            "standoff": 15
           },
           "zerolinecolor": "white",
           "zerolinewidth": 2
          }
         }
        },
        "title": {
         "text": "Emojis más usados"
        }
       }
      },
      "text/html": [
       "<div>                            <div id=\"9ed999b6-28e5-4bc8-b02c-0608fedbbb16\" class=\"plotly-graph-div\" style=\"height:525px; width:100%;\"></div>            <script type=\"text/javascript\">                require([\"plotly\"], function(Plotly) {                    window.PLOTLYENV=window.PLOTLYENV || {};                                    if (document.getElementById(\"9ed999b6-28e5-4bc8-b02c-0608fedbbb16\")) {                    Plotly.newPlot(                        \"9ed999b6-28e5-4bc8-b02c-0608fedbbb16\",                        [{\"type\": \"bar\", \"x\": [\"\\ud83d\\udc49\", \"\\u27a1\\ufe0f\", \"\\ud83c\\udde8\\ud83c\\uddf4\", \"\\ud83d\\udc47\", \"\\ud83d\\ude2d\", \"\\ud83d\\udcfa\", \"\\u26a0\\ufe0f\", \"\\ud83d\\udcfb\", \"\\ud83d\\ude37\", \"\\u2705\", \"\\ud83e\\udd26\\ud83c\\udffb\\u200d\\u2640\\ufe0f\", \"\\ud83d\\udd0a\", \"\\ud83e\\udda0\", \"\\ud83d\\udea8\", \"\\ud83d\\ude44\"], \"y\": [82, 34, 31, 25, 25, 19, 16, 15, 15, 14, 14, 13, 12, 12, 10]}],                        {\"template\": {\"data\": {\"bar\": [{\"error_x\": {\"color\": \"#2a3f5f\"}, \"error_y\": {\"color\": \"#2a3f5f\"}, \"marker\": {\"line\": {\"color\": \"#E5ECF6\", \"width\": 0.5}}, \"type\": \"bar\"}], \"barpolar\": [{\"marker\": {\"line\": {\"color\": \"#E5ECF6\", \"width\": 0.5}}, \"type\": \"barpolar\"}], \"carpet\": [{\"aaxis\": {\"endlinecolor\": \"#2a3f5f\", \"gridcolor\": \"white\", \"linecolor\": \"white\", \"minorgridcolor\": \"white\", \"startlinecolor\": \"#2a3f5f\"}, \"baxis\": {\"endlinecolor\": \"#2a3f5f\", \"gridcolor\": \"white\", \"linecolor\": \"white\", \"minorgridcolor\": \"white\", \"startlinecolor\": \"#2a3f5f\"}, \"type\": \"carpet\"}], \"choropleth\": [{\"colorbar\": {\"outlinewidth\": 0, \"ticks\": \"\"}, \"type\": \"choropleth\"}], \"contour\": [{\"colorbar\": {\"outlinewidth\": 0, \"ticks\": \"\"}, \"colorscale\": [[0.0, \"#0d0887\"], [0.1111111111111111, \"#46039f\"], [0.2222222222222222, \"#7201a8\"], [0.3333333333333333, \"#9c179e\"], [0.4444444444444444, \"#bd3786\"], [0.5555555555555556, \"#d8576b\"], [0.6666666666666666, \"#ed7953\"], [0.7777777777777778, \"#fb9f3a\"], [0.8888888888888888, \"#fdca26\"], [1.0, \"#f0f921\"]], \"type\": \"contour\"}], \"contourcarpet\": [{\"colorbar\": {\"outlinewidth\": 0, \"ticks\": \"\"}, \"type\": \"contourcarpet\"}], \"heatmap\": [{\"colorbar\": {\"outlinewidth\": 0, \"ticks\": \"\"}, \"colorscale\": [[0.0, \"#0d0887\"], [0.1111111111111111, \"#46039f\"], [0.2222222222222222, \"#7201a8\"], [0.3333333333333333, \"#9c179e\"], [0.4444444444444444, \"#bd3786\"], [0.5555555555555556, \"#d8576b\"], [0.6666666666666666, \"#ed7953\"], [0.7777777777777778, \"#fb9f3a\"], [0.8888888888888888, \"#fdca26\"], [1.0, \"#f0f921\"]], \"type\": \"heatmap\"}], \"heatmapgl\": [{\"colorbar\": {\"outlinewidth\": 0, \"ticks\": \"\"}, \"colorscale\": [[0.0, \"#0d0887\"], [0.1111111111111111, \"#46039f\"], [0.2222222222222222, \"#7201a8\"], [0.3333333333333333, \"#9c179e\"], [0.4444444444444444, \"#bd3786\"], [0.5555555555555556, \"#d8576b\"], [0.6666666666666666, \"#ed7953\"], [0.7777777777777778, \"#fb9f3a\"], [0.8888888888888888, \"#fdca26\"], [1.0, \"#f0f921\"]], \"type\": \"heatmapgl\"}], \"histogram\": [{\"marker\": {\"colorbar\": {\"outlinewidth\": 0, \"ticks\": \"\"}}, \"type\": \"histogram\"}], \"histogram2d\": [{\"colorbar\": {\"outlinewidth\": 0, \"ticks\": \"\"}, \"colorscale\": [[0.0, \"#0d0887\"], [0.1111111111111111, \"#46039f\"], [0.2222222222222222, \"#7201a8\"], [0.3333333333333333, \"#9c179e\"], [0.4444444444444444, \"#bd3786\"], [0.5555555555555556, \"#d8576b\"], [0.6666666666666666, \"#ed7953\"], [0.7777777777777778, \"#fb9f3a\"], [0.8888888888888888, \"#fdca26\"], [1.0, \"#f0f921\"]], \"type\": \"histogram2d\"}], \"histogram2dcontour\": [{\"colorbar\": {\"outlinewidth\": 0, \"ticks\": \"\"}, \"colorscale\": [[0.0, \"#0d0887\"], [0.1111111111111111, \"#46039f\"], [0.2222222222222222, \"#7201a8\"], [0.3333333333333333, \"#9c179e\"], [0.4444444444444444, \"#bd3786\"], [0.5555555555555556, \"#d8576b\"], [0.6666666666666666, \"#ed7953\"], [0.7777777777777778, \"#fb9f3a\"], [0.8888888888888888, \"#fdca26\"], [1.0, \"#f0f921\"]], \"type\": \"histogram2dcontour\"}], \"mesh3d\": [{\"colorbar\": {\"outlinewidth\": 0, \"ticks\": \"\"}, \"type\": \"mesh3d\"}], \"parcoords\": [{\"line\": {\"colorbar\": {\"outlinewidth\": 0, \"ticks\": \"\"}}, \"type\": \"parcoords\"}], \"pie\": [{\"automargin\": true, \"type\": \"pie\"}], \"scatter\": [{\"marker\": {\"colorbar\": {\"outlinewidth\": 0, \"ticks\": \"\"}}, \"type\": \"scatter\"}], \"scatter3d\": [{\"line\": {\"colorbar\": {\"outlinewidth\": 0, \"ticks\": \"\"}}, \"marker\": {\"colorbar\": {\"outlinewidth\": 0, \"ticks\": \"\"}}, \"type\": \"scatter3d\"}], \"scattercarpet\": [{\"marker\": {\"colorbar\": {\"outlinewidth\": 0, \"ticks\": \"\"}}, \"type\": \"scattercarpet\"}], \"scattergeo\": [{\"marker\": {\"colorbar\": {\"outlinewidth\": 0, \"ticks\": \"\"}}, \"type\": \"scattergeo\"}], \"scattergl\": [{\"marker\": {\"colorbar\": {\"outlinewidth\": 0, \"ticks\": \"\"}}, \"type\": \"scattergl\"}], \"scattermapbox\": [{\"marker\": {\"colorbar\": {\"outlinewidth\": 0, \"ticks\": \"\"}}, \"type\": \"scattermapbox\"}], \"scatterpolar\": [{\"marker\": {\"colorbar\": {\"outlinewidth\": 0, \"ticks\": \"\"}}, \"type\": \"scatterpolar\"}], \"scatterpolargl\": [{\"marker\": {\"colorbar\": {\"outlinewidth\": 0, \"ticks\": \"\"}}, \"type\": \"scatterpolargl\"}], \"scatterternary\": [{\"marker\": {\"colorbar\": {\"outlinewidth\": 0, \"ticks\": \"\"}}, \"type\": \"scatterternary\"}], \"surface\": [{\"colorbar\": {\"outlinewidth\": 0, \"ticks\": \"\"}, \"colorscale\": [[0.0, \"#0d0887\"], [0.1111111111111111, \"#46039f\"], [0.2222222222222222, \"#7201a8\"], [0.3333333333333333, \"#9c179e\"], [0.4444444444444444, \"#bd3786\"], [0.5555555555555556, \"#d8576b\"], [0.6666666666666666, \"#ed7953\"], [0.7777777777777778, \"#fb9f3a\"], [0.8888888888888888, \"#fdca26\"], [1.0, \"#f0f921\"]], \"type\": \"surface\"}], \"table\": [{\"cells\": {\"fill\": {\"color\": \"#EBF0F8\"}, \"line\": {\"color\": \"white\"}}, \"header\": {\"fill\": {\"color\": \"#C8D4E3\"}, \"line\": {\"color\": \"white\"}}, \"type\": \"table\"}]}, \"layout\": {\"annotationdefaults\": {\"arrowcolor\": \"#2a3f5f\", \"arrowhead\": 0, \"arrowwidth\": 1}, \"coloraxis\": {\"colorbar\": {\"outlinewidth\": 0, \"ticks\": \"\"}}, \"colorscale\": {\"diverging\": [[0, \"#8e0152\"], [0.1, \"#c51b7d\"], [0.2, \"#de77ae\"], [0.3, \"#f1b6da\"], [0.4, \"#fde0ef\"], [0.5, \"#f7f7f7\"], [0.6, \"#e6f5d0\"], [0.7, \"#b8e186\"], [0.8, \"#7fbc41\"], [0.9, \"#4d9221\"], [1, \"#276419\"]], \"sequential\": [[0.0, \"#0d0887\"], [0.1111111111111111, \"#46039f\"], [0.2222222222222222, \"#7201a8\"], [0.3333333333333333, \"#9c179e\"], [0.4444444444444444, \"#bd3786\"], [0.5555555555555556, \"#d8576b\"], [0.6666666666666666, \"#ed7953\"], [0.7777777777777778, \"#fb9f3a\"], [0.8888888888888888, \"#fdca26\"], [1.0, \"#f0f921\"]], \"sequentialminus\": [[0.0, \"#0d0887\"], [0.1111111111111111, \"#46039f\"], [0.2222222222222222, \"#7201a8\"], [0.3333333333333333, \"#9c179e\"], [0.4444444444444444, \"#bd3786\"], [0.5555555555555556, \"#d8576b\"], [0.6666666666666666, \"#ed7953\"], [0.7777777777777778, \"#fb9f3a\"], [0.8888888888888888, \"#fdca26\"], [1.0, \"#f0f921\"]]}, \"colorway\": [\"#636efa\", \"#EF553B\", \"#00cc96\", \"#ab63fa\", \"#FFA15A\", \"#19d3f3\", \"#FF6692\", \"#B6E880\", \"#FF97FF\", \"#FECB52\"], \"font\": {\"color\": \"#2a3f5f\"}, \"geo\": {\"bgcolor\": \"white\", \"lakecolor\": \"white\", \"landcolor\": \"#E5ECF6\", \"showlakes\": true, \"showland\": true, \"subunitcolor\": \"white\"}, \"hoverlabel\": {\"align\": \"left\"}, \"hovermode\": \"closest\", \"mapbox\": {\"style\": \"light\"}, \"paper_bgcolor\": \"white\", \"plot_bgcolor\": \"#E5ECF6\", \"polar\": {\"angularaxis\": {\"gridcolor\": \"white\", \"linecolor\": \"white\", \"ticks\": \"\"}, \"bgcolor\": \"#E5ECF6\", \"radialaxis\": {\"gridcolor\": \"white\", \"linecolor\": \"white\", \"ticks\": \"\"}}, \"scene\": {\"xaxis\": {\"backgroundcolor\": \"#E5ECF6\", \"gridcolor\": \"white\", \"gridwidth\": 2, \"linecolor\": \"white\", \"showbackground\": true, \"ticks\": \"\", \"zerolinecolor\": \"white\"}, \"yaxis\": {\"backgroundcolor\": \"#E5ECF6\", \"gridcolor\": \"white\", \"gridwidth\": 2, \"linecolor\": \"white\", \"showbackground\": true, \"ticks\": \"\", \"zerolinecolor\": \"white\"}, \"zaxis\": {\"backgroundcolor\": \"#E5ECF6\", \"gridcolor\": \"white\", \"gridwidth\": 2, \"linecolor\": \"white\", \"showbackground\": true, \"ticks\": \"\", \"zerolinecolor\": \"white\"}}, \"shapedefaults\": {\"line\": {\"color\": \"#2a3f5f\"}}, \"ternary\": {\"aaxis\": {\"gridcolor\": \"white\", \"linecolor\": \"white\", \"ticks\": \"\"}, \"baxis\": {\"gridcolor\": \"white\", \"linecolor\": \"white\", \"ticks\": \"\"}, \"bgcolor\": \"#E5ECF6\", \"caxis\": {\"gridcolor\": \"white\", \"linecolor\": \"white\", \"ticks\": \"\"}}, \"title\": {\"x\": 0.05}, \"xaxis\": {\"automargin\": true, \"gridcolor\": \"white\", \"linecolor\": \"white\", \"ticks\": \"\", \"title\": {\"standoff\": 15}, \"zerolinecolor\": \"white\", \"zerolinewidth\": 2}, \"yaxis\": {\"automargin\": true, \"gridcolor\": \"white\", \"linecolor\": \"white\", \"ticks\": \"\", \"title\": {\"standoff\": 15}, \"zerolinecolor\": \"white\", \"zerolinewidth\": 2}}}, \"title\": {\"text\": \"Emojis m\\u00e1s usados\"}},                        {\"responsive\": true}                    ).then(function(){\n",
       "                            \n",
       "var gd = document.getElementById('9ed999b6-28e5-4bc8-b02c-0608fedbbb16');\n",
       "var x = new MutationObserver(function (mutations, observer) {{\n",
       "        var display = window.getComputedStyle(gd).display;\n",
       "        if (!display || display === 'none') {{\n",
       "            console.log([gd, 'removed!']);\n",
       "            Plotly.purge(gd);\n",
       "            observer.disconnect();\n",
       "        }}\n",
       "}});\n",
       "\n",
       "// Listen for the removal of the full notebook cells\n",
       "var notebookContainer = gd.closest('#notebook-container');\n",
       "if (notebookContainer) {{\n",
       "    x.observe(notebookContainer, {childList: true});\n",
       "}}\n",
       "\n",
       "// Listen for the clearing of the current output cell\n",
       "var outputEl = gd.closest('.output');\n",
       "if (outputEl) {{\n",
       "    x.observe(outputEl, {childList: true});\n",
       "}}\n",
       "\n",
       "                        })                };                });            </script>        </div>"
      ]
     },
     "metadata": {},
     "output_type": "display_data"
    }
   ],
   "source": [
    "trace = go.Bar(x=temp_emojis.emoji.values[:15],\n",
    "               y=temp_emojis.cnt.values[:15])\n",
    " \n",
    "layout = go.Layout(title='Emojis más usados')\n",
    " \n",
    "fig = go.Figure(data=[trace], layout=layout)\n",
    "iplot(fig)"
   ]
  },
  {
   "cell_type": "code",
   "execution_count": 32,
   "metadata": {},
   "outputs": [
    {
     "data": {
      "text/html": [
       "<div>\n",
       "<style scoped>\n",
       "    .dataframe tbody tr th:only-of-type {\n",
       "        vertical-align: middle;\n",
       "    }\n",
       "\n",
       "    .dataframe tbody tr th {\n",
       "        vertical-align: top;\n",
       "    }\n",
       "\n",
       "    .dataframe thead th {\n",
       "        text-align: right;\n",
       "    }\n",
       "</style>\n",
       "<table border=\"1\" class=\"dataframe\">\n",
       "  <thead>\n",
       "    <tr style=\"text-align: right;\">\n",
       "      <th></th>\n",
       "      <th>emojis</th>\n",
       "      <th>2020-11-05 00:00:00</th>\n",
       "      <th>2020-11-06 00:00:00</th>\n",
       "      <th>2020-11-07 00:00:00</th>\n",
       "    </tr>\n",
       "  </thead>\n",
       "  <tbody>\n",
       "    <tr>\n",
       "      <th>0</th>\n",
       "      <td>⚠️</td>\n",
       "      <td>NaN</td>\n",
       "      <td>6.0</td>\n",
       "      <td>5.0</td>\n",
       "    </tr>\n",
       "    <tr>\n",
       "      <th>1</th>\n",
       "      <td>✅</td>\n",
       "      <td>1.0</td>\n",
       "      <td>NaN</td>\n",
       "      <td>5.0</td>\n",
       "    </tr>\n",
       "    <tr>\n",
       "      <th>2</th>\n",
       "      <td>➡️</td>\n",
       "      <td>2.0</td>\n",
       "      <td>13.0</td>\n",
       "      <td>5.0</td>\n",
       "    </tr>\n",
       "    <tr>\n",
       "      <th>3</th>\n",
       "      <td>⬇️</td>\n",
       "      <td>1.0</td>\n",
       "      <td>NaN</td>\n",
       "      <td>NaN</td>\n",
       "    </tr>\n",
       "    <tr>\n",
       "      <th>4</th>\n",
       "      <td>🇨🇴</td>\n",
       "      <td>NaN</td>\n",
       "      <td>7.0</td>\n",
       "      <td>12.0</td>\n",
       "    </tr>\n",
       "    <tr>\n",
       "      <th>5</th>\n",
       "      <td>👇</td>\n",
       "      <td>NaN</td>\n",
       "      <td>9.0</td>\n",
       "      <td>7.0</td>\n",
       "    </tr>\n",
       "    <tr>\n",
       "      <th>6</th>\n",
       "      <td>👉</td>\n",
       "      <td>4.0</td>\n",
       "      <td>22.0</td>\n",
       "      <td>4.0</td>\n",
       "    </tr>\n",
       "    <tr>\n",
       "      <th>7</th>\n",
       "      <td>💀</td>\n",
       "      <td>NaN</td>\n",
       "      <td>NaN</td>\n",
       "      <td>4.0</td>\n",
       "    </tr>\n",
       "    <tr>\n",
       "      <th>8</th>\n",
       "      <td>📃</td>\n",
       "      <td>1.0</td>\n",
       "      <td>NaN</td>\n",
       "      <td>NaN</td>\n",
       "    </tr>\n",
       "    <tr>\n",
       "      <th>9</th>\n",
       "      <td>📺</td>\n",
       "      <td>NaN</td>\n",
       "      <td>9.0</td>\n",
       "      <td>NaN</td>\n",
       "    </tr>\n",
       "    <tr>\n",
       "      <th>10</th>\n",
       "      <td>📻</td>\n",
       "      <td>NaN</td>\n",
       "      <td>4.0</td>\n",
       "      <td>NaN</td>\n",
       "    </tr>\n",
       "    <tr>\n",
       "      <th>11</th>\n",
       "      <td>🔊</td>\n",
       "      <td>NaN</td>\n",
       "      <td>7.0</td>\n",
       "      <td>NaN</td>\n",
       "    </tr>\n",
       "    <tr>\n",
       "      <th>12</th>\n",
       "      <td>😁</td>\n",
       "      <td>3.0</td>\n",
       "      <td>NaN</td>\n",
       "      <td>3.0</td>\n",
       "    </tr>\n",
       "    <tr>\n",
       "      <th>13</th>\n",
       "      <td>😂</td>\n",
       "      <td>3.0</td>\n",
       "      <td>NaN</td>\n",
       "      <td>3.0</td>\n",
       "    </tr>\n",
       "    <tr>\n",
       "      <th>14</th>\n",
       "      <td>😭</td>\n",
       "      <td>NaN</td>\n",
       "      <td>NaN</td>\n",
       "      <td>7.0</td>\n",
       "    </tr>\n",
       "    <tr>\n",
       "      <th>15</th>\n",
       "      <td>😷</td>\n",
       "      <td>1.0</td>\n",
       "      <td>4.0</td>\n",
       "      <td>NaN</td>\n",
       "    </tr>\n",
       "    <tr>\n",
       "      <th>16</th>\n",
       "      <td>🙃</td>\n",
       "      <td>NaN</td>\n",
       "      <td>7.0</td>\n",
       "      <td>NaN</td>\n",
       "    </tr>\n",
       "    <tr>\n",
       "      <th>17</th>\n",
       "      <td>🙌</td>\n",
       "      <td>1.0</td>\n",
       "      <td>NaN</td>\n",
       "      <td>NaN</td>\n",
       "    </tr>\n",
       "    <tr>\n",
       "      <th>18</th>\n",
       "      <td>🤩</td>\n",
       "      <td>1.0</td>\n",
       "      <td>NaN</td>\n",
       "      <td>NaN</td>\n",
       "    </tr>\n",
       "  </tbody>\n",
       "</table>\n",
       "</div>"
      ],
      "text/plain": [
       "   emojis  2020-11-05 00:00:00  2020-11-06 00:00:00  2020-11-07 00:00:00\n",
       "0      ⚠️                  NaN                  6.0                  5.0\n",
       "1       ✅                  1.0                  NaN                  5.0\n",
       "2      ➡️                  2.0                 13.0                  5.0\n",
       "3      ⬇️                  1.0                  NaN                  NaN\n",
       "4      🇨🇴                  NaN                  7.0                 12.0\n",
       "5       👇                  NaN                  9.0                  7.0\n",
       "6       👉                  4.0                 22.0                  4.0\n",
       "7       💀                  NaN                  NaN                  4.0\n",
       "8       📃                  1.0                  NaN                  NaN\n",
       "9       📺                  NaN                  9.0                  NaN\n",
       "10      📻                  NaN                  4.0                  NaN\n",
       "11      🔊                  NaN                  7.0                  NaN\n",
       "12      😁                  3.0                  NaN                  3.0\n",
       "13      😂                  3.0                  NaN                  3.0\n",
       "14      😭                  NaN                  NaN                  7.0\n",
       "15      😷                  1.0                  4.0                  NaN\n",
       "16      🙃                  NaN                  7.0                  NaN\n",
       "17      🙌                  1.0                  NaN                  NaN\n",
       "18      🤩                  1.0                  NaN                  NaN"
      ]
     },
     "execution_count": 32,
     "metadata": {},
     "output_type": "execute_result"
    }
   ],
   "source": [
    "import datetime\n",
    " \n",
    "temp_emoji = []\n",
    "days = [datetime.date(2020, 11, 7), datetime.date(2020, 11, 6),\n",
    "       datetime.date(2020, 11, 5), datetime.date(2020, 11, 4),\n",
    "       datetime.date(2020, 11, 3), datetime.date(2020, 11, 2),\n",
    "       datetime.date(2020, 11, 1), datetime.date(2020, 10, 31),\n",
    "       datetime.date(2020, 10, 30), datetime.date(2020, 10, 29)]\n",
    " \n",
    "for day in days:\n",
    "    temp = pd.DataFrame(Counter(sum(data[data['fecha']==day]['emojis'].values,[])).most_common(10))\n",
    "    temp['day'] = day\n",
    "    temp_emoji.append(temp)\n",
    "\n",
    "temp_emoji = pd.concat(temp_emoji)\n",
    "temp_emoji.columns = ['emojis', 'tweet_count', 'day']\n",
    " \n",
    "temp_emoji = temp_emoji.pivot(index='emojis', columns='day').reset_index()\n",
    "temp_emoji.columns = ['emojis'] + list(temp_emoji.columns.get_level_values(1)[1:])\n",
    " \n",
    "temp_emoji"
   ]
  },
  {
   "cell_type": "code",
   "execution_count": 33,
   "metadata": {},
   "outputs": [
    {
     "data": {
      "application/vnd.plotly.v1+json": {
       "config": {
        "plotlyServerURL": "https://plot.ly"
       },
       "data": [
        {
         "cliponaxis": false,
         "hoverinfo": "none",
         "marker": {
          "color": "orange"
         },
         "opacity": 1,
         "textfont": {
          "size": [
           14,
           14,
           14,
           14,
           14,
           14,
           14,
           14,
           14,
           14
          ]
         },
         "textposition": "outside",
         "texttemplate": "%{x}<br>%{y}",
         "type": "bar",
         "x": [
          "👉",
          "😁",
          "😂",
          "➡️",
          "✅",
          "⬇️",
          "📃",
          "😷",
          "🙌",
          "🤩"
         ],
         "y": [
          4,
          3,
          3,
          2,
          1,
          1,
          1,
          1,
          1,
          1
         ]
        }
       ],
       "frames": [
        {
         "data": [
          {
           "cliponaxis": false,
           "hoverinfo": "none",
           "marker": {
            "color": "orange"
           },
           "opacity": 1,
           "textfont": {
            "size": [
             14,
             14,
             14,
             14,
             14,
             14,
             14,
             14,
             14,
             14
            ]
           },
           "textposition": "outside",
           "texttemplate": "%{x}<br>%{y}",
           "type": "bar",
           "x": [
            "👉",
            "😁",
            "😂",
            "➡️",
            "✅",
            "⬇️",
            "📃",
            "😷",
            "🙌",
            "🤩"
           ],
           "y": [
            4,
            3,
            3,
            2,
            1,
            1,
            1,
            1,
            1,
            1
           ]
          }
         ],
         "layout": {
          "plot_bgcolor": "#FFFFFF",
          "title": {
           "text": "Emojis del día 2020-11-05"
          },
          "xaxis": {
           "autorange": false,
           "range": [
            -1,
            10
           ],
           "showline": false,
           "tickangle": -90,
           "visible": false
          },
          "yaxis": {
           "autorange": false,
           "range": [
            -1,
            70
           ],
           "showline": false,
           "visible": false
          }
         }
        },
        {
         "data": [
          {
           "cliponaxis": false,
           "hoverinfo": "none",
           "marker": {
            "color": "orange"
           },
           "opacity": 1,
           "textfont": {
            "size": [
             14,
             14,
             14,
             14,
             14,
             14,
             14,
             14,
             14,
             14
            ]
           },
           "textposition": "outside",
           "texttemplate": "%{x}<br>%{y}",
           "type": "bar",
           "x": [
            "👉",
            "➡️",
            "👇",
            "📺",
            "🇨🇴",
            "🔊",
            "🙃",
            "⚠️",
            "📻",
            "😷"
           ],
           "y": [
            22,
            13,
            9,
            9,
            7,
            7,
            7,
            6,
            4,
            4
           ]
          }
         ],
         "layout": {
          "plot_bgcolor": "#FFFFFF",
          "title": {
           "text": "Emojis del día 2020-11-06"
          },
          "xaxis": {
           "autorange": false,
           "range": [
            -1,
            10
           ],
           "showline": false,
           "tickangle": -90,
           "visible": false
          },
          "yaxis": {
           "autorange": false,
           "range": [
            -1,
            70
           ],
           "showline": false,
           "visible": false
          }
         }
        },
        {
         "data": [
          {
           "cliponaxis": false,
           "hoverinfo": "none",
           "marker": {
            "color": "orange"
           },
           "opacity": 1,
           "textfont": {
            "size": [
             14,
             14,
             14,
             14,
             14,
             14,
             14,
             14,
             14,
             14
            ]
           },
           "textposition": "outside",
           "texttemplate": "%{x}<br>%{y}",
           "type": "bar",
           "x": [
            "🇨🇴",
            "👇",
            "😭",
            "⚠️",
            "✅",
            "➡️",
            "👉",
            "💀",
            "😁",
            "😂"
           ],
           "y": [
            12,
            7,
            7,
            5,
            5,
            5,
            4,
            4,
            3,
            3
           ]
          }
         ],
         "layout": {
          "plot_bgcolor": "#FFFFFF",
          "title": {
           "text": "Emojis del día 2020-11-07"
          },
          "xaxis": {
           "autorange": false,
           "range": [
            -1,
            10
           ],
           "showline": false,
           "tickangle": -90,
           "visible": false
          },
          "yaxis": {
           "autorange": false,
           "range": [
            -1,
            70
           ],
           "showline": false,
           "visible": false
          }
         }
        }
       ],
       "layout": {
        "plot_bgcolor": "#FFFFFF",
        "template": {
         "data": {
          "bar": [
           {
            "error_x": {
             "color": "#2a3f5f"
            },
            "error_y": {
             "color": "#2a3f5f"
            },
            "marker": {
             "line": {
              "color": "#E5ECF6",
              "width": 0.5
             }
            },
            "type": "bar"
           }
          ],
          "barpolar": [
           {
            "marker": {
             "line": {
              "color": "#E5ECF6",
              "width": 0.5
             }
            },
            "type": "barpolar"
           }
          ],
          "carpet": [
           {
            "aaxis": {
             "endlinecolor": "#2a3f5f",
             "gridcolor": "white",
             "linecolor": "white",
             "minorgridcolor": "white",
             "startlinecolor": "#2a3f5f"
            },
            "baxis": {
             "endlinecolor": "#2a3f5f",
             "gridcolor": "white",
             "linecolor": "white",
             "minorgridcolor": "white",
             "startlinecolor": "#2a3f5f"
            },
            "type": "carpet"
           }
          ],
          "choropleth": [
           {
            "colorbar": {
             "outlinewidth": 0,
             "ticks": ""
            },
            "type": "choropleth"
           }
          ],
          "contour": [
           {
            "colorbar": {
             "outlinewidth": 0,
             "ticks": ""
            },
            "colorscale": [
             [
              0,
              "#0d0887"
             ],
             [
              0.1111111111111111,
              "#46039f"
             ],
             [
              0.2222222222222222,
              "#7201a8"
             ],
             [
              0.3333333333333333,
              "#9c179e"
             ],
             [
              0.4444444444444444,
              "#bd3786"
             ],
             [
              0.5555555555555556,
              "#d8576b"
             ],
             [
              0.6666666666666666,
              "#ed7953"
             ],
             [
              0.7777777777777778,
              "#fb9f3a"
             ],
             [
              0.8888888888888888,
              "#fdca26"
             ],
             [
              1,
              "#f0f921"
             ]
            ],
            "type": "contour"
           }
          ],
          "contourcarpet": [
           {
            "colorbar": {
             "outlinewidth": 0,
             "ticks": ""
            },
            "type": "contourcarpet"
           }
          ],
          "heatmap": [
           {
            "colorbar": {
             "outlinewidth": 0,
             "ticks": ""
            },
            "colorscale": [
             [
              0,
              "#0d0887"
             ],
             [
              0.1111111111111111,
              "#46039f"
             ],
             [
              0.2222222222222222,
              "#7201a8"
             ],
             [
              0.3333333333333333,
              "#9c179e"
             ],
             [
              0.4444444444444444,
              "#bd3786"
             ],
             [
              0.5555555555555556,
              "#d8576b"
             ],
             [
              0.6666666666666666,
              "#ed7953"
             ],
             [
              0.7777777777777778,
              "#fb9f3a"
             ],
             [
              0.8888888888888888,
              "#fdca26"
             ],
             [
              1,
              "#f0f921"
             ]
            ],
            "type": "heatmap"
           }
          ],
          "heatmapgl": [
           {
            "colorbar": {
             "outlinewidth": 0,
             "ticks": ""
            },
            "colorscale": [
             [
              0,
              "#0d0887"
             ],
             [
              0.1111111111111111,
              "#46039f"
             ],
             [
              0.2222222222222222,
              "#7201a8"
             ],
             [
              0.3333333333333333,
              "#9c179e"
             ],
             [
              0.4444444444444444,
              "#bd3786"
             ],
             [
              0.5555555555555556,
              "#d8576b"
             ],
             [
              0.6666666666666666,
              "#ed7953"
             ],
             [
              0.7777777777777778,
              "#fb9f3a"
             ],
             [
              0.8888888888888888,
              "#fdca26"
             ],
             [
              1,
              "#f0f921"
             ]
            ],
            "type": "heatmapgl"
           }
          ],
          "histogram": [
           {
            "marker": {
             "colorbar": {
              "outlinewidth": 0,
              "ticks": ""
             }
            },
            "type": "histogram"
           }
          ],
          "histogram2d": [
           {
            "colorbar": {
             "outlinewidth": 0,
             "ticks": ""
            },
            "colorscale": [
             [
              0,
              "#0d0887"
             ],
             [
              0.1111111111111111,
              "#46039f"
             ],
             [
              0.2222222222222222,
              "#7201a8"
             ],
             [
              0.3333333333333333,
              "#9c179e"
             ],
             [
              0.4444444444444444,
              "#bd3786"
             ],
             [
              0.5555555555555556,
              "#d8576b"
             ],
             [
              0.6666666666666666,
              "#ed7953"
             ],
             [
              0.7777777777777778,
              "#fb9f3a"
             ],
             [
              0.8888888888888888,
              "#fdca26"
             ],
             [
              1,
              "#f0f921"
             ]
            ],
            "type": "histogram2d"
           }
          ],
          "histogram2dcontour": [
           {
            "colorbar": {
             "outlinewidth": 0,
             "ticks": ""
            },
            "colorscale": [
             [
              0,
              "#0d0887"
             ],
             [
              0.1111111111111111,
              "#46039f"
             ],
             [
              0.2222222222222222,
              "#7201a8"
             ],
             [
              0.3333333333333333,
              "#9c179e"
             ],
             [
              0.4444444444444444,
              "#bd3786"
             ],
             [
              0.5555555555555556,
              "#d8576b"
             ],
             [
              0.6666666666666666,
              "#ed7953"
             ],
             [
              0.7777777777777778,
              "#fb9f3a"
             ],
             [
              0.8888888888888888,
              "#fdca26"
             ],
             [
              1,
              "#f0f921"
             ]
            ],
            "type": "histogram2dcontour"
           }
          ],
          "mesh3d": [
           {
            "colorbar": {
             "outlinewidth": 0,
             "ticks": ""
            },
            "type": "mesh3d"
           }
          ],
          "parcoords": [
           {
            "line": {
             "colorbar": {
              "outlinewidth": 0,
              "ticks": ""
             }
            },
            "type": "parcoords"
           }
          ],
          "pie": [
           {
            "automargin": true,
            "type": "pie"
           }
          ],
          "scatter": [
           {
            "marker": {
             "colorbar": {
              "outlinewidth": 0,
              "ticks": ""
             }
            },
            "type": "scatter"
           }
          ],
          "scatter3d": [
           {
            "line": {
             "colorbar": {
              "outlinewidth": 0,
              "ticks": ""
             }
            },
            "marker": {
             "colorbar": {
              "outlinewidth": 0,
              "ticks": ""
             }
            },
            "type": "scatter3d"
           }
          ],
          "scattercarpet": [
           {
            "marker": {
             "colorbar": {
              "outlinewidth": 0,
              "ticks": ""
             }
            },
            "type": "scattercarpet"
           }
          ],
          "scattergeo": [
           {
            "marker": {
             "colorbar": {
              "outlinewidth": 0,
              "ticks": ""
             }
            },
            "type": "scattergeo"
           }
          ],
          "scattergl": [
           {
            "marker": {
             "colorbar": {
              "outlinewidth": 0,
              "ticks": ""
             }
            },
            "type": "scattergl"
           }
          ],
          "scattermapbox": [
           {
            "marker": {
             "colorbar": {
              "outlinewidth": 0,
              "ticks": ""
             }
            },
            "type": "scattermapbox"
           }
          ],
          "scatterpolar": [
           {
            "marker": {
             "colorbar": {
              "outlinewidth": 0,
              "ticks": ""
             }
            },
            "type": "scatterpolar"
           }
          ],
          "scatterpolargl": [
           {
            "marker": {
             "colorbar": {
              "outlinewidth": 0,
              "ticks": ""
             }
            },
            "type": "scatterpolargl"
           }
          ],
          "scatterternary": [
           {
            "marker": {
             "colorbar": {
              "outlinewidth": 0,
              "ticks": ""
             }
            },
            "type": "scatterternary"
           }
          ],
          "surface": [
           {
            "colorbar": {
             "outlinewidth": 0,
             "ticks": ""
            },
            "colorscale": [
             [
              0,
              "#0d0887"
             ],
             [
              0.1111111111111111,
              "#46039f"
             ],
             [
              0.2222222222222222,
              "#7201a8"
             ],
             [
              0.3333333333333333,
              "#9c179e"
             ],
             [
              0.4444444444444444,
              "#bd3786"
             ],
             [
              0.5555555555555556,
              "#d8576b"
             ],
             [
              0.6666666666666666,
              "#ed7953"
             ],
             [
              0.7777777777777778,
              "#fb9f3a"
             ],
             [
              0.8888888888888888,
              "#fdca26"
             ],
             [
              1,
              "#f0f921"
             ]
            ],
            "type": "surface"
           }
          ],
          "table": [
           {
            "cells": {
             "fill": {
              "color": "#EBF0F8"
             },
             "line": {
              "color": "white"
             }
            },
            "header": {
             "fill": {
              "color": "#C8D4E3"
             },
             "line": {
              "color": "white"
             }
            },
            "type": "table"
           }
          ]
         },
         "layout": {
          "annotationdefaults": {
           "arrowcolor": "#2a3f5f",
           "arrowhead": 0,
           "arrowwidth": 1
          },
          "coloraxis": {
           "colorbar": {
            "outlinewidth": 0,
            "ticks": ""
           }
          },
          "colorscale": {
           "diverging": [
            [
             0,
             "#8e0152"
            ],
            [
             0.1,
             "#c51b7d"
            ],
            [
             0.2,
             "#de77ae"
            ],
            [
             0.3,
             "#f1b6da"
            ],
            [
             0.4,
             "#fde0ef"
            ],
            [
             0.5,
             "#f7f7f7"
            ],
            [
             0.6,
             "#e6f5d0"
            ],
            [
             0.7,
             "#b8e186"
            ],
            [
             0.8,
             "#7fbc41"
            ],
            [
             0.9,
             "#4d9221"
            ],
            [
             1,
             "#276419"
            ]
           ],
           "sequential": [
            [
             0,
             "#0d0887"
            ],
            [
             0.1111111111111111,
             "#46039f"
            ],
            [
             0.2222222222222222,
             "#7201a8"
            ],
            [
             0.3333333333333333,
             "#9c179e"
            ],
            [
             0.4444444444444444,
             "#bd3786"
            ],
            [
             0.5555555555555556,
             "#d8576b"
            ],
            [
             0.6666666666666666,
             "#ed7953"
            ],
            [
             0.7777777777777778,
             "#fb9f3a"
            ],
            [
             0.8888888888888888,
             "#fdca26"
            ],
            [
             1,
             "#f0f921"
            ]
           ],
           "sequentialminus": [
            [
             0,
             "#0d0887"
            ],
            [
             0.1111111111111111,
             "#46039f"
            ],
            [
             0.2222222222222222,
             "#7201a8"
            ],
            [
             0.3333333333333333,
             "#9c179e"
            ],
            [
             0.4444444444444444,
             "#bd3786"
            ],
            [
             0.5555555555555556,
             "#d8576b"
            ],
            [
             0.6666666666666666,
             "#ed7953"
            ],
            [
             0.7777777777777778,
             "#fb9f3a"
            ],
            [
             0.8888888888888888,
             "#fdca26"
            ],
            [
             1,
             "#f0f921"
            ]
           ]
          },
          "colorway": [
           "#636efa",
           "#EF553B",
           "#00cc96",
           "#ab63fa",
           "#FFA15A",
           "#19d3f3",
           "#FF6692",
           "#B6E880",
           "#FF97FF",
           "#FECB52"
          ],
          "font": {
           "color": "#2a3f5f"
          },
          "geo": {
           "bgcolor": "white",
           "lakecolor": "white",
           "landcolor": "#E5ECF6",
           "showlakes": true,
           "showland": true,
           "subunitcolor": "white"
          },
          "hoverlabel": {
           "align": "left"
          },
          "hovermode": "closest",
          "mapbox": {
           "style": "light"
          },
          "paper_bgcolor": "white",
          "plot_bgcolor": "#E5ECF6",
          "polar": {
           "angularaxis": {
            "gridcolor": "white",
            "linecolor": "white",
            "ticks": ""
           },
           "bgcolor": "#E5ECF6",
           "radialaxis": {
            "gridcolor": "white",
            "linecolor": "white",
            "ticks": ""
           }
          },
          "scene": {
           "xaxis": {
            "backgroundcolor": "#E5ECF6",
            "gridcolor": "white",
            "gridwidth": 2,
            "linecolor": "white",
            "showbackground": true,
            "ticks": "",
            "zerolinecolor": "white"
           },
           "yaxis": {
            "backgroundcolor": "#E5ECF6",
            "gridcolor": "white",
            "gridwidth": 2,
            "linecolor": "white",
            "showbackground": true,
            "ticks": "",
            "zerolinecolor": "white"
           },
           "zaxis": {
            "backgroundcolor": "#E5ECF6",
            "gridcolor": "white",
            "gridwidth": 2,
            "linecolor": "white",
            "showbackground": true,
            "ticks": "",
            "zerolinecolor": "white"
           }
          },
          "shapedefaults": {
           "line": {
            "color": "#2a3f5f"
           }
          },
          "ternary": {
           "aaxis": {
            "gridcolor": "white",
            "linecolor": "white",
            "ticks": ""
           },
           "baxis": {
            "gridcolor": "white",
            "linecolor": "white",
            "ticks": ""
           },
           "bgcolor": "#E5ECF6",
           "caxis": {
            "gridcolor": "white",
            "linecolor": "white",
            "ticks": ""
           }
          },
          "title": {
           "x": 0.05
          },
          "xaxis": {
           "automargin": true,
           "gridcolor": "white",
           "linecolor": "white",
           "ticks": "",
           "title": {
            "standoff": 15
           },
           "zerolinecolor": "white",
           "zerolinewidth": 2
          },
          "yaxis": {
           "automargin": true,
           "gridcolor": "white",
           "linecolor": "white",
           "ticks": "",
           "title": {
            "standoff": 15
           },
           "zerolinecolor": "white",
           "zerolinewidth": 2
          }
         }
        },
        "title": {
         "text": "Emojis del día 2020-11-05"
        },
        "updatemenus": [
         {
          "buttons": [
           {
            "args": [
             null,
             {
              "frame": {
               "duration": 800,
               "redraw": true
              },
              "fromcurrent": true
             }
            ],
            "label": "▶️",
            "method": "animate"
           },
           {
            "args": [
             [
              null
             ],
             {
              "frame": {
               "duration": 0,
               "redraw": true
              },
              "mode": "immediate",
              "transition": {
               "duration": 0
              }
             }
            ],
            "label": "⏸️",
            "method": "animate"
           }
          ],
          "type": "buttons"
         }
        ],
        "xaxis": {
         "autorange": false,
         "range": [
          -1,
          10
         ],
         "showline": false,
         "tickangle": -90,
         "visible": false
        },
        "yaxis": {
         "autorange": false,
         "range": [
          -1,
          70
         ],
         "showline": false,
         "visible": false
        }
       }
      },
      "text/html": [
       "<div>                            <div id=\"881ffc60-4aba-49a2-9f65-226de0445e15\" class=\"plotly-graph-div\" style=\"height:525px; width:100%;\"></div>            <script type=\"text/javascript\">                require([\"plotly\"], function(Plotly) {                    window.PLOTLYENV=window.PLOTLYENV || {};                                    if (document.getElementById(\"881ffc60-4aba-49a2-9f65-226de0445e15\")) {                    Plotly.newPlot(                        \"881ffc60-4aba-49a2-9f65-226de0445e15\",                        [{\"cliponaxis\": false, \"hoverinfo\": \"none\", \"marker\": {\"color\": \"orange\"}, \"opacity\": 1, \"textfont\": {\"size\": [14, 14, 14, 14, 14, 14, 14, 14, 14, 14]}, \"textposition\": \"outside\", \"texttemplate\": \"%{x}<br>%{y}\", \"type\": \"bar\", \"x\": [\"\\ud83d\\udc49\", \"\\ud83d\\ude01\", \"\\ud83d\\ude02\", \"\\u27a1\\ufe0f\", \"\\u2705\", \"\\u2b07\\ufe0f\", \"\\ud83d\\udcc3\", \"\\ud83d\\ude37\", \"\\ud83d\\ude4c\", \"\\ud83e\\udd29\"], \"y\": [4.0, 3.0, 3.0, 2.0, 1.0, 1.0, 1.0, 1.0, 1.0, 1.0]}],                        {\"plot_bgcolor\": \"#FFFFFF\", \"template\": {\"data\": {\"bar\": [{\"error_x\": {\"color\": \"#2a3f5f\"}, \"error_y\": {\"color\": \"#2a3f5f\"}, \"marker\": {\"line\": {\"color\": \"#E5ECF6\", \"width\": 0.5}}, \"type\": \"bar\"}], \"barpolar\": [{\"marker\": {\"line\": {\"color\": \"#E5ECF6\", \"width\": 0.5}}, \"type\": \"barpolar\"}], \"carpet\": [{\"aaxis\": {\"endlinecolor\": \"#2a3f5f\", \"gridcolor\": \"white\", \"linecolor\": \"white\", \"minorgridcolor\": \"white\", \"startlinecolor\": \"#2a3f5f\"}, \"baxis\": {\"endlinecolor\": \"#2a3f5f\", \"gridcolor\": \"white\", \"linecolor\": \"white\", \"minorgridcolor\": \"white\", \"startlinecolor\": \"#2a3f5f\"}, \"type\": \"carpet\"}], \"choropleth\": [{\"colorbar\": {\"outlinewidth\": 0, \"ticks\": \"\"}, \"type\": \"choropleth\"}], \"contour\": [{\"colorbar\": {\"outlinewidth\": 0, \"ticks\": \"\"}, \"colorscale\": [[0.0, \"#0d0887\"], [0.1111111111111111, \"#46039f\"], [0.2222222222222222, \"#7201a8\"], [0.3333333333333333, \"#9c179e\"], [0.4444444444444444, \"#bd3786\"], [0.5555555555555556, \"#d8576b\"], [0.6666666666666666, \"#ed7953\"], [0.7777777777777778, \"#fb9f3a\"], [0.8888888888888888, \"#fdca26\"], [1.0, \"#f0f921\"]], \"type\": \"contour\"}], \"contourcarpet\": [{\"colorbar\": {\"outlinewidth\": 0, \"ticks\": \"\"}, \"type\": \"contourcarpet\"}], \"heatmap\": [{\"colorbar\": {\"outlinewidth\": 0, \"ticks\": \"\"}, \"colorscale\": [[0.0, \"#0d0887\"], [0.1111111111111111, \"#46039f\"], [0.2222222222222222, \"#7201a8\"], [0.3333333333333333, \"#9c179e\"], [0.4444444444444444, \"#bd3786\"], [0.5555555555555556, \"#d8576b\"], [0.6666666666666666, \"#ed7953\"], [0.7777777777777778, \"#fb9f3a\"], [0.8888888888888888, \"#fdca26\"], [1.0, \"#f0f921\"]], \"type\": \"heatmap\"}], \"heatmapgl\": [{\"colorbar\": {\"outlinewidth\": 0, \"ticks\": \"\"}, \"colorscale\": [[0.0, \"#0d0887\"], [0.1111111111111111, \"#46039f\"], [0.2222222222222222, \"#7201a8\"], [0.3333333333333333, \"#9c179e\"], [0.4444444444444444, \"#bd3786\"], [0.5555555555555556, \"#d8576b\"], [0.6666666666666666, \"#ed7953\"], [0.7777777777777778, \"#fb9f3a\"], [0.8888888888888888, \"#fdca26\"], [1.0, \"#f0f921\"]], \"type\": \"heatmapgl\"}], \"histogram\": [{\"marker\": {\"colorbar\": {\"outlinewidth\": 0, \"ticks\": \"\"}}, \"type\": \"histogram\"}], \"histogram2d\": [{\"colorbar\": {\"outlinewidth\": 0, \"ticks\": \"\"}, \"colorscale\": [[0.0, \"#0d0887\"], [0.1111111111111111, \"#46039f\"], [0.2222222222222222, \"#7201a8\"], [0.3333333333333333, \"#9c179e\"], [0.4444444444444444, \"#bd3786\"], [0.5555555555555556, \"#d8576b\"], [0.6666666666666666, \"#ed7953\"], [0.7777777777777778, \"#fb9f3a\"], [0.8888888888888888, \"#fdca26\"], [1.0, \"#f0f921\"]], \"type\": \"histogram2d\"}], \"histogram2dcontour\": [{\"colorbar\": {\"outlinewidth\": 0, \"ticks\": \"\"}, \"colorscale\": [[0.0, \"#0d0887\"], [0.1111111111111111, \"#46039f\"], [0.2222222222222222, \"#7201a8\"], [0.3333333333333333, \"#9c179e\"], [0.4444444444444444, \"#bd3786\"], [0.5555555555555556, \"#d8576b\"], [0.6666666666666666, \"#ed7953\"], [0.7777777777777778, \"#fb9f3a\"], [0.8888888888888888, \"#fdca26\"], [1.0, \"#f0f921\"]], \"type\": \"histogram2dcontour\"}], \"mesh3d\": [{\"colorbar\": {\"outlinewidth\": 0, \"ticks\": \"\"}, \"type\": \"mesh3d\"}], \"parcoords\": [{\"line\": {\"colorbar\": {\"outlinewidth\": 0, \"ticks\": \"\"}}, \"type\": \"parcoords\"}], \"pie\": [{\"automargin\": true, \"type\": \"pie\"}], \"scatter\": [{\"marker\": {\"colorbar\": {\"outlinewidth\": 0, \"ticks\": \"\"}}, \"type\": \"scatter\"}], \"scatter3d\": [{\"line\": {\"colorbar\": {\"outlinewidth\": 0, \"ticks\": \"\"}}, \"marker\": {\"colorbar\": {\"outlinewidth\": 0, \"ticks\": \"\"}}, \"type\": \"scatter3d\"}], \"scattercarpet\": [{\"marker\": {\"colorbar\": {\"outlinewidth\": 0, \"ticks\": \"\"}}, \"type\": \"scattercarpet\"}], \"scattergeo\": [{\"marker\": {\"colorbar\": {\"outlinewidth\": 0, \"ticks\": \"\"}}, \"type\": \"scattergeo\"}], \"scattergl\": [{\"marker\": {\"colorbar\": {\"outlinewidth\": 0, \"ticks\": \"\"}}, \"type\": \"scattergl\"}], \"scattermapbox\": [{\"marker\": {\"colorbar\": {\"outlinewidth\": 0, \"ticks\": \"\"}}, \"type\": \"scattermapbox\"}], \"scatterpolar\": [{\"marker\": {\"colorbar\": {\"outlinewidth\": 0, \"ticks\": \"\"}}, \"type\": \"scatterpolar\"}], \"scatterpolargl\": [{\"marker\": {\"colorbar\": {\"outlinewidth\": 0, \"ticks\": \"\"}}, \"type\": \"scatterpolargl\"}], \"scatterternary\": [{\"marker\": {\"colorbar\": {\"outlinewidth\": 0, \"ticks\": \"\"}}, \"type\": \"scatterternary\"}], \"surface\": [{\"colorbar\": {\"outlinewidth\": 0, \"ticks\": \"\"}, \"colorscale\": [[0.0, \"#0d0887\"], [0.1111111111111111, \"#46039f\"], [0.2222222222222222, \"#7201a8\"], [0.3333333333333333, \"#9c179e\"], [0.4444444444444444, \"#bd3786\"], [0.5555555555555556, \"#d8576b\"], [0.6666666666666666, \"#ed7953\"], [0.7777777777777778, \"#fb9f3a\"], [0.8888888888888888, \"#fdca26\"], [1.0, \"#f0f921\"]], \"type\": \"surface\"}], \"table\": [{\"cells\": {\"fill\": {\"color\": \"#EBF0F8\"}, \"line\": {\"color\": \"white\"}}, \"header\": {\"fill\": {\"color\": \"#C8D4E3\"}, \"line\": {\"color\": \"white\"}}, \"type\": \"table\"}]}, \"layout\": {\"annotationdefaults\": {\"arrowcolor\": \"#2a3f5f\", \"arrowhead\": 0, \"arrowwidth\": 1}, \"coloraxis\": {\"colorbar\": {\"outlinewidth\": 0, \"ticks\": \"\"}}, \"colorscale\": {\"diverging\": [[0, \"#8e0152\"], [0.1, \"#c51b7d\"], [0.2, \"#de77ae\"], [0.3, \"#f1b6da\"], [0.4, \"#fde0ef\"], [0.5, \"#f7f7f7\"], [0.6, \"#e6f5d0\"], [0.7, \"#b8e186\"], [0.8, \"#7fbc41\"], [0.9, \"#4d9221\"], [1, \"#276419\"]], \"sequential\": [[0.0, \"#0d0887\"], [0.1111111111111111, \"#46039f\"], [0.2222222222222222, \"#7201a8\"], [0.3333333333333333, \"#9c179e\"], [0.4444444444444444, \"#bd3786\"], [0.5555555555555556, \"#d8576b\"], [0.6666666666666666, \"#ed7953\"], [0.7777777777777778, \"#fb9f3a\"], [0.8888888888888888, \"#fdca26\"], [1.0, \"#f0f921\"]], \"sequentialminus\": [[0.0, \"#0d0887\"], [0.1111111111111111, \"#46039f\"], [0.2222222222222222, \"#7201a8\"], [0.3333333333333333, \"#9c179e\"], [0.4444444444444444, \"#bd3786\"], [0.5555555555555556, \"#d8576b\"], [0.6666666666666666, \"#ed7953\"], [0.7777777777777778, \"#fb9f3a\"], [0.8888888888888888, \"#fdca26\"], [1.0, \"#f0f921\"]]}, \"colorway\": [\"#636efa\", \"#EF553B\", \"#00cc96\", \"#ab63fa\", \"#FFA15A\", \"#19d3f3\", \"#FF6692\", \"#B6E880\", \"#FF97FF\", \"#FECB52\"], \"font\": {\"color\": \"#2a3f5f\"}, \"geo\": {\"bgcolor\": \"white\", \"lakecolor\": \"white\", \"landcolor\": \"#E5ECF6\", \"showlakes\": true, \"showland\": true, \"subunitcolor\": \"white\"}, \"hoverlabel\": {\"align\": \"left\"}, \"hovermode\": \"closest\", \"mapbox\": {\"style\": \"light\"}, \"paper_bgcolor\": \"white\", \"plot_bgcolor\": \"#E5ECF6\", \"polar\": {\"angularaxis\": {\"gridcolor\": \"white\", \"linecolor\": \"white\", \"ticks\": \"\"}, \"bgcolor\": \"#E5ECF6\", \"radialaxis\": {\"gridcolor\": \"white\", \"linecolor\": \"white\", \"ticks\": \"\"}}, \"scene\": {\"xaxis\": {\"backgroundcolor\": \"#E5ECF6\", \"gridcolor\": \"white\", \"gridwidth\": 2, \"linecolor\": \"white\", \"showbackground\": true, \"ticks\": \"\", \"zerolinecolor\": \"white\"}, \"yaxis\": {\"backgroundcolor\": \"#E5ECF6\", \"gridcolor\": \"white\", \"gridwidth\": 2, \"linecolor\": \"white\", \"showbackground\": true, \"ticks\": \"\", \"zerolinecolor\": \"white\"}, \"zaxis\": {\"backgroundcolor\": \"#E5ECF6\", \"gridcolor\": \"white\", \"gridwidth\": 2, \"linecolor\": \"white\", \"showbackground\": true, \"ticks\": \"\", \"zerolinecolor\": \"white\"}}, \"shapedefaults\": {\"line\": {\"color\": \"#2a3f5f\"}}, \"ternary\": {\"aaxis\": {\"gridcolor\": \"white\", \"linecolor\": \"white\", \"ticks\": \"\"}, \"baxis\": {\"gridcolor\": \"white\", \"linecolor\": \"white\", \"ticks\": \"\"}, \"bgcolor\": \"#E5ECF6\", \"caxis\": {\"gridcolor\": \"white\", \"linecolor\": \"white\", \"ticks\": \"\"}}, \"title\": {\"x\": 0.05}, \"xaxis\": {\"automargin\": true, \"gridcolor\": \"white\", \"linecolor\": \"white\", \"ticks\": \"\", \"title\": {\"standoff\": 15}, \"zerolinecolor\": \"white\", \"zerolinewidth\": 2}, \"yaxis\": {\"automargin\": true, \"gridcolor\": \"white\", \"linecolor\": \"white\", \"ticks\": \"\", \"title\": {\"standoff\": 15}, \"zerolinecolor\": \"white\", \"zerolinewidth\": 2}}}, \"title\": {\"text\": \"Emojis del d\\u00eda 2020-11-05\"}, \"updatemenus\": [{\"buttons\": [{\"args\": [null, {\"frame\": {\"duration\": 800, \"redraw\": true}, \"fromcurrent\": true}], \"label\": \"\\u25b6\\ufe0f\", \"method\": \"animate\"}, {\"args\": [[null], {\"frame\": {\"duration\": 0, \"redraw\": true}, \"mode\": \"immediate\", \"transition\": {\"duration\": 0}}], \"label\": \"\\u23f8\\ufe0f\", \"method\": \"animate\"}], \"type\": \"buttons\"}], \"xaxis\": {\"autorange\": false, \"range\": [-1, 10], \"showline\": false, \"tickangle\": -90, \"visible\": false}, \"yaxis\": {\"autorange\": false, \"range\": [-1, 70], \"showline\": false, \"visible\": false}},                        {\"responsive\": true}                    ).then(function(){\n",
       "                            Plotly.addFrames('881ffc60-4aba-49a2-9f65-226de0445e15', [{\"data\": [{\"cliponaxis\": false, \"hoverinfo\": \"none\", \"marker\": {\"color\": \"orange\"}, \"opacity\": 1, \"textfont\": {\"size\": [14, 14, 14, 14, 14, 14, 14, 14, 14, 14]}, \"textposition\": \"outside\", \"texttemplate\": \"%{x}<br>%{y}\", \"x\": [\"\\ud83d\\udc49\", \"\\ud83d\\ude01\", \"\\ud83d\\ude02\", \"\\u27a1\\ufe0f\", \"\\u2705\", \"\\u2b07\\ufe0f\", \"\\ud83d\\udcc3\", \"\\ud83d\\ude37\", \"\\ud83d\\ude4c\", \"\\ud83e\\udd29\"], \"y\": [4.0, 3.0, 3.0, 2.0, 1.0, 1.0, 1.0, 1.0, 1.0, 1.0], \"type\": \"bar\"}], \"layout\": {\"plot_bgcolor\": \"#FFFFFF\", \"title\": {\"text\": \"Emojis del d\\u00eda 2020-11-05\"}, \"xaxis\": {\"autorange\": false, \"range\": [-1, 10], \"showline\": false, \"tickangle\": -90, \"visible\": false}, \"yaxis\": {\"autorange\": false, \"range\": [-1, 70], \"showline\": false, \"visible\": false}}}, {\"data\": [{\"cliponaxis\": false, \"hoverinfo\": \"none\", \"marker\": {\"color\": \"orange\"}, \"opacity\": 1, \"textfont\": {\"size\": [14, 14, 14, 14, 14, 14, 14, 14, 14, 14]}, \"textposition\": \"outside\", \"texttemplate\": \"%{x}<br>%{y}\", \"x\": [\"\\ud83d\\udc49\", \"\\u27a1\\ufe0f\", \"\\ud83d\\udc47\", \"\\ud83d\\udcfa\", \"\\ud83c\\udde8\\ud83c\\uddf4\", \"\\ud83d\\udd0a\", \"\\ud83d\\ude43\", \"\\u26a0\\ufe0f\", \"\\ud83d\\udcfb\", \"\\ud83d\\ude37\"], \"y\": [22.0, 13.0, 9.0, 9.0, 7.0, 7.0, 7.0, 6.0, 4.0, 4.0], \"type\": \"bar\"}], \"layout\": {\"plot_bgcolor\": \"#FFFFFF\", \"title\": {\"text\": \"Emojis del d\\u00eda 2020-11-06\"}, \"xaxis\": {\"autorange\": false, \"range\": [-1, 10], \"showline\": false, \"tickangle\": -90, \"visible\": false}, \"yaxis\": {\"autorange\": false, \"range\": [-1, 70], \"showline\": false, \"visible\": false}}}, {\"data\": [{\"cliponaxis\": false, \"hoverinfo\": \"none\", \"marker\": {\"color\": \"orange\"}, \"opacity\": 1, \"textfont\": {\"size\": [14, 14, 14, 14, 14, 14, 14, 14, 14, 14]}, \"textposition\": \"outside\", \"texttemplate\": \"%{x}<br>%{y}\", \"x\": [\"\\ud83c\\udde8\\ud83c\\uddf4\", \"\\ud83d\\udc47\", \"\\ud83d\\ude2d\", \"\\u26a0\\ufe0f\", \"\\u2705\", \"\\u27a1\\ufe0f\", \"\\ud83d\\udc49\", \"\\ud83d\\udc80\", \"\\ud83d\\ude01\", \"\\ud83d\\ude02\"], \"y\": [12.0, 7.0, 7.0, 5.0, 5.0, 5.0, 4.0, 4.0, 3.0, 3.0], \"type\": \"bar\"}], \"layout\": {\"plot_bgcolor\": \"#FFFFFF\", \"title\": {\"text\": \"Emojis del d\\u00eda 2020-11-07\"}, \"xaxis\": {\"autorange\": false, \"range\": [-1, 10], \"showline\": false, \"tickangle\": -90, \"visible\": false}, \"yaxis\": {\"autorange\": false, \"range\": [-1, 70], \"showline\": false, \"visible\": false}}}]);\n",
       "                        }).then(function(){\n",
       "                            \n",
       "var gd = document.getElementById('881ffc60-4aba-49a2-9f65-226de0445e15');\n",
       "var x = new MutationObserver(function (mutations, observer) {{\n",
       "        var display = window.getComputedStyle(gd).display;\n",
       "        if (!display || display === 'none') {{\n",
       "            console.log([gd, 'removed!']);\n",
       "            Plotly.purge(gd);\n",
       "            observer.disconnect();\n",
       "        }}\n",
       "}});\n",
       "\n",
       "// Listen for the removal of the full notebook cells\n",
       "var notebookContainer = gd.closest('#notebook-container');\n",
       "if (notebookContainer) {{\n",
       "    x.observe(notebookContainer, {childList: true});\n",
       "}}\n",
       "\n",
       "// Listen for the clearing of the current output cell\n",
       "var outputEl = gd.closest('.output');\n",
       "if (outputEl) {{\n",
       "    x.observe(outputEl, {childList: true});\n",
       "}}\n",
       "\n",
       "                        })                };                });            </script>        </div>"
      ]
     },
     "metadata": {},
     "output_type": "display_data"
    }
   ],
   "source": [
    "beg = temp_emoji.columns[1]\n",
    "listOfFrames = []\n",
    "for year in temp_emoji.columns[1:]:\n",
    "    temp = temp_emoji[['emojis', year]]\n",
    "    temp = temp.sort_values(year, ascending=False).dropna()\n",
    "\n",
    "    trace = go.Bar(\n",
    "                x=temp.emojis.values,\n",
    "                y=temp[year].values,\n",
    "                textposition = \"outside\",\n",
    "                texttemplate = \"%{x}<br>%{y}\",\n",
    "                textfont = {'size': [14]*10},\n",
    "                hoverinfo='none', \n",
    "                opacity=1,\n",
    "                marker=dict(color=\"orange\"),\n",
    "                cliponaxis = False\n",
    "                )\n",
    " \n",
    "    layout = go.Layout(title=f'Emojis del día {year.date()}',\n",
    "                       xaxis = {\"range\":[-1,10],\"autorange\": False, \"showline\":False,\"tickangle\":-90, \"visible\":False},\n",
    "                       yaxis = {\"range\":[-1,70],\"autorange\": False, \"showline\":False, \"visible\":False},\n",
    "                       plot_bgcolor= '#FFFFFF')\n",
    "    listOfFrames.append(go.Frame(data=[trace], layout=layout))\n",
    "\n",
    "frames=list(listOfFrames)\n",
    " \n",
    "year = beg\n",
    "temp = temp_emoji[['emojis', year]]\n",
    "temp = temp.sort_values(year, ascending=False).dropna()\n",
    " \n",
    "# Plot\n",
    "trace = go.Bar(\n",
    "                x=temp.emojis.values,\n",
    "                y=temp[year].values,\n",
    "                textposition = \"outside\",\n",
    "                texttemplate = \"%{x}<br>%{y}\",\n",
    "                textfont = {'size': [14]*10},\n",
    "                hoverinfo='none', \n",
    "                opacity=1,\n",
    "                marker=dict(color=\"orange\"),\n",
    "                cliponaxis = False\n",
    "                )\n",
    " \n",
    "layout = go.Layout(title=f'Emojis del día {year.date()}',\n",
    "                   xaxis = {\"range\":[-1,10],\"autorange\": False, \"showline\":False,\"tickangle\":-90, \"visible\":False},\n",
    "                   yaxis = {\"range\":[-1,70],\"autorange\": False, \"showline\":False, \"visible\":False},\n",
    "                   plot_bgcolor= '#FFFFFF',\n",
    "                   updatemenus=[dict(type=\"buttons\",\n",
    "                                     buttons=[dict(label=\"▶️\",\n",
    "                                                   method=\"animate\",\n",
    "                                                   args=[None, {\"frame\": {\"duration\": 800, \"redraw\": True},\n",
    "                                                                \"fromcurrent\": True}]),\n",
    "                                              {\n",
    "                \"args\": [[None], {\"frame\": {\"duration\": 0, \"redraw\": True},\n",
    "                                  \"mode\": \"immediate\",\n",
    "                                  \"transition\": {\"duration\": 0}}],\n",
    "                \"label\": \"⏸️\",\n",
    "                \"method\": \"animate\"\n",
    "            }\n",
    "                                             ]\n",
    "                                    )\n",
    "                               ]\n",
    "                  )\n",
    " \n",
    "fig = go.Figure(data=[trace], layout=layout, frames=frames)\n",
    " \n",
    "fig.show()"
   ]
  },
  {
   "cell_type": "code",
   "execution_count": 34,
   "metadata": {},
   "outputs": [],
   "source": [
    "import re\n",
    "from nltk.corpus import stopwords\n",
    "from sklearn.feature_extraction.text import TfidfVectorizer\n",
    "stopwords_sp = stopwords.words('spanish')\n",
    " \n",
    "def pre_procesado(texto):\n",
    "    texto = texto.lower()\n",
    "    texto = re.sub(r\"[\\W\\d_]+\", \" \", texto)\n",
    "    texto = \" \".join([palabra for palabra in texto.split() if palabra not in stopwords_sp])\n",
    "    return texto\n",
    " \n",
    "tfidf_vect = TfidfVectorizer(preprocessor=pre_procesado, ngram_range=(1,1), max_features=50)\n",
    "tfidf = tfidf_vect.fit_transform(data.clean.values)"
   ]
  },
  {
   "cell_type": "code",
   "execution_count": 35,
   "metadata": {},
   "outputs": [
    {
     "data": {
      "text/html": [
       "<div>\n",
       "<style scoped>\n",
       "    .dataframe tbody tr th:only-of-type {\n",
       "        vertical-align: middle;\n",
       "    }\n",
       "\n",
       "    .dataframe tbody tr th {\n",
       "        vertical-align: top;\n",
       "    }\n",
       "\n",
       "    .dataframe thead th {\n",
       "        text-align: right;\n",
       "    }\n",
       "</style>\n",
       "<table border=\"1\" class=\"dataframe\">\n",
       "  <thead>\n",
       "    <tr style=\"text-align: right;\">\n",
       "      <th></th>\n",
       "      <th>ahora</th>\n",
       "      <th>aquí</th>\n",
       "      <th>así</th>\n",
       "      <th>año</th>\n",
       "      <th>biden</th>\n",
       "      <th>bogotá</th>\n",
       "      <th>casos</th>\n",
       "      <th>colombia</th>\n",
       "      <th>contacto</th>\n",
       "      <th>contagio</th>\n",
       "      <th>...</th>\n",
       "      <th>si</th>\n",
       "      <th>solo</th>\n",
       "      <th>síntomas</th>\n",
       "      <th>tapabocas</th>\n",
       "      <th>tener</th>\n",
       "      <th>tras</th>\n",
       "      <th>través</th>\n",
       "      <th>vacuna</th>\n",
       "      <th>viajeros</th>\n",
       "      <th>virus</th>\n",
       "    </tr>\n",
       "  </thead>\n",
       "  <tbody>\n",
       "    <tr>\n",
       "      <th>ahora</th>\n",
       "      <td>1.000000</td>\n",
       "      <td>0.025538</td>\n",
       "      <td>0.051044</td>\n",
       "      <td>0.000000</td>\n",
       "      <td>0.056632</td>\n",
       "      <td>0.032430</td>\n",
       "      <td>0.011395</td>\n",
       "      <td>0.021948</td>\n",
       "      <td>0.000000</td>\n",
       "      <td>0.019733</td>\n",
       "      <td>...</td>\n",
       "      <td>0.034713</td>\n",
       "      <td>0.033449</td>\n",
       "      <td>0.056202</td>\n",
       "      <td>0.000000</td>\n",
       "      <td>0.055353</td>\n",
       "      <td>0.000000</td>\n",
       "      <td>0.000000</td>\n",
       "      <td>0.032123</td>\n",
       "      <td>0.010744</td>\n",
       "      <td>0.063090</td>\n",
       "    </tr>\n",
       "    <tr>\n",
       "      <th>aquí</th>\n",
       "      <td>0.025538</td>\n",
       "      <td>1.000000</td>\n",
       "      <td>0.009401</td>\n",
       "      <td>0.000000</td>\n",
       "      <td>0.000000</td>\n",
       "      <td>0.029409</td>\n",
       "      <td>0.027022</td>\n",
       "      <td>0.060995</td>\n",
       "      <td>0.000000</td>\n",
       "      <td>0.019627</td>\n",
       "      <td>...</td>\n",
       "      <td>0.020686</td>\n",
       "      <td>0.009326</td>\n",
       "      <td>0.000000</td>\n",
       "      <td>0.015959</td>\n",
       "      <td>0.012692</td>\n",
       "      <td>0.010916</td>\n",
       "      <td>0.000000</td>\n",
       "      <td>0.024799</td>\n",
       "      <td>0.011904</td>\n",
       "      <td>0.038553</td>\n",
       "    </tr>\n",
       "    <tr>\n",
       "      <th>así</th>\n",
       "      <td>0.051044</td>\n",
       "      <td>0.009401</td>\n",
       "      <td>1.000000</td>\n",
       "      <td>0.118747</td>\n",
       "      <td>0.000000</td>\n",
       "      <td>0.071545</td>\n",
       "      <td>0.007505</td>\n",
       "      <td>0.006813</td>\n",
       "      <td>0.095217</td>\n",
       "      <td>0.029057</td>\n",
       "      <td>...</td>\n",
       "      <td>0.045752</td>\n",
       "      <td>0.011798</td>\n",
       "      <td>0.095618</td>\n",
       "      <td>0.014155</td>\n",
       "      <td>0.028768</td>\n",
       "      <td>0.000000</td>\n",
       "      <td>0.040012</td>\n",
       "      <td>0.015088</td>\n",
       "      <td>0.000000</td>\n",
       "      <td>0.030038</td>\n",
       "    </tr>\n",
       "    <tr>\n",
       "      <th>año</th>\n",
       "      <td>0.000000</td>\n",
       "      <td>0.000000</td>\n",
       "      <td>0.118747</td>\n",
       "      <td>1.000000</td>\n",
       "      <td>0.009843</td>\n",
       "      <td>0.163152</td>\n",
       "      <td>0.000000</td>\n",
       "      <td>0.008041</td>\n",
       "      <td>0.000000</td>\n",
       "      <td>0.016043</td>\n",
       "      <td>...</td>\n",
       "      <td>0.013414</td>\n",
       "      <td>0.041065</td>\n",
       "      <td>0.000000</td>\n",
       "      <td>0.000000</td>\n",
       "      <td>0.010259</td>\n",
       "      <td>0.023913</td>\n",
       "      <td>0.000000</td>\n",
       "      <td>0.021877</td>\n",
       "      <td>0.016775</td>\n",
       "      <td>0.042650</td>\n",
       "    </tr>\n",
       "    <tr>\n",
       "      <th>biden</th>\n",
       "      <td>0.056632</td>\n",
       "      <td>0.000000</td>\n",
       "      <td>0.000000</td>\n",
       "      <td>0.009843</td>\n",
       "      <td>1.000000</td>\n",
       "      <td>0.000000</td>\n",
       "      <td>0.016492</td>\n",
       "      <td>0.012129</td>\n",
       "      <td>0.000000</td>\n",
       "      <td>0.016299</td>\n",
       "      <td>...</td>\n",
       "      <td>0.041955</td>\n",
       "      <td>0.000000</td>\n",
       "      <td>0.000000</td>\n",
       "      <td>0.006990</td>\n",
       "      <td>0.000000</td>\n",
       "      <td>0.039922</td>\n",
       "      <td>0.000000</td>\n",
       "      <td>0.048320</td>\n",
       "      <td>0.000000</td>\n",
       "      <td>0.013570</td>\n",
       "    </tr>\n",
       "    <tr>\n",
       "      <th>bogotá</th>\n",
       "      <td>0.032430</td>\n",
       "      <td>0.029409</td>\n",
       "      <td>0.071545</td>\n",
       "      <td>0.163152</td>\n",
       "      <td>0.000000</td>\n",
       "      <td>1.000000</td>\n",
       "      <td>0.123318</td>\n",
       "      <td>0.019891</td>\n",
       "      <td>0.000000</td>\n",
       "      <td>0.000000</td>\n",
       "      <td>...</td>\n",
       "      <td>0.007705</td>\n",
       "      <td>0.024222</td>\n",
       "      <td>0.000000</td>\n",
       "      <td>0.000000</td>\n",
       "      <td>0.010267</td>\n",
       "      <td>0.025631</td>\n",
       "      <td>0.025442</td>\n",
       "      <td>0.004684</td>\n",
       "      <td>0.000000</td>\n",
       "      <td>0.036527</td>\n",
       "    </tr>\n",
       "    <tr>\n",
       "      <th>casos</th>\n",
       "      <td>0.011395</td>\n",
       "      <td>0.027022</td>\n",
       "      <td>0.007505</td>\n",
       "      <td>0.000000</td>\n",
       "      <td>0.016492</td>\n",
       "      <td>0.123318</td>\n",
       "      <td>1.000000</td>\n",
       "      <td>0.107334</td>\n",
       "      <td>0.000000</td>\n",
       "      <td>0.015808</td>\n",
       "      <td>...</td>\n",
       "      <td>0.005993</td>\n",
       "      <td>0.024518</td>\n",
       "      <td>0.000000</td>\n",
       "      <td>0.009840</td>\n",
       "      <td>0.000000</td>\n",
       "      <td>0.021620</td>\n",
       "      <td>0.006460</td>\n",
       "      <td>0.008495</td>\n",
       "      <td>0.000000</td>\n",
       "      <td>0.031035</td>\n",
       "    </tr>\n",
       "    <tr>\n",
       "      <th>colombia</th>\n",
       "      <td>0.021948</td>\n",
       "      <td>0.060995</td>\n",
       "      <td>0.006813</td>\n",
       "      <td>0.008041</td>\n",
       "      <td>0.012129</td>\n",
       "      <td>0.019891</td>\n",
       "      <td>0.107334</td>\n",
       "      <td>1.000000</td>\n",
       "      <td>0.008482</td>\n",
       "      <td>0.016871</td>\n",
       "      <td>...</td>\n",
       "      <td>0.016744</td>\n",
       "      <td>0.038848</td>\n",
       "      <td>0.000000</td>\n",
       "      <td>0.005191</td>\n",
       "      <td>0.036901</td>\n",
       "      <td>0.062020</td>\n",
       "      <td>0.123967</td>\n",
       "      <td>0.069705</td>\n",
       "      <td>0.066328</td>\n",
       "      <td>0.012033</td>\n",
       "    </tr>\n",
       "    <tr>\n",
       "      <th>contacto</th>\n",
       "      <td>0.000000</td>\n",
       "      <td>0.000000</td>\n",
       "      <td>0.095217</td>\n",
       "      <td>0.000000</td>\n",
       "      <td>0.000000</td>\n",
       "      <td>0.000000</td>\n",
       "      <td>0.000000</td>\n",
       "      <td>0.008482</td>\n",
       "      <td>1.000000</td>\n",
       "      <td>0.026476</td>\n",
       "      <td>...</td>\n",
       "      <td>0.030257</td>\n",
       "      <td>0.019027</td>\n",
       "      <td>0.287111</td>\n",
       "      <td>0.000000</td>\n",
       "      <td>0.000000</td>\n",
       "      <td>0.031279</td>\n",
       "      <td>0.032783</td>\n",
       "      <td>0.000000</td>\n",
       "      <td>0.000000</td>\n",
       "      <td>0.000000</td>\n",
       "    </tr>\n",
       "    <tr>\n",
       "      <th>contagio</th>\n",
       "      <td>0.019733</td>\n",
       "      <td>0.019627</td>\n",
       "      <td>0.029057</td>\n",
       "      <td>0.016043</td>\n",
       "      <td>0.016299</td>\n",
       "      <td>0.000000</td>\n",
       "      <td>0.015808</td>\n",
       "      <td>0.016871</td>\n",
       "      <td>0.026476</td>\n",
       "      <td>1.000000</td>\n",
       "      <td>...</td>\n",
       "      <td>0.018901</td>\n",
       "      <td>0.000000</td>\n",
       "      <td>0.000000</td>\n",
       "      <td>0.009484</td>\n",
       "      <td>0.000000</td>\n",
       "      <td>0.000000</td>\n",
       "      <td>0.013499</td>\n",
       "      <td>0.000000</td>\n",
       "      <td>0.022319</td>\n",
       "      <td>0.048404</td>\n",
       "    </tr>\n",
       "    <tr>\n",
       "      <th>contagios</th>\n",
       "      <td>0.006151</td>\n",
       "      <td>0.021389</td>\n",
       "      <td>0.000000</td>\n",
       "      <td>0.000000</td>\n",
       "      <td>0.009541</td>\n",
       "      <td>0.048128</td>\n",
       "      <td>0.094186</td>\n",
       "      <td>0.082372</td>\n",
       "      <td>0.000000</td>\n",
       "      <td>0.006840</td>\n",
       "      <td>...</td>\n",
       "      <td>0.013257</td>\n",
       "      <td>0.000000</td>\n",
       "      <td>0.000000</td>\n",
       "      <td>0.000000</td>\n",
       "      <td>0.000000</td>\n",
       "      <td>0.007227</td>\n",
       "      <td>0.000000</td>\n",
       "      <td>0.004303</td>\n",
       "      <td>0.007707</td>\n",
       "      <td>0.034038</td>\n",
       "    </tr>\n",
       "    <tr>\n",
       "      <th>coronavirus</th>\n",
       "      <td>0.000000</td>\n",
       "      <td>0.025399</td>\n",
       "      <td>0.020752</td>\n",
       "      <td>0.021175</td>\n",
       "      <td>0.000000</td>\n",
       "      <td>0.047648</td>\n",
       "      <td>0.085265</td>\n",
       "      <td>0.028095</td>\n",
       "      <td>0.000000</td>\n",
       "      <td>0.051614</td>\n",
       "      <td>...</td>\n",
       "      <td>0.000000</td>\n",
       "      <td>0.019959</td>\n",
       "      <td>0.000000</td>\n",
       "      <td>0.000000</td>\n",
       "      <td>0.000000</td>\n",
       "      <td>0.006875</td>\n",
       "      <td>0.000000</td>\n",
       "      <td>0.020261</td>\n",
       "      <td>0.050911</td>\n",
       "      <td>0.000000</td>\n",
       "    </tr>\n",
       "    <tr>\n",
       "      <th>covid</th>\n",
       "      <td>0.057649</td>\n",
       "      <td>0.048426</td>\n",
       "      <td>0.077592</td>\n",
       "      <td>0.047874</td>\n",
       "      <td>0.053095</td>\n",
       "      <td>0.072313</td>\n",
       "      <td>0.104100</td>\n",
       "      <td>0.117757</td>\n",
       "      <td>0.035895</td>\n",
       "      <td>0.060429</td>\n",
       "      <td>...</td>\n",
       "      <td>0.114046</td>\n",
       "      <td>0.053336</td>\n",
       "      <td>0.045513</td>\n",
       "      <td>0.015393</td>\n",
       "      <td>0.046524</td>\n",
       "      <td>0.042858</td>\n",
       "      <td>0.056064</td>\n",
       "      <td>0.120905</td>\n",
       "      <td>0.039945</td>\n",
       "      <td>0.043016</td>\n",
       "    </tr>\n",
       "    <tr>\n",
       "      <th>cómo</th>\n",
       "      <td>0.008035</td>\n",
       "      <td>0.027153</td>\n",
       "      <td>0.038925</td>\n",
       "      <td>0.011665</td>\n",
       "      <td>0.000000</td>\n",
       "      <td>0.000000</td>\n",
       "      <td>0.007369</td>\n",
       "      <td>0.005844</td>\n",
       "      <td>0.037786</td>\n",
       "      <td>0.000000</td>\n",
       "      <td>...</td>\n",
       "      <td>0.022377</td>\n",
       "      <td>0.031684</td>\n",
       "      <td>0.076034</td>\n",
       "      <td>0.000000</td>\n",
       "      <td>0.006049</td>\n",
       "      <td>0.100215</td>\n",
       "      <td>0.000000</td>\n",
       "      <td>0.022250</td>\n",
       "      <td>0.000000</td>\n",
       "      <td>0.007566</td>\n",
       "    </tr>\n",
       "    <tr>\n",
       "      <th>da</th>\n",
       "      <td>0.033333</td>\n",
       "      <td>0.008284</td>\n",
       "      <td>0.000000</td>\n",
       "      <td>0.046204</td>\n",
       "      <td>0.016793</td>\n",
       "      <td>0.028417</td>\n",
       "      <td>0.011841</td>\n",
       "      <td>0.018675</td>\n",
       "      <td>0.000000</td>\n",
       "      <td>0.013634</td>\n",
       "      <td>...</td>\n",
       "      <td>0.050804</td>\n",
       "      <td>0.084772</td>\n",
       "      <td>0.000000</td>\n",
       "      <td>0.006094</td>\n",
       "      <td>0.013570</td>\n",
       "      <td>0.023886</td>\n",
       "      <td>0.000000</td>\n",
       "      <td>0.015434</td>\n",
       "      <td>0.000000</td>\n",
       "      <td>0.019461</td>\n",
       "    </tr>\n",
       "    <tr>\n",
       "      <th>después</th>\n",
       "      <td>0.063142</td>\n",
       "      <td>0.000000</td>\n",
       "      <td>0.021392</td>\n",
       "      <td>0.010935</td>\n",
       "      <td>0.019166</td>\n",
       "      <td>0.000000</td>\n",
       "      <td>0.007391</td>\n",
       "      <td>0.000000</td>\n",
       "      <td>0.006320</td>\n",
       "      <td>0.010444</td>\n",
       "      <td>...</td>\n",
       "      <td>0.011775</td>\n",
       "      <td>0.015394</td>\n",
       "      <td>0.025010</td>\n",
       "      <td>0.000000</td>\n",
       "      <td>0.009842</td>\n",
       "      <td>0.000000</td>\n",
       "      <td>0.015239</td>\n",
       "      <td>0.068237</td>\n",
       "      <td>0.000000</td>\n",
       "      <td>0.029688</td>\n",
       "    </tr>\n",
       "    <tr>\n",
       "      <th>dio</th>\n",
       "      <td>0.061411</td>\n",
       "      <td>0.000000</td>\n",
       "      <td>0.027604</td>\n",
       "      <td>0.000000</td>\n",
       "      <td>0.000000</td>\n",
       "      <td>0.007567</td>\n",
       "      <td>0.000000</td>\n",
       "      <td>0.030295</td>\n",
       "      <td>0.043537</td>\n",
       "      <td>0.009211</td>\n",
       "      <td>...</td>\n",
       "      <td>0.009091</td>\n",
       "      <td>0.008769</td>\n",
       "      <td>0.000000</td>\n",
       "      <td>0.008629</td>\n",
       "      <td>0.041976</td>\n",
       "      <td>0.008611</td>\n",
       "      <td>0.039537</td>\n",
       "      <td>0.007124</td>\n",
       "      <td>0.009888</td>\n",
       "      <td>0.033328</td>\n",
       "    </tr>\n",
       "    <tr>\n",
       "      <th>dos</th>\n",
       "      <td>0.085289</td>\n",
       "      <td>0.016787</td>\n",
       "      <td>0.017933</td>\n",
       "      <td>0.034874</td>\n",
       "      <td>0.000000</td>\n",
       "      <td>0.010939</td>\n",
       "      <td>0.009171</td>\n",
       "      <td>0.003625</td>\n",
       "      <td>0.013068</td>\n",
       "      <td>0.000000</td>\n",
       "      <td>...</td>\n",
       "      <td>0.014769</td>\n",
       "      <td>0.021943</td>\n",
       "      <td>0.000000</td>\n",
       "      <td>0.000000</td>\n",
       "      <td>0.019079</td>\n",
       "      <td>0.010601</td>\n",
       "      <td>0.000000</td>\n",
       "      <td>0.065445</td>\n",
       "      <td>0.000000</td>\n",
       "      <td>0.032131</td>\n",
       "    </tr>\n",
       "    <tr>\n",
       "      <th>día</th>\n",
       "      <td>0.035929</td>\n",
       "      <td>0.010949</td>\n",
       "      <td>0.000000</td>\n",
       "      <td>0.009812</td>\n",
       "      <td>0.089827</td>\n",
       "      <td>0.039615</td>\n",
       "      <td>0.035884</td>\n",
       "      <td>0.022150</td>\n",
       "      <td>0.006080</td>\n",
       "      <td>0.000000</td>\n",
       "      <td>...</td>\n",
       "      <td>0.022915</td>\n",
       "      <td>0.051542</td>\n",
       "      <td>0.074911</td>\n",
       "      <td>0.000000</td>\n",
       "      <td>0.072389</td>\n",
       "      <td>0.008194</td>\n",
       "      <td>0.000000</td>\n",
       "      <td>0.040641</td>\n",
       "      <td>0.000000</td>\n",
       "      <td>0.010531</td>\n",
       "    </tr>\n",
       "    <tr>\n",
       "      <th>días</th>\n",
       "      <td>0.066697</td>\n",
       "      <td>0.039613</td>\n",
       "      <td>0.011027</td>\n",
       "      <td>0.000000</td>\n",
       "      <td>0.000000</td>\n",
       "      <td>0.010487</td>\n",
       "      <td>0.053908</td>\n",
       "      <td>0.033063</td>\n",
       "      <td>0.023960</td>\n",
       "      <td>0.000000</td>\n",
       "      <td>...</td>\n",
       "      <td>0.040687</td>\n",
       "      <td>0.007362</td>\n",
       "      <td>0.063636</td>\n",
       "      <td>0.006272</td>\n",
       "      <td>0.046232</td>\n",
       "      <td>0.009672</td>\n",
       "      <td>0.000000</td>\n",
       "      <td>0.010589</td>\n",
       "      <td>0.000000</td>\n",
       "      <td>0.059943</td>\n",
       "    </tr>\n",
       "    <tr>\n",
       "      <th>gobierno</th>\n",
       "      <td>0.043371</td>\n",
       "      <td>0.046952</td>\n",
       "      <td>0.055346</td>\n",
       "      <td>0.012995</td>\n",
       "      <td>0.053657</td>\n",
       "      <td>0.000000</td>\n",
       "      <td>0.004020</td>\n",
       "      <td>0.029712</td>\n",
       "      <td>0.000000</td>\n",
       "      <td>0.007835</td>\n",
       "      <td>...</td>\n",
       "      <td>0.063088</td>\n",
       "      <td>0.013015</td>\n",
       "      <td>0.000000</td>\n",
       "      <td>0.000000</td>\n",
       "      <td>0.017022</td>\n",
       "      <td>0.014900</td>\n",
       "      <td>0.019185</td>\n",
       "      <td>0.013146</td>\n",
       "      <td>0.118368</td>\n",
       "      <td>0.046903</td>\n",
       "    </tr>\n",
       "    <tr>\n",
       "      <th>hoy</th>\n",
       "      <td>0.029029</td>\n",
       "      <td>0.015778</td>\n",
       "      <td>0.009242</td>\n",
       "      <td>0.012476</td>\n",
       "      <td>0.026182</td>\n",
       "      <td>0.078717</td>\n",
       "      <td>0.053329</td>\n",
       "      <td>0.065578</td>\n",
       "      <td>0.004065</td>\n",
       "      <td>0.039815</td>\n",
       "      <td>...</td>\n",
       "      <td>0.030493</td>\n",
       "      <td>0.007332</td>\n",
       "      <td>0.038744</td>\n",
       "      <td>0.000000</td>\n",
       "      <td>0.049005</td>\n",
       "      <td>0.025818</td>\n",
       "      <td>0.000000</td>\n",
       "      <td>0.023697</td>\n",
       "      <td>0.013804</td>\n",
       "      <td>0.023757</td>\n",
       "    </tr>\n",
       "    <tr>\n",
       "      <th>manos</th>\n",
       "      <td>0.000000</td>\n",
       "      <td>0.000000</td>\n",
       "      <td>0.000000</td>\n",
       "      <td>0.000000</td>\n",
       "      <td>0.013418</td>\n",
       "      <td>0.000000</td>\n",
       "      <td>0.011820</td>\n",
       "      <td>0.000000</td>\n",
       "      <td>0.051093</td>\n",
       "      <td>0.124029</td>\n",
       "      <td>...</td>\n",
       "      <td>0.067015</td>\n",
       "      <td>0.000000</td>\n",
       "      <td>0.034707</td>\n",
       "      <td>0.044426</td>\n",
       "      <td>0.000000</td>\n",
       "      <td>0.000000</td>\n",
       "      <td>0.000000</td>\n",
       "      <td>0.000000</td>\n",
       "      <td>0.014750</td>\n",
       "      <td>0.020285</td>\n",
       "    </tr>\n",
       "    <tr>\n",
       "      <th>medidas</th>\n",
       "      <td>0.000000</td>\n",
       "      <td>0.039329</td>\n",
       "      <td>0.000000</td>\n",
       "      <td>0.000000</td>\n",
       "      <td>0.000000</td>\n",
       "      <td>0.016647</td>\n",
       "      <td>0.017522</td>\n",
       "      <td>0.026156</td>\n",
       "      <td>0.000000</td>\n",
       "      <td>0.043723</td>\n",
       "      <td>...</td>\n",
       "      <td>0.021682</td>\n",
       "      <td>0.011301</td>\n",
       "      <td>0.000000</td>\n",
       "      <td>0.025441</td>\n",
       "      <td>0.000000</td>\n",
       "      <td>0.015708</td>\n",
       "      <td>0.021435</td>\n",
       "      <td>0.000000</td>\n",
       "      <td>0.027045</td>\n",
       "      <td>0.014618</td>\n",
       "    </tr>\n",
       "    <tr>\n",
       "      <th>medio</th>\n",
       "      <td>0.000000</td>\n",
       "      <td>0.010401</td>\n",
       "      <td>0.000000</td>\n",
       "      <td>0.033883</td>\n",
       "      <td>0.014269</td>\n",
       "      <td>0.000000</td>\n",
       "      <td>0.006704</td>\n",
       "      <td>0.006249</td>\n",
       "      <td>0.015418</td>\n",
       "      <td>0.083423</td>\n",
       "      <td>...</td>\n",
       "      <td>0.012478</td>\n",
       "      <td>0.010606</td>\n",
       "      <td>0.000000</td>\n",
       "      <td>0.000000</td>\n",
       "      <td>0.013923</td>\n",
       "      <td>0.025905</td>\n",
       "      <td>0.016213</td>\n",
       "      <td>0.000000</td>\n",
       "      <td>0.000000</td>\n",
       "      <td>0.044123</td>\n",
       "    </tr>\n",
       "    <tr>\n",
       "      <th>millones</th>\n",
       "      <td>0.012546</td>\n",
       "      <td>0.000000</td>\n",
       "      <td>0.000000</td>\n",
       "      <td>0.038190</td>\n",
       "      <td>0.038066</td>\n",
       "      <td>0.000000</td>\n",
       "      <td>0.043655</td>\n",
       "      <td>0.014767</td>\n",
       "      <td>0.000000</td>\n",
       "      <td>0.000000</td>\n",
       "      <td>...</td>\n",
       "      <td>0.005204</td>\n",
       "      <td>0.009620</td>\n",
       "      <td>0.000000</td>\n",
       "      <td>0.006687</td>\n",
       "      <td>0.000000</td>\n",
       "      <td>0.020510</td>\n",
       "      <td>0.000000</td>\n",
       "      <td>0.048540</td>\n",
       "      <td>0.000000</td>\n",
       "      <td>0.078776</td>\n",
       "    </tr>\n",
       "    <tr>\n",
       "      <th>muertes</th>\n",
       "      <td>0.030694</td>\n",
       "      <td>0.011314</td>\n",
       "      <td>0.000000</td>\n",
       "      <td>0.000000</td>\n",
       "      <td>0.023152</td>\n",
       "      <td>0.065619</td>\n",
       "      <td>0.068575</td>\n",
       "      <td>0.154695</td>\n",
       "      <td>0.000000</td>\n",
       "      <td>0.000000</td>\n",
       "      <td>...</td>\n",
       "      <td>0.013455</td>\n",
       "      <td>0.023936</td>\n",
       "      <td>0.000000</td>\n",
       "      <td>0.007887</td>\n",
       "      <td>0.000000</td>\n",
       "      <td>0.000000</td>\n",
       "      <td>0.023863</td>\n",
       "      <td>0.000000</td>\n",
       "      <td>0.000000</td>\n",
       "      <td>0.000000</td>\n",
       "    </tr>\n",
       "    <tr>\n",
       "      <th>mundo</th>\n",
       "      <td>0.000000</td>\n",
       "      <td>0.000000</td>\n",
       "      <td>0.019671</td>\n",
       "      <td>0.019401</td>\n",
       "      <td>0.015929</td>\n",
       "      <td>0.000000</td>\n",
       "      <td>0.029665</td>\n",
       "      <td>0.033874</td>\n",
       "      <td>0.000000</td>\n",
       "      <td>0.027935</td>\n",
       "      <td>...</td>\n",
       "      <td>0.008392</td>\n",
       "      <td>0.022224</td>\n",
       "      <td>0.008763</td>\n",
       "      <td>0.000000</td>\n",
       "      <td>0.007930</td>\n",
       "      <td>0.000000</td>\n",
       "      <td>0.000000</td>\n",
       "      <td>0.063469</td>\n",
       "      <td>0.000000</td>\n",
       "      <td>0.058301</td>\n",
       "    </tr>\n",
       "    <tr>\n",
       "      <th>nuevos</th>\n",
       "      <td>0.047604</td>\n",
       "      <td>0.036520</td>\n",
       "      <td>0.000000</td>\n",
       "      <td>0.022240</td>\n",
       "      <td>0.000000</td>\n",
       "      <td>0.064448</td>\n",
       "      <td>0.230291</td>\n",
       "      <td>0.180179</td>\n",
       "      <td>0.000000</td>\n",
       "      <td>0.023670</td>\n",
       "      <td>...</td>\n",
       "      <td>0.000000</td>\n",
       "      <td>0.009502</td>\n",
       "      <td>0.000000</td>\n",
       "      <td>0.000000</td>\n",
       "      <td>0.000000</td>\n",
       "      <td>0.029382</td>\n",
       "      <td>0.017408</td>\n",
       "      <td>0.000000</td>\n",
       "      <td>0.000000</td>\n",
       "      <td>0.000000</td>\n",
       "    </tr>\n",
       "    <tr>\n",
       "      <th>pandemia</th>\n",
       "      <td>0.024763</td>\n",
       "      <td>0.078490</td>\n",
       "      <td>0.031671</td>\n",
       "      <td>0.032491</td>\n",
       "      <td>0.051484</td>\n",
       "      <td>0.040750</td>\n",
       "      <td>0.026276</td>\n",
       "      <td>0.026318</td>\n",
       "      <td>0.007670</td>\n",
       "      <td>0.018397</td>\n",
       "      <td>...</td>\n",
       "      <td>0.031472</td>\n",
       "      <td>0.022744</td>\n",
       "      <td>0.024162</td>\n",
       "      <td>0.000000</td>\n",
       "      <td>0.020213</td>\n",
       "      <td>0.070728</td>\n",
       "      <td>0.013223</td>\n",
       "      <td>0.026732</td>\n",
       "      <td>0.028112</td>\n",
       "      <td>0.094491</td>\n",
       "    </tr>\n",
       "    <tr>\n",
       "      <th>país</th>\n",
       "      <td>0.049912</td>\n",
       "      <td>0.061707</td>\n",
       "      <td>0.017202</td>\n",
       "      <td>0.007615</td>\n",
       "      <td>0.006213</td>\n",
       "      <td>0.060471</td>\n",
       "      <td>0.079017</td>\n",
       "      <td>0.088777</td>\n",
       "      <td>0.000000</td>\n",
       "      <td>0.013154</td>\n",
       "      <td>...</td>\n",
       "      <td>0.031478</td>\n",
       "      <td>0.005727</td>\n",
       "      <td>0.010907</td>\n",
       "      <td>0.000000</td>\n",
       "      <td>0.034564</td>\n",
       "      <td>0.014915</td>\n",
       "      <td>0.012534</td>\n",
       "      <td>0.033874</td>\n",
       "      <td>0.088648</td>\n",
       "      <td>0.050955</td>\n",
       "    </tr>\n",
       "    <tr>\n",
       "      <th>personas</th>\n",
       "      <td>0.003643</td>\n",
       "      <td>0.000000</td>\n",
       "      <td>0.037421</td>\n",
       "      <td>0.061880</td>\n",
       "      <td>0.017477</td>\n",
       "      <td>0.035165</td>\n",
       "      <td>0.020660</td>\n",
       "      <td>0.022587</td>\n",
       "      <td>0.129465</td>\n",
       "      <td>0.096636</td>\n",
       "      <td>...</td>\n",
       "      <td>0.039284</td>\n",
       "      <td>0.044700</td>\n",
       "      <td>0.062874</td>\n",
       "      <td>0.038944</td>\n",
       "      <td>0.043808</td>\n",
       "      <td>0.000000</td>\n",
       "      <td>0.023054</td>\n",
       "      <td>0.011022</td>\n",
       "      <td>0.000000</td>\n",
       "      <td>0.080807</td>\n",
       "    </tr>\n",
       "    <tr>\n",
       "      <th>pfizer</th>\n",
       "      <td>0.000000</td>\n",
       "      <td>0.041719</td>\n",
       "      <td>0.025063</td>\n",
       "      <td>0.019181</td>\n",
       "      <td>0.010913</td>\n",
       "      <td>0.000000</td>\n",
       "      <td>0.004180</td>\n",
       "      <td>0.030688</td>\n",
       "      <td>0.000000</td>\n",
       "      <td>0.000000</td>\n",
       "      <td>...</td>\n",
       "      <td>0.001748</td>\n",
       "      <td>0.000000</td>\n",
       "      <td>0.000000</td>\n",
       "      <td>0.000000</td>\n",
       "      <td>0.011336</td>\n",
       "      <td>0.033201</td>\n",
       "      <td>0.012057</td>\n",
       "      <td>0.432715</td>\n",
       "      <td>0.000000</td>\n",
       "      <td>0.000000</td>\n",
       "    </tr>\n",
       "    <tr>\n",
       "      <th>positivo</th>\n",
       "      <td>0.035848</td>\n",
       "      <td>0.000000</td>\n",
       "      <td>0.035805</td>\n",
       "      <td>0.000000</td>\n",
       "      <td>0.000000</td>\n",
       "      <td>0.005282</td>\n",
       "      <td>0.000000</td>\n",
       "      <td>0.057892</td>\n",
       "      <td>0.188584</td>\n",
       "      <td>0.006429</td>\n",
       "      <td>...</td>\n",
       "      <td>0.033513</td>\n",
       "      <td>0.013685</td>\n",
       "      <td>0.125263</td>\n",
       "      <td>0.006023</td>\n",
       "      <td>0.049394</td>\n",
       "      <td>0.057949</td>\n",
       "      <td>0.056209</td>\n",
       "      <td>0.000000</td>\n",
       "      <td>0.000000</td>\n",
       "      <td>0.012912</td>\n",
       "    </tr>\n",
       "    <tr>\n",
       "      <th>presidente</th>\n",
       "      <td>0.016712</td>\n",
       "      <td>0.044834</td>\n",
       "      <td>0.000000</td>\n",
       "      <td>0.039776</td>\n",
       "      <td>0.093363</td>\n",
       "      <td>0.000000</td>\n",
       "      <td>0.009294</td>\n",
       "      <td>0.021744</td>\n",
       "      <td>0.000000</td>\n",
       "      <td>0.012687</td>\n",
       "      <td>...</td>\n",
       "      <td>0.000000</td>\n",
       "      <td>0.000000</td>\n",
       "      <td>0.000000</td>\n",
       "      <td>0.007532</td>\n",
       "      <td>0.000000</td>\n",
       "      <td>0.034194</td>\n",
       "      <td>0.000000</td>\n",
       "      <td>0.031377</td>\n",
       "      <td>0.000000</td>\n",
       "      <td>0.025091</td>\n",
       "    </tr>\n",
       "    <tr>\n",
       "      <th>prueba</th>\n",
       "      <td>0.026664</td>\n",
       "      <td>0.013194</td>\n",
       "      <td>0.055012</td>\n",
       "      <td>0.010917</td>\n",
       "      <td>0.000000</td>\n",
       "      <td>0.020055</td>\n",
       "      <td>0.005740</td>\n",
       "      <td>0.059125</td>\n",
       "      <td>0.105750</td>\n",
       "      <td>0.000000</td>\n",
       "      <td>...</td>\n",
       "      <td>0.054250</td>\n",
       "      <td>0.030860</td>\n",
       "      <td>0.144634</td>\n",
       "      <td>0.008928</td>\n",
       "      <td>0.044706</td>\n",
       "      <td>0.018580</td>\n",
       "      <td>0.020131</td>\n",
       "      <td>0.007129</td>\n",
       "      <td>0.201711</td>\n",
       "      <td>0.010203</td>\n",
       "    </tr>\n",
       "    <tr>\n",
       "      <th>pruebas</th>\n",
       "      <td>0.031859</td>\n",
       "      <td>0.018131</td>\n",
       "      <td>0.081035</td>\n",
       "      <td>0.000000</td>\n",
       "      <td>0.000000</td>\n",
       "      <td>0.012634</td>\n",
       "      <td>0.024542</td>\n",
       "      <td>0.214193</td>\n",
       "      <td>0.007895</td>\n",
       "      <td>0.011337</td>\n",
       "      <td>...</td>\n",
       "      <td>0.019750</td>\n",
       "      <td>0.007447</td>\n",
       "      <td>0.000000</td>\n",
       "      <td>0.000000</td>\n",
       "      <td>0.000000</td>\n",
       "      <td>0.028356</td>\n",
       "      <td>0.152606</td>\n",
       "      <td>0.027891</td>\n",
       "      <td>0.076484</td>\n",
       "      <td>0.044412</td>\n",
       "    </tr>\n",
       "    <tr>\n",
       "      <th>requisito</th>\n",
       "      <td>0.000000</td>\n",
       "      <td>0.000000</td>\n",
       "      <td>0.009592</td>\n",
       "      <td>0.000000</td>\n",
       "      <td>0.000000</td>\n",
       "      <td>0.000000</td>\n",
       "      <td>0.000000</td>\n",
       "      <td>0.313170</td>\n",
       "      <td>0.000000</td>\n",
       "      <td>0.000000</td>\n",
       "      <td>...</td>\n",
       "      <td>0.000000</td>\n",
       "      <td>0.000000</td>\n",
       "      <td>0.000000</td>\n",
       "      <td>0.020803</td>\n",
       "      <td>0.000000</td>\n",
       "      <td>0.000000</td>\n",
       "      <td>0.264677</td>\n",
       "      <td>0.006489</td>\n",
       "      <td>0.060771</td>\n",
       "      <td>0.000000</td>\n",
       "    </tr>\n",
       "    <tr>\n",
       "      <th>salud</th>\n",
       "      <td>0.018688</td>\n",
       "      <td>0.036678</td>\n",
       "      <td>0.023954</td>\n",
       "      <td>0.024575</td>\n",
       "      <td>0.013257</td>\n",
       "      <td>0.032361</td>\n",
       "      <td>0.059430</td>\n",
       "      <td>0.049485</td>\n",
       "      <td>0.034528</td>\n",
       "      <td>0.028049</td>\n",
       "      <td>...</td>\n",
       "      <td>0.028715</td>\n",
       "      <td>0.005599</td>\n",
       "      <td>0.022734</td>\n",
       "      <td>0.000000</td>\n",
       "      <td>0.010541</td>\n",
       "      <td>0.005386</td>\n",
       "      <td>0.072795</td>\n",
       "      <td>0.042606</td>\n",
       "      <td>0.038138</td>\n",
       "      <td>0.014031</td>\n",
       "    </tr>\n",
       "    <tr>\n",
       "      <th>ser</th>\n",
       "      <td>0.025487</td>\n",
       "      <td>0.000000</td>\n",
       "      <td>0.085530</td>\n",
       "      <td>0.016459</td>\n",
       "      <td>0.008463</td>\n",
       "      <td>0.000000</td>\n",
       "      <td>0.007502</td>\n",
       "      <td>0.032825</td>\n",
       "      <td>0.116793</td>\n",
       "      <td>0.000000</td>\n",
       "      <td>...</td>\n",
       "      <td>0.004086</td>\n",
       "      <td>0.028466</td>\n",
       "      <td>0.076340</td>\n",
       "      <td>0.000000</td>\n",
       "      <td>0.008821</td>\n",
       "      <td>0.013652</td>\n",
       "      <td>0.000000</td>\n",
       "      <td>0.054985</td>\n",
       "      <td>0.000000</td>\n",
       "      <td>0.020278</td>\n",
       "    </tr>\n",
       "    <tr>\n",
       "      <th>si</th>\n",
       "      <td>0.034713</td>\n",
       "      <td>0.020686</td>\n",
       "      <td>0.045752</td>\n",
       "      <td>0.013414</td>\n",
       "      <td>0.041955</td>\n",
       "      <td>0.007705</td>\n",
       "      <td>0.005993</td>\n",
       "      <td>0.016744</td>\n",
       "      <td>0.030257</td>\n",
       "      <td>0.018901</td>\n",
       "      <td>...</td>\n",
       "      <td>1.000000</td>\n",
       "      <td>0.059604</td>\n",
       "      <td>0.074364</td>\n",
       "      <td>0.079799</td>\n",
       "      <td>0.037213</td>\n",
       "      <td>0.015794</td>\n",
       "      <td>0.028176</td>\n",
       "      <td>0.032696</td>\n",
       "      <td>0.012804</td>\n",
       "      <td>0.058198</td>\n",
       "    </tr>\n",
       "    <tr>\n",
       "      <th>solo</th>\n",
       "      <td>0.033449</td>\n",
       "      <td>0.009326</td>\n",
       "      <td>0.011798</td>\n",
       "      <td>0.041065</td>\n",
       "      <td>0.000000</td>\n",
       "      <td>0.024222</td>\n",
       "      <td>0.024518</td>\n",
       "      <td>0.038848</td>\n",
       "      <td>0.019027</td>\n",
       "      <td>0.000000</td>\n",
       "      <td>...</td>\n",
       "      <td>0.059604</td>\n",
       "      <td>1.000000</td>\n",
       "      <td>0.000000</td>\n",
       "      <td>0.005723</td>\n",
       "      <td>0.041896</td>\n",
       "      <td>0.000000</td>\n",
       "      <td>0.013244</td>\n",
       "      <td>0.000000</td>\n",
       "      <td>0.000000</td>\n",
       "      <td>0.009513</td>\n",
       "    </tr>\n",
       "    <tr>\n",
       "      <th>síntomas</th>\n",
       "      <td>0.056202</td>\n",
       "      <td>0.000000</td>\n",
       "      <td>0.095618</td>\n",
       "      <td>0.000000</td>\n",
       "      <td>0.000000</td>\n",
       "      <td>0.000000</td>\n",
       "      <td>0.000000</td>\n",
       "      <td>0.000000</td>\n",
       "      <td>0.287111</td>\n",
       "      <td>0.000000</td>\n",
       "      <td>...</td>\n",
       "      <td>0.074364</td>\n",
       "      <td>0.000000</td>\n",
       "      <td>1.000000</td>\n",
       "      <td>0.000000</td>\n",
       "      <td>0.065325</td>\n",
       "      <td>0.000000</td>\n",
       "      <td>0.109166</td>\n",
       "      <td>0.000000</td>\n",
       "      <td>0.019326</td>\n",
       "      <td>0.045572</td>\n",
       "    </tr>\n",
       "    <tr>\n",
       "      <th>tapabocas</th>\n",
       "      <td>0.000000</td>\n",
       "      <td>0.015959</td>\n",
       "      <td>0.014155</td>\n",
       "      <td>0.000000</td>\n",
       "      <td>0.006990</td>\n",
       "      <td>0.000000</td>\n",
       "      <td>0.009840</td>\n",
       "      <td>0.005191</td>\n",
       "      <td>0.000000</td>\n",
       "      <td>0.009484</td>\n",
       "      <td>...</td>\n",
       "      <td>0.079799</td>\n",
       "      <td>0.005723</td>\n",
       "      <td>0.000000</td>\n",
       "      <td>1.000000</td>\n",
       "      <td>0.000000</td>\n",
       "      <td>0.000000</td>\n",
       "      <td>0.000000</td>\n",
       "      <td>0.000000</td>\n",
       "      <td>0.000000</td>\n",
       "      <td>0.052171</td>\n",
       "    </tr>\n",
       "    <tr>\n",
       "      <th>tener</th>\n",
       "      <td>0.055353</td>\n",
       "      <td>0.012692</td>\n",
       "      <td>0.028768</td>\n",
       "      <td>0.010259</td>\n",
       "      <td>0.000000</td>\n",
       "      <td>0.010267</td>\n",
       "      <td>0.000000</td>\n",
       "      <td>0.036901</td>\n",
       "      <td>0.000000</td>\n",
       "      <td>0.000000</td>\n",
       "      <td>...</td>\n",
       "      <td>0.037213</td>\n",
       "      <td>0.041896</td>\n",
       "      <td>0.065325</td>\n",
       "      <td>0.000000</td>\n",
       "      <td>1.000000</td>\n",
       "      <td>0.046398</td>\n",
       "      <td>0.000000</td>\n",
       "      <td>0.030277</td>\n",
       "      <td>0.000000</td>\n",
       "      <td>0.047262</td>\n",
       "    </tr>\n",
       "    <tr>\n",
       "      <th>tras</th>\n",
       "      <td>0.000000</td>\n",
       "      <td>0.010916</td>\n",
       "      <td>0.000000</td>\n",
       "      <td>0.023913</td>\n",
       "      <td>0.039922</td>\n",
       "      <td>0.025631</td>\n",
       "      <td>0.021620</td>\n",
       "      <td>0.062020</td>\n",
       "      <td>0.031279</td>\n",
       "      <td>0.000000</td>\n",
       "      <td>...</td>\n",
       "      <td>0.015794</td>\n",
       "      <td>0.000000</td>\n",
       "      <td>0.000000</td>\n",
       "      <td>0.000000</td>\n",
       "      <td>0.046398</td>\n",
       "      <td>1.000000</td>\n",
       "      <td>0.053310</td>\n",
       "      <td>0.109711</td>\n",
       "      <td>0.024841</td>\n",
       "      <td>0.009343</td>\n",
       "    </tr>\n",
       "    <tr>\n",
       "      <th>través</th>\n",
       "      <td>0.000000</td>\n",
       "      <td>0.000000</td>\n",
       "      <td>0.040012</td>\n",
       "      <td>0.000000</td>\n",
       "      <td>0.000000</td>\n",
       "      <td>0.025442</td>\n",
       "      <td>0.006460</td>\n",
       "      <td>0.123967</td>\n",
       "      <td>0.032783</td>\n",
       "      <td>0.013499</td>\n",
       "      <td>...</td>\n",
       "      <td>0.028176</td>\n",
       "      <td>0.013244</td>\n",
       "      <td>0.109166</td>\n",
       "      <td>0.000000</td>\n",
       "      <td>0.000000</td>\n",
       "      <td>0.053310</td>\n",
       "      <td>1.000000</td>\n",
       "      <td>0.016951</td>\n",
       "      <td>0.045381</td>\n",
       "      <td>0.037659</td>\n",
       "    </tr>\n",
       "    <tr>\n",
       "      <th>vacuna</th>\n",
       "      <td>0.032123</td>\n",
       "      <td>0.024799</td>\n",
       "      <td>0.015088</td>\n",
       "      <td>0.021877</td>\n",
       "      <td>0.048320</td>\n",
       "      <td>0.004684</td>\n",
       "      <td>0.008495</td>\n",
       "      <td>0.069705</td>\n",
       "      <td>0.000000</td>\n",
       "      <td>0.000000</td>\n",
       "      <td>...</td>\n",
       "      <td>0.032696</td>\n",
       "      <td>0.000000</td>\n",
       "      <td>0.000000</td>\n",
       "      <td>0.000000</td>\n",
       "      <td>0.030277</td>\n",
       "      <td>0.109711</td>\n",
       "      <td>0.016951</td>\n",
       "      <td>1.000000</td>\n",
       "      <td>0.000000</td>\n",
       "      <td>0.023712</td>\n",
       "    </tr>\n",
       "    <tr>\n",
       "      <th>viajeros</th>\n",
       "      <td>0.010744</td>\n",
       "      <td>0.011904</td>\n",
       "      <td>0.000000</td>\n",
       "      <td>0.016775</td>\n",
       "      <td>0.000000</td>\n",
       "      <td>0.000000</td>\n",
       "      <td>0.000000</td>\n",
       "      <td>0.066328</td>\n",
       "      <td>0.000000</td>\n",
       "      <td>0.022319</td>\n",
       "      <td>...</td>\n",
       "      <td>0.012804</td>\n",
       "      <td>0.000000</td>\n",
       "      <td>0.019326</td>\n",
       "      <td>0.000000</td>\n",
       "      <td>0.000000</td>\n",
       "      <td>0.024841</td>\n",
       "      <td>0.045381</td>\n",
       "      <td>0.000000</td>\n",
       "      <td>1.000000</td>\n",
       "      <td>0.028090</td>\n",
       "    </tr>\n",
       "    <tr>\n",
       "      <th>virus</th>\n",
       "      <td>0.063090</td>\n",
       "      <td>0.038553</td>\n",
       "      <td>0.030038</td>\n",
       "      <td>0.042650</td>\n",
       "      <td>0.013570</td>\n",
       "      <td>0.036527</td>\n",
       "      <td>0.031035</td>\n",
       "      <td>0.012033</td>\n",
       "      <td>0.000000</td>\n",
       "      <td>0.048404</td>\n",
       "      <td>...</td>\n",
       "      <td>0.058198</td>\n",
       "      <td>0.009513</td>\n",
       "      <td>0.045572</td>\n",
       "      <td>0.052171</td>\n",
       "      <td>0.047262</td>\n",
       "      <td>0.009343</td>\n",
       "      <td>0.037659</td>\n",
       "      <td>0.023712</td>\n",
       "      <td>0.028090</td>\n",
       "      <td>1.000000</td>\n",
       "    </tr>\n",
       "  </tbody>\n",
       "</table>\n",
       "<p>50 rows × 50 columns</p>\n",
       "</div>"
      ],
      "text/plain": [
       "                ahora      aquí       así       año     biden    bogotá  \\\n",
       "ahora        1.000000  0.025538  0.051044  0.000000  0.056632  0.032430   \n",
       "aquí         0.025538  1.000000  0.009401  0.000000  0.000000  0.029409   \n",
       "así          0.051044  0.009401  1.000000  0.118747  0.000000  0.071545   \n",
       "año          0.000000  0.000000  0.118747  1.000000  0.009843  0.163152   \n",
       "biden        0.056632  0.000000  0.000000  0.009843  1.000000  0.000000   \n",
       "bogotá       0.032430  0.029409  0.071545  0.163152  0.000000  1.000000   \n",
       "casos        0.011395  0.027022  0.007505  0.000000  0.016492  0.123318   \n",
       "colombia     0.021948  0.060995  0.006813  0.008041  0.012129  0.019891   \n",
       "contacto     0.000000  0.000000  0.095217  0.000000  0.000000  0.000000   \n",
       "contagio     0.019733  0.019627  0.029057  0.016043  0.016299  0.000000   \n",
       "contagios    0.006151  0.021389  0.000000  0.000000  0.009541  0.048128   \n",
       "coronavirus  0.000000  0.025399  0.020752  0.021175  0.000000  0.047648   \n",
       "covid        0.057649  0.048426  0.077592  0.047874  0.053095  0.072313   \n",
       "cómo         0.008035  0.027153  0.038925  0.011665  0.000000  0.000000   \n",
       "da           0.033333  0.008284  0.000000  0.046204  0.016793  0.028417   \n",
       "después      0.063142  0.000000  0.021392  0.010935  0.019166  0.000000   \n",
       "dio          0.061411  0.000000  0.027604  0.000000  0.000000  0.007567   \n",
       "dos          0.085289  0.016787  0.017933  0.034874  0.000000  0.010939   \n",
       "día          0.035929  0.010949  0.000000  0.009812  0.089827  0.039615   \n",
       "días         0.066697  0.039613  0.011027  0.000000  0.000000  0.010487   \n",
       "gobierno     0.043371  0.046952  0.055346  0.012995  0.053657  0.000000   \n",
       "hoy          0.029029  0.015778  0.009242  0.012476  0.026182  0.078717   \n",
       "manos        0.000000  0.000000  0.000000  0.000000  0.013418  0.000000   \n",
       "medidas      0.000000  0.039329  0.000000  0.000000  0.000000  0.016647   \n",
       "medio        0.000000  0.010401  0.000000  0.033883  0.014269  0.000000   \n",
       "millones     0.012546  0.000000  0.000000  0.038190  0.038066  0.000000   \n",
       "muertes      0.030694  0.011314  0.000000  0.000000  0.023152  0.065619   \n",
       "mundo        0.000000  0.000000  0.019671  0.019401  0.015929  0.000000   \n",
       "nuevos       0.047604  0.036520  0.000000  0.022240  0.000000  0.064448   \n",
       "pandemia     0.024763  0.078490  0.031671  0.032491  0.051484  0.040750   \n",
       "país         0.049912  0.061707  0.017202  0.007615  0.006213  0.060471   \n",
       "personas     0.003643  0.000000  0.037421  0.061880  0.017477  0.035165   \n",
       "pfizer       0.000000  0.041719  0.025063  0.019181  0.010913  0.000000   \n",
       "positivo     0.035848  0.000000  0.035805  0.000000  0.000000  0.005282   \n",
       "presidente   0.016712  0.044834  0.000000  0.039776  0.093363  0.000000   \n",
       "prueba       0.026664  0.013194  0.055012  0.010917  0.000000  0.020055   \n",
       "pruebas      0.031859  0.018131  0.081035  0.000000  0.000000  0.012634   \n",
       "requisito    0.000000  0.000000  0.009592  0.000000  0.000000  0.000000   \n",
       "salud        0.018688  0.036678  0.023954  0.024575  0.013257  0.032361   \n",
       "ser          0.025487  0.000000  0.085530  0.016459  0.008463  0.000000   \n",
       "si           0.034713  0.020686  0.045752  0.013414  0.041955  0.007705   \n",
       "solo         0.033449  0.009326  0.011798  0.041065  0.000000  0.024222   \n",
       "síntomas     0.056202  0.000000  0.095618  0.000000  0.000000  0.000000   \n",
       "tapabocas    0.000000  0.015959  0.014155  0.000000  0.006990  0.000000   \n",
       "tener        0.055353  0.012692  0.028768  0.010259  0.000000  0.010267   \n",
       "tras         0.000000  0.010916  0.000000  0.023913  0.039922  0.025631   \n",
       "través       0.000000  0.000000  0.040012  0.000000  0.000000  0.025442   \n",
       "vacuna       0.032123  0.024799  0.015088  0.021877  0.048320  0.004684   \n",
       "viajeros     0.010744  0.011904  0.000000  0.016775  0.000000  0.000000   \n",
       "virus        0.063090  0.038553  0.030038  0.042650  0.013570  0.036527   \n",
       "\n",
       "                casos  colombia  contacto  contagio  ...        si      solo  \\\n",
       "ahora        0.011395  0.021948  0.000000  0.019733  ...  0.034713  0.033449   \n",
       "aquí         0.027022  0.060995  0.000000  0.019627  ...  0.020686  0.009326   \n",
       "así          0.007505  0.006813  0.095217  0.029057  ...  0.045752  0.011798   \n",
       "año          0.000000  0.008041  0.000000  0.016043  ...  0.013414  0.041065   \n",
       "biden        0.016492  0.012129  0.000000  0.016299  ...  0.041955  0.000000   \n",
       "bogotá       0.123318  0.019891  0.000000  0.000000  ...  0.007705  0.024222   \n",
       "casos        1.000000  0.107334  0.000000  0.015808  ...  0.005993  0.024518   \n",
       "colombia     0.107334  1.000000  0.008482  0.016871  ...  0.016744  0.038848   \n",
       "contacto     0.000000  0.008482  1.000000  0.026476  ...  0.030257  0.019027   \n",
       "contagio     0.015808  0.016871  0.026476  1.000000  ...  0.018901  0.000000   \n",
       "contagios    0.094186  0.082372  0.000000  0.006840  ...  0.013257  0.000000   \n",
       "coronavirus  0.085265  0.028095  0.000000  0.051614  ...  0.000000  0.019959   \n",
       "covid        0.104100  0.117757  0.035895  0.060429  ...  0.114046  0.053336   \n",
       "cómo         0.007369  0.005844  0.037786  0.000000  ...  0.022377  0.031684   \n",
       "da           0.011841  0.018675  0.000000  0.013634  ...  0.050804  0.084772   \n",
       "después      0.007391  0.000000  0.006320  0.010444  ...  0.011775  0.015394   \n",
       "dio          0.000000  0.030295  0.043537  0.009211  ...  0.009091  0.008769   \n",
       "dos          0.009171  0.003625  0.013068  0.000000  ...  0.014769  0.021943   \n",
       "día          0.035884  0.022150  0.006080  0.000000  ...  0.022915  0.051542   \n",
       "días         0.053908  0.033063  0.023960  0.000000  ...  0.040687  0.007362   \n",
       "gobierno     0.004020  0.029712  0.000000  0.007835  ...  0.063088  0.013015   \n",
       "hoy          0.053329  0.065578  0.004065  0.039815  ...  0.030493  0.007332   \n",
       "manos        0.011820  0.000000  0.051093  0.124029  ...  0.067015  0.000000   \n",
       "medidas      0.017522  0.026156  0.000000  0.043723  ...  0.021682  0.011301   \n",
       "medio        0.006704  0.006249  0.015418  0.083423  ...  0.012478  0.010606   \n",
       "millones     0.043655  0.014767  0.000000  0.000000  ...  0.005204  0.009620   \n",
       "muertes      0.068575  0.154695  0.000000  0.000000  ...  0.013455  0.023936   \n",
       "mundo        0.029665  0.033874  0.000000  0.027935  ...  0.008392  0.022224   \n",
       "nuevos       0.230291  0.180179  0.000000  0.023670  ...  0.000000  0.009502   \n",
       "pandemia     0.026276  0.026318  0.007670  0.018397  ...  0.031472  0.022744   \n",
       "país         0.079017  0.088777  0.000000  0.013154  ...  0.031478  0.005727   \n",
       "personas     0.020660  0.022587  0.129465  0.096636  ...  0.039284  0.044700   \n",
       "pfizer       0.004180  0.030688  0.000000  0.000000  ...  0.001748  0.000000   \n",
       "positivo     0.000000  0.057892  0.188584  0.006429  ...  0.033513  0.013685   \n",
       "presidente   0.009294  0.021744  0.000000  0.012687  ...  0.000000  0.000000   \n",
       "prueba       0.005740  0.059125  0.105750  0.000000  ...  0.054250  0.030860   \n",
       "pruebas      0.024542  0.214193  0.007895  0.011337  ...  0.019750  0.007447   \n",
       "requisito    0.000000  0.313170  0.000000  0.000000  ...  0.000000  0.000000   \n",
       "salud        0.059430  0.049485  0.034528  0.028049  ...  0.028715  0.005599   \n",
       "ser          0.007502  0.032825  0.116793  0.000000  ...  0.004086  0.028466   \n",
       "si           0.005993  0.016744  0.030257  0.018901  ...  1.000000  0.059604   \n",
       "solo         0.024518  0.038848  0.019027  0.000000  ...  0.059604  1.000000   \n",
       "síntomas     0.000000  0.000000  0.287111  0.000000  ...  0.074364  0.000000   \n",
       "tapabocas    0.009840  0.005191  0.000000  0.009484  ...  0.079799  0.005723   \n",
       "tener        0.000000  0.036901  0.000000  0.000000  ...  0.037213  0.041896   \n",
       "tras         0.021620  0.062020  0.031279  0.000000  ...  0.015794  0.000000   \n",
       "través       0.006460  0.123967  0.032783  0.013499  ...  0.028176  0.013244   \n",
       "vacuna       0.008495  0.069705  0.000000  0.000000  ...  0.032696  0.000000   \n",
       "viajeros     0.000000  0.066328  0.000000  0.022319  ...  0.012804  0.000000   \n",
       "virus        0.031035  0.012033  0.000000  0.048404  ...  0.058198  0.009513   \n",
       "\n",
       "             síntomas  tapabocas     tener      tras    través    vacuna  \\\n",
       "ahora        0.056202   0.000000  0.055353  0.000000  0.000000  0.032123   \n",
       "aquí         0.000000   0.015959  0.012692  0.010916  0.000000  0.024799   \n",
       "así          0.095618   0.014155  0.028768  0.000000  0.040012  0.015088   \n",
       "año          0.000000   0.000000  0.010259  0.023913  0.000000  0.021877   \n",
       "biden        0.000000   0.006990  0.000000  0.039922  0.000000  0.048320   \n",
       "bogotá       0.000000   0.000000  0.010267  0.025631  0.025442  0.004684   \n",
       "casos        0.000000   0.009840  0.000000  0.021620  0.006460  0.008495   \n",
       "colombia     0.000000   0.005191  0.036901  0.062020  0.123967  0.069705   \n",
       "contacto     0.287111   0.000000  0.000000  0.031279  0.032783  0.000000   \n",
       "contagio     0.000000   0.009484  0.000000  0.000000  0.013499  0.000000   \n",
       "contagios    0.000000   0.000000  0.000000  0.007227  0.000000  0.004303   \n",
       "coronavirus  0.000000   0.000000  0.000000  0.006875  0.000000  0.020261   \n",
       "covid        0.045513   0.015393  0.046524  0.042858  0.056064  0.120905   \n",
       "cómo         0.076034   0.000000  0.006049  0.100215  0.000000  0.022250   \n",
       "da           0.000000   0.006094  0.013570  0.023886  0.000000  0.015434   \n",
       "después      0.025010   0.000000  0.009842  0.000000  0.015239  0.068237   \n",
       "dio          0.000000   0.008629  0.041976  0.008611  0.039537  0.007124   \n",
       "dos          0.000000   0.000000  0.019079  0.010601  0.000000  0.065445   \n",
       "día          0.074911   0.000000  0.072389  0.008194  0.000000  0.040641   \n",
       "días         0.063636   0.006272  0.046232  0.009672  0.000000  0.010589   \n",
       "gobierno     0.000000   0.000000  0.017022  0.014900  0.019185  0.013146   \n",
       "hoy          0.038744   0.000000  0.049005  0.025818  0.000000  0.023697   \n",
       "manos        0.034707   0.044426  0.000000  0.000000  0.000000  0.000000   \n",
       "medidas      0.000000   0.025441  0.000000  0.015708  0.021435  0.000000   \n",
       "medio        0.000000   0.000000  0.013923  0.025905  0.016213  0.000000   \n",
       "millones     0.000000   0.006687  0.000000  0.020510  0.000000  0.048540   \n",
       "muertes      0.000000   0.007887  0.000000  0.000000  0.023863  0.000000   \n",
       "mundo        0.008763   0.000000  0.007930  0.000000  0.000000  0.063469   \n",
       "nuevos       0.000000   0.000000  0.000000  0.029382  0.017408  0.000000   \n",
       "pandemia     0.024162   0.000000  0.020213  0.070728  0.013223  0.026732   \n",
       "país         0.010907   0.000000  0.034564  0.014915  0.012534  0.033874   \n",
       "personas     0.062874   0.038944  0.043808  0.000000  0.023054  0.011022   \n",
       "pfizer       0.000000   0.000000  0.011336  0.033201  0.012057  0.432715   \n",
       "positivo     0.125263   0.006023  0.049394  0.057949  0.056209  0.000000   \n",
       "presidente   0.000000   0.007532  0.000000  0.034194  0.000000  0.031377   \n",
       "prueba       0.144634   0.008928  0.044706  0.018580  0.020131  0.007129   \n",
       "pruebas      0.000000   0.000000  0.000000  0.028356  0.152606  0.027891   \n",
       "requisito    0.000000   0.020803  0.000000  0.000000  0.264677  0.006489   \n",
       "salud        0.022734   0.000000  0.010541  0.005386  0.072795  0.042606   \n",
       "ser          0.076340   0.000000  0.008821  0.013652  0.000000  0.054985   \n",
       "si           0.074364   0.079799  0.037213  0.015794  0.028176  0.032696   \n",
       "solo         0.000000   0.005723  0.041896  0.000000  0.013244  0.000000   \n",
       "síntomas     1.000000   0.000000  0.065325  0.000000  0.109166  0.000000   \n",
       "tapabocas    0.000000   1.000000  0.000000  0.000000  0.000000  0.000000   \n",
       "tener        0.065325   0.000000  1.000000  0.046398  0.000000  0.030277   \n",
       "tras         0.000000   0.000000  0.046398  1.000000  0.053310  0.109711   \n",
       "través       0.109166   0.000000  0.000000  0.053310  1.000000  0.016951   \n",
       "vacuna       0.000000   0.000000  0.030277  0.109711  0.016951  1.000000   \n",
       "viajeros     0.019326   0.000000  0.000000  0.024841  0.045381  0.000000   \n",
       "virus        0.045572   0.052171  0.047262  0.009343  0.037659  0.023712   \n",
       "\n",
       "             viajeros     virus  \n",
       "ahora        0.010744  0.063090  \n",
       "aquí         0.011904  0.038553  \n",
       "así          0.000000  0.030038  \n",
       "año          0.016775  0.042650  \n",
       "biden        0.000000  0.013570  \n",
       "bogotá       0.000000  0.036527  \n",
       "casos        0.000000  0.031035  \n",
       "colombia     0.066328  0.012033  \n",
       "contacto     0.000000  0.000000  \n",
       "contagio     0.022319  0.048404  \n",
       "contagios    0.007707  0.034038  \n",
       "coronavirus  0.050911  0.000000  \n",
       "covid        0.039945  0.043016  \n",
       "cómo         0.000000  0.007566  \n",
       "da           0.000000  0.019461  \n",
       "después      0.000000  0.029688  \n",
       "dio          0.009888  0.033328  \n",
       "dos          0.000000  0.032131  \n",
       "día          0.000000  0.010531  \n",
       "días         0.000000  0.059943  \n",
       "gobierno     0.118368  0.046903  \n",
       "hoy          0.013804  0.023757  \n",
       "manos        0.014750  0.020285  \n",
       "medidas      0.027045  0.014618  \n",
       "medio        0.000000  0.044123  \n",
       "millones     0.000000  0.078776  \n",
       "muertes      0.000000  0.000000  \n",
       "mundo        0.000000  0.058301  \n",
       "nuevos       0.000000  0.000000  \n",
       "pandemia     0.028112  0.094491  \n",
       "país         0.088648  0.050955  \n",
       "personas     0.000000  0.080807  \n",
       "pfizer       0.000000  0.000000  \n",
       "positivo     0.000000  0.012912  \n",
       "presidente   0.000000  0.025091  \n",
       "prueba       0.201711  0.010203  \n",
       "pruebas      0.076484  0.044412  \n",
       "requisito    0.060771  0.000000  \n",
       "salud        0.038138  0.014031  \n",
       "ser          0.000000  0.020278  \n",
       "si           0.012804  0.058198  \n",
       "solo         0.000000  0.009513  \n",
       "síntomas     0.019326  0.045572  \n",
       "tapabocas    0.000000  0.052171  \n",
       "tener        0.000000  0.047262  \n",
       "tras         0.024841  0.009343  \n",
       "través       0.045381  0.037659  \n",
       "vacuna       0.000000  0.023712  \n",
       "viajeros     1.000000  0.028090  \n",
       "virus        0.028090  1.000000  \n",
       "\n",
       "[50 rows x 50 columns]"
      ]
     },
     "execution_count": 35,
     "metadata": {},
     "output_type": "execute_result"
    }
   ],
   "source": [
    "from sklearn.metrics.pairwise import cosine_similarity\n",
    " \n",
    "voc = [k for k,v in sorted(tfidf_vect.vocabulary_.items(), key=lambda kv: kv[1])]\n",
    "temp = pd.DataFrame(tfidf.toarray())\n",
    "temp = cosine_similarity(temp.T.values)\n",
    "temp = pd.DataFrame(temp)\n",
    "temp.columns = voc\n",
    "temp.index = voc\n",
    "temp"
   ]
  },
  {
   "cell_type": "code",
   "execution_count": 36,
   "metadata": {},
   "outputs": [
    {
     "data": {
      "application/vnd.plotly.v1+json": {
       "config": {
        "linkText": "Export to plot.ly",
        "plotlyServerURL": "https://plot.ly",
        "showLink": false
       },
       "data": [
        {
         "colorscale": [
          [
           0,
           "rgb(255,245,235)"
          ],
          [
           0.125,
           "rgb(254,230,206)"
          ],
          [
           0.25,
           "rgb(253,208,162)"
          ],
          [
           0.375,
           "rgb(253,174,107)"
          ],
          [
           0.5,
           "rgb(253,141,60)"
          ],
          [
           0.625,
           "rgb(241,105,19)"
          ],
          [
           0.75,
           "rgb(217,72,1)"
          ],
          [
           0.875,
           "rgb(166,54,3)"
          ],
          [
           1,
           "rgb(127,39,4)"
          ]
         ],
         "type": "heatmap",
         "x": [
          "ahora",
          "aquí",
          "así",
          "año",
          "biden",
          "bogotá",
          "casos",
          "colombia",
          "contacto",
          "contagio",
          "contagios",
          "coronavirus",
          "covid",
          "cómo",
          "da",
          "después",
          "dio",
          "dos",
          "día",
          "días",
          "gobierno",
          "hoy",
          "manos",
          "medidas",
          "medio",
          "millones",
          "muertes",
          "mundo",
          "nuevos",
          "pandemia",
          "país",
          "personas",
          "pfizer",
          "positivo",
          "presidente",
          "prueba",
          "pruebas",
          "requisito",
          "salud",
          "ser",
          "si",
          "solo",
          "síntomas",
          "tapabocas",
          "tener",
          "tras",
          "través",
          "vacuna",
          "viajeros",
          "virus"
         ],
         "y": [
          "ahora",
          "aquí",
          "así",
          "año",
          "biden",
          "bogotá",
          "casos",
          "colombia",
          "contacto",
          "contagio",
          "contagios",
          "coronavirus",
          "covid",
          "cómo",
          "da",
          "después",
          "dio",
          "dos",
          "día",
          "días",
          "gobierno",
          "hoy",
          "manos",
          "medidas",
          "medio",
          "millones",
          "muertes",
          "mundo",
          "nuevos",
          "pandemia",
          "país",
          "personas",
          "pfizer",
          "positivo",
          "presidente",
          "prueba",
          "pruebas",
          "requisito",
          "salud",
          "ser",
          "si",
          "solo",
          "síntomas",
          "tapabocas",
          "tener",
          "tras",
          "través",
          "vacuna",
          "viajeros",
          "virus"
         ],
         "z": [
          [
           1.0000000000000002,
           0.025537618593970378,
           0.051043861033935115,
           0,
           0.056632137020351137,
           0.032429989596231494,
           0.01139518013456683,
           0.021948446130664944,
           0,
           0.019732877273230046,
           0.006150901346412886,
           0,
           0.057649150272094926,
           0.00803496765783467,
           0.0333329754198561,
           0.06314160524304069,
           0.06141063351532645,
           0.08528933588574497,
           0.03592885248909368,
           0.0666973412492378,
           0.04337114553090732,
           0.02902930406616349,
           0,
           0,
           0,
           0.012546031794744847,
           0.03069401158060202,
           0,
           0.047603609672918254,
           0.024762531828714244,
           0.04991243012898701,
           0.003642563141657895,
           0,
           0.03584768864446961,
           0.01671223655702311,
           0.026663669726820917,
           0.03185853854202464,
           0,
           0.01868782038413392,
           0.02548723731564875,
           0.034713102718102525,
           0.033449421652409175,
           0.05620192191456807,
           0,
           0.055353442920278766,
           0,
           0,
           0.03212329937225959,
           0.010744137286897824,
           0.06309012057213381
          ],
          [
           0.025537618593970378,
           1.0000000000000007,
           0.009401469569946926,
           0,
           0,
           0.029409244918890163,
           0.027022169040770948,
           0.06099549854903781,
           0,
           0.019627497652655018,
           0.02138944602833844,
           0.025398501792744402,
           0.04842575540942919,
           0.02715255665920594,
           0.00828358625614551,
           0,
           0,
           0.016786677435503623,
           0.01094909879749492,
           0.039612847798338534,
           0.046951825849751244,
           0.01577841043124377,
           0,
           0.039328802123814725,
           0.010401052239530981,
           0,
           0.01131421313682636,
           0,
           0.036519634325030144,
           0.07848997883400075,
           0.06170703204125076,
           0,
           0.041719368716991403,
           0,
           0.04483389366359243,
           0.013194431743447213,
           0.01813052775867924,
           0,
           0.0366780889464492,
           0,
           0.020685551202024314,
           0.009325847563830083,
           0,
           0.015959463099446698,
           0.012692066943911689,
           0.010916424116805948,
           0,
           0.024799299824973416,
           0.011903612563800977,
           0.03855308128191261
          ],
          [
           0.051043861033935115,
           0.009401469569946926,
           1,
           0.11874747427331991,
           0,
           0.07154459897810525,
           0.007505243605342332,
           0.006813433297855768,
           0.095216845237181,
           0.02905674850196534,
           0,
           0.020752303091676985,
           0.07759184075145181,
           0.038924772921389156,
           0,
           0.0213915126622742,
           0.027603732379772244,
           0.017932588318250245,
           0,
           0.011026795404698609,
           0.05534575205302555,
           0.00924246402759186,
           0,
           0,
           0,
           0,
           0,
           0.019670880231783337,
           0,
           0.031671070273050016,
           0.01720228189099829,
           0.03742103240640725,
           0.025063463827771273,
           0.03580547564969649,
           0,
           0.055011587643539854,
           0.08103452333958665,
           0.009592362974895546,
           0.02395355759640456,
           0.08552998657071186,
           0.04575177127921741,
           0.011797700970329844,
           0.09561776830250997,
           0.01415467790221476,
           0.02876787334863227,
           0,
           0.040011715033896264,
           0.015088477066284533,
           0,
           0.030038321102246673
          ],
          [
           0,
           0,
           0.11874747427331991,
           0.9999999999999998,
           0.00984252991218782,
           0.16315152651519238,
           0,
           0.008040987207528227,
           0,
           0.016042908692915747,
           0,
           0.021175003011865964,
           0.04787434458477788,
           0.011665263850468552,
           0.04620361317459129,
           0.010935030780604149,
           0,
           0.03487352662874366,
           0.009812168337267353,
           0,
           0.012995403497714022,
           0.012475714813946676,
           0,
           0,
           0.03388297461855744,
           0.038189686336204294,
           0,
           0.0194011705587961,
           0.02223997504479803,
           0.03249094479688296,
           0.007614763990574727,
           0.061880493602660236,
           0.01918117067782962,
           0,
           0.0397756377303957,
           0.010917258831244649,
           0,
           0,
           0.024574534794049002,
           0.016458532348833446,
           0.013413841373064074,
           0.041064715176926385,
           0,
           0,
           0.010258966557364798,
           0.023912865816234394,
           0,
           0.02187711325548873,
           0.01677509661740764,
           0.04264986329274195
          ],
          [
           0.056632137020351137,
           0,
           0,
           0.00984252991218782,
           1.0000000000000002,
           0,
           0.01649229093077961,
           0.012128576961471035,
           0,
           0.016299088879450516,
           0.009540866597341133,
           0,
           0.05309473294440133,
           0,
           0.016792881483465187,
           0.01916599478191437,
           0,
           0,
           0.08982743967274397,
           0,
           0.05365656872969643,
           0.02618175746908103,
           0.013417730603871702,
           0,
           0.014269419238965034,
           0.03806565697472195,
           0.023152164306150108,
           0.015929465157456173,
           0,
           0.051483954565853564,
           0.006212899222309912,
           0.017477143933303158,
           0.010913279416061175,
           0,
           0.09336333884518724,
           0,
           0,
           0,
           0.013256780631887132,
           0.008463405606036164,
           0.04195509741827623,
           0,
           0,
           0.006989698374045378,
           0,
           0.039922356673835244,
           0,
           0.04832042559117893,
           0,
           0.013569544293731127
          ],
          [
           0.032429989596231494,
           0.029409244918890163,
           0.07154459897810525,
           0.16315152651519238,
           0,
           0.9999999999999992,
           0.12331755626776983,
           0.019891257272472346,
           0,
           0,
           0.04812781412004886,
           0.04764750091692451,
           0.0723133652383844,
           0,
           0.02841708240180156,
           0,
           0.00756696874164383,
           0.010939323901247681,
           0.03961463730867283,
           0.010486592032775287,
           0,
           0.07871658783499096,
           0,
           0.01664654499978491,
           0,
           0,
           0.06561934007478243,
           0,
           0.06444791801140108,
           0.040750278262177496,
           0.06047132979949271,
           0.035165121970105954,
           0,
           0.005281680257446078,
           0,
           0.020054667485629344,
           0.01263420726926021,
           0,
           0.032361041047821434,
           0,
           0.007704562409597923,
           0.02422150822262487,
           0,
           0,
           0.010267196147049802,
           0.025631409987915903,
           0.02544160312562719,
           0.004683965314659958,
           0,
           0.036526742116546995
          ],
          [
           0.01139518013456683,
           0.027022169040770948,
           0.007505243605342332,
           0,
           0.01649229093077961,
           0.12331755626776983,
           0.9999999999999987,
           0.10733366821524526,
           0,
           0.015807690783205736,
           0.09418612398161809,
           0.08526514925159172,
           0.1040996483337659,
           0.007369496677115151,
           0.011841282586810638,
           0.0073905749288885655,
           0,
           0.009171332389794559,
           0.03588367301145387,
           0.053907710105878075,
           0.004019952896797125,
           0.05332871963159423,
           0.011819513169653104,
           0.017521864110753915,
           0.006704486936954065,
           0.0436553763018528,
           0.06857490248850741,
           0.029665352466947615,
           0.23029080490007092,
           0.026276240072422245,
           0.07901742479686764,
           0.020660211656667274,
           0.004180392203296545,
           0,
           0.009294000466423317,
           0.005739546608133184,
           0.02454220712259511,
           0,
           0.05942998537556937,
           0.007502476449604412,
           0.0059933166228250175,
           0.024518218110706133,
           0,
           0.009840106542697135,
           0,
           0.021620053931438024,
           0.0064598515678541924,
           0.008495168380853131,
           0,
           0.03103505331331379
          ],
          [
           0.021948446130664944,
           0.06099549854903781,
           0.006813433297855768,
           0.008040987207528227,
           0.012128576961471035,
           0.019891257272472346,
           0.10733366821524526,
           1.0000000000000009,
           0.008481516057424771,
           0.016871228014196972,
           0.08237241918240427,
           0.028095110428296422,
           0.11775668459064524,
           0.005843508549845071,
           0.018675383639118956,
           0,
           0.03029511366125402,
           0.0036250965770646044,
           0.022149878922119674,
           0.0330631867408882,
           0.02971213067349101,
           0.0655781565245482,
           0,
           0.02615591190336975,
           0.006248711144506873,
           0.014766873279183962,
           0.15469489831540922,
           0.033873953411040165,
           0.18017856606903565,
           0.026317751045060893,
           0.08877695586180645,
           0.022587021590098334,
           0.03068794762925648,
           0.05789214384591679,
           0.021743620993973402,
           0.05912485184821525,
           0.21419300637008956,
           0.31316965737868036,
           0.04948476592889508,
           0.032825186322313966,
           0.01674422204295811,
           0.03884797930829986,
           0,
           0.005191487795384968,
           0.03690059889230793,
           0.062020327103646966,
           0.12396744712725588,
           0.06970530366351954,
           0.0663276254952761,
           0.012032661376664394
          ],
          [
           0,
           0,
           0.095216845237181,
           0,
           0,
           0,
           0,
           0.008481516057424771,
           0.9999999999999999,
           0.026476160153563702,
           0,
           0,
           0.035895457258855124,
           0.037786127496679936,
           0,
           0.006319907453859487,
           0.04353665183233579,
           0.013068334890314583,
           0.006080076561423167,
           0.023960341676545732,
           0,
           0.004065290504285606,
           0.05109314702722174,
           0,
           0.015417814723517826,
           0,
           0,
           0,
           0,
           0.007669700936818143,
           0,
           0.12946540274313845,
           0,
           0.1885839759468033,
           0,
           0.10574981328109924,
           0.007894807937870488,
           0,
           0.03452847206274355,
           0.11679327415429736,
           0.03025654971674969,
           0.01902690985620737,
           0.2871114979211354,
           0,
           0,
           0.031278973128005434,
           0.03278296866557636,
           0,
           0,
           0
          ],
          [
           0.019732877273230046,
           0.019627497652655018,
           0.02905674850196534,
           0.016042908692915747,
           0.016299088879450516,
           0,
           0.015807690783205736,
           0.016871228014196972,
           0.026476160153563702,
           0.9999999999999996,
           0.006840346873682059,
           0.05161434127297927,
           0.06042869682356841,
           0,
           0.013633569796471717,
           0.010444028365695367,
           0.009210914526724099,
           0,
           0,
           0,
           0.00783501159516818,
           0.03981457481339428,
           0.12402887352673657,
           0.04372282015126653,
           0.08342306356265732,
           0,
           0,
           0.027935177517311227,
           0.023670006359239108,
           0.01839703943714508,
           0.013154132714643081,
           0.09663578024346041,
           0,
           0.006429140527710645,
           0.012686953536380835,
           0,
           0.011336694167364816,
           0,
           0.028048764483228284,
           0,
           0.01890136520478519,
           0,
           0,
           0.009484138753645776,
           0,
           0,
           0.013498700663727539,
           0,
           0.022319174636839113,
           0.04840370367893463
          ],
          [
           0.006150901346412886,
           0.02138944602833844,
           0,
           0,
           0.009540866597341133,
           0.04812781412004886,
           0.09418612398161809,
           0.08237241918240427,
           0,
           0.006840346873682059,
           1,
           0.09506411584170926,
           0.06377354496354014,
           0,
           0.0057927770026023765,
           0.010885247419966625,
           0,
           0.020298673068385686,
           0.03381558671379328,
           0.010366772275420265,
           0.01059355830813255,
           0.009636548843095017,
           0,
           0.04336139193563522,
           0.007419221945843196,
           0.04802970902796728,
           0.17496855270718137,
           0.04700886919065541,
           0.2772925567955731,
           0.025473131494282125,
           0.05499896432861967,
           0.012642130912267856,
           0.00913392874138572,
           0,
           0,
           0.012630989000085763,
           0.014109332763408908,
           0.008427252927328105,
           0.03980874042782761,
           0,
           0.01325672353951209,
           0,
           0,
           0,
           0,
           0.007227139993054883,
           0,
           0.004302693094246931,
           0.007707096901846926,
           0.03403759663443105
          ],
          [
           0,
           0.025398501792744402,
           0.020752303091676985,
           0.021175003011865964,
           0,
           0.04764750091692451,
           0.08526514925159172,
           0.028095110428296422,
           0,
           0.05161434127297927,
           0.09506411584170926,
           0.9999999999999992,
           0.03673181430460057,
           0.021934639759253166,
           0.008380998299253893,
           0.015807226062997053,
           0.02698452034850932,
           0.016898610372150943,
           0.021764149403715204,
           0,
           0,
           0.045238598924607985,
           0,
           0.06142409112061208,
           0.018906538897702465,
           0.018872250570951186,
           0.022265160163390012,
           0,
           0.06085124118848377,
           0.0622164069204952,
           0.03151796760525915,
           0.02848454605406976,
           0.026959416619982877,
           0.05939580440017629,
           0,
           0.009733679179764294,
           0.04251866620303346,
           0,
           0.0302165002992078,
           0.01949357327882545,
           0,
           0.019959385337458283,
           0,
           0,
           0,
           0.006875209392712979,
           0,
           0.020261160560524846,
           0.05091065100712125,
           0
          ],
          [
           0.057649150272094926,
           0.04842575540942919,
           0.07759184075145181,
           0.04787434458477788,
           0.05309473294440133,
           0.0723133652383844,
           0.1040996483337659,
           0.11775668459064524,
           0.035895457258855124,
           0.06042869682356841,
           0.06377354496354014,
           0.03673181430460057,
           0.9999999999999987,
           0.044104180774976715,
           0.05198991472235476,
           0.04228719892237256,
           0.06757951315151378,
           0.04820585509197436,
           0.04426774394907524,
           0.04515094809531263,
           0.051440332162371684,
           0.07795233363182995,
           0.02429160522863231,
           0.05124231734413007,
           0.034306548945415564,
           0.04916844082648908,
           0.03620582164192617,
           0.03661738665063809,
           0.04139013302568756,
           0.08359686326612964,
           0.06362680166756246,
           0.05943723684603793,
           0.053262127019181774,
           0.09162773949094488,
           0.043974174838082074,
           0.09420597890617054,
           0.07778554898635938,
           0.0473057098139931,
           0.05823090163797219,
           0.05207594400995727,
           0.11404629243210443,
           0.05333607405784543,
           0.04551294515163551,
           0.015393180263227583,
           0.04652383186476494,
           0.042858378895437525,
           0.056063561529769226,
           0.12090473277541494,
           0.0399449590574605,
           0.04301566770836042
          ],
          [
           0.00803496765783467,
           0.02715255665920594,
           0.038924772921389156,
           0.011665263850468552,
           0,
           0,
           0.007369496677115151,
           0.005843508549845071,
           0.037786127496679936,
           0,
           0,
           0.021934639759253166,
           0.044104180774976715,
           0.9999999999999994,
           0.015078514685782968,
           0.021536720431139692,
           0,
           0.010338419716551596,
           0,
           0.025198663028869396,
           0,
           0.006795176280981939,
           0,
           0,
           0.033502543669420654,
           0.01835675677308633,
           0,
           0.018339518563177597,
           0,
           0.10201654996422535,
           0.01830429587937659,
           0.03268690693003166,
           0.025472374630469585,
           0,
           0,
           0.0028485107771815538,
           0,
           0,
           0.04711363790073696,
           0.025431259943047308,
           0.02237695194962249,
           0.031683909145081735,
           0.07603417581319855,
           0,
           0.006049114217386403,
           0.10021524283698531,
           0,
           0.022249915340903915,
           0,
           0.007566181864472375
          ],
          [
           0.0333329754198561,
           0.00828358625614551,
           0,
           0.04620361317459129,
           0.016792881483465187,
           0.02841708240180156,
           0.011841282586810638,
           0.018675383639118956,
           0,
           0.013633569796471717,
           0.0057927770026023765,
           0.008380998299253893,
           0.05198991472235476,
           0.015078514685782968,
           0.9999999999999999,
           0,
           0,
           0.012726950657045447,
           0,
           0.007837602026187914,
           0,
           0,
           0.013939848099980726,
           0,
           0.0235084079885832,
           0.01024158224445522,
           0,
           0,
           0.008840142026815998,
           0.012972338620108197,
           0.0068223476779282035,
           0,
           0.015739309340814356,
           0.0420335354026469,
           0.02233190775638852,
           0.015458453150536509,
           0.013178142899742359,
           0,
           0,
           0.013772204135331676,
           0.05080398475835781,
           0.08477246458134885,
           0,
           0.0060935205216202165,
           0.01356951056022335,
           0.02388639151898132,
           0,
           0.015433671688345994,
           0,
           0.019460828183847693
          ],
          [
           0.06314160524304069,
           0,
           0.0213915126622742,
           0.010935030780604149,
           0.01916599478191437,
           0,
           0.0073905749288885655,
           0,
           0.006319907453859487,
           0.010444028365695367,
           0.010885247419966625,
           0.015807226062997053,
           0.04228719892237256,
           0.021536720431139692,
           0,
           0.9999999999999999,
           0.009406813624429522,
           0.006418175716355236,
           0.02686621297222934,
           0.07740445898341218,
           0.009007369660776175,
           0.008211946146069873,
           0,
           0,
           0.018028805829690527,
           0.024781695060970624,
           0,
           0.015250748370059516,
           0.0077555539326831955,
           0.041012057257635334,
           0.02056486035486451,
           0.023665688253170322,
           0.019252475475595065,
           0.02366927613726638,
           0.009202972772385186,
           0.03247084719863168,
           0.004296152570750784,
           0,
           0.018152125632442406,
           0.009402826472098726,
           0.01177488085317189,
           0.015394006476565086,
           0.025010034846881097,
           0,
           0.009841533540464282,
           0,
           0.015238562242190385,
           0.06823748813740102,
           0,
           0.029688287940060253
          ],
          [
           0.06141063351532645,
           0,
           0.027603732379772244,
           0,
           0,
           0.00756696874164383,
           0,
           0.03029511366125402,
           0.04353665183233579,
           0.009210914526724099,
           0,
           0.02698452034850932,
           0.06757951315151378,
           0,
           0,
           0.009406813624429522,
           1,
           0.03520531050553165,
           0.009706539089450902,
           0.02289587372435992,
           0,
           0.0153747878738772,
           0,
           0,
           0.009709786985204274,
           0,
           0,
           0.010075410740126982,
           0,
           0.004316319712454992,
           0.006587072978257001,
           0.007766193437098684,
           0.007569159246428718,
           0.2975846959801016,
           0.010270501438730324,
           0.05497721284169856,
           0,
           0,
           0,
           0.03239562454402564,
           0.00909067799023558,
           0.008768579301681012,
           0,
           0.008629021339824119,
           0.04197594733812851,
           0.008611466100168753,
           0.039537136743242024,
           0.007124427118167653,
           0.009887833282776343,
           0.03332786646930174
          ],
          [
           0.08528933588574497,
           0.016786677435503623,
           0.017932588318250245,
           0.03487352662874366,
           0,
           0.010939323901247681,
           0.009171332389794559,
           0.0036250965770646044,
           0.013068334890314583,
           0,
           0.020298673068385686,
           0.016898610372150943,
           0.04820585509197436,
           0.010338419716551596,
           0.012726950657045447,
           0.006418175716355236,
           0.03520531050553165,
           1.0000000000000002,
           0.03698423233855741,
           0.1037858188594171,
           0,
           0.008528982011776525,
           0,
           0,
           0,
           0.015398676939555463,
           0,
           0.02701461142308139,
           0.02246078191002799,
           0.029587432935710017,
           0.01188769718174984,
           0.022141927122917966,
           0.02743282477918832,
           0.047061459715170645,
           0,
           0,
           0,
           0,
           0.008491046485208013,
           0.014651277870598561,
           0.01476915924940083,
           0.021943028439602153,
           0,
           0,
           0.019079440067278523,
           0.010601289764943369,
           0,
           0.06544523384141267,
           0,
           0.03213092991528403
          ],
          [
           0.03592885248909368,
           0.01094909879749492,
           0,
           0.009812168337267353,
           0.08982743967274397,
           0.03961463730867283,
           0.03588367301145387,
           0.022149878922119674,
           0.006080076561423167,
           0,
           0.03381558671379328,
           0.021764149403715204,
           0.04426774394907524,
           0,
           0,
           0.02686621297222934,
           0.009706539089450902,
           0.03698423233855741,
           0.9999999999999996,
           0.059051381376881776,
           0.006666660156432055,
           0.051043939847307235,
           0,
           0,
           0,
           0.008615691206075651,
           0,
           0.010187582396783653,
           0.08326449577161739,
           0.005593012747952106,
           0.031141664016662206,
           0.04837689509627031,
           0.03475520222981216,
           0.0368355575188643,
           0.019018919238934315,
           0.042476585073143815,
           0.020321967130618932,
           0,
           0.010112666764621655,
           0.011142289674364626,
           0.02291522648740397,
           0.05154186086119554,
           0.07491064976451693,
           0,
           0.07238860645542246,
           0.008194279371559761,
           0,
           0.04064148519082316,
           0,
           0.010530926017762251
          ],
          [
           0.0666973412492378,
           0.039612847798338534,
           0.011026795404698609,
           0,
           0,
           0.010486592032775287,
           0.053907710105878075,
           0.0330631867408882,
           0.023960341676545732,
           0,
           0.010366772275420265,
           0,
           0.04515094809531263,
           0.025198663028869396,
           0.007837602026187914,
           0.07740445898341218,
           0.02289587372435992,
           0.1037858188594171,
           0.059051381376881776,
           1.0000000000000004,
           0,
           0.14760669871166052,
           0,
           0.017598164548586533,
           0,
           0,
           0.012674621529195192,
           0,
           0.05615525999179726,
           0.006468075480307123,
           0.028238342996596832,
           0.013534545869533718,
           0.0070722491390662395,
           0.03657362040104871,
           0,
           0.050856746418388235,
           0.026758393179494626,
           0,
           0.027234414786559146,
           0.013366732774629374,
           0.040686556803950356,
           0.00736154619247394,
           0.06363571260065139,
           0.006271857905554663,
           0.04623217060903888,
           0.009671825802906724,
           0,
           0.010588771796285737,
           0,
           0.05994344755830112
          ],
          [
           0.04337114553090732,
           0.046951825849751244,
           0.05534575205302555,
           0.012995403497714022,
           0.05365656872969643,
           0,
           0.004019952896797125,
           0.02971213067349101,
           0,
           0.00783501159516818,
           0.01059355830813255,
           0,
           0.051440332162371684,
           0,
           0,
           0.009007369660776175,
           0,
           0,
           0.006666660156432055,
           0,
           1.0000000000000007,
           0,
           0,
           0.1022509441446702,
           0.015400441784939139,
           0,
           0.032369482647290185,
           0.05236251799333048,
           0,
           0.09878232898206757,
           0.13867874584256326,
           0.0033681639498954288,
           0.00704506911430448,
           0,
           0.0748681610487543,
           0.0643621011477125,
           0.0901102833600169,
           0.0409332592764274,
           0.015048793683640944,
           0.039538825360702,
           0.06308766353554054,
           0.013015163308750171,
           0,
           0,
           0.017021832888148007,
           0.014899915385238893,
           0.019184965648917474,
           0.013145581283898446,
           0.11836750946567945,
           0.04690326373090463
          ],
          [
           0.02902930406616349,
           0.01577841043124377,
           0.00924246402759186,
           0.012475714813946676,
           0.02618175746908103,
           0.07871658783499096,
           0.05332871963159423,
           0.0655781565245482,
           0.004065290504285606,
           0.03981457481339428,
           0.009636548843095017,
           0.045238598924607985,
           0.07795233363182995,
           0.006795176280981939,
           0,
           0.008211946146069873,
           0.0153747878738772,
           0.008528982011776525,
           0.051043939847307235,
           0.14760669871166052,
           0,
           0.9999999999999996,
           0,
           0,
           0,
           0,
           0.07699663016099317,
           0,
           0.043775381419404014,
           0.06756903163221673,
           0.079229829636899,
           0.04239143241207633,
           0.01999971618191018,
           0.06010348715182437,
           0.042980512492524645,
           0.03883254287369724,
           0.08924545909944832,
           0,
           0.014001745927770167,
           0.02820972705988689,
           0.03049283436106466,
           0.007332487348606867,
           0.038743915992757436,
           0,
           0.04900517306788361,
           0.02581784315008126,
           0,
           0.023697226460268492,
           0.013803557924915041,
           0.023756526997840248
          ],
          [
           0,
           0,
           0,
           0,
           0.013417730603871702,
           0,
           0.011819513169653104,
           0,
           0.05109314702722174,
           0.12402887352673657,
           0,
           0,
           0.02429160522863231,
           0,
           0.013939848099980726,
           0,
           0,
           0,
           0,
           0,
           0,
           0,
           0.9999999999999999,
           0.009325619031354275,
           0,
           0,
           0,
           0.015739994396969388,
           0,
           0,
           0,
           0.016134345937885274,
           0,
           0,
           0,
           0,
           0,
           0,
           0,
           0.011810744461896772,
           0.06701495383223642,
           0,
           0.03470706145744875,
           0.04442611363924015,
           0,
           0,
           0,
           0,
           0.014749536784459453,
           0.020284967974271394
          ],
          [
           0,
           0.039328802123814725,
           0,
           0,
           0,
           0.01664654499978491,
           0.017521864110753915,
           0.02615591190336975,
           0,
           0.04372282015126653,
           0.04336139193563522,
           0.06142409112061208,
           0.05124231734413007,
           0,
           0,
           0,
           0,
           0,
           0,
           0.017598164548586533,
           0.1022509441446702,
           0,
           0.009325619031354275,
           0.9999999999999996,
           0,
           0.007442674410979454,
           0.008778566409298083,
           0.022856617492157966,
           0,
           0.09044779202993979,
           0.059584374099430494,
           0.005759954044343718,
           0,
           0,
           0.04526558444608814,
           0.022452000429273058,
           0.007852922934542097,
           0.006517189445207854,
           0.04229604159480674,
           0.028831664799918583,
           0.02168189548913899,
           0.011301388582273574,
           0,
           0.0254413993808592,
           0,
           0.015707690604727674,
           0.021434544859050886,
           0,
           0.027045208119648025,
           0.014618191737625335
          ],
          [
           0,
           0.010401052239530981,
           0,
           0.03388297461855744,
           0.014269419238965034,
           0,
           0.006704486936954065,
           0.006248711144506873,
           0.015417814723517826,
           0.08342306356265732,
           0.007419221945843196,
           0.018906538897702465,
           0.034306548945415564,
           0.033502543669420654,
           0.0235084079885832,
           0.018028805829690527,
           0.009709786985204274,
           0,
           0,
           0,
           0.015400441784939139,
           0,
           0,
           0,
           0.9999999999999997,
           0.01050859622902097,
           0.01837728986609271,
           0.03049051418453254,
           0,
           0.07557201747213138,
           0.01871328738672069,
           0.023852713818432358,
           0.013558695380448002,
           0.028532167960203792,
           0,
           0.006556437325444883,
           0.006271878972895361,
           0,
           0.02121687107704387,
           0,
           0.01247807868802973,
           0.010606225923560062,
           0,
           0,
           0.013923288814091682,
           0.02590531155192275,
           0.016212812109495146,
           0,
           0,
           0.04412255106896911
          ],
          [
           0.012546031794744847,
           0,
           0,
           0.038189686336204294,
           0.03806565697472195,
           0,
           0.0436553763018528,
           0.014766873279183962,
           0,
           0,
           0.04802970902796728,
           0.018872250570951186,
           0.04916844082648908,
           0.01835675677308633,
           0.01024158224445522,
           0.024781695060970624,
           0,
           0.015398676939555463,
           0.008615691206075651,
           0,
           0,
           0,
           0,
           0.007442674410979454,
           0.01050859622902097,
           1.0000000000000004,
           0.025821197886208416,
           0.060900536841477844,
           0.009763097018863751,
           0.020727381760987384,
           0.02387774497535361,
           0.029310746350546257,
           0.058151661602135946,
           0,
           0.025239876058499262,
           0,
           0,
           0,
           0,
           0,
           0.005203683555204214,
           0.009619508687052898,
           0,
           0.006686805466238722,
           0,
           0.020510203426708243,
           0,
           0.04853967229187506,
           0,
           0.07877606051498355
          ],
          [
           0.03069401158060202,
           0.01131421313682636,
           0,
           0,
           0.023152164306150108,
           0.06561934007478243,
           0.06857490248850741,
           0.15469489831540922,
           0,
           0,
           0.17496855270718137,
           0.022265160163390012,
           0.03620582164192617,
           0,
           0,
           0,
           0,
           0,
           0,
           0.012674621529195192,
           0.032369482647290185,
           0.07699663016099317,
           0,
           0.008778566409298083,
           0.01837728986609271,
           0.025821197886208416,
           1.0000000000000002,
           0.08239512125380989,
           0.3137374911643785,
           0.012215350255264403,
           0.11961224462314247,
           0.006383231368851238,
           0,
           0,
           0.010331264850425433,
           0,
           0.010164228778348851,
           0,
           0.006793313901676473,
           0.017691847184833007,
           0.013455096716240589,
           0.023935586961073806,
           0,
           0.007887025900909866,
           0,
           0,
           0.02386296458956271,
           0,
           0,
           0
          ],
          [
           0,
           0,
           0.019670880231783337,
           0.0194011705587961,
           0.015929465157456173,
           0,
           0.029665352466947615,
           0.033873953411040165,
           0,
           0.027935177517311227,
           0.04700886919065541,
           0,
           0.03661738665063809,
           0.018339518563177597,
           0,
           0.015250748370059516,
           0.010075410740126982,
           0.02701461142308139,
           0.010187582396783653,
           0,
           0.05236251799333048,
           0,
           0.015739994396969388,
           0.022856617492157966,
           0.03049051418453254,
           0.060900536841477844,
           0.08239512125380989,
           0.9999999999999999,
           0.011544326850680076,
           0.03650284817505771,
           0.04942464727048963,
           0.00663607460291209,
           0.06905471637253043,
           0.007032551581576713,
           0,
           0.009683936995982696,
           0.016167114336878105,
           0,
           0.010032819474056015,
           0.057249766569432446,
           0.008392370390858323,
           0.022223530241523088,
           0.008763480870841679,
           0,
           0.00793033370736157,
           0,
           0,
           0.063469323931556,
           0,
           0.05830135743998672
          ],
          [
           0.047603609672918254,
           0.036519634325030144,
           0,
           0.02223997504479803,
           0,
           0.06444791801140108,
           0.23029080490007092,
           0.18017856606903565,
           0,
           0.023670006359239108,
           0.2772925567955731,
           0.06085124118848377,
           0.04139013302568756,
           0,
           0.008840142026815998,
           0.0077555539326831955,
           0,
           0.02246078191002799,
           0.08326449577161739,
           0.05615525999179726,
           0,
           0.043775381419404014,
           0,
           0,
           0,
           0.009763097018863751,
           0.3137374911643785,
           0.011544326850680076,
           0.9999999999999996,
           0.022594717861368026,
           0.13330536748658856,
           0.027746024940194652,
           0,
           0,
           0,
           0,
           0.033846759858127705,
           0,
           0.058724533019619114,
           0,
           0,
           0.009502098563037123,
           0,
           0,
           0,
           0.029382363948535398,
           0.01740772330111357,
           0,
           0,
           0
          ],
          [
           0.024762531828714244,
           0.07848997883400075,
           0.031671070273050016,
           0.03249094479688296,
           0.051483954565853564,
           0.040750278262177496,
           0.026276240072422245,
           0.026317751045060893,
           0.007669700936818143,
           0.01839703943714508,
           0.025473131494282125,
           0.0622164069204952,
           0.08359686326612964,
           0.10201654996422535,
           0.012972338620108197,
           0.041012057257635334,
           0.004316319712454992,
           0.029587432935710017,
           0.005593012747952106,
           0.006468075480307123,
           0.09878232898206757,
           0.06756903163221673,
           0,
           0.09044779202993979,
           0.07557201747213138,
           0.020727381760987384,
           0.012215350255264403,
           0.03650284817505771,
           0.022594717861368026,
           1,
           0.04593104983151201,
           0.02105894024682404,
           0.011276614656560886,
           0,
           0.10053410770745708,
           0.022741205509044553,
           0.021206475164827723,
           0,
           0.03427701916446286,
           0.019744900553569582,
           0.03147168878199603,
           0.02274411594129371,
           0.024162337135159202,
           0,
           0.02021322156543868,
           0.07072761919448353,
           0.013222844810668304,
           0.026732141903373044,
           0.02811189071741383,
           0.09449132226947074
          ],
          [
           0.04991243012898701,
           0.06170703204125076,
           0.01720228189099829,
           0.007614763990574727,
           0.006212899222309912,
           0.06047132979949271,
           0.07901742479686764,
           0.08877695586180645,
           0,
           0.013154132714643081,
           0.05499896432861967,
           0.03151796760525915,
           0.06362680166756246,
           0.01830429587937659,
           0.0068223476779282035,
           0.02056486035486451,
           0.006587072978257001,
           0.01188769718174984,
           0.031141664016662206,
           0.028238342996596832,
           0.13867874584256326,
           0.079229829636899,
           0,
           0.059584374099430494,
           0.01871328738672069,
           0.02387774497535361,
           0.11961224462314247,
           0.04942464727048963,
           0.13330536748658856,
           0.04593104983151201,
           1.0000000000000004,
           0.11444929122130842,
           0,
           0,
           0.045484148128375514,
           0.09033288134431108,
           0.10808226679539837,
           0.06876632298652323,
           0.07407649284043258,
           0.04876030280545051,
           0.031478336299149444,
           0.00572710716431221,
           0.010907016943140798,
           0,
           0.03456394846746808,
           0.014914614608612724,
           0.012534236311103446,
           0.03387384886196858,
           0.0886483262839271,
           0.05095455869877183
          ],
          [
           0.003642563141657895,
           0,
           0.03742103240640725,
           0.061880493602660236,
           0.017477143933303158,
           0.035165121970105954,
           0.020660211656667274,
           0.022587021590098334,
           0.12946540274313845,
           0.09663578024346041,
           0.012642130912267856,
           0.02848454605406976,
           0.05943723684603793,
           0.03268690693003166,
           0,
           0.023665688253170322,
           0.007766193437098684,
           0.022141927122917966,
           0.04837689509627031,
           0.013534545869533718,
           0.0033681639498954288,
           0.04239143241207633,
           0.016134345937885274,
           0.005759954044343718,
           0.023852713818432358,
           0.029310746350546257,
           0.006383231368851238,
           0.00663607460291209,
           0.027746024940194652,
           0.02105894024682404,
           0.11444929122130842,
           1.0000000000000007,
           0.017939074354621647,
           0.026897314047525742,
           0.006621743481690122,
           0.04859072481153925,
           0.05644289501858156,
           0,
           0.029829505005918546,
           0.08405101754052802,
           0.03928413286585799,
           0.04469982742748814,
           0.06287365868358688,
           0.03894356385876998,
           0.04380774496119623,
           0,
           0.023053864384126068,
           0.01102240168878431,
           0,
           0.08080720907275141
          ],
          [
           0,
           0.041719368716991403,
           0.025063463827771273,
           0.01918117067782962,
           0.010913279416061175,
           0,
           0.004180392203296545,
           0.03068794762925648,
           0,
           0,
           0.00913392874138572,
           0.026959416619982877,
           0.053262127019181774,
           0.025472374630469585,
           0.015739309340814356,
           0.019252475475595065,
           0.007569159246428718,
           0.02743282477918832,
           0.03475520222981216,
           0.0070722491390662395,
           0.00704506911430448,
           0.01999971618191018,
           0,
           0,
           0.013558695380448002,
           0.058151661602135946,
           0,
           0.06905471637253043,
           0,
           0.011276614656560886,
           0,
           0.017939074354621647,
           1.0000000000000004,
           0,
           0.009108444360174266,
           0,
           0.00968439538511973,
           0,
           0.022968985845097767,
           0.0107762064490137,
           0.0017477586987380965,
           0,
           0,
           0,
           0.011335773673756232,
           0.03320055940547203,
           0.012057271242341445,
           0.43271544715852267,
           0,
           0
          ],
          [
           0.03584768864446961,
           0,
           0.03580547564969649,
           0,
           0,
           0.005281680257446078,
           0,
           0.05789214384591679,
           0.1885839759468033,
           0.006429140527710645,
           0,
           0.05939580440017629,
           0.09162773949094488,
           0,
           0.0420335354026469,
           0.02366927613726638,
           0.2975846959801016,
           0.047061459715170645,
           0.0368355575188643,
           0.03657362040104871,
           0,
           0.06010348715182437,
           0,
           0,
           0.028532167960203792,
           0,
           0,
           0.007032551581576713,
           0,
           0,
           0,
           0.026897314047525742,
           0,
           1.0000000000000002,
           0.057378874968797955,
           0.09735577384129872,
           0.003470392654655141,
           0,
           0,
           0.12475224284473921,
           0.03351271840564079,
           0.013684538834322647,
           0.1252626627574092,
           0.0060229839989703994,
           0.049394383109337976,
           0.057949445090652016,
           0.05620852465947703,
           0,
           0,
           0.012912401780836535
          ],
          [
           0.01671223655702311,
           0.04483389366359243,
           0,
           0.0397756377303957,
           0.09336333884518724,
           0,
           0.009294000466423317,
           0.021743620993973402,
           0,
           0.012686953536380835,
           0,
           0,
           0.043974174838082074,
           0,
           0.02233190775638852,
           0.009202972772385186,
           0.010270501438730324,
           0,
           0.019018919238934315,
           0,
           0.0748681610487543,
           0.042980512492524645,
           0,
           0.04526558444608814,
           0,
           0.025239876058499262,
           0.010331264850425433,
           0,
           0,
           0.10053410770745708,
           0.045484148128375514,
           0.006621743481690122,
           0.009108444360174266,
           0.057378874968797955,
           0.9999999999999994,
           0.015990908259042827,
           0.007879954068873827,
           0.010185522664542509,
           0,
           0,
           0,
           0,
           0,
           0.007531860264975665,
           0,
           0.03419419916346073,
           0,
           0.03137678999263031,
           0,
           0.025091367552253933
          ],
          [
           0.026663669726820917,
           0.013194431743447213,
           0.055011587643539854,
           0.010917258831244649,
           0,
           0.020054667485629344,
           0.005739546608133184,
           0.05912485184821525,
           0.10574981328109924,
           0,
           0.012630989000085763,
           0.009733679179764294,
           0.09420597890617054,
           0.0028485107771815538,
           0.015458453150536509,
           0.03247084719863168,
           0.05497721284169856,
           0,
           0.042476585073143815,
           0.050856746418388235,
           0.0643621011477125,
           0.03883254287369724,
           0,
           0.022452000429273058,
           0.006556437325444883,
           0,
           0,
           0.009683936995982696,
           0,
           0.022741205509044553,
           0.09033288134431108,
           0.04859072481153925,
           0,
           0.09735577384129872,
           0.015990908259042827,
           1.0000000000000002,
           0.024683911139453365,
           0.09957092158952041,
           0.02405516645950678,
           0.04729596216315779,
           0.05425026468404248,
           0.03085988195282531,
           0.14463439243802856,
           0.008927569773083652,
           0.04470619790740518,
           0.018580304856386634,
           0.020131458121935657,
           0.007129218908765788,
           0.20171149363739127,
           0.010203139111682868
          ],
          [
           0.03185853854202464,
           0.01813052775867924,
           0.08103452333958665,
           0,
           0,
           0.01263420726926021,
           0.02454220712259511,
           0.21419300637008956,
           0.007894807937870488,
           0.011336694167364816,
           0.014109332763408908,
           0.04251866620303346,
           0.07778554898635938,
           0,
           0.013178142899742359,
           0.004296152570750784,
           0,
           0,
           0.020321967130618932,
           0.026758393179494626,
           0.0901102833600169,
           0.08924545909944832,
           0,
           0.007852922934542097,
           0.006271878972895361,
           0,
           0.010164228778348851,
           0.016167114336878105,
           0.033846759858127705,
           0.021206475164827723,
           0.10808226679539837,
           0.05644289501858156,
           0.00968439538511973,
           0.003470392654655141,
           0.007879954068873827,
           0.024683911139453365,
           1.0000000000000002,
           0.4262499049532884,
           0.03181204190497656,
           0.051361367750414166,
           0.01975021267056375,
           0.007446882362959703,
           0,
           0,
           0,
           0.028356497632831778,
           0.15260584951623854,
           0.027890945268085523,
           0.07648388657096894,
           0.04441238857590904
          ],
          [
           0,
           0,
           0.009592362974895546,
           0,
           0,
           0,
           0,
           0.31316965737868036,
           0,
           0,
           0.008427252927328105,
           0,
           0.0473057098139931,
           0,
           0,
           0,
           0,
           0,
           0,
           0,
           0.0409332592764274,
           0,
           0,
           0.006517189445207854,
           0,
           0,
           0,
           0,
           0,
           0,
           0.06876632298652323,
           0,
           0,
           0,
           0.010185522664542509,
           0.09957092158952041,
           0.4262499049532884,
           0.9999999999999998,
           0.009104309800212998,
           0.014063775720399137,
           0,
           0,
           0,
           0.020802579550299228,
           0,
           0,
           0.2646765588174899,
           0.006488667719538881,
           0.060770521006421656,
           0
          ],
          [
           0.01868782038413392,
           0.0366780889464492,
           0.02395355759640456,
           0.024574534794049002,
           0.013256780631887132,
           0.032361041047821434,
           0.05942998537556937,
           0.04948476592889508,
           0.03452847206274355,
           0.028048764483228284,
           0.03980874042782761,
           0.0302165002992078,
           0.05823090163797219,
           0.04711363790073696,
           0,
           0.018152125632442406,
           0,
           0.008491046485208013,
           0.010112666764621655,
           0.027234414786559146,
           0.015048793683640944,
           0.014001745927770167,
           0,
           0.04229604159480674,
           0.02121687107704387,
           0,
           0.006793313901676473,
           0.010032819474056015,
           0.058724533019619114,
           0.03427701916446286,
           0.07407649284043258,
           0.029829505005918546,
           0.022968985845097767,
           0,
           0,
           0.02405516645950678,
           0.03181204190497656,
           0.009104309800212998,
           0.9999999999999996,
           0.02067658967365767,
           0.02871529378200228,
           0.00559945346036262,
           0.022733603219510953,
           0,
           0.010540698444977114,
           0.005386040882353356,
           0.07279496570619956,
           0.0426055533169014,
           0.038138051380543,
           0.01403062032746593
          ],
          [
           0.02548723731564875,
           0,
           0.08552998657071186,
           0.016458532348833446,
           0.008463405606036164,
           0,
           0.007502476449604412,
           0.032825186322313966,
           0.11679327415429736,
           0,
           0,
           0.01949357327882545,
           0.05207594400995727,
           0.025431259943047308,
           0.013772204135331676,
           0.009402826472098726,
           0.03239562454402564,
           0.014651277870598561,
           0.011142289674364626,
           0.013366732774629374,
           0.039538825360702,
           0.02820972705988689,
           0.011810744461896772,
           0.028831664799918583,
           0,
           0,
           0.017691847184833007,
           0.057249766569432446,
           0,
           0.019744900553569582,
           0.04876030280545051,
           0.08405101754052802,
           0.0107762064490137,
           0.12475224284473921,
           0,
           0.04729596216315779,
           0.051361367750414166,
           0.014063775720399137,
           0.02067658967365767,
           1,
           0.004085630428973672,
           0.02846647422901367,
           0.07634016487403718,
           0,
           0.008821491613271504,
           0.013651776006778495,
           0,
           0.05498531214866162,
           0,
           0.020277756342416742
          ],
          [
           0.034713102718102525,
           0.020685551202024314,
           0.04575177127921741,
           0.013413841373064074,
           0.04195509741827623,
           0.007704562409597923,
           0.0059933166228250175,
           0.01674422204295811,
           0.03025654971674969,
           0.01890136520478519,
           0.01325672353951209,
           0,
           0.11404629243210443,
           0.02237695194962249,
           0.05080398475835781,
           0.01177488085317189,
           0.00909067799023558,
           0.01476915924940083,
           0.02291522648740397,
           0.040686556803950356,
           0.06308766353554054,
           0.03049283436106466,
           0.06701495383223642,
           0.02168189548913899,
           0.01247807868802973,
           0.005203683555204214,
           0.013455096716240589,
           0.008392370390858323,
           0,
           0.03147168878199603,
           0.031478336299149444,
           0.03928413286585799,
           0.0017477586987380965,
           0.03351271840564079,
           0,
           0.05425026468404248,
           0.01975021267056375,
           0,
           0.02871529378200228,
           0.004085630428973672,
           1.0000000000000007,
           0.059603502858926474,
           0.07436385756641507,
           0.07979856914751146,
           0.0372131004678763,
           0.015794321345316407,
           0.028176405055779386,
           0.032696084296857025,
           0.012803979217782101,
           0.05819833594766567
          ],
          [
           0.033449421652409175,
           0.009325847563830083,
           0.011797700970329844,
           0.041064715176926385,
           0,
           0.02422150822262487,
           0.024518218110706133,
           0.03884797930829986,
           0.01902690985620737,
           0,
           0,
           0.019959385337458283,
           0.05333607405784543,
           0.031683909145081735,
           0.08477246458134885,
           0.015394006476565086,
           0.008768579301681012,
           0.021943028439602153,
           0.05154186086119554,
           0.00736154619247394,
           0.013015163308750171,
           0.007332487348606867,
           0,
           0.011301388582273574,
           0.010606225923560062,
           0.009619508687052898,
           0.023935586961073806,
           0.022223530241523088,
           0.009502098563037123,
           0.02274411594129371,
           0.00572710716431221,
           0.04469982742748814,
           0,
           0.013684538834322647,
           0,
           0.03085988195282531,
           0.007446882362959703,
           0,
           0.00559945346036262,
           0.02846647422901367,
           0.059603502858926474,
           0.9999999999999999,
           0,
           0.005723400173268713,
           0.04189562539750044,
           0,
           0.013243633349172923,
           0,
           0,
           0.009513304284453036
          ],
          [
           0.05620192191456807,
           0,
           0.09561776830250997,
           0,
           0,
           0,
           0,
           0,
           0.2871114979211354,
           0,
           0,
           0,
           0.04551294515163551,
           0.07603417581319855,
           0,
           0.025010034846881097,
           0,
           0,
           0.07491064976451693,
           0.06363571260065139,
           0,
           0.038743915992757436,
           0.03470706145744875,
           0,
           0,
           0,
           0,
           0.008763480870841679,
           0,
           0.024162337135159202,
           0.010907016943140798,
           0.06287365868358688,
           0,
           0.1252626627574092,
           0,
           0.14463439243802856,
           0,
           0,
           0.022733603219510953,
           0.07634016487403718,
           0.07436385756641507,
           0,
           1.0000000000000002,
           0,
           0.0653250181234391,
           0,
           0.10916582307097474,
           0,
           0.019326487421971555,
           0.045571753955174876
          ],
          [
           0,
           0.015959463099446698,
           0.01415467790221476,
           0,
           0.006989698374045378,
           0,
           0.009840106542697135,
           0.005191487795384968,
           0,
           0.009484138753645776,
           0,
           0,
           0.015393180263227583,
           0,
           0.0060935205216202165,
           0,
           0.008629021339824119,
           0,
           0,
           0.006271857905554663,
           0,
           0,
           0.04442611363924015,
           0.0254413993808592,
           0,
           0.006686805466238722,
           0.007887025900909866,
           0,
           0,
           0,
           0,
           0.03894356385876998,
           0,
           0.0060229839989703994,
           0.007531860264975665,
           0.008927569773083652,
           0,
           0.020802579550299228,
           0,
           0,
           0.07979856914751146,
           0.005723400173268713,
           0,
           0.9999999999999993,
           0,
           0,
           0,
           0,
           0,
           0.05217137346389954
          ],
          [
           0.055353442920278766,
           0.012692066943911689,
           0.02876787334863227,
           0.010258966557364798,
           0,
           0.010267196147049802,
           0,
           0.03690059889230793,
           0,
           0,
           0,
           0,
           0.04652383186476494,
           0.006049114217386403,
           0.01356951056022335,
           0.009841533540464282,
           0.04197594733812851,
           0.019079440067278523,
           0.07238860645542246,
           0.04623217060903888,
           0.017021832888148007,
           0.04900517306788361,
           0,
           0,
           0.013923288814091682,
           0,
           0,
           0.00793033370736157,
           0,
           0.02021322156543868,
           0.03456394846746808,
           0.04380774496119623,
           0.011335773673756232,
           0.049394383109337976,
           0,
           0.04470619790740518,
           0,
           0,
           0.010540698444977114,
           0.008821491613271504,
           0.0372131004678763,
           0.04189562539750044,
           0.0653250181234391,
           0,
           1,
           0.046398149362831924,
           0,
           0.0302773306694502,
           0,
           0.04726169709704722
          ],
          [
           0,
           0.010916424116805948,
           0,
           0.023912865816234394,
           0.039922356673835244,
           0.025631409987915903,
           0.021620053931438024,
           0.062020327103646966,
           0.031278973128005434,
           0,
           0.007227139993054883,
           0.006875209392712979,
           0.042858378895437525,
           0.10021524283698531,
           0.02388639151898132,
           0,
           0.008611466100168753,
           0.010601289764943369,
           0.008194279371559761,
           0.009671825802906724,
           0.014899915385238893,
           0.02581784315008126,
           0,
           0.015707690604727674,
           0.02590531155192275,
           0.020510203426708243,
           0,
           0,
           0.029382363948535398,
           0.07072761919448353,
           0.014914614608612724,
           0,
           0.03320055940547203,
           0.057949445090652016,
           0.03419419916346073,
           0.018580304856386634,
           0.028356497632831778,
           0,
           0.005386040882353356,
           0.013651776006778495,
           0.015794321345316407,
           0,
           0,
           0,
           0.046398149362831924,
           0.9999999999999998,
           0.05331025259535633,
           0.10971122584185072,
           0.02484143964065718,
           0.00934284728775299
          ],
          [
           0,
           0,
           0.040011715033896264,
           0,
           0,
           0.02544160312562719,
           0.0064598515678541924,
           0.12396744712725588,
           0.03278296866557636,
           0.013498700663727539,
           0,
           0,
           0.056063561529769226,
           0,
           0,
           0.015238562242190385,
           0.039537136743242024,
           0,
           0,
           0,
           0.019184965648917474,
           0,
           0,
           0.021434544859050886,
           0.016212812109495146,
           0,
           0.02386296458956271,
           0,
           0.01740772330111357,
           0.013222844810668304,
           0.012534236311103446,
           0.023053864384126068,
           0.012057271242341445,
           0.05620852465947703,
           0,
           0.020131458121935657,
           0.15260584951623854,
           0.2646765588174899,
           0.07279496570619956,
           0,
           0.028176405055779386,
           0.013243633349172923,
           0.10916582307097474,
           0,
           0,
           0.05331025259535633,
           1.0000000000000007,
           0.01695078300584179,
           0.04538140876291395,
           0.03765861587699676
          ],
          [
           0.03212329937225959,
           0.024799299824973416,
           0.015088477066284533,
           0.02187711325548873,
           0.04832042559117893,
           0.004683965314659958,
           0.008495168380853131,
           0.06970530366351954,
           0,
           0,
           0.004302693094246931,
           0.020261160560524846,
           0.12090473277541494,
           0.022249915340903915,
           0.015433671688345994,
           0.06823748813740102,
           0.007124427118167653,
           0.06544523384141267,
           0.04064148519082316,
           0.010588771796285737,
           0.013145581283898446,
           0.023697226460268492,
           0,
           0,
           0,
           0.04853967229187506,
           0,
           0.063469323931556,
           0,
           0.026732141903373044,
           0.03387384886196858,
           0.01102240168878431,
           0.43271544715852267,
           0,
           0.03137678999263031,
           0.007129218908765788,
           0.027890945268085523,
           0.006488667719538881,
           0.0426055533169014,
           0.05498531214866162,
           0.032696084296857025,
           0,
           0,
           0,
           0.0302773306694502,
           0.10971122584185072,
           0.01695078300584179,
           1,
           0,
           0.02371178470404832
          ],
          [
           0.010744137286897824,
           0.011903612563800977,
           0,
           0.01677509661740764,
           0,
           0,
           0,
           0.0663276254952761,
           0,
           0.022319174636839113,
           0.007707096901846926,
           0.05091065100712125,
           0.0399449590574605,
           0,
           0,
           0,
           0.009887833282776343,
           0,
           0,
           0,
           0.11836750946567945,
           0.013803557924915041,
           0.014749536784459453,
           0.027045208119648025,
           0,
           0,
           0,
           0,
           0,
           0.02811189071741383,
           0.0886483262839271,
           0,
           0,
           0,
           0,
           0.20171149363739127,
           0.07648388657096894,
           0.060770521006421656,
           0.038138051380543,
           0,
           0.012803979217782101,
           0,
           0.019326487421971555,
           0,
           0,
           0.02484143964065718,
           0.04538140876291395,
           0,
           1,
           0.028089953934308104
          ],
          [
           0.06309012057213381,
           0.03855308128191261,
           0.030038321102246673,
           0.04264986329274195,
           0.013569544293731127,
           0.036526742116546995,
           0.03103505331331379,
           0.012032661376664394,
           0,
           0.04840370367893463,
           0.03403759663443105,
           0,
           0.04301566770836042,
           0.007566181864472375,
           0.019460828183847693,
           0.029688287940060253,
           0.03332786646930174,
           0.03213092991528403,
           0.010530926017762251,
           0.05994344755830112,
           0.04690326373090463,
           0.023756526997840248,
           0.020284967974271394,
           0.014618191737625335,
           0.04412255106896911,
           0.07877606051498355,
           0,
           0.05830135743998672,
           0,
           0.09449132226947074,
           0.05095455869877183,
           0.08080720907275141,
           0,
           0.012912401780836535,
           0.025091367552253933,
           0.010203139111682868,
           0.04441238857590904,
           0,
           0.01403062032746593,
           0.020277756342416742,
           0.05819833594766567,
           0.009513304284453036,
           0.045571753955174876,
           0.05217137346389954,
           0.04726169709704722,
           0.00934284728775299,
           0.03765861587699676,
           0.02371178470404832,
           0.028089953934308104,
           1
          ]
         ]
        }
       ],
       "layout": {
        "height": 800,
        "template": {
         "data": {
          "bar": [
           {
            "error_x": {
             "color": "#2a3f5f"
            },
            "error_y": {
             "color": "#2a3f5f"
            },
            "marker": {
             "line": {
              "color": "#E5ECF6",
              "width": 0.5
             }
            },
            "type": "bar"
           }
          ],
          "barpolar": [
           {
            "marker": {
             "line": {
              "color": "#E5ECF6",
              "width": 0.5
             }
            },
            "type": "barpolar"
           }
          ],
          "carpet": [
           {
            "aaxis": {
             "endlinecolor": "#2a3f5f",
             "gridcolor": "white",
             "linecolor": "white",
             "minorgridcolor": "white",
             "startlinecolor": "#2a3f5f"
            },
            "baxis": {
             "endlinecolor": "#2a3f5f",
             "gridcolor": "white",
             "linecolor": "white",
             "minorgridcolor": "white",
             "startlinecolor": "#2a3f5f"
            },
            "type": "carpet"
           }
          ],
          "choropleth": [
           {
            "colorbar": {
             "outlinewidth": 0,
             "ticks": ""
            },
            "type": "choropleth"
           }
          ],
          "contour": [
           {
            "colorbar": {
             "outlinewidth": 0,
             "ticks": ""
            },
            "colorscale": [
             [
              0,
              "#0d0887"
             ],
             [
              0.1111111111111111,
              "#46039f"
             ],
             [
              0.2222222222222222,
              "#7201a8"
             ],
             [
              0.3333333333333333,
              "#9c179e"
             ],
             [
              0.4444444444444444,
              "#bd3786"
             ],
             [
              0.5555555555555556,
              "#d8576b"
             ],
             [
              0.6666666666666666,
              "#ed7953"
             ],
             [
              0.7777777777777778,
              "#fb9f3a"
             ],
             [
              0.8888888888888888,
              "#fdca26"
             ],
             [
              1,
              "#f0f921"
             ]
            ],
            "type": "contour"
           }
          ],
          "contourcarpet": [
           {
            "colorbar": {
             "outlinewidth": 0,
             "ticks": ""
            },
            "type": "contourcarpet"
           }
          ],
          "heatmap": [
           {
            "colorbar": {
             "outlinewidth": 0,
             "ticks": ""
            },
            "colorscale": [
             [
              0,
              "#0d0887"
             ],
             [
              0.1111111111111111,
              "#46039f"
             ],
             [
              0.2222222222222222,
              "#7201a8"
             ],
             [
              0.3333333333333333,
              "#9c179e"
             ],
             [
              0.4444444444444444,
              "#bd3786"
             ],
             [
              0.5555555555555556,
              "#d8576b"
             ],
             [
              0.6666666666666666,
              "#ed7953"
             ],
             [
              0.7777777777777778,
              "#fb9f3a"
             ],
             [
              0.8888888888888888,
              "#fdca26"
             ],
             [
              1,
              "#f0f921"
             ]
            ],
            "type": "heatmap"
           }
          ],
          "heatmapgl": [
           {
            "colorbar": {
             "outlinewidth": 0,
             "ticks": ""
            },
            "colorscale": [
             [
              0,
              "#0d0887"
             ],
             [
              0.1111111111111111,
              "#46039f"
             ],
             [
              0.2222222222222222,
              "#7201a8"
             ],
             [
              0.3333333333333333,
              "#9c179e"
             ],
             [
              0.4444444444444444,
              "#bd3786"
             ],
             [
              0.5555555555555556,
              "#d8576b"
             ],
             [
              0.6666666666666666,
              "#ed7953"
             ],
             [
              0.7777777777777778,
              "#fb9f3a"
             ],
             [
              0.8888888888888888,
              "#fdca26"
             ],
             [
              1,
              "#f0f921"
             ]
            ],
            "type": "heatmapgl"
           }
          ],
          "histogram": [
           {
            "marker": {
             "colorbar": {
              "outlinewidth": 0,
              "ticks": ""
             }
            },
            "type": "histogram"
           }
          ],
          "histogram2d": [
           {
            "colorbar": {
             "outlinewidth": 0,
             "ticks": ""
            },
            "colorscale": [
             [
              0,
              "#0d0887"
             ],
             [
              0.1111111111111111,
              "#46039f"
             ],
             [
              0.2222222222222222,
              "#7201a8"
             ],
             [
              0.3333333333333333,
              "#9c179e"
             ],
             [
              0.4444444444444444,
              "#bd3786"
             ],
             [
              0.5555555555555556,
              "#d8576b"
             ],
             [
              0.6666666666666666,
              "#ed7953"
             ],
             [
              0.7777777777777778,
              "#fb9f3a"
             ],
             [
              0.8888888888888888,
              "#fdca26"
             ],
             [
              1,
              "#f0f921"
             ]
            ],
            "type": "histogram2d"
           }
          ],
          "histogram2dcontour": [
           {
            "colorbar": {
             "outlinewidth": 0,
             "ticks": ""
            },
            "colorscale": [
             [
              0,
              "#0d0887"
             ],
             [
              0.1111111111111111,
              "#46039f"
             ],
             [
              0.2222222222222222,
              "#7201a8"
             ],
             [
              0.3333333333333333,
              "#9c179e"
             ],
             [
              0.4444444444444444,
              "#bd3786"
             ],
             [
              0.5555555555555556,
              "#d8576b"
             ],
             [
              0.6666666666666666,
              "#ed7953"
             ],
             [
              0.7777777777777778,
              "#fb9f3a"
             ],
             [
              0.8888888888888888,
              "#fdca26"
             ],
             [
              1,
              "#f0f921"
             ]
            ],
            "type": "histogram2dcontour"
           }
          ],
          "mesh3d": [
           {
            "colorbar": {
             "outlinewidth": 0,
             "ticks": ""
            },
            "type": "mesh3d"
           }
          ],
          "parcoords": [
           {
            "line": {
             "colorbar": {
              "outlinewidth": 0,
              "ticks": ""
             }
            },
            "type": "parcoords"
           }
          ],
          "pie": [
           {
            "automargin": true,
            "type": "pie"
           }
          ],
          "scatter": [
           {
            "marker": {
             "colorbar": {
              "outlinewidth": 0,
              "ticks": ""
             }
            },
            "type": "scatter"
           }
          ],
          "scatter3d": [
           {
            "line": {
             "colorbar": {
              "outlinewidth": 0,
              "ticks": ""
             }
            },
            "marker": {
             "colorbar": {
              "outlinewidth": 0,
              "ticks": ""
             }
            },
            "type": "scatter3d"
           }
          ],
          "scattercarpet": [
           {
            "marker": {
             "colorbar": {
              "outlinewidth": 0,
              "ticks": ""
             }
            },
            "type": "scattercarpet"
           }
          ],
          "scattergeo": [
           {
            "marker": {
             "colorbar": {
              "outlinewidth": 0,
              "ticks": ""
             }
            },
            "type": "scattergeo"
           }
          ],
          "scattergl": [
           {
            "marker": {
             "colorbar": {
              "outlinewidth": 0,
              "ticks": ""
             }
            },
            "type": "scattergl"
           }
          ],
          "scattermapbox": [
           {
            "marker": {
             "colorbar": {
              "outlinewidth": 0,
              "ticks": ""
             }
            },
            "type": "scattermapbox"
           }
          ],
          "scatterpolar": [
           {
            "marker": {
             "colorbar": {
              "outlinewidth": 0,
              "ticks": ""
             }
            },
            "type": "scatterpolar"
           }
          ],
          "scatterpolargl": [
           {
            "marker": {
             "colorbar": {
              "outlinewidth": 0,
              "ticks": ""
             }
            },
            "type": "scatterpolargl"
           }
          ],
          "scatterternary": [
           {
            "marker": {
             "colorbar": {
              "outlinewidth": 0,
              "ticks": ""
             }
            },
            "type": "scatterternary"
           }
          ],
          "surface": [
           {
            "colorbar": {
             "outlinewidth": 0,
             "ticks": ""
            },
            "colorscale": [
             [
              0,
              "#0d0887"
             ],
             [
              0.1111111111111111,
              "#46039f"
             ],
             [
              0.2222222222222222,
              "#7201a8"
             ],
             [
              0.3333333333333333,
              "#9c179e"
             ],
             [
              0.4444444444444444,
              "#bd3786"
             ],
             [
              0.5555555555555556,
              "#d8576b"
             ],
             [
              0.6666666666666666,
              "#ed7953"
             ],
             [
              0.7777777777777778,
              "#fb9f3a"
             ],
             [
              0.8888888888888888,
              "#fdca26"
             ],
             [
              1,
              "#f0f921"
             ]
            ],
            "type": "surface"
           }
          ],
          "table": [
           {
            "cells": {
             "fill": {
              "color": "#EBF0F8"
             },
             "line": {
              "color": "white"
             }
            },
            "header": {
             "fill": {
              "color": "#C8D4E3"
             },
             "line": {
              "color": "white"
             }
            },
            "type": "table"
           }
          ]
         },
         "layout": {
          "annotationdefaults": {
           "arrowcolor": "#2a3f5f",
           "arrowhead": 0,
           "arrowwidth": 1
          },
          "coloraxis": {
           "colorbar": {
            "outlinewidth": 0,
            "ticks": ""
           }
          },
          "colorscale": {
           "diverging": [
            [
             0,
             "#8e0152"
            ],
            [
             0.1,
             "#c51b7d"
            ],
            [
             0.2,
             "#de77ae"
            ],
            [
             0.3,
             "#f1b6da"
            ],
            [
             0.4,
             "#fde0ef"
            ],
            [
             0.5,
             "#f7f7f7"
            ],
            [
             0.6,
             "#e6f5d0"
            ],
            [
             0.7,
             "#b8e186"
            ],
            [
             0.8,
             "#7fbc41"
            ],
            [
             0.9,
             "#4d9221"
            ],
            [
             1,
             "#276419"
            ]
           ],
           "sequential": [
            [
             0,
             "#0d0887"
            ],
            [
             0.1111111111111111,
             "#46039f"
            ],
            [
             0.2222222222222222,
             "#7201a8"
            ],
            [
             0.3333333333333333,
             "#9c179e"
            ],
            [
             0.4444444444444444,
             "#bd3786"
            ],
            [
             0.5555555555555556,
             "#d8576b"
            ],
            [
             0.6666666666666666,
             "#ed7953"
            ],
            [
             0.7777777777777778,
             "#fb9f3a"
            ],
            [
             0.8888888888888888,
             "#fdca26"
            ],
            [
             1,
             "#f0f921"
            ]
           ],
           "sequentialminus": [
            [
             0,
             "#0d0887"
            ],
            [
             0.1111111111111111,
             "#46039f"
            ],
            [
             0.2222222222222222,
             "#7201a8"
            ],
            [
             0.3333333333333333,
             "#9c179e"
            ],
            [
             0.4444444444444444,
             "#bd3786"
            ],
            [
             0.5555555555555556,
             "#d8576b"
            ],
            [
             0.6666666666666666,
             "#ed7953"
            ],
            [
             0.7777777777777778,
             "#fb9f3a"
            ],
            [
             0.8888888888888888,
             "#fdca26"
            ],
            [
             1,
             "#f0f921"
            ]
           ]
          },
          "colorway": [
           "#636efa",
           "#EF553B",
           "#00cc96",
           "#ab63fa",
           "#FFA15A",
           "#19d3f3",
           "#FF6692",
           "#B6E880",
           "#FF97FF",
           "#FECB52"
          ],
          "font": {
           "color": "#2a3f5f"
          },
          "geo": {
           "bgcolor": "white",
           "lakecolor": "white",
           "landcolor": "#E5ECF6",
           "showlakes": true,
           "showland": true,
           "subunitcolor": "white"
          },
          "hoverlabel": {
           "align": "left"
          },
          "hovermode": "closest",
          "mapbox": {
           "style": "light"
          },
          "paper_bgcolor": "white",
          "plot_bgcolor": "#E5ECF6",
          "polar": {
           "angularaxis": {
            "gridcolor": "white",
            "linecolor": "white",
            "ticks": ""
           },
           "bgcolor": "#E5ECF6",
           "radialaxis": {
            "gridcolor": "white",
            "linecolor": "white",
            "ticks": ""
           }
          },
          "scene": {
           "xaxis": {
            "backgroundcolor": "#E5ECF6",
            "gridcolor": "white",
            "gridwidth": 2,
            "linecolor": "white",
            "showbackground": true,
            "ticks": "",
            "zerolinecolor": "white"
           },
           "yaxis": {
            "backgroundcolor": "#E5ECF6",
            "gridcolor": "white",
            "gridwidth": 2,
            "linecolor": "white",
            "showbackground": true,
            "ticks": "",
            "zerolinecolor": "white"
           },
           "zaxis": {
            "backgroundcolor": "#E5ECF6",
            "gridcolor": "white",
            "gridwidth": 2,
            "linecolor": "white",
            "showbackground": true,
            "ticks": "",
            "zerolinecolor": "white"
           }
          },
          "shapedefaults": {
           "line": {
            "color": "#2a3f5f"
           }
          },
          "ternary": {
           "aaxis": {
            "gridcolor": "white",
            "linecolor": "white",
            "ticks": ""
           },
           "baxis": {
            "gridcolor": "white",
            "linecolor": "white",
            "ticks": ""
           },
           "bgcolor": "#E5ECF6",
           "caxis": {
            "gridcolor": "white",
            "linecolor": "white",
            "ticks": ""
           }
          },
          "title": {
           "x": 0.05
          },
          "xaxis": {
           "automargin": true,
           "gridcolor": "white",
           "linecolor": "white",
           "ticks": "",
           "title": {
            "standoff": 15
           },
           "zerolinecolor": "white",
           "zerolinewidth": 2
          },
          "yaxis": {
           "automargin": true,
           "gridcolor": "white",
           "linecolor": "white",
           "ticks": "",
           "title": {
            "standoff": 15
           },
           "zerolinecolor": "white",
           "zerolinewidth": 2
          }
         }
        },
        "title": {
         "text": "🔥 Mapa de calor entre palabras 🔥"
        },
        "width": 800
       }
      },
      "text/html": [
       "<div>                            <div id=\"bf537e31-8c49-4e99-a830-d88315b10e03\" class=\"plotly-graph-div\" style=\"height:800px; width:800px;\"></div>            <script type=\"text/javascript\">                require([\"plotly\"], function(Plotly) {                    window.PLOTLYENV=window.PLOTLYENV || {};                                    if (document.getElementById(\"bf537e31-8c49-4e99-a830-d88315b10e03\")) {                    Plotly.newPlot(                        \"bf537e31-8c49-4e99-a830-d88315b10e03\",                        [{\"colorscale\": [[0.0, \"rgb(255,245,235)\"], [0.125, \"rgb(254,230,206)\"], [0.25, \"rgb(253,208,162)\"], [0.375, \"rgb(253,174,107)\"], [0.5, \"rgb(253,141,60)\"], [0.625, \"rgb(241,105,19)\"], [0.75, \"rgb(217,72,1)\"], [0.875, \"rgb(166,54,3)\"], [1.0, \"rgb(127,39,4)\"]], \"type\": \"heatmap\", \"x\": [\"ahora\", \"aqu\\u00ed\", \"as\\u00ed\", \"a\\u00f1o\", \"biden\", \"bogot\\u00e1\", \"casos\", \"colombia\", \"contacto\", \"contagio\", \"contagios\", \"coronavirus\", \"covid\", \"c\\u00f3mo\", \"da\", \"despu\\u00e9s\", \"dio\", \"dos\", \"d\\u00eda\", \"d\\u00edas\", \"gobierno\", \"hoy\", \"manos\", \"medidas\", \"medio\", \"millones\", \"muertes\", \"mundo\", \"nuevos\", \"pandemia\", \"pa\\u00eds\", \"personas\", \"pfizer\", \"positivo\", \"presidente\", \"prueba\", \"pruebas\", \"requisito\", \"salud\", \"ser\", \"si\", \"solo\", \"s\\u00edntomas\", \"tapabocas\", \"tener\", \"tras\", \"trav\\u00e9s\", \"vacuna\", \"viajeros\", \"virus\"], \"y\": [\"ahora\", \"aqu\\u00ed\", \"as\\u00ed\", \"a\\u00f1o\", \"biden\", \"bogot\\u00e1\", \"casos\", \"colombia\", \"contacto\", \"contagio\", \"contagios\", \"coronavirus\", \"covid\", \"c\\u00f3mo\", \"da\", \"despu\\u00e9s\", \"dio\", \"dos\", \"d\\u00eda\", \"d\\u00edas\", \"gobierno\", \"hoy\", \"manos\", \"medidas\", \"medio\", \"millones\", \"muertes\", \"mundo\", \"nuevos\", \"pandemia\", \"pa\\u00eds\", \"personas\", \"pfizer\", \"positivo\", \"presidente\", \"prueba\", \"pruebas\", \"requisito\", \"salud\", \"ser\", \"si\", \"solo\", \"s\\u00edntomas\", \"tapabocas\", \"tener\", \"tras\", \"trav\\u00e9s\", \"vacuna\", \"viajeros\", \"virus\"], \"z\": [[1.0000000000000002, 0.025537618593970378, 0.051043861033935115, 0.0, 0.056632137020351137, 0.032429989596231494, 0.01139518013456683, 0.021948446130664944, 0.0, 0.019732877273230046, 0.006150901346412886, 0.0, 0.057649150272094926, 0.00803496765783467, 0.0333329754198561, 0.06314160524304069, 0.06141063351532645, 0.08528933588574497, 0.03592885248909368, 0.0666973412492378, 0.04337114553090732, 0.02902930406616349, 0.0, 0.0, 0.0, 0.012546031794744847, 0.03069401158060202, 0.0, 0.047603609672918254, 0.024762531828714244, 0.04991243012898701, 0.003642563141657895, 0.0, 0.03584768864446961, 0.01671223655702311, 0.026663669726820917, 0.03185853854202464, 0.0, 0.01868782038413392, 0.02548723731564875, 0.034713102718102525, 0.033449421652409175, 0.05620192191456807, 0.0, 0.055353442920278766, 0.0, 0.0, 0.03212329937225959, 0.010744137286897824, 0.06309012057213381], [0.025537618593970378, 1.0000000000000007, 0.009401469569946926, 0.0, 0.0, 0.029409244918890163, 0.027022169040770948, 0.06099549854903781, 0.0, 0.019627497652655018, 0.02138944602833844, 0.025398501792744402, 0.04842575540942919, 0.02715255665920594, 0.00828358625614551, 0.0, 0.0, 0.016786677435503623, 0.01094909879749492, 0.039612847798338534, 0.046951825849751244, 0.01577841043124377, 0.0, 0.039328802123814725, 0.010401052239530981, 0.0, 0.01131421313682636, 0.0, 0.036519634325030144, 0.07848997883400075, 0.06170703204125076, 0.0, 0.041719368716991403, 0.0, 0.04483389366359243, 0.013194431743447213, 0.01813052775867924, 0.0, 0.0366780889464492, 0.0, 0.020685551202024314, 0.009325847563830083, 0.0, 0.015959463099446698, 0.012692066943911689, 0.010916424116805948, 0.0, 0.024799299824973416, 0.011903612563800977, 0.03855308128191261], [0.051043861033935115, 0.009401469569946926, 1.0, 0.11874747427331991, 0.0, 0.07154459897810525, 0.007505243605342332, 0.006813433297855768, 0.095216845237181, 0.02905674850196534, 0.0, 0.020752303091676985, 0.07759184075145181, 0.038924772921389156, 0.0, 0.0213915126622742, 0.027603732379772244, 0.017932588318250245, 0.0, 0.011026795404698609, 0.05534575205302555, 0.00924246402759186, 0.0, 0.0, 0.0, 0.0, 0.0, 0.019670880231783337, 0.0, 0.031671070273050016, 0.01720228189099829, 0.03742103240640725, 0.025063463827771273, 0.03580547564969649, 0.0, 0.055011587643539854, 0.08103452333958665, 0.009592362974895546, 0.02395355759640456, 0.08552998657071186, 0.04575177127921741, 0.011797700970329844, 0.09561776830250997, 0.01415467790221476, 0.02876787334863227, 0.0, 0.040011715033896264, 0.015088477066284533, 0.0, 0.030038321102246673], [0.0, 0.0, 0.11874747427331991, 0.9999999999999998, 0.00984252991218782, 0.16315152651519238, 0.0, 0.008040987207528227, 0.0, 0.016042908692915747, 0.0, 0.021175003011865964, 0.04787434458477788, 0.011665263850468552, 0.04620361317459129, 0.010935030780604149, 0.0, 0.03487352662874366, 0.009812168337267353, 0.0, 0.012995403497714022, 0.012475714813946676, 0.0, 0.0, 0.03388297461855744, 0.038189686336204294, 0.0, 0.0194011705587961, 0.02223997504479803, 0.03249094479688296, 0.007614763990574727, 0.061880493602660236, 0.01918117067782962, 0.0, 0.0397756377303957, 0.010917258831244649, 0.0, 0.0, 0.024574534794049002, 0.016458532348833446, 0.013413841373064074, 0.041064715176926385, 0.0, 0.0, 0.010258966557364798, 0.023912865816234394, 0.0, 0.02187711325548873, 0.01677509661740764, 0.04264986329274195], [0.056632137020351137, 0.0, 0.0, 0.00984252991218782, 1.0000000000000002, 0.0, 0.01649229093077961, 0.012128576961471035, 0.0, 0.016299088879450516, 0.009540866597341133, 0.0, 0.05309473294440133, 0.0, 0.016792881483465187, 0.01916599478191437, 0.0, 0.0, 0.08982743967274397, 0.0, 0.05365656872969643, 0.02618175746908103, 0.013417730603871702, 0.0, 0.014269419238965034, 0.03806565697472195, 0.023152164306150108, 0.015929465157456173, 0.0, 0.051483954565853564, 0.006212899222309912, 0.017477143933303158, 0.010913279416061175, 0.0, 0.09336333884518724, 0.0, 0.0, 0.0, 0.013256780631887132, 0.008463405606036164, 0.04195509741827623, 0.0, 0.0, 0.006989698374045378, 0.0, 0.039922356673835244, 0.0, 0.04832042559117893, 0.0, 0.013569544293731127], [0.032429989596231494, 0.029409244918890163, 0.07154459897810525, 0.16315152651519238, 0.0, 0.9999999999999992, 0.12331755626776983, 0.019891257272472346, 0.0, 0.0, 0.04812781412004886, 0.04764750091692451, 0.0723133652383844, 0.0, 0.02841708240180156, 0.0, 0.00756696874164383, 0.010939323901247681, 0.03961463730867283, 0.010486592032775287, 0.0, 0.07871658783499096, 0.0, 0.01664654499978491, 0.0, 0.0, 0.06561934007478243, 0.0, 0.06444791801140108, 0.040750278262177496, 0.06047132979949271, 0.035165121970105954, 0.0, 0.005281680257446078, 0.0, 0.020054667485629344, 0.01263420726926021, 0.0, 0.032361041047821434, 0.0, 0.007704562409597923, 0.02422150822262487, 0.0, 0.0, 0.010267196147049802, 0.025631409987915903, 0.02544160312562719, 0.004683965314659958, 0.0, 0.036526742116546995], [0.01139518013456683, 0.027022169040770948, 0.007505243605342332, 0.0, 0.01649229093077961, 0.12331755626776983, 0.9999999999999987, 0.10733366821524526, 0.0, 0.015807690783205736, 0.09418612398161809, 0.08526514925159172, 0.1040996483337659, 0.007369496677115151, 0.011841282586810638, 0.0073905749288885655, 0.0, 0.009171332389794559, 0.03588367301145387, 0.053907710105878075, 0.004019952896797125, 0.05332871963159423, 0.011819513169653104, 0.017521864110753915, 0.006704486936954065, 0.0436553763018528, 0.06857490248850741, 0.029665352466947615, 0.23029080490007092, 0.026276240072422245, 0.07901742479686764, 0.020660211656667274, 0.004180392203296545, 0.0, 0.009294000466423317, 0.005739546608133184, 0.02454220712259511, 0.0, 0.05942998537556937, 0.007502476449604412, 0.0059933166228250175, 0.024518218110706133, 0.0, 0.009840106542697135, 0.0, 0.021620053931438024, 0.0064598515678541924, 0.008495168380853131, 0.0, 0.03103505331331379], [0.021948446130664944, 0.06099549854903781, 0.006813433297855768, 0.008040987207528227, 0.012128576961471035, 0.019891257272472346, 0.10733366821524526, 1.0000000000000009, 0.008481516057424771, 0.016871228014196972, 0.08237241918240427, 0.028095110428296422, 0.11775668459064524, 0.005843508549845071, 0.018675383639118956, 0.0, 0.03029511366125402, 0.0036250965770646044, 0.022149878922119674, 0.0330631867408882, 0.02971213067349101, 0.0655781565245482, 0.0, 0.02615591190336975, 0.006248711144506873, 0.014766873279183962, 0.15469489831540922, 0.033873953411040165, 0.18017856606903565, 0.026317751045060893, 0.08877695586180645, 0.022587021590098334, 0.03068794762925648, 0.05789214384591679, 0.021743620993973402, 0.05912485184821525, 0.21419300637008956, 0.31316965737868036, 0.04948476592889508, 0.032825186322313966, 0.01674422204295811, 0.03884797930829986, 0.0, 0.005191487795384968, 0.03690059889230793, 0.062020327103646966, 0.12396744712725588, 0.06970530366351954, 0.0663276254952761, 0.012032661376664394], [0.0, 0.0, 0.095216845237181, 0.0, 0.0, 0.0, 0.0, 0.008481516057424771, 0.9999999999999999, 0.026476160153563702, 0.0, 0.0, 0.035895457258855124, 0.037786127496679936, 0.0, 0.006319907453859487, 0.04353665183233579, 0.013068334890314583, 0.006080076561423167, 0.023960341676545732, 0.0, 0.004065290504285606, 0.05109314702722174, 0.0, 0.015417814723517826, 0.0, 0.0, 0.0, 0.0, 0.007669700936818143, 0.0, 0.12946540274313845, 0.0, 0.1885839759468033, 0.0, 0.10574981328109924, 0.007894807937870488, 0.0, 0.03452847206274355, 0.11679327415429736, 0.03025654971674969, 0.01902690985620737, 0.2871114979211354, 0.0, 0.0, 0.031278973128005434, 0.03278296866557636, 0.0, 0.0, 0.0], [0.019732877273230046, 0.019627497652655018, 0.02905674850196534, 0.016042908692915747, 0.016299088879450516, 0.0, 0.015807690783205736, 0.016871228014196972, 0.026476160153563702, 0.9999999999999996, 0.006840346873682059, 0.05161434127297927, 0.06042869682356841, 0.0, 0.013633569796471717, 0.010444028365695367, 0.009210914526724099, 0.0, 0.0, 0.0, 0.00783501159516818, 0.03981457481339428, 0.12402887352673657, 0.04372282015126653, 0.08342306356265732, 0.0, 0.0, 0.027935177517311227, 0.023670006359239108, 0.01839703943714508, 0.013154132714643081, 0.09663578024346041, 0.0, 0.006429140527710645, 0.012686953536380835, 0.0, 0.011336694167364816, 0.0, 0.028048764483228284, 0.0, 0.01890136520478519, 0.0, 0.0, 0.009484138753645776, 0.0, 0.0, 0.013498700663727539, 0.0, 0.022319174636839113, 0.04840370367893463], [0.006150901346412886, 0.02138944602833844, 0.0, 0.0, 0.009540866597341133, 0.04812781412004886, 0.09418612398161809, 0.08237241918240427, 0.0, 0.006840346873682059, 1.0, 0.09506411584170926, 0.06377354496354014, 0.0, 0.0057927770026023765, 0.010885247419966625, 0.0, 0.020298673068385686, 0.03381558671379328, 0.010366772275420265, 0.01059355830813255, 0.009636548843095017, 0.0, 0.04336139193563522, 0.007419221945843196, 0.04802970902796728, 0.17496855270718137, 0.04700886919065541, 0.2772925567955731, 0.025473131494282125, 0.05499896432861967, 0.012642130912267856, 0.00913392874138572, 0.0, 0.0, 0.012630989000085763, 0.014109332763408908, 0.008427252927328105, 0.03980874042782761, 0.0, 0.01325672353951209, 0.0, 0.0, 0.0, 0.0, 0.007227139993054883, 0.0, 0.004302693094246931, 0.007707096901846926, 0.03403759663443105], [0.0, 0.025398501792744402, 0.020752303091676985, 0.021175003011865964, 0.0, 0.04764750091692451, 0.08526514925159172, 0.028095110428296422, 0.0, 0.05161434127297927, 0.09506411584170926, 0.9999999999999992, 0.03673181430460057, 0.021934639759253166, 0.008380998299253893, 0.015807226062997053, 0.02698452034850932, 0.016898610372150943, 0.021764149403715204, 0.0, 0.0, 0.045238598924607985, 0.0, 0.06142409112061208, 0.018906538897702465, 0.018872250570951186, 0.022265160163390012, 0.0, 0.06085124118848377, 0.0622164069204952, 0.03151796760525915, 0.02848454605406976, 0.026959416619982877, 0.05939580440017629, 0.0, 0.009733679179764294, 0.04251866620303346, 0.0, 0.0302165002992078, 0.01949357327882545, 0.0, 0.019959385337458283, 0.0, 0.0, 0.0, 0.006875209392712979, 0.0, 0.020261160560524846, 0.05091065100712125, 0.0], [0.057649150272094926, 0.04842575540942919, 0.07759184075145181, 0.04787434458477788, 0.05309473294440133, 0.0723133652383844, 0.1040996483337659, 0.11775668459064524, 0.035895457258855124, 0.06042869682356841, 0.06377354496354014, 0.03673181430460057, 0.9999999999999987, 0.044104180774976715, 0.05198991472235476, 0.04228719892237256, 0.06757951315151378, 0.04820585509197436, 0.04426774394907524, 0.04515094809531263, 0.051440332162371684, 0.07795233363182995, 0.02429160522863231, 0.05124231734413007, 0.034306548945415564, 0.04916844082648908, 0.03620582164192617, 0.03661738665063809, 0.04139013302568756, 0.08359686326612964, 0.06362680166756246, 0.05943723684603793, 0.053262127019181774, 0.09162773949094488, 0.043974174838082074, 0.09420597890617054, 0.07778554898635938, 0.0473057098139931, 0.05823090163797219, 0.05207594400995727, 0.11404629243210443, 0.05333607405784543, 0.04551294515163551, 0.015393180263227583, 0.04652383186476494, 0.042858378895437525, 0.056063561529769226, 0.12090473277541494, 0.0399449590574605, 0.04301566770836042], [0.00803496765783467, 0.02715255665920594, 0.038924772921389156, 0.011665263850468552, 0.0, 0.0, 0.007369496677115151, 0.005843508549845071, 0.037786127496679936, 0.0, 0.0, 0.021934639759253166, 0.044104180774976715, 0.9999999999999994, 0.015078514685782968, 0.021536720431139692, 0.0, 0.010338419716551596, 0.0, 0.025198663028869396, 0.0, 0.006795176280981939, 0.0, 0.0, 0.033502543669420654, 0.01835675677308633, 0.0, 0.018339518563177597, 0.0, 0.10201654996422535, 0.01830429587937659, 0.03268690693003166, 0.025472374630469585, 0.0, 0.0, 0.0028485107771815538, 0.0, 0.0, 0.04711363790073696, 0.025431259943047308, 0.02237695194962249, 0.031683909145081735, 0.07603417581319855, 0.0, 0.006049114217386403, 0.10021524283698531, 0.0, 0.022249915340903915, 0.0, 0.007566181864472375], [0.0333329754198561, 0.00828358625614551, 0.0, 0.04620361317459129, 0.016792881483465187, 0.02841708240180156, 0.011841282586810638, 0.018675383639118956, 0.0, 0.013633569796471717, 0.0057927770026023765, 0.008380998299253893, 0.05198991472235476, 0.015078514685782968, 0.9999999999999999, 0.0, 0.0, 0.012726950657045447, 0.0, 0.007837602026187914, 0.0, 0.0, 0.013939848099980726, 0.0, 0.0235084079885832, 0.01024158224445522, 0.0, 0.0, 0.008840142026815998, 0.012972338620108197, 0.0068223476779282035, 0.0, 0.015739309340814356, 0.0420335354026469, 0.02233190775638852, 0.015458453150536509, 0.013178142899742359, 0.0, 0.0, 0.013772204135331676, 0.05080398475835781, 0.08477246458134885, 0.0, 0.0060935205216202165, 0.01356951056022335, 0.02388639151898132, 0.0, 0.015433671688345994, 0.0, 0.019460828183847693], [0.06314160524304069, 0.0, 0.0213915126622742, 0.010935030780604149, 0.01916599478191437, 0.0, 0.0073905749288885655, 0.0, 0.006319907453859487, 0.010444028365695367, 0.010885247419966625, 0.015807226062997053, 0.04228719892237256, 0.021536720431139692, 0.0, 0.9999999999999999, 0.009406813624429522, 0.006418175716355236, 0.02686621297222934, 0.07740445898341218, 0.009007369660776175, 0.008211946146069873, 0.0, 0.0, 0.018028805829690527, 0.024781695060970624, 0.0, 0.015250748370059516, 0.0077555539326831955, 0.041012057257635334, 0.02056486035486451, 0.023665688253170322, 0.019252475475595065, 0.02366927613726638, 0.009202972772385186, 0.03247084719863168, 0.004296152570750784, 0.0, 0.018152125632442406, 0.009402826472098726, 0.01177488085317189, 0.015394006476565086, 0.025010034846881097, 0.0, 0.009841533540464282, 0.0, 0.015238562242190385, 0.06823748813740102, 0.0, 0.029688287940060253], [0.06141063351532645, 0.0, 0.027603732379772244, 0.0, 0.0, 0.00756696874164383, 0.0, 0.03029511366125402, 0.04353665183233579, 0.009210914526724099, 0.0, 0.02698452034850932, 0.06757951315151378, 0.0, 0.0, 0.009406813624429522, 1.0, 0.03520531050553165, 0.009706539089450902, 0.02289587372435992, 0.0, 0.0153747878738772, 0.0, 0.0, 0.009709786985204274, 0.0, 0.0, 0.010075410740126982, 0.0, 0.004316319712454992, 0.006587072978257001, 0.007766193437098684, 0.007569159246428718, 0.2975846959801016, 0.010270501438730324, 0.05497721284169856, 0.0, 0.0, 0.0, 0.03239562454402564, 0.00909067799023558, 0.008768579301681012, 0.0, 0.008629021339824119, 0.04197594733812851, 0.008611466100168753, 0.039537136743242024, 0.007124427118167653, 0.009887833282776343, 0.03332786646930174], [0.08528933588574497, 0.016786677435503623, 0.017932588318250245, 0.03487352662874366, 0.0, 0.010939323901247681, 0.009171332389794559, 0.0036250965770646044, 0.013068334890314583, 0.0, 0.020298673068385686, 0.016898610372150943, 0.04820585509197436, 0.010338419716551596, 0.012726950657045447, 0.006418175716355236, 0.03520531050553165, 1.0000000000000002, 0.03698423233855741, 0.1037858188594171, 0.0, 0.008528982011776525, 0.0, 0.0, 0.0, 0.015398676939555463, 0.0, 0.02701461142308139, 0.02246078191002799, 0.029587432935710017, 0.01188769718174984, 0.022141927122917966, 0.02743282477918832, 0.047061459715170645, 0.0, 0.0, 0.0, 0.0, 0.008491046485208013, 0.014651277870598561, 0.01476915924940083, 0.021943028439602153, 0.0, 0.0, 0.019079440067278523, 0.010601289764943369, 0.0, 0.06544523384141267, 0.0, 0.03213092991528403], [0.03592885248909368, 0.01094909879749492, 0.0, 0.009812168337267353, 0.08982743967274397, 0.03961463730867283, 0.03588367301145387, 0.022149878922119674, 0.006080076561423167, 0.0, 0.03381558671379328, 0.021764149403715204, 0.04426774394907524, 0.0, 0.0, 0.02686621297222934, 0.009706539089450902, 0.03698423233855741, 0.9999999999999996, 0.059051381376881776, 0.006666660156432055, 0.051043939847307235, 0.0, 0.0, 0.0, 0.008615691206075651, 0.0, 0.010187582396783653, 0.08326449577161739, 0.005593012747952106, 0.031141664016662206, 0.04837689509627031, 0.03475520222981216, 0.0368355575188643, 0.019018919238934315, 0.042476585073143815, 0.020321967130618932, 0.0, 0.010112666764621655, 0.011142289674364626, 0.02291522648740397, 0.05154186086119554, 0.07491064976451693, 0.0, 0.07238860645542246, 0.008194279371559761, 0.0, 0.04064148519082316, 0.0, 0.010530926017762251], [0.0666973412492378, 0.039612847798338534, 0.011026795404698609, 0.0, 0.0, 0.010486592032775287, 0.053907710105878075, 0.0330631867408882, 0.023960341676545732, 0.0, 0.010366772275420265, 0.0, 0.04515094809531263, 0.025198663028869396, 0.007837602026187914, 0.07740445898341218, 0.02289587372435992, 0.1037858188594171, 0.059051381376881776, 1.0000000000000004, 0.0, 0.14760669871166052, 0.0, 0.017598164548586533, 0.0, 0.0, 0.012674621529195192, 0.0, 0.05615525999179726, 0.006468075480307123, 0.028238342996596832, 0.013534545869533718, 0.0070722491390662395, 0.03657362040104871, 0.0, 0.050856746418388235, 0.026758393179494626, 0.0, 0.027234414786559146, 0.013366732774629374, 0.040686556803950356, 0.00736154619247394, 0.06363571260065139, 0.006271857905554663, 0.04623217060903888, 0.009671825802906724, 0.0, 0.010588771796285737, 0.0, 0.05994344755830112], [0.04337114553090732, 0.046951825849751244, 0.05534575205302555, 0.012995403497714022, 0.05365656872969643, 0.0, 0.004019952896797125, 0.02971213067349101, 0.0, 0.00783501159516818, 0.01059355830813255, 0.0, 0.051440332162371684, 0.0, 0.0, 0.009007369660776175, 0.0, 0.0, 0.006666660156432055, 0.0, 1.0000000000000007, 0.0, 0.0, 0.1022509441446702, 0.015400441784939139, 0.0, 0.032369482647290185, 0.05236251799333048, 0.0, 0.09878232898206757, 0.13867874584256326, 0.0033681639498954288, 0.00704506911430448, 0.0, 0.0748681610487543, 0.0643621011477125, 0.0901102833600169, 0.0409332592764274, 0.015048793683640944, 0.039538825360702, 0.06308766353554054, 0.013015163308750171, 0.0, 0.0, 0.017021832888148007, 0.014899915385238893, 0.019184965648917474, 0.013145581283898446, 0.11836750946567945, 0.04690326373090463], [0.02902930406616349, 0.01577841043124377, 0.00924246402759186, 0.012475714813946676, 0.02618175746908103, 0.07871658783499096, 0.05332871963159423, 0.0655781565245482, 0.004065290504285606, 0.03981457481339428, 0.009636548843095017, 0.045238598924607985, 0.07795233363182995, 0.006795176280981939, 0.0, 0.008211946146069873, 0.0153747878738772, 0.008528982011776525, 0.051043939847307235, 0.14760669871166052, 0.0, 0.9999999999999996, 0.0, 0.0, 0.0, 0.0, 0.07699663016099317, 0.0, 0.043775381419404014, 0.06756903163221673, 0.079229829636899, 0.04239143241207633, 0.01999971618191018, 0.06010348715182437, 0.042980512492524645, 0.03883254287369724, 0.08924545909944832, 0.0, 0.014001745927770167, 0.02820972705988689, 0.03049283436106466, 0.007332487348606867, 0.038743915992757436, 0.0, 0.04900517306788361, 0.02581784315008126, 0.0, 0.023697226460268492, 0.013803557924915041, 0.023756526997840248], [0.0, 0.0, 0.0, 0.0, 0.013417730603871702, 0.0, 0.011819513169653104, 0.0, 0.05109314702722174, 0.12402887352673657, 0.0, 0.0, 0.02429160522863231, 0.0, 0.013939848099980726, 0.0, 0.0, 0.0, 0.0, 0.0, 0.0, 0.0, 0.9999999999999999, 0.009325619031354275, 0.0, 0.0, 0.0, 0.015739994396969388, 0.0, 0.0, 0.0, 0.016134345937885274, 0.0, 0.0, 0.0, 0.0, 0.0, 0.0, 0.0, 0.011810744461896772, 0.06701495383223642, 0.0, 0.03470706145744875, 0.04442611363924015, 0.0, 0.0, 0.0, 0.0, 0.014749536784459453, 0.020284967974271394], [0.0, 0.039328802123814725, 0.0, 0.0, 0.0, 0.01664654499978491, 0.017521864110753915, 0.02615591190336975, 0.0, 0.04372282015126653, 0.04336139193563522, 0.06142409112061208, 0.05124231734413007, 0.0, 0.0, 0.0, 0.0, 0.0, 0.0, 0.017598164548586533, 0.1022509441446702, 0.0, 0.009325619031354275, 0.9999999999999996, 0.0, 0.007442674410979454, 0.008778566409298083, 0.022856617492157966, 0.0, 0.09044779202993979, 0.059584374099430494, 0.005759954044343718, 0.0, 0.0, 0.04526558444608814, 0.022452000429273058, 0.007852922934542097, 0.006517189445207854, 0.04229604159480674, 0.028831664799918583, 0.02168189548913899, 0.011301388582273574, 0.0, 0.0254413993808592, 0.0, 0.015707690604727674, 0.021434544859050886, 0.0, 0.027045208119648025, 0.014618191737625335], [0.0, 0.010401052239530981, 0.0, 0.03388297461855744, 0.014269419238965034, 0.0, 0.006704486936954065, 0.006248711144506873, 0.015417814723517826, 0.08342306356265732, 0.007419221945843196, 0.018906538897702465, 0.034306548945415564, 0.033502543669420654, 0.0235084079885832, 0.018028805829690527, 0.009709786985204274, 0.0, 0.0, 0.0, 0.015400441784939139, 0.0, 0.0, 0.0, 0.9999999999999997, 0.01050859622902097, 0.01837728986609271, 0.03049051418453254, 0.0, 0.07557201747213138, 0.01871328738672069, 0.023852713818432358, 0.013558695380448002, 0.028532167960203792, 0.0, 0.006556437325444883, 0.006271878972895361, 0.0, 0.02121687107704387, 0.0, 0.01247807868802973, 0.010606225923560062, 0.0, 0.0, 0.013923288814091682, 0.02590531155192275, 0.016212812109495146, 0.0, 0.0, 0.04412255106896911], [0.012546031794744847, 0.0, 0.0, 0.038189686336204294, 0.03806565697472195, 0.0, 0.0436553763018528, 0.014766873279183962, 0.0, 0.0, 0.04802970902796728, 0.018872250570951186, 0.04916844082648908, 0.01835675677308633, 0.01024158224445522, 0.024781695060970624, 0.0, 0.015398676939555463, 0.008615691206075651, 0.0, 0.0, 0.0, 0.0, 0.007442674410979454, 0.01050859622902097, 1.0000000000000004, 0.025821197886208416, 0.060900536841477844, 0.009763097018863751, 0.020727381760987384, 0.02387774497535361, 0.029310746350546257, 0.058151661602135946, 0.0, 0.025239876058499262, 0.0, 0.0, 0.0, 0.0, 0.0, 0.005203683555204214, 0.009619508687052898, 0.0, 0.006686805466238722, 0.0, 0.020510203426708243, 0.0, 0.04853967229187506, 0.0, 0.07877606051498355], [0.03069401158060202, 0.01131421313682636, 0.0, 0.0, 0.023152164306150108, 0.06561934007478243, 0.06857490248850741, 0.15469489831540922, 0.0, 0.0, 0.17496855270718137, 0.022265160163390012, 0.03620582164192617, 0.0, 0.0, 0.0, 0.0, 0.0, 0.0, 0.012674621529195192, 0.032369482647290185, 0.07699663016099317, 0.0, 0.008778566409298083, 0.01837728986609271, 0.025821197886208416, 1.0000000000000002, 0.08239512125380989, 0.3137374911643785, 0.012215350255264403, 0.11961224462314247, 0.006383231368851238, 0.0, 0.0, 0.010331264850425433, 0.0, 0.010164228778348851, 0.0, 0.006793313901676473, 0.017691847184833007, 0.013455096716240589, 0.023935586961073806, 0.0, 0.007887025900909866, 0.0, 0.0, 0.02386296458956271, 0.0, 0.0, 0.0], [0.0, 0.0, 0.019670880231783337, 0.0194011705587961, 0.015929465157456173, 0.0, 0.029665352466947615, 0.033873953411040165, 0.0, 0.027935177517311227, 0.04700886919065541, 0.0, 0.03661738665063809, 0.018339518563177597, 0.0, 0.015250748370059516, 0.010075410740126982, 0.02701461142308139, 0.010187582396783653, 0.0, 0.05236251799333048, 0.0, 0.015739994396969388, 0.022856617492157966, 0.03049051418453254, 0.060900536841477844, 0.08239512125380989, 0.9999999999999999, 0.011544326850680076, 0.03650284817505771, 0.04942464727048963, 0.00663607460291209, 0.06905471637253043, 0.007032551581576713, 0.0, 0.009683936995982696, 0.016167114336878105, 0.0, 0.010032819474056015, 0.057249766569432446, 0.008392370390858323, 0.022223530241523088, 0.008763480870841679, 0.0, 0.00793033370736157, 0.0, 0.0, 0.063469323931556, 0.0, 0.05830135743998672], [0.047603609672918254, 0.036519634325030144, 0.0, 0.02223997504479803, 0.0, 0.06444791801140108, 0.23029080490007092, 0.18017856606903565, 0.0, 0.023670006359239108, 0.2772925567955731, 0.06085124118848377, 0.04139013302568756, 0.0, 0.008840142026815998, 0.0077555539326831955, 0.0, 0.02246078191002799, 0.08326449577161739, 0.05615525999179726, 0.0, 0.043775381419404014, 0.0, 0.0, 0.0, 0.009763097018863751, 0.3137374911643785, 0.011544326850680076, 0.9999999999999996, 0.022594717861368026, 0.13330536748658856, 0.027746024940194652, 0.0, 0.0, 0.0, 0.0, 0.033846759858127705, 0.0, 0.058724533019619114, 0.0, 0.0, 0.009502098563037123, 0.0, 0.0, 0.0, 0.029382363948535398, 0.01740772330111357, 0.0, 0.0, 0.0], [0.024762531828714244, 0.07848997883400075, 0.031671070273050016, 0.03249094479688296, 0.051483954565853564, 0.040750278262177496, 0.026276240072422245, 0.026317751045060893, 0.007669700936818143, 0.01839703943714508, 0.025473131494282125, 0.0622164069204952, 0.08359686326612964, 0.10201654996422535, 0.012972338620108197, 0.041012057257635334, 0.004316319712454992, 0.029587432935710017, 0.005593012747952106, 0.006468075480307123, 0.09878232898206757, 0.06756903163221673, 0.0, 0.09044779202993979, 0.07557201747213138, 0.020727381760987384, 0.012215350255264403, 0.03650284817505771, 0.022594717861368026, 1.0, 0.04593104983151201, 0.02105894024682404, 0.011276614656560886, 0.0, 0.10053410770745708, 0.022741205509044553, 0.021206475164827723, 0.0, 0.03427701916446286, 0.019744900553569582, 0.03147168878199603, 0.02274411594129371, 0.024162337135159202, 0.0, 0.02021322156543868, 0.07072761919448353, 0.013222844810668304, 0.026732141903373044, 0.02811189071741383, 0.09449132226947074], [0.04991243012898701, 0.06170703204125076, 0.01720228189099829, 0.007614763990574727, 0.006212899222309912, 0.06047132979949271, 0.07901742479686764, 0.08877695586180645, 0.0, 0.013154132714643081, 0.05499896432861967, 0.03151796760525915, 0.06362680166756246, 0.01830429587937659, 0.0068223476779282035, 0.02056486035486451, 0.006587072978257001, 0.01188769718174984, 0.031141664016662206, 0.028238342996596832, 0.13867874584256326, 0.079229829636899, 0.0, 0.059584374099430494, 0.01871328738672069, 0.02387774497535361, 0.11961224462314247, 0.04942464727048963, 0.13330536748658856, 0.04593104983151201, 1.0000000000000004, 0.11444929122130842, 0.0, 0.0, 0.045484148128375514, 0.09033288134431108, 0.10808226679539837, 0.06876632298652323, 0.07407649284043258, 0.04876030280545051, 0.031478336299149444, 0.00572710716431221, 0.010907016943140798, 0.0, 0.03456394846746808, 0.014914614608612724, 0.012534236311103446, 0.03387384886196858, 0.0886483262839271, 0.05095455869877183], [0.003642563141657895, 0.0, 0.03742103240640725, 0.061880493602660236, 0.017477143933303158, 0.035165121970105954, 0.020660211656667274, 0.022587021590098334, 0.12946540274313845, 0.09663578024346041, 0.012642130912267856, 0.02848454605406976, 0.05943723684603793, 0.03268690693003166, 0.0, 0.023665688253170322, 0.007766193437098684, 0.022141927122917966, 0.04837689509627031, 0.013534545869533718, 0.0033681639498954288, 0.04239143241207633, 0.016134345937885274, 0.005759954044343718, 0.023852713818432358, 0.029310746350546257, 0.006383231368851238, 0.00663607460291209, 0.027746024940194652, 0.02105894024682404, 0.11444929122130842, 1.0000000000000007, 0.017939074354621647, 0.026897314047525742, 0.006621743481690122, 0.04859072481153925, 0.05644289501858156, 0.0, 0.029829505005918546, 0.08405101754052802, 0.03928413286585799, 0.04469982742748814, 0.06287365868358688, 0.03894356385876998, 0.04380774496119623, 0.0, 0.023053864384126068, 0.01102240168878431, 0.0, 0.08080720907275141], [0.0, 0.041719368716991403, 0.025063463827771273, 0.01918117067782962, 0.010913279416061175, 0.0, 0.004180392203296545, 0.03068794762925648, 0.0, 0.0, 0.00913392874138572, 0.026959416619982877, 0.053262127019181774, 0.025472374630469585, 0.015739309340814356, 0.019252475475595065, 0.007569159246428718, 0.02743282477918832, 0.03475520222981216, 0.0070722491390662395, 0.00704506911430448, 0.01999971618191018, 0.0, 0.0, 0.013558695380448002, 0.058151661602135946, 0.0, 0.06905471637253043, 0.0, 0.011276614656560886, 0.0, 0.017939074354621647, 1.0000000000000004, 0.0, 0.009108444360174266, 0.0, 0.00968439538511973, 0.0, 0.022968985845097767, 0.0107762064490137, 0.0017477586987380965, 0.0, 0.0, 0.0, 0.011335773673756232, 0.03320055940547203, 0.012057271242341445, 0.43271544715852267, 0.0, 0.0], [0.03584768864446961, 0.0, 0.03580547564969649, 0.0, 0.0, 0.005281680257446078, 0.0, 0.05789214384591679, 0.1885839759468033, 0.006429140527710645, 0.0, 0.05939580440017629, 0.09162773949094488, 0.0, 0.0420335354026469, 0.02366927613726638, 0.2975846959801016, 0.047061459715170645, 0.0368355575188643, 0.03657362040104871, 0.0, 0.06010348715182437, 0.0, 0.0, 0.028532167960203792, 0.0, 0.0, 0.007032551581576713, 0.0, 0.0, 0.0, 0.026897314047525742, 0.0, 1.0000000000000002, 0.057378874968797955, 0.09735577384129872, 0.003470392654655141, 0.0, 0.0, 0.12475224284473921, 0.03351271840564079, 0.013684538834322647, 0.1252626627574092, 0.0060229839989703994, 0.049394383109337976, 0.057949445090652016, 0.05620852465947703, 0.0, 0.0, 0.012912401780836535], [0.01671223655702311, 0.04483389366359243, 0.0, 0.0397756377303957, 0.09336333884518724, 0.0, 0.009294000466423317, 0.021743620993973402, 0.0, 0.012686953536380835, 0.0, 0.0, 0.043974174838082074, 0.0, 0.02233190775638852, 0.009202972772385186, 0.010270501438730324, 0.0, 0.019018919238934315, 0.0, 0.0748681610487543, 0.042980512492524645, 0.0, 0.04526558444608814, 0.0, 0.025239876058499262, 0.010331264850425433, 0.0, 0.0, 0.10053410770745708, 0.045484148128375514, 0.006621743481690122, 0.009108444360174266, 0.057378874968797955, 0.9999999999999994, 0.015990908259042827, 0.007879954068873827, 0.010185522664542509, 0.0, 0.0, 0.0, 0.0, 0.0, 0.007531860264975665, 0.0, 0.03419419916346073, 0.0, 0.03137678999263031, 0.0, 0.025091367552253933], [0.026663669726820917, 0.013194431743447213, 0.055011587643539854, 0.010917258831244649, 0.0, 0.020054667485629344, 0.005739546608133184, 0.05912485184821525, 0.10574981328109924, 0.0, 0.012630989000085763, 0.009733679179764294, 0.09420597890617054, 0.0028485107771815538, 0.015458453150536509, 0.03247084719863168, 0.05497721284169856, 0.0, 0.042476585073143815, 0.050856746418388235, 0.0643621011477125, 0.03883254287369724, 0.0, 0.022452000429273058, 0.006556437325444883, 0.0, 0.0, 0.009683936995982696, 0.0, 0.022741205509044553, 0.09033288134431108, 0.04859072481153925, 0.0, 0.09735577384129872, 0.015990908259042827, 1.0000000000000002, 0.024683911139453365, 0.09957092158952041, 0.02405516645950678, 0.04729596216315779, 0.05425026468404248, 0.03085988195282531, 0.14463439243802856, 0.008927569773083652, 0.04470619790740518, 0.018580304856386634, 0.020131458121935657, 0.007129218908765788, 0.20171149363739127, 0.010203139111682868], [0.03185853854202464, 0.01813052775867924, 0.08103452333958665, 0.0, 0.0, 0.01263420726926021, 0.02454220712259511, 0.21419300637008956, 0.007894807937870488, 0.011336694167364816, 0.014109332763408908, 0.04251866620303346, 0.07778554898635938, 0.0, 0.013178142899742359, 0.004296152570750784, 0.0, 0.0, 0.020321967130618932, 0.026758393179494626, 0.0901102833600169, 0.08924545909944832, 0.0, 0.007852922934542097, 0.006271878972895361, 0.0, 0.010164228778348851, 0.016167114336878105, 0.033846759858127705, 0.021206475164827723, 0.10808226679539837, 0.05644289501858156, 0.00968439538511973, 0.003470392654655141, 0.007879954068873827, 0.024683911139453365, 1.0000000000000002, 0.4262499049532884, 0.03181204190497656, 0.051361367750414166, 0.01975021267056375, 0.007446882362959703, 0.0, 0.0, 0.0, 0.028356497632831778, 0.15260584951623854, 0.027890945268085523, 0.07648388657096894, 0.04441238857590904], [0.0, 0.0, 0.009592362974895546, 0.0, 0.0, 0.0, 0.0, 0.31316965737868036, 0.0, 0.0, 0.008427252927328105, 0.0, 0.0473057098139931, 0.0, 0.0, 0.0, 0.0, 0.0, 0.0, 0.0, 0.0409332592764274, 0.0, 0.0, 0.006517189445207854, 0.0, 0.0, 0.0, 0.0, 0.0, 0.0, 0.06876632298652323, 0.0, 0.0, 0.0, 0.010185522664542509, 0.09957092158952041, 0.4262499049532884, 0.9999999999999998, 0.009104309800212998, 0.014063775720399137, 0.0, 0.0, 0.0, 0.020802579550299228, 0.0, 0.0, 0.2646765588174899, 0.006488667719538881, 0.060770521006421656, 0.0], [0.01868782038413392, 0.0366780889464492, 0.02395355759640456, 0.024574534794049002, 0.013256780631887132, 0.032361041047821434, 0.05942998537556937, 0.04948476592889508, 0.03452847206274355, 0.028048764483228284, 0.03980874042782761, 0.0302165002992078, 0.05823090163797219, 0.04711363790073696, 0.0, 0.018152125632442406, 0.0, 0.008491046485208013, 0.010112666764621655, 0.027234414786559146, 0.015048793683640944, 0.014001745927770167, 0.0, 0.04229604159480674, 0.02121687107704387, 0.0, 0.006793313901676473, 0.010032819474056015, 0.058724533019619114, 0.03427701916446286, 0.07407649284043258, 0.029829505005918546, 0.022968985845097767, 0.0, 0.0, 0.02405516645950678, 0.03181204190497656, 0.009104309800212998, 0.9999999999999996, 0.02067658967365767, 0.02871529378200228, 0.00559945346036262, 0.022733603219510953, 0.0, 0.010540698444977114, 0.005386040882353356, 0.07279496570619956, 0.0426055533169014, 0.038138051380543, 0.01403062032746593], [0.02548723731564875, 0.0, 0.08552998657071186, 0.016458532348833446, 0.008463405606036164, 0.0, 0.007502476449604412, 0.032825186322313966, 0.11679327415429736, 0.0, 0.0, 0.01949357327882545, 0.05207594400995727, 0.025431259943047308, 0.013772204135331676, 0.009402826472098726, 0.03239562454402564, 0.014651277870598561, 0.011142289674364626, 0.013366732774629374, 0.039538825360702, 0.02820972705988689, 0.011810744461896772, 0.028831664799918583, 0.0, 0.0, 0.017691847184833007, 0.057249766569432446, 0.0, 0.019744900553569582, 0.04876030280545051, 0.08405101754052802, 0.0107762064490137, 0.12475224284473921, 0.0, 0.04729596216315779, 0.051361367750414166, 0.014063775720399137, 0.02067658967365767, 1.0, 0.004085630428973672, 0.02846647422901367, 0.07634016487403718, 0.0, 0.008821491613271504, 0.013651776006778495, 0.0, 0.05498531214866162, 0.0, 0.020277756342416742], [0.034713102718102525, 0.020685551202024314, 0.04575177127921741, 0.013413841373064074, 0.04195509741827623, 0.007704562409597923, 0.0059933166228250175, 0.01674422204295811, 0.03025654971674969, 0.01890136520478519, 0.01325672353951209, 0.0, 0.11404629243210443, 0.02237695194962249, 0.05080398475835781, 0.01177488085317189, 0.00909067799023558, 0.01476915924940083, 0.02291522648740397, 0.040686556803950356, 0.06308766353554054, 0.03049283436106466, 0.06701495383223642, 0.02168189548913899, 0.01247807868802973, 0.005203683555204214, 0.013455096716240589, 0.008392370390858323, 0.0, 0.03147168878199603, 0.031478336299149444, 0.03928413286585799, 0.0017477586987380965, 0.03351271840564079, 0.0, 0.05425026468404248, 0.01975021267056375, 0.0, 0.02871529378200228, 0.004085630428973672, 1.0000000000000007, 0.059603502858926474, 0.07436385756641507, 0.07979856914751146, 0.0372131004678763, 0.015794321345316407, 0.028176405055779386, 0.032696084296857025, 0.012803979217782101, 0.05819833594766567], [0.033449421652409175, 0.009325847563830083, 0.011797700970329844, 0.041064715176926385, 0.0, 0.02422150822262487, 0.024518218110706133, 0.03884797930829986, 0.01902690985620737, 0.0, 0.0, 0.019959385337458283, 0.05333607405784543, 0.031683909145081735, 0.08477246458134885, 0.015394006476565086, 0.008768579301681012, 0.021943028439602153, 0.05154186086119554, 0.00736154619247394, 0.013015163308750171, 0.007332487348606867, 0.0, 0.011301388582273574, 0.010606225923560062, 0.009619508687052898, 0.023935586961073806, 0.022223530241523088, 0.009502098563037123, 0.02274411594129371, 0.00572710716431221, 0.04469982742748814, 0.0, 0.013684538834322647, 0.0, 0.03085988195282531, 0.007446882362959703, 0.0, 0.00559945346036262, 0.02846647422901367, 0.059603502858926474, 0.9999999999999999, 0.0, 0.005723400173268713, 0.04189562539750044, 0.0, 0.013243633349172923, 0.0, 0.0, 0.009513304284453036], [0.05620192191456807, 0.0, 0.09561776830250997, 0.0, 0.0, 0.0, 0.0, 0.0, 0.2871114979211354, 0.0, 0.0, 0.0, 0.04551294515163551, 0.07603417581319855, 0.0, 0.025010034846881097, 0.0, 0.0, 0.07491064976451693, 0.06363571260065139, 0.0, 0.038743915992757436, 0.03470706145744875, 0.0, 0.0, 0.0, 0.0, 0.008763480870841679, 0.0, 0.024162337135159202, 0.010907016943140798, 0.06287365868358688, 0.0, 0.1252626627574092, 0.0, 0.14463439243802856, 0.0, 0.0, 0.022733603219510953, 0.07634016487403718, 0.07436385756641507, 0.0, 1.0000000000000002, 0.0, 0.0653250181234391, 0.0, 0.10916582307097474, 0.0, 0.019326487421971555, 0.045571753955174876], [0.0, 0.015959463099446698, 0.01415467790221476, 0.0, 0.006989698374045378, 0.0, 0.009840106542697135, 0.005191487795384968, 0.0, 0.009484138753645776, 0.0, 0.0, 0.015393180263227583, 0.0, 0.0060935205216202165, 0.0, 0.008629021339824119, 0.0, 0.0, 0.006271857905554663, 0.0, 0.0, 0.04442611363924015, 0.0254413993808592, 0.0, 0.006686805466238722, 0.007887025900909866, 0.0, 0.0, 0.0, 0.0, 0.03894356385876998, 0.0, 0.0060229839989703994, 0.007531860264975665, 0.008927569773083652, 0.0, 0.020802579550299228, 0.0, 0.0, 0.07979856914751146, 0.005723400173268713, 0.0, 0.9999999999999993, 0.0, 0.0, 0.0, 0.0, 0.0, 0.05217137346389954], [0.055353442920278766, 0.012692066943911689, 0.02876787334863227, 0.010258966557364798, 0.0, 0.010267196147049802, 0.0, 0.03690059889230793, 0.0, 0.0, 0.0, 0.0, 0.04652383186476494, 0.006049114217386403, 0.01356951056022335, 0.009841533540464282, 0.04197594733812851, 0.019079440067278523, 0.07238860645542246, 0.04623217060903888, 0.017021832888148007, 0.04900517306788361, 0.0, 0.0, 0.013923288814091682, 0.0, 0.0, 0.00793033370736157, 0.0, 0.02021322156543868, 0.03456394846746808, 0.04380774496119623, 0.011335773673756232, 0.049394383109337976, 0.0, 0.04470619790740518, 0.0, 0.0, 0.010540698444977114, 0.008821491613271504, 0.0372131004678763, 0.04189562539750044, 0.0653250181234391, 0.0, 1.0, 0.046398149362831924, 0.0, 0.0302773306694502, 0.0, 0.04726169709704722], [0.0, 0.010916424116805948, 0.0, 0.023912865816234394, 0.039922356673835244, 0.025631409987915903, 0.021620053931438024, 0.062020327103646966, 0.031278973128005434, 0.0, 0.007227139993054883, 0.006875209392712979, 0.042858378895437525, 0.10021524283698531, 0.02388639151898132, 0.0, 0.008611466100168753, 0.010601289764943369, 0.008194279371559761, 0.009671825802906724, 0.014899915385238893, 0.02581784315008126, 0.0, 0.015707690604727674, 0.02590531155192275, 0.020510203426708243, 0.0, 0.0, 0.029382363948535398, 0.07072761919448353, 0.014914614608612724, 0.0, 0.03320055940547203, 0.057949445090652016, 0.03419419916346073, 0.018580304856386634, 0.028356497632831778, 0.0, 0.005386040882353356, 0.013651776006778495, 0.015794321345316407, 0.0, 0.0, 0.0, 0.046398149362831924, 0.9999999999999998, 0.05331025259535633, 0.10971122584185072, 0.02484143964065718, 0.00934284728775299], [0.0, 0.0, 0.040011715033896264, 0.0, 0.0, 0.02544160312562719, 0.0064598515678541924, 0.12396744712725588, 0.03278296866557636, 0.013498700663727539, 0.0, 0.0, 0.056063561529769226, 0.0, 0.0, 0.015238562242190385, 0.039537136743242024, 0.0, 0.0, 0.0, 0.019184965648917474, 0.0, 0.0, 0.021434544859050886, 0.016212812109495146, 0.0, 0.02386296458956271, 0.0, 0.01740772330111357, 0.013222844810668304, 0.012534236311103446, 0.023053864384126068, 0.012057271242341445, 0.05620852465947703, 0.0, 0.020131458121935657, 0.15260584951623854, 0.2646765588174899, 0.07279496570619956, 0.0, 0.028176405055779386, 0.013243633349172923, 0.10916582307097474, 0.0, 0.0, 0.05331025259535633, 1.0000000000000007, 0.01695078300584179, 0.04538140876291395, 0.03765861587699676], [0.03212329937225959, 0.024799299824973416, 0.015088477066284533, 0.02187711325548873, 0.04832042559117893, 0.004683965314659958, 0.008495168380853131, 0.06970530366351954, 0.0, 0.0, 0.004302693094246931, 0.020261160560524846, 0.12090473277541494, 0.022249915340903915, 0.015433671688345994, 0.06823748813740102, 0.007124427118167653, 0.06544523384141267, 0.04064148519082316, 0.010588771796285737, 0.013145581283898446, 0.023697226460268492, 0.0, 0.0, 0.0, 0.04853967229187506, 0.0, 0.063469323931556, 0.0, 0.026732141903373044, 0.03387384886196858, 0.01102240168878431, 0.43271544715852267, 0.0, 0.03137678999263031, 0.007129218908765788, 0.027890945268085523, 0.006488667719538881, 0.0426055533169014, 0.05498531214866162, 0.032696084296857025, 0.0, 0.0, 0.0, 0.0302773306694502, 0.10971122584185072, 0.01695078300584179, 1.0, 0.0, 0.02371178470404832], [0.010744137286897824, 0.011903612563800977, 0.0, 0.01677509661740764, 0.0, 0.0, 0.0, 0.0663276254952761, 0.0, 0.022319174636839113, 0.007707096901846926, 0.05091065100712125, 0.0399449590574605, 0.0, 0.0, 0.0, 0.009887833282776343, 0.0, 0.0, 0.0, 0.11836750946567945, 0.013803557924915041, 0.014749536784459453, 0.027045208119648025, 0.0, 0.0, 0.0, 0.0, 0.0, 0.02811189071741383, 0.0886483262839271, 0.0, 0.0, 0.0, 0.0, 0.20171149363739127, 0.07648388657096894, 0.060770521006421656, 0.038138051380543, 0.0, 0.012803979217782101, 0.0, 0.019326487421971555, 0.0, 0.0, 0.02484143964065718, 0.04538140876291395, 0.0, 1.0, 0.028089953934308104], [0.06309012057213381, 0.03855308128191261, 0.030038321102246673, 0.04264986329274195, 0.013569544293731127, 0.036526742116546995, 0.03103505331331379, 0.012032661376664394, 0.0, 0.04840370367893463, 0.03403759663443105, 0.0, 0.04301566770836042, 0.007566181864472375, 0.019460828183847693, 0.029688287940060253, 0.03332786646930174, 0.03213092991528403, 0.010530926017762251, 0.05994344755830112, 0.04690326373090463, 0.023756526997840248, 0.020284967974271394, 0.014618191737625335, 0.04412255106896911, 0.07877606051498355, 0.0, 0.05830135743998672, 0.0, 0.09449132226947074, 0.05095455869877183, 0.08080720907275141, 0.0, 0.012912401780836535, 0.025091367552253933, 0.010203139111682868, 0.04441238857590904, 0.0, 0.01403062032746593, 0.020277756342416742, 0.05819833594766567, 0.009513304284453036, 0.045571753955174876, 0.05217137346389954, 0.04726169709704722, 0.00934284728775299, 0.03765861587699676, 0.02371178470404832, 0.028089953934308104, 1.0]]}],                        {\"height\": 800, \"template\": {\"data\": {\"bar\": [{\"error_x\": {\"color\": \"#2a3f5f\"}, \"error_y\": {\"color\": \"#2a3f5f\"}, \"marker\": {\"line\": {\"color\": \"#E5ECF6\", \"width\": 0.5}}, \"type\": \"bar\"}], \"barpolar\": [{\"marker\": {\"line\": {\"color\": \"#E5ECF6\", \"width\": 0.5}}, \"type\": \"barpolar\"}], \"carpet\": [{\"aaxis\": {\"endlinecolor\": \"#2a3f5f\", \"gridcolor\": \"white\", \"linecolor\": \"white\", \"minorgridcolor\": \"white\", \"startlinecolor\": \"#2a3f5f\"}, \"baxis\": {\"endlinecolor\": \"#2a3f5f\", \"gridcolor\": \"white\", \"linecolor\": \"white\", \"minorgridcolor\": \"white\", \"startlinecolor\": \"#2a3f5f\"}, \"type\": \"carpet\"}], \"choropleth\": [{\"colorbar\": {\"outlinewidth\": 0, \"ticks\": \"\"}, \"type\": \"choropleth\"}], \"contour\": [{\"colorbar\": {\"outlinewidth\": 0, \"ticks\": \"\"}, \"colorscale\": [[0.0, \"#0d0887\"], [0.1111111111111111, \"#46039f\"], [0.2222222222222222, \"#7201a8\"], [0.3333333333333333, \"#9c179e\"], [0.4444444444444444, \"#bd3786\"], [0.5555555555555556, \"#d8576b\"], [0.6666666666666666, \"#ed7953\"], [0.7777777777777778, \"#fb9f3a\"], [0.8888888888888888, \"#fdca26\"], [1.0, \"#f0f921\"]], \"type\": \"contour\"}], \"contourcarpet\": [{\"colorbar\": {\"outlinewidth\": 0, \"ticks\": \"\"}, \"type\": \"contourcarpet\"}], \"heatmap\": [{\"colorbar\": {\"outlinewidth\": 0, \"ticks\": \"\"}, \"colorscale\": [[0.0, \"#0d0887\"], [0.1111111111111111, \"#46039f\"], [0.2222222222222222, \"#7201a8\"], [0.3333333333333333, \"#9c179e\"], [0.4444444444444444, \"#bd3786\"], [0.5555555555555556, \"#d8576b\"], [0.6666666666666666, \"#ed7953\"], [0.7777777777777778, \"#fb9f3a\"], [0.8888888888888888, \"#fdca26\"], [1.0, \"#f0f921\"]], \"type\": \"heatmap\"}], \"heatmapgl\": [{\"colorbar\": {\"outlinewidth\": 0, \"ticks\": \"\"}, \"colorscale\": [[0.0, \"#0d0887\"], [0.1111111111111111, \"#46039f\"], [0.2222222222222222, \"#7201a8\"], [0.3333333333333333, \"#9c179e\"], [0.4444444444444444, \"#bd3786\"], [0.5555555555555556, \"#d8576b\"], [0.6666666666666666, \"#ed7953\"], [0.7777777777777778, \"#fb9f3a\"], [0.8888888888888888, \"#fdca26\"], [1.0, \"#f0f921\"]], \"type\": \"heatmapgl\"}], \"histogram\": [{\"marker\": {\"colorbar\": {\"outlinewidth\": 0, \"ticks\": \"\"}}, \"type\": \"histogram\"}], \"histogram2d\": [{\"colorbar\": {\"outlinewidth\": 0, \"ticks\": \"\"}, \"colorscale\": [[0.0, \"#0d0887\"], [0.1111111111111111, \"#46039f\"], [0.2222222222222222, \"#7201a8\"], [0.3333333333333333, \"#9c179e\"], [0.4444444444444444, \"#bd3786\"], [0.5555555555555556, \"#d8576b\"], [0.6666666666666666, \"#ed7953\"], [0.7777777777777778, \"#fb9f3a\"], [0.8888888888888888, \"#fdca26\"], [1.0, \"#f0f921\"]], \"type\": \"histogram2d\"}], \"histogram2dcontour\": [{\"colorbar\": {\"outlinewidth\": 0, \"ticks\": \"\"}, \"colorscale\": [[0.0, \"#0d0887\"], [0.1111111111111111, \"#46039f\"], [0.2222222222222222, \"#7201a8\"], [0.3333333333333333, \"#9c179e\"], [0.4444444444444444, \"#bd3786\"], [0.5555555555555556, \"#d8576b\"], [0.6666666666666666, \"#ed7953\"], [0.7777777777777778, \"#fb9f3a\"], [0.8888888888888888, \"#fdca26\"], [1.0, \"#f0f921\"]], \"type\": \"histogram2dcontour\"}], \"mesh3d\": [{\"colorbar\": {\"outlinewidth\": 0, \"ticks\": \"\"}, \"type\": \"mesh3d\"}], \"parcoords\": [{\"line\": {\"colorbar\": {\"outlinewidth\": 0, \"ticks\": \"\"}}, \"type\": \"parcoords\"}], \"pie\": [{\"automargin\": true, \"type\": \"pie\"}], \"scatter\": [{\"marker\": {\"colorbar\": {\"outlinewidth\": 0, \"ticks\": \"\"}}, \"type\": \"scatter\"}], \"scatter3d\": [{\"line\": {\"colorbar\": {\"outlinewidth\": 0, \"ticks\": \"\"}}, \"marker\": {\"colorbar\": {\"outlinewidth\": 0, \"ticks\": \"\"}}, \"type\": \"scatter3d\"}], \"scattercarpet\": [{\"marker\": {\"colorbar\": {\"outlinewidth\": 0, \"ticks\": \"\"}}, \"type\": \"scattercarpet\"}], \"scattergeo\": [{\"marker\": {\"colorbar\": {\"outlinewidth\": 0, \"ticks\": \"\"}}, \"type\": \"scattergeo\"}], \"scattergl\": [{\"marker\": {\"colorbar\": {\"outlinewidth\": 0, \"ticks\": \"\"}}, \"type\": \"scattergl\"}], \"scattermapbox\": [{\"marker\": {\"colorbar\": {\"outlinewidth\": 0, \"ticks\": \"\"}}, \"type\": \"scattermapbox\"}], \"scatterpolar\": [{\"marker\": {\"colorbar\": {\"outlinewidth\": 0, \"ticks\": \"\"}}, \"type\": \"scatterpolar\"}], \"scatterpolargl\": [{\"marker\": {\"colorbar\": {\"outlinewidth\": 0, \"ticks\": \"\"}}, \"type\": \"scatterpolargl\"}], \"scatterternary\": [{\"marker\": {\"colorbar\": {\"outlinewidth\": 0, \"ticks\": \"\"}}, \"type\": \"scatterternary\"}], \"surface\": [{\"colorbar\": {\"outlinewidth\": 0, \"ticks\": \"\"}, \"colorscale\": [[0.0, \"#0d0887\"], [0.1111111111111111, \"#46039f\"], [0.2222222222222222, \"#7201a8\"], [0.3333333333333333, \"#9c179e\"], [0.4444444444444444, \"#bd3786\"], [0.5555555555555556, \"#d8576b\"], [0.6666666666666666, \"#ed7953\"], [0.7777777777777778, \"#fb9f3a\"], [0.8888888888888888, \"#fdca26\"], [1.0, \"#f0f921\"]], \"type\": \"surface\"}], \"table\": [{\"cells\": {\"fill\": {\"color\": \"#EBF0F8\"}, \"line\": {\"color\": \"white\"}}, \"header\": {\"fill\": {\"color\": \"#C8D4E3\"}, \"line\": {\"color\": \"white\"}}, \"type\": \"table\"}]}, \"layout\": {\"annotationdefaults\": {\"arrowcolor\": \"#2a3f5f\", \"arrowhead\": 0, \"arrowwidth\": 1}, \"coloraxis\": {\"colorbar\": {\"outlinewidth\": 0, \"ticks\": \"\"}}, \"colorscale\": {\"diverging\": [[0, \"#8e0152\"], [0.1, \"#c51b7d\"], [0.2, \"#de77ae\"], [0.3, \"#f1b6da\"], [0.4, \"#fde0ef\"], [0.5, \"#f7f7f7\"], [0.6, \"#e6f5d0\"], [0.7, \"#b8e186\"], [0.8, \"#7fbc41\"], [0.9, \"#4d9221\"], [1, \"#276419\"]], \"sequential\": [[0.0, \"#0d0887\"], [0.1111111111111111, \"#46039f\"], [0.2222222222222222, \"#7201a8\"], [0.3333333333333333, \"#9c179e\"], [0.4444444444444444, \"#bd3786\"], [0.5555555555555556, \"#d8576b\"], [0.6666666666666666, \"#ed7953\"], [0.7777777777777778, \"#fb9f3a\"], [0.8888888888888888, \"#fdca26\"], [1.0, \"#f0f921\"]], \"sequentialminus\": [[0.0, \"#0d0887\"], [0.1111111111111111, \"#46039f\"], [0.2222222222222222, \"#7201a8\"], [0.3333333333333333, \"#9c179e\"], [0.4444444444444444, \"#bd3786\"], [0.5555555555555556, \"#d8576b\"], [0.6666666666666666, \"#ed7953\"], [0.7777777777777778, \"#fb9f3a\"], [0.8888888888888888, \"#fdca26\"], [1.0, \"#f0f921\"]]}, \"colorway\": [\"#636efa\", \"#EF553B\", \"#00cc96\", \"#ab63fa\", \"#FFA15A\", \"#19d3f3\", \"#FF6692\", \"#B6E880\", \"#FF97FF\", \"#FECB52\"], \"font\": {\"color\": \"#2a3f5f\"}, \"geo\": {\"bgcolor\": \"white\", \"lakecolor\": \"white\", \"landcolor\": \"#E5ECF6\", \"showlakes\": true, \"showland\": true, \"subunitcolor\": \"white\"}, \"hoverlabel\": {\"align\": \"left\"}, \"hovermode\": \"closest\", \"mapbox\": {\"style\": \"light\"}, \"paper_bgcolor\": \"white\", \"plot_bgcolor\": \"#E5ECF6\", \"polar\": {\"angularaxis\": {\"gridcolor\": \"white\", \"linecolor\": \"white\", \"ticks\": \"\"}, \"bgcolor\": \"#E5ECF6\", \"radialaxis\": {\"gridcolor\": \"white\", \"linecolor\": \"white\", \"ticks\": \"\"}}, \"scene\": {\"xaxis\": {\"backgroundcolor\": \"#E5ECF6\", \"gridcolor\": \"white\", \"gridwidth\": 2, \"linecolor\": \"white\", \"showbackground\": true, \"ticks\": \"\", \"zerolinecolor\": \"white\"}, \"yaxis\": {\"backgroundcolor\": \"#E5ECF6\", \"gridcolor\": \"white\", \"gridwidth\": 2, \"linecolor\": \"white\", \"showbackground\": true, \"ticks\": \"\", \"zerolinecolor\": \"white\"}, \"zaxis\": {\"backgroundcolor\": \"#E5ECF6\", \"gridcolor\": \"white\", \"gridwidth\": 2, \"linecolor\": \"white\", \"showbackground\": true, \"ticks\": \"\", \"zerolinecolor\": \"white\"}}, \"shapedefaults\": {\"line\": {\"color\": \"#2a3f5f\"}}, \"ternary\": {\"aaxis\": {\"gridcolor\": \"white\", \"linecolor\": \"white\", \"ticks\": \"\"}, \"baxis\": {\"gridcolor\": \"white\", \"linecolor\": \"white\", \"ticks\": \"\"}, \"bgcolor\": \"#E5ECF6\", \"caxis\": {\"gridcolor\": \"white\", \"linecolor\": \"white\", \"ticks\": \"\"}}, \"title\": {\"x\": 0.05}, \"xaxis\": {\"automargin\": true, \"gridcolor\": \"white\", \"linecolor\": \"white\", \"ticks\": \"\", \"title\": {\"standoff\": 15}, \"zerolinecolor\": \"white\", \"zerolinewidth\": 2}, \"yaxis\": {\"automargin\": true, \"gridcolor\": \"white\", \"linecolor\": \"white\", \"ticks\": \"\", \"title\": {\"standoff\": 15}, \"zerolinecolor\": \"white\", \"zerolinewidth\": 2}}}, \"title\": {\"text\": \"\\ud83d\\udd25 Mapa de calor entre palabras \\ud83d\\udd25\"}, \"width\": 800},                        {\"responsive\": true}                    ).then(function(){\n",
       "                            \n",
       "var gd = document.getElementById('bf537e31-8c49-4e99-a830-d88315b10e03');\n",
       "var x = new MutationObserver(function (mutations, observer) {{\n",
       "        var display = window.getComputedStyle(gd).display;\n",
       "        if (!display || display === 'none') {{\n",
       "            console.log([gd, 'removed!']);\n",
       "            Plotly.purge(gd);\n",
       "            observer.disconnect();\n",
       "        }}\n",
       "}});\n",
       "\n",
       "// Listen for the removal of the full notebook cells\n",
       "var notebookContainer = gd.closest('#notebook-container');\n",
       "if (notebookContainer) {{\n",
       "    x.observe(notebookContainer, {childList: true});\n",
       "}}\n",
       "\n",
       "// Listen for the clearing of the current output cell\n",
       "var outputEl = gd.closest('.output');\n",
       "if (outputEl) {{\n",
       "    x.observe(outputEl, {childList: true});\n",
       "}}\n",
       "\n",
       "                        })                };                });            </script>        </div>"
      ]
     },
     "metadata": {},
     "output_type": "display_data"
    }
   ],
   "source": [
    "trace = go.Heatmap(z=temp.values.tolist(),\n",
    "                   x=temp.index.values,\n",
    "                   y=temp.columns.values,\n",
    "                   colorscale='Oranges')\n",
    " \n",
    "layout = go.Layout(title='🔥 Mapa de calor entre palabras 🔥',\n",
    "                   width=800, height=800)\n",
    " \n",
    "fig = go.Figure(data=[trace],layout=layout)\n",
    "iplot(fig)"
   ]
  },
  {
   "cell_type": "code",
   "execution_count": 38,
   "metadata": {},
   "outputs": [
    {
     "data": {
      "text/plain": [
       "array(['«Hay que dejar de ser un país de maricas»: Bolsonaro sobre segunda ola de COVID-19 en  ',\n",
       "       ' | Continúa la implementación de medidas contra la COVID-19. Aquí te contamos→ ',\n",
       "       'El problema de creer que a los niños no les da Covid-19. 😢 ', ...,\n",
       "       'Por partidos de Colombia se han aumentado los casos de covid ',\n",
       "       ' David Andahl, ganadero de 55 años de edad que falleció el mes pasado a causa del COVID-19, se hizo acreedor a una curul en la legislatura estatal de Dakota del Norte en las elecciones celebradas el pasado 3 de noviembre en los Estados Unidos. ',\n",
       "       'Tengo tos y dolor de garganta y con esta ya es la quinta vez en el año que tengo Covid imaginario.'],\n",
       "      dtype=object)"
      ]
     },
     "execution_count": 38,
     "metadata": {},
     "output_type": "execute_result"
    }
   ],
   "source": [
    "agrupaciones=data['clean'].unique()\n",
    "agrupaciones"
   ]
  },
  {
   "cell_type": "code",
   "execution_count": 73,
   "metadata": {},
   "outputs": [],
   "source": [
    "import pandas as pd\n",
    "import numpy as np\n",
    "from wordcloud import WordCloud\n",
    "from wordcloud import ImageColorGenerator\n",
    "from nltk.corpus import stopwords\n",
    "stopwords = stopwords.words('spanish')\n",
    "import matplotlib.pyplot as plt\n",
    "import PIL.Image\n",
    "from IPython.display import display\n",
    "\n",
    "def generar_grafico(datos,imagen):\n",
    "    calabaza = PIL.Image.open(imagen)\n",
    "    mask = np.array(calabaza)\n",
    "    palabras = datos.clean.str.cat(sep=' ')\n",
    "    wordcloud = WordCloud(width=800, height=400,\n",
    "                         max_font_size=150, max_words=800,\n",
    "                         background_color='black', \n",
    "                         colormap='copper_r',\n",
    "                         stopwords=stopwords,\n",
    "                         mask=mask, contour_width=0.5, contour_color='white').generate(palabras) # https://matplotlib.org/3.1.0/tutorials/colors/colormaps.html\n",
    "                         #title= \"Ejemplo\"\n",
    "    wordcloud.to_file(imagen)\n",
    "\n",
    "    plt.figure(figsize=(10,8))\n",
    "    plt.imshow(wordcloud, interpolation='bilinear')\n",
    "    plt.axis(\"off\")\n",
    "    plt.tight_layout(pad=0)\n",
    "    plt.title=\"Ejemplo\"\n",
    "    return plt"
   ]
  },
  {
   "cell_type": "code",
   "execution_count": 76,
   "metadata": {},
   "outputs": [
    {
     "data": {
      "text/plain": [
       "<module 'matplotlib.pyplot' from 'C:\\\\ProgramData\\\\Anaconda3\\\\lib\\\\site-packages\\\\matplotlib\\\\pyplot.py'>"
      ]
     },
     "execution_count": 76,
     "metadata": {},
     "output_type": "execute_result"
    },
    {
     "data": {
      "image/png": "[encoded data removed]",
      "text/plain": [
       "<Figure size 720x576 with 1 Axes>"
      ]
     },
     "metadata": {
      "needs_background": "light"
     },
     "output_type": "display_data"
    }
   ],
   "source": [
    "generar_grafico(data,\"Colombia.png\")"
   ]
  },
  {
   "cell_type": "code",
   "execution_count": 79,
   "metadata": {},
   "outputs": [],
   "source": [
    "import pyLDAvis.gensim\n",
    "from gensim.models import LdaModel\n",
    "from gensim.corpora import Dictionary\n",
    "from pprint import pprint"
   ]
  },
  {
   "cell_type": "code",
   "execution_count": 80,
   "metadata": {},
   "outputs": [],
   "source": [
    "from nltk.stem.snowball import SnowballStemmer\n",
    "spanishStemmer=SnowballStemmer(\"spanish\")\n",
    "def pre_procesado(texto):\n",
    "    texto = texto.lower()\n",
    "    texto = re.sub(r\"[\\W\\d_]+\", \" \", texto)\n",
    "    #texto = \" \".join([palabra for palabra in texto.split() if palabra not in stopwords_sp])\n",
    "    texto = [palabra for palabra in texto.split() if palabra not in stopwords_sp]\n",
    "    #texto = \" \".join([spanishStemmer.stem(palabra) for palabra in texto.split() ])\n",
    "    return texto"
   ]
  },
  {
   "cell_type": "code",
   "execution_count": 89,
   "metadata": {},
   "outputs": [],
   "source": [
    "data[\"pp\"]= data['clean'].apply(lambda texto: pre_procesado(texto))"
   ]
  },
  {
   "cell_type": "code",
   "execution_count": 90,
   "metadata": {},
   "outputs": [
    {
     "data": {
      "text/plain": [
       "<gensim.corpora.dictionary.Dictionary at 0x22db2da4580>"
      ]
     },
     "execution_count": 90,
     "metadata": {},
     "output_type": "execute_result"
    }
   ],
   "source": [
    "# Crear una representación de los documentos en forma de diccionario\n",
    "dictionary = Dictionary(data['pp'].values)\n",
    "dictionary"
   ]
  },
  {
   "cell_type": "code",
   "execution_count": 94,
   "metadata": {},
   "outputs": [],
   "source": [
    "# Filtrar palabras muy frecuentes y poco frecuentes\n",
    "dictionary.filter_extremes(no_below=20, no_above=0.4)\n",
    "corpus = [dictionary.doc2bow(text) for text in data['pp'].values]"
   ]
  },
  {
   "cell_type": "code",
   "execution_count": 98,
   "metadata": {},
   "outputs": [],
   "source": [
    "#Train the topic model\n",
    "model = LdaModel(corpus=corpus, id2word=dictionary, num_topics=5, passes=60)"
   ]
  },
  {
   "cell_type": "code",
   "execution_count": 99,
   "metadata": {},
   "outputs": [
    {
     "data": {
      "text/plain": [
       "[(0,\n",
       "  '0.152*\"vacuna\" + 0.054*\"pfizer\" + 0.054*\"positivo\" + 0.053*\"dio\" + 0.040*\"millones\" + 0.039*\"biden\" + 0.034*\"colombia\" + 0.031*\"tras\" + 0.026*\"mundo\" + 0.025*\"trump\"'),\n",
       " (1,\n",
       "  '0.087*\"pandemia\" + 0.039*\"contagio\" + 0.038*\"tapabocas\" + 0.038*\"aquí\" + 0.037*\"cómo\" + 0.036*\"gobierno\" + 0.035*\"medidas\" + 0.029*\"puede\" + 0.028*\"vida\" + 0.027*\"ser\"'),\n",
       " (2,\n",
       "  '0.140*\"si\" + 0.076*\"prueba\" + 0.051*\"positivo\" + 0.038*\"contacto\" + 0.038*\"síntomas\" + 0.035*\"salud\" + 0.033*\"personas\" + 0.029*\"casa\" + 0.029*\"bien\" + 0.023*\"cuenta\"'),\n",
       " (3,\n",
       "  '0.101*\"colombia\" + 0.089*\"casos\" + 0.069*\"pruebas\" + 0.046*\"país\" + 0.046*\"contagios\" + 0.037*\"muertes\" + 0.036*\"nuevos\" + 0.029*\"requisito\" + 0.029*\"viajeros\" + 0.026*\"entrar\"'),\n",
       " (4,\n",
       "  '0.061*\"virus\" + 0.056*\"hoy\" + 0.050*\"ahora\" + 0.044*\"así\" + 0.039*\"bogotá\" + 0.038*\"días\" + 0.036*\"día\" + 0.033*\"q\" + 0.027*\"tener\" + 0.027*\"año\"')]"
      ]
     },
     "execution_count": 99,
     "metadata": {},
     "output_type": "execute_result"
    }
   ],
   "source": [
    "model.print_topics(7)"
   ]
  },
  {
   "cell_type": "code",
   "execution_count": 100,
   "metadata": {},
   "outputs": [
    {
     "data": {
      "text/html": [
       "\n",
       "<link rel=\"stylesheet\" type=\"text/css\" href=\"https://cdn.rawgit.com/bmabey/pyLDAvis/files/ldavis.v1.0.0.css\">\n",
       "\n",
       "\n",
       "<div id=\"ldavis_el47882395300026512306313960\"></div>\n",
       "<script type=\"text/javascript\">\n",
       "\n",
       "var ldavis_el47882395300026512306313960_data = {\"mdsDat\": {\"x\": [0.2125910821021557, -0.25984755525192754, -0.15880680754929524, 0.005938784442610841, 0.20012449625645617], \"y\": [0.1568308701488797, 0.20577595534163734, -0.1136652128258785, -0.2672598272133673, 0.018318214548728794], \"topics\": [1, 2, 3, 4, 5], \"cluster\": [1, 1, 1, 1, 1], \"Freq\": [23.55923843383789, 19.865434646606445, 19.349912643432617, 19.09636878967285, 18.129045486450195]}, \"tinfo\": {\"Term\": [\"vacuna\", \"si\", \"casos\", \"colombia\", \"pandemia\", \"pruebas\", \"prueba\", \"positivo\", \"virus\", \"pfizer\", \"ahora\", \"dio\", \"contagios\", \"hoy\", \"muertes\", \"millones\", \"contagio\", \"contacto\", \"s\\u00edntomas\", \"nuevos\", \"as\\u00ed\", \"biden\", \"tapabocas\", \"medidas\", \"c\\u00f3mo\", \"aqu\\u00ed\", \"q\", \"d\\u00edas\", \"d\\u00eda\", \"pa\\u00eds\", \"casos\", \"pruebas\", \"nuevos\", \"muertes\", \"requisito\", \"viajeros\", \"contagios\", \"entrar\", \"pcr\", \"negativas\", \"eliminen\", \"minsaludcol\", \"mil\", \"petici\\u00f3n\", \"fallecidos\", \"recuperados\", \"positivos\", \"muertos\", \"firma\", \"colombia\", \"cada\", \"pa\\u00edses\", \"reporte\", \"v\\u00eda\", \"vez\", \"pa\\u00eds\", \"manos\", \"trav\\u00e9s\", \"informaci\\u00f3n\", \"cifras\", \"coronavirus\", \"prueba\", \"salud\", \"bogot\\u00e1\", \"si\", \"contacto\", \"s\\u00edntomas\", \"casa\", \"bien\", \"cuenta\", \"caso\", \"necesario\", \"pues\", \"cualquier\", \"seguimiento\", \"seguridad\", \"semanas\", \"todas\", \"datos\", \"situaci\\u00f3n\", \"contactos\", \"colombiano\", \"invitamos\", \"debe\", \"prueba\", \"reducir\", \"nueva\", \"parte\", \"aislamiento\", \"solo\", \"hecho\", \"positivo\", \"personas\", \"dar\", \"salud\", \"trav\\u00e9s\", \"as\\u00ed\", \"ser\", \"virus\", \"ahora\", \"q\", \"van\", \"a\\u00f1os\", \"tan\", \"meses\", \"econ\\u00f3mica\", \"ac\\u00e1\", \"social\", \"ciudad\", \"va\", \"d\\u00eda\", \"d\\u00edas\", \"tener\", \"dos\", \"hoy\", \"hace\", \"a\\u00f1o\", \"momento\", \"pacientes\", \"nuevo\", \"as\\u00ed\", \"menos\", \"unidos\", \"bogot\\u00e1\", \"elecciones\", \"dar\", \"despu\\u00e9s\", \"noticia\", \"solo\", \"pandemia\", \"personas\", \"medio\", \"pa\\u00eds\", \"contagio\", \"tapabocas\", \"medidas\", \"puede\", \"vida\", \"frente\", \"tiempos\", \"emergencia\", \"claudia\", \"l\\u00f3pez\", \"mejor\", \"riesgo\", \"mal\", \"uso\", \"c\\u00f3mo\", \"posible\", \"hacer\", \"aqu\\u00ed\", \"tiempo\", \"prevenci\\u00f3n\", \"pandemia\", \"evitar\", \"primer\", \"ver\", \"gobierno\", \"nacional\", \"dice\", \"da\", \"ser\", \"gente\", \"coronavirus\", \"salud\", \"pa\\u00eds\", \"vacuna\", \"pfizer\", \"biden\", \"eficaz\", \"resultados\", \"millones\", \"luego\", \"borr\\u00e9\", \"selecci\\u00f3n\", \"biontech\", \"santos\", \"vargas\", \"crisis\", \"dio\", \"semana\", \"mundial\", \"fin\", \"tras\", \"trump\", \"china\", \"mundo\", \"presidente\", \"trabajo\", \"segunda\", \"leer\", \"seg\\u00fan\", \"positivo\", \"noticia\", \"elecciones\", \"sigue\", \"unidos\", \"colombia\", \"salud\", \"despu\\u00e9s\"], \"Freq\": [176.0, 177.0, 134.0, 192.0, 137.0, 104.0, 128.0, 127.0, 75.0, 63.0, 62.0, 64.0, 70.0, 90.0, 56.0, 48.0, 47.0, 48.0, 48.0, 54.0, 83.0, 45.0, 46.0, 43.0, 50.0, 53.0, 41.0, 54.0, 50.0, 104.0, 133.27296447753906, 103.91410827636719, 54.019020080566406, 55.8651123046875, 44.233089447021484, 43.25284957885742, 69.13017272949219, 38.35951614379883, 33.46458053588867, 32.4903678894043, 31.51175880432129, 31.510616302490234, 29.54892921447754, 26.61859893798828, 24.658832550048828, 22.701005935668945, 22.698389053344727, 24.096261978149414, 28.5999698638916, 151.98802185058594, 21.07062530517578, 25.131765365600586, 14.446956634521484, 20.705476760864258, 17.413599014282227, 69.4279556274414, 27.005552291870117, 33.45018005371094, 15.280386924743652, 10.829819679260254, 19.799362182617188, 30.760730743408203, 22.398183822631836, 20.462474822998047, 176.9890899658203, 48.057701110839844, 48.0559196472168, 37.30870819091797, 36.329715728759766, 29.491649627685547, 28.521543502807617, 26.565608978271484, 26.564895629882812, 24.613176345825195, 24.61095428466797, 23.632173538208008, 21.677688598632812, 20.7017879486084, 22.528833389282227, 27.17332649230957, 17.202491760253906, 20.6744327545166, 16.414932250976562, 26.151275634765625, 96.5650634765625, 15.428300857543945, 21.731090545654297, 14.994080543518066, 19.313655853271484, 26.293394088745117, 12.62309741973877, 64.90531921386719, 42.34662628173828, 10.50185489654541, 44.76958465576172, 23.65232276916504, 26.779909133911133, 21.185239791870117, 75.125732421875, 61.18972396850586, 40.61729431152344, 27.79786491394043, 25.829444885253906, 25.827091217041016, 24.84168243408203, 21.879899978637695, 20.897663116455078, 19.912399291992188, 31.958770751953125, 29.025623321533203, 44.101531982421875, 46.644676208496094, 33.41753387451172, 31.110157012939453, 68.61601257324219, 20.10749626159668, 33.14154815673828, 17.16612434387207, 14.236700057983398, 14.007295608520508, 54.33134078979492, 12.65086555480957, 18.120616912841797, 48.111419677734375, 11.301482200622559, 12.465999603271484, 21.107759475708008, 13.333141326904297, 20.177541732788086, 30.47167205810547, 23.06767463684082, 14.021538734436035, 14.756243705749512, 46.95355224609375, 45.9952392578125, 43.13862228393555, 35.50080490112305, 34.53810119628906, 30.728309631347656, 28.8226261138916, 27.867040634155273, 25.96065330505371, 25.959949493408203, 25.00111198425293, 29.585966110229492, 21.18012809753418, 18.796581268310547, 45.61933898925781, 18.17034149169922, 30.468929290771484, 45.77548599243164, 21.760194778442383, 17.09573745727539, 106.18566131591797, 21.5042781829834, 16.207271575927734, 24.854267120361328, 44.4112548828125, 19.76663589477539, 14.122407913208008, 21.424245834350586, 33.13703918457031, 17.75321388244629, 25.375560760498047, 24.559619903564453, 19.74414825439453, 175.9961395263672, 62.418182373046875, 44.635005950927734, 26.863628387451172, 23.893455505371094, 46.77135467529297, 22.900117874145508, 21.923633575439453, 21.91996955871582, 20.937509536743164, 20.936450958251953, 20.92426300048828, 26.496999740600586, 60.76640319824219, 25.346406936645508, 17.7460994720459, 20.7161808013916, 36.101654052734375, 28.62360191345215, 17.64652442932129, 30.36454963684082, 28.49494171142578, 18.962980270385742, 16.019018173217773, 16.240888595581055, 19.85552215576172, 62.17036437988281, 12.7132568359375, 8.825960159301758, 12.48396110534668, 12.374868392944336, 39.59330368041992, 19.10814666748047, 13.166343688964844], \"Total\": [176.0, 177.0, 134.0, 192.0, 137.0, 104.0, 128.0, 127.0, 75.0, 63.0, 62.0, 64.0, 70.0, 90.0, 56.0, 48.0, 47.0, 48.0, 48.0, 54.0, 83.0, 45.0, 46.0, 43.0, 50.0, 53.0, 41.0, 54.0, 50.0, 104.0, 134.07034301757812, 104.71139526367188, 54.80125045776367, 56.75945281982422, 45.014949798583984, 44.03622817993164, 70.46415710449219, 39.1430549621582, 34.24983596801758, 33.27139663696289, 32.292762756347656, 32.292728424072266, 30.335311889648438, 27.39960479736328, 25.442230224609375, 23.484966278076172, 23.484817504882812, 27.418094635009766, 33.30691146850586, 192.16921997070312, 28.42659568786621, 34.31201934814453, 20.539247512817383, 30.181121826171875, 25.454233169555664, 104.32490539550781, 42.680564880371094, 57.69379425048828, 28.235424041748047, 21.607152938842773, 57.20096206665039, 128.02252197265625, 111.03582000732422, 84.13811492919922, 177.78482055664062, 48.84174728393555, 48.84170150756836, 38.096378326416016, 37.119407653808594, 30.281551361083984, 29.304899215698242, 27.351167678833008, 27.35103988647461, 25.397462844848633, 25.39742660522461, 24.42037010192871, 22.46681785583496, 21.489877700805664, 23.444908142089844, 32.13728332519531, 20.53668212890625, 25.30721092224121, 20.544082641601562, 34.256587982177734, 128.02252197265625, 22.52528953552246, 33.31196975708008, 23.517276763916016, 30.376428604125977, 47.072593688964844, 23.537364959716797, 127.6670913696289, 85.91629028320312, 23.55729103088379, 111.03582000732422, 57.69379425048828, 83.49072265625, 64.77344512939453, 75.91089630126953, 62.10649871826172, 41.4015998840332, 28.583755493164062, 26.611923217773438, 26.611818313598633, 25.625837326049805, 22.667800903320312, 21.68189811706543, 20.69591522216797, 33.49081802368164, 31.53020668029785, 50.23506164550781, 54.158485412597656, 39.438232421875, 39.44220733642578, 90.58291625976562, 27.535253524780273, 46.8895263671875, 24.57754135131836, 21.628374099731445, 21.461633682250977, 83.49072265625, 21.41826057434082, 31.558473587036133, 84.13811492919922, 20.71051788330078, 23.55729103088379, 40.385467529296875, 26.632823944091797, 47.072593688964844, 137.48770141601562, 85.91629028320312, 38.92618942260742, 104.32490539550781, 47.74627685546875, 46.7918815612793, 43.92826461791992, 36.292381286621094, 35.338111877441406, 31.519996643066406, 29.610965728759766, 28.656553268432617, 26.747602462768555, 26.747608184814453, 25.793060302734375, 30.569873809814453, 21.975120544433594, 20.081911087036133, 50.70792770385742, 21.092117309570312, 35.47166442871094, 53.64763259887695, 26.885839462280273, 22.110004425048828, 137.48770141601562, 27.88014793395996, 21.160348892211914, 32.63444137573242, 71.35856628417969, 34.73308563232422, 26.127153396606445, 39.72496032714844, 64.77344512939453, 34.84491729736328, 57.20096206665039, 111.03582000732422, 104.32490539550781, 176.77838134765625, 63.19854736328125, 45.42054748535156, 27.64312744140625, 24.679851531982422, 48.382118225097656, 23.69217300415039, 22.704784393310547, 22.704729080200195, 21.717208862304688, 21.717164993286133, 21.716665267944336, 27.64210319519043, 64.16646575927734, 28.62598419189453, 20.655345916748047, 24.674131393432617, 48.96147155761719, 39.47615051269531, 24.62253189086914, 43.03223419189453, 41.06045150756836, 27.37785530090332, 25.369848251342773, 26.432157516479492, 33.45027160644531, 127.6670913696289, 26.632823944091797, 20.71051788330078, 31.264087677001953, 31.558473587036133, 192.16921997070312, 111.03582000732422, 40.385467529296875], \"Category\": [\"Default\", \"Default\", \"Default\", \"Default\", \"Default\", \"Default\", \"Default\", \"Default\", \"Default\", \"Default\", \"Default\", \"Default\", \"Default\", \"Default\", \"Default\", \"Default\", \"Default\", \"Default\", \"Default\", \"Default\", \"Default\", \"Default\", \"Default\", \"Default\", \"Default\", \"Default\", \"Default\", \"Default\", \"Default\", \"Default\", \"Topic1\", \"Topic1\", \"Topic1\", \"Topic1\", \"Topic1\", \"Topic1\", \"Topic1\", \"Topic1\", \"Topic1\", \"Topic1\", \"Topic1\", \"Topic1\", \"Topic1\", \"Topic1\", \"Topic1\", \"Topic1\", \"Topic1\", \"Topic1\", \"Topic1\", \"Topic1\", \"Topic1\", \"Topic1\", \"Topic1\", \"Topic1\", \"Topic1\", \"Topic1\", \"Topic1\", \"Topic1\", \"Topic1\", \"Topic1\", \"Topic1\", \"Topic1\", \"Topic1\", \"Topic1\", \"Topic2\", \"Topic2\", \"Topic2\", \"Topic2\", \"Topic2\", \"Topic2\", \"Topic2\", \"Topic2\", \"Topic2\", \"Topic2\", \"Topic2\", \"Topic2\", \"Topic2\", \"Topic2\", \"Topic2\", \"Topic2\", \"Topic2\", \"Topic2\", \"Topic2\", \"Topic2\", \"Topic2\", \"Topic2\", \"Topic2\", \"Topic2\", \"Topic2\", \"Topic2\", \"Topic2\", \"Topic2\", \"Topic2\", \"Topic2\", \"Topic2\", \"Topic2\", \"Topic2\", \"Topic2\", \"Topic3\", \"Topic3\", \"Topic3\", \"Topic3\", \"Topic3\", \"Topic3\", \"Topic3\", \"Topic3\", \"Topic3\", \"Topic3\", \"Topic3\", \"Topic3\", \"Topic3\", \"Topic3\", \"Topic3\", \"Topic3\", \"Topic3\", \"Topic3\", \"Topic3\", \"Topic3\", \"Topic3\", \"Topic3\", \"Topic3\", \"Topic3\", \"Topic3\", \"Topic3\", \"Topic3\", \"Topic3\", \"Topic3\", \"Topic3\", \"Topic3\", \"Topic3\", \"Topic3\", \"Topic3\", \"Topic3\", \"Topic4\", \"Topic4\", \"Topic4\", \"Topic4\", \"Topic4\", \"Topic4\", \"Topic4\", \"Topic4\", \"Topic4\", \"Topic4\", \"Topic4\", \"Topic4\", \"Topic4\", \"Topic4\", \"Topic4\", \"Topic4\", \"Topic4\", \"Topic4\", \"Topic4\", \"Topic4\", \"Topic4\", \"Topic4\", \"Topic4\", \"Topic4\", \"Topic4\", \"Topic4\", \"Topic4\", \"Topic4\", \"Topic4\", \"Topic4\", \"Topic4\", \"Topic4\", \"Topic4\", \"Topic5\", \"Topic5\", \"Topic5\", \"Topic5\", \"Topic5\", \"Topic5\", \"Topic5\", \"Topic5\", \"Topic5\", \"Topic5\", \"Topic5\", \"Topic5\", \"Topic5\", \"Topic5\", \"Topic5\", \"Topic5\", \"Topic5\", \"Topic5\", \"Topic5\", \"Topic5\", \"Topic5\", \"Topic5\", \"Topic5\", \"Topic5\", \"Topic5\", \"Topic5\", \"Topic5\", \"Topic5\", \"Topic5\", \"Topic5\", \"Topic5\", \"Topic5\", \"Topic5\", \"Topic5\"], \"logprob\": [30.0, 29.0, 28.0, 27.0, 26.0, 25.0, 24.0, 23.0, 22.0, 21.0, 20.0, 19.0, 18.0, 17.0, 16.0, 15.0, 14.0, 13.0, 12.0, 11.0, 10.0, 9.0, 8.0, 7.0, 6.0, 5.0, 4.0, 3.0, 2.0, 1.0, -2.422600030899048, -2.6714000701904297, -3.3255999088287354, -3.2920000553131104, -3.5255000591278076, -3.5478999614715576, -3.0789999961853027, -3.6679999828338623, -3.804500102996826, -3.8340001106262207, -3.8645999431610107, -3.8645999431610107, -3.9289000034332275, -4.033299922943115, -4.109799861907959, -4.192500114440918, -4.192699909210205, -4.132900238037109, -3.9616000652313232, -2.2911999225616455, -4.267099857330322, -4.090799808502197, -4.644499778747559, -4.284599781036377, -4.457699775695801, -3.074700117111206, -4.018899917602539, -3.8048999309539795, -4.588399887084961, -4.932700157165527, -4.3292999267578125, -3.888700008392334, -4.205999851226807, -4.29640007019043, -1.9682999849319458, -3.2720000743865967, -3.2720999717712402, -3.5251998901367188, -3.551800012588501, -3.7602999210357666, -3.793800115585327, -3.864799976348877, -3.864799976348877, -3.9410998821258545, -3.941200017929077, -3.981800079345703, -4.0680999755859375, -4.114200115203857, -4.029600143432617, -3.8422000408172607, -4.2993998527526855, -4.115499973297119, -4.346199989318848, -3.880500078201294, -2.574199914932251, -4.408199787139893, -4.065700054168701, -4.436800003051758, -4.183599948883057, -3.8750998973846436, -4.60890007019043, -2.9714999198913574, -3.3984999656677246, -4.792900085449219, -3.342900037765503, -3.9809999465942383, -3.856800079345703, -4.091100215911865, -2.7990000247955322, -3.0041000843048096, -3.4138998985290527, -3.7932000160217285, -3.8666000366210938, -3.8666999340057373, -3.905600070953369, -4.032599925994873, -4.078499794006348, -4.126800060272217, -3.653700113296509, -3.7499001026153564, -3.3315999507904053, -3.275599956512451, -3.6089999675750732, -3.6805999279022217, -2.8896000385284424, -4.117000102996826, -3.617300033569336, -4.275199890136719, -4.462299823760986, -4.478499889373779, -3.122999906539917, -4.580399990081787, -4.221099853515625, -3.2446000576019287, -4.69320011138916, -4.595099925994873, -4.06850004196167, -4.527900218963623, -4.11359977722168, -3.7012999057769775, -3.9797000885009766, -4.477499961853027, -4.426499843597412, -3.2558000087738037, -3.276400089263916, -3.3405001163482666, -3.535399913787842, -3.5629000663757324, -3.679800033569336, -3.743799924850464, -3.7774999141693115, -3.848400115966797, -3.848400115966797, -3.885999917984009, -3.717600107192993, -4.0518999099731445, -4.171299934387207, -3.284600019454956, -4.205100059509277, -3.688199996948242, -3.2811999320983887, -4.024899959564209, -4.26609992980957, -2.43969988822937, -4.0366997718811035, -4.319499969482422, -3.891900062561035, -3.3113999366760254, -4.1209001541137695, -4.457200050354004, -4.04040002822876, -3.604300022125244, -4.228400230407715, -3.8712000846862793, -3.9038000106811523, -4.122099876403809, -1.8825000524520874, -2.919100046157837, -3.2544000148773193, -3.762200117111206, -3.879300117492676, -3.20770001411438, -3.921799898147583, -3.965399980545044, -3.96560001373291, -4.01140022277832, -4.011499881744385, -4.01200008392334, -3.775899887084961, -2.9458999633789062, -3.8203001022338867, -4.176799774169922, -4.021999835968018, -3.466599941253662, -3.698699951171875, -4.182400226593018, -3.639699935913086, -3.703200101852417, -4.110499858856201, -4.279200077056885, -4.265399932861328, -4.064499855041504, -2.923099994659424, -4.510300159454346, -4.87529993057251, -4.528500080108643, -4.537300109863281, -3.374300003051758, -4.102799892425537, -4.475299835205078], \"loglift\": [30.0, 29.0, 28.0, 27.0, 26.0, 25.0, 24.0, 23.0, 22.0, 21.0, 20.0, 19.0, 18.0, 17.0, 16.0, 15.0, 14.0, 13.0, 12.0, 11.0, 10.0, 9.0, 8.0, 7.0, 6.0, 5.0, 4.0, 3.0, 2.0, 1.0, 1.4397000074386597, 1.437999963760376, 1.4313000440597534, 1.429800033569336, 1.4280999898910522, 1.4277000427246094, 1.4264999628067017, 1.4254000186920166, 1.4225000143051147, 1.4219000339508057, 1.4212000370025635, 1.4211000204086304, 1.4193999767303467, 1.416700005531311, 1.4143999814987183, 1.4117000102996826, 1.4115999937057495, 1.316499948501587, 1.2933000326156616, 1.2110999822616577, 1.1461999416351318, 1.1342999935150146, 1.0937999486923218, 1.0687999725341797, 1.065999984741211, 1.0384000539779663, 0.9879999756813049, 0.900600016117096, 0.83160001039505, 0.7548999786376953, 0.3847000002861023, 0.019700000062584877, -0.15520000457763672, 0.03180000185966492, 1.6117000579833984, 1.600000023841858, 1.600000023841858, 1.5952999591827393, 1.5946999788284302, 1.5898000001907349, 1.5891000032424927, 1.5870000123977661, 1.5870000123977661, 1.5848000049591064, 1.5846999883651733, 1.583400011062622, 1.580399990081787, 1.5787999629974365, 1.576300024986267, 1.4484000205993652, 1.4390000104904175, 1.4140000343322754, 1.391800045967102, 1.3461999893188477, 1.3342000246047974, 1.2378000020980835, 1.1890000104904175, 1.166100025177002, 1.1633000373840332, 1.0338000059127808, 0.9930999875068665, 0.9397000074386597, 0.9086999893188477, 0.8083000183105469, 0.7078999876976013, 0.7245000004768372, 0.47909998893737793, 0.4986000061035156, 1.632099986076355, 1.6275999546051025, 1.6233999729156494, 1.6145999431610107, 1.6125999689102173, 1.6125999689102173, 1.6114000082015991, 1.607100009918213, 1.6055999994277954, 1.6038999557495117, 1.5957000255584717, 1.5597000122070312, 1.5123000144958496, 1.4931000471115112, 1.4767999649047852, 1.4052000045776367, 1.3646999597549438, 1.3280999660491943, 1.2955000400543213, 1.2835999727249146, 1.2243000268936157, 1.2158000469207764, 1.2128000259399414, 1.1160000562667847, 1.0877000093460083, 1.0835000276565552, 1.0368000268936157, 1.006100058555603, 0.9937000274658203, 0.9506000280380249, 0.7954000234603882, 0.13570000231266022, 0.32749998569488525, 0.621399998664856, -0.313400000333786, 1.6389000415802002, 1.6384999752044678, 1.6375000476837158, 1.6335999965667725, 1.6327999830245972, 1.6302000284194946, 1.6287000179290771, 1.6276999711990356, 1.6258000135421753, 1.6258000135421753, 1.624500036239624, 1.6230000257492065, 1.6188000440597534, 1.5894999504089355, 1.5499000549316406, 1.506600022315979, 1.503600001335144, 1.496999979019165, 1.444200038909912, 1.3984999656677246, 1.3973000049591064, 1.3960000276565552, 1.3890000581741333, 1.3832999467849731, 1.181399941444397, 1.0920000076293945, 1.0405000448226929, 1.0382000207901, 0.9854000210762024, 0.9812999963760376, 0.8428999781608582, 0.1468999981880188, -0.008999999612569809, 1.7031999826431274, 1.695199966430664, 1.6901999711990356, 1.6791000366210938, 1.6753000020980835, 1.673799991607666, 1.673699975013733, 1.6726000308990479, 1.6725000143051147, 1.6711000204086304, 1.6710000038146973, 1.6705000400543213, 1.6653000116348267, 1.6532000303268433, 1.5859999656677246, 1.555799961090088, 1.5327999591827393, 1.402999997138977, 1.386199951171875, 1.374500036239624, 1.3589999675750732, 1.3423000574111938, 1.340399980545044, 1.2479000091552734, 1.2206000089645386, 1.1861000061035156, 0.988099992275238, 0.9682000279426575, 0.8547000288963318, 0.7896000146865845, 0.7714999914169312, 0.12790000438690186, -0.05209999904036522, 0.5867999792098999]}, \"token.table\": {\"Topic\": [3, 3, 2, 3, 1, 4, 2, 3, 4, 3, 4, 3, 5, 2, 5, 1, 3, 4, 5, 1, 3, 2, 2, 1, 1, 5, 1, 3, 5, 3, 4, 4, 1, 5, 2, 4, 2, 2, 3, 4, 1, 5, 1, 3, 4, 5, 3, 5, 2, 2, 2, 4, 3, 4, 5, 2, 3, 2, 2, 3, 2, 3, 5, 2, 3, 4, 5, 2, 3, 5, 3, 5, 1, 3, 1, 2, 3, 3, 5, 3, 5, 1, 4, 1, 3, 4, 1, 3, 5, 1, 5, 4, 2, 3, 4, 1, 3, 4, 2, 3, 3, 4, 2, 3, 1, 3, 5, 1, 2, 4, 5, 2, 3, 3, 4, 5, 5, 4, 4, 1, 4, 4, 2, 3, 4, 4, 3, 4, 3, 1, 3, 5, 1, 2, 3, 1, 1, 3, 4, 5, 4, 5, 1, 4, 2, 1, 3, 5, 2, 3, 3, 4, 1, 1, 3, 3, 4, 2, 3, 5, 1, 3, 4, 1, 3, 1, 1, 2, 3, 4, 1, 5, 4, 5, 2, 5, 1, 4, 5, 3, 4, 4, 5, 1, 2, 1, 4, 2, 3, 1, 2, 3, 1, 2, 1, 5, 4, 1, 2, 4, 5, 5, 2, 4, 5, 2, 1, 5, 5, 3, 5, 2, 2, 3, 4, 5, 2, 1, 4, 5, 2, 4, 3, 2, 3, 2, 3, 4, 3, 5, 3, 4, 4, 2, 4, 5, 1, 4, 5, 1, 2, 3, 5, 1, 3, 5, 3, 4, 2, 3, 5, 5, 3, 5, 2, 4, 1, 2, 5, 1, 4, 3, 1, 3, 4], \"Freq\": [0.968549907207489, 0.9821838736534119, 0.6254850029945374, 0.3292026221752167, 0.1304810643196106, 0.8574469685554504, 0.3233892321586609, 0.6467784643173218, 0.023954756557941437, 0.7037819027900696, 0.27724742889404297, 0.977005660533905, 0.9907410144805908, 0.9698430895805359, 0.9669750928878784, 0.23770439624786377, 0.5704905390739441, 0.17827829718589783, 0.9689587950706482, 0.7387447953224182, 0.2462482750415802, 0.9712209105491638, 0.9895956516265869, 0.9920165538787842, 0.2436792403459549, 0.7310377359390259, 0.5090906620025635, 0.3239668011665344, 0.13884291052818298, 0.9554857611656189, 0.02985893003642559, 0.9720497131347656, 0.7909695506095886, 0.20814988017082214, 0.8298029899597168, 0.15805771946907043, 0.9827658534049988, 0.8277871012687683, 0.14608007669448853, 0.9843699336051941, 0.9792212247848511, 0.014191612601280212, 0.3496444821357727, 0.03496444597840309, 0.4370555877685547, 0.17482224106788635, 0.03617669641971588, 0.9405941367149353, 0.9843502640724182, 0.9576787948608398, 0.07888312637805939, 0.9071559906005859, 0.27690398693084717, 0.5286349058151245, 0.1510385423898697, 0.46694672107696533, 0.5093964338302612, 0.9810232520103455, 0.7589780688285828, 0.23353172838687897, 0.1485682874917984, 0.519989013671875, 0.3218979835510254, 0.11482307314872742, 0.26792049407958984, 0.5358409881591797, 0.07654871791601181, 0.031168928369879723, 0.015584464184939861, 0.9506523013114929, 0.7859600782394409, 0.20282840728759766, 0.11943849176168442, 0.8758822679519653, 0.018464326858520508, 0.11078596115112305, 0.8678233623504639, 0.9705396890640259, 0.9767346382141113, 0.5311310887336731, 0.4345617890357971, 0.9909341335296631, 0.9770888686180115, 0.9707980155944824, 0.21520689129829407, 0.789091944694519, 0.9826182723045349, 0.12158482521772385, 0.8510937690734863, 0.8706901669502258, 0.12009519338607788, 0.9835026264190674, 0.20089012384414673, 0.2869859039783478, 0.5165746212005615, 0.2522472143173218, 0.11210987716913223, 0.6166043281555176, 0.25421956181526184, 0.7263416051864624, 0.11276606470346451, 0.8457455039024353, 0.5523133277893066, 0.42485639452934265, 0.18767336010932922, 0.7617330551147461, 0.05519804731011391, 0.5312475562095642, 0.21249902248382568, 0.21249902248382568, 0.03541650250554085, 0.7788130640983582, 0.19470326602458954, 0.11349811404943466, 0.22699622809886932, 0.6053232550621033, 0.9707847237586975, 0.9720495343208313, 0.9556261301040649, 0.6326064467430115, 0.35144802927970886, 0.9788686037063599, 0.33396539092063904, 0.3596550226211548, 0.3082757294178009, 0.9692529439926147, 0.6069587469100952, 0.37351304292678833, 0.9755778908729553, 0.9889464974403381, 0.020668793469667435, 0.9714332818984985, 0.9909351468086243, 0.284812867641449, 0.6916884183883667, 0.986619770526886, 0.8753343224525452, 0.10941679030656815, 0.09682723134756088, 0.8714451193809509, 0.2788607180118561, 0.6971518397331238, 0.40307387709617615, 0.5758198499679565, 0.9871608018875122, 0.9617871046066284, 0.4881194829940796, 0.4881194829940796, 0.6604232788085938, 0.3302116394042969, 0.6523268818855286, 0.3261634409427643, 0.9853789806365967, 0.32364892959594727, 0.6472978591918945, 0.21820133924484253, 0.7709780335426331, 0.6378289461135864, 0.2976534962654114, 0.08504386246204376, 0.661395251750946, 0.14378158748149872, 0.1917087733745575, 0.7286076545715332, 0.2622987627983093, 0.9635082483291626, 0.09311389178037643, 0.48884791135787964, 0.2677024304866791, 0.13967083394527435, 0.9854156970977783, 0.9810352325439453, 0.853399395942688, 0.09482215344905853, 0.5091366767883301, 0.4856380820274353, 0.9793561100959778, 0.2922520339488983, 0.6819213628768921, 0.18091358244419098, 0.768882691860199, 0.7561311721801758, 0.18903279304504395, 0.2421448975801468, 0.7576791644096375, 0.9932061433792114, 0.9919437170028687, 0.9871653914451599, 0.9902998805046082, 0.9793499112129211, 0.6659181714057922, 0.31076180934906006, 0.6816218495368958, 0.24343638122081757, 0.9774530529975891, 0.9724531769752502, 0.9813583493232727, 0.19813425838947296, 0.4052746295928955, 0.22515256702899933, 0.1711159497499466, 0.966977059841156, 0.9843516945838928, 0.3547518253326416, 0.630669891834259, 0.9827860593795776, 0.38863661885261536, 0.5979024767875671, 0.9689611196517944, 0.10479988902807236, 0.8733324408531189, 0.9792218804359436, 0.3242069184780121, 0.0926305502653122, 0.5094680190086365, 0.06175370141863823, 0.995585560798645, 0.38382697105407715, 0.22389906644821167, 0.38382697105407715, 0.8401457071304321, 0.12446602433919907, 0.9663742780685425, 0.5523383617401123, 0.4248756766319275, 0.9827667474746704, 0.9770095348358154, 0.9830765128135681, 0.8367515206336975, 0.12678052484989166, 0.18597149848937988, 0.8182746171951294, 0.9793668985366821, 0.9772042632102966, 0.2922069728374481, 0.6939915418624878, 0.020424222573637962, 0.24509067833423615, 0.7352719902992249, 0.5719852447509766, 0.4159892797470093, 0.2533175051212311, 0.7346207499504089, 0.031687211245298386, 0.5703697800636292, 0.38024652004241943, 0.049796056002378464, 0.9461250901222229, 0.06343123316764832, 0.9197529554367065, 0.03171561658382416, 0.9955968260765076, 0.979577362537384, 0.9669992923736572, 0.21449731290340424, 0.7660618424415588, 0.6678653359413147, 0.1964309811592102, 0.11785858869552612, 0.9764687418937683, 0.99043208360672, 0.9880004525184631, 0.6957991719245911, 0.06626658886671066, 0.23193305730819702], \"Term\": [\"ac\\u00e1\", \"ahora\", \"aislamiento\", \"aislamiento\", \"aqu\\u00ed\", \"aqu\\u00ed\", \"as\\u00ed\", \"as\\u00ed\", \"as\\u00ed\", \"a\\u00f1o\", \"a\\u00f1o\", \"a\\u00f1os\", \"biden\", \"bien\", \"biontech\", \"bogot\\u00e1\", \"bogot\\u00e1\", \"bogot\\u00e1\", \"borr\\u00e9\", \"cada\", \"cada\", \"casa\", \"caso\", \"casos\", \"china\", \"china\", \"cifras\", \"cifras\", \"cifras\", \"ciudad\", \"ciudad\", \"claudia\", \"colombia\", \"colombia\", \"colombiano\", \"colombiano\", \"contacto\", \"contactos\", \"contactos\", \"contagio\", \"contagios\", \"contagios\", \"coronavirus\", \"coronavirus\", \"coronavirus\", \"coronavirus\", \"crisis\", \"crisis\", \"cualquier\", \"cuenta\", \"c\\u00f3mo\", \"c\\u00f3mo\", \"da\", \"da\", \"da\", \"dar\", \"dar\", \"datos\", \"debe\", \"debe\", \"despu\\u00e9s\", \"despu\\u00e9s\", \"despu\\u00e9s\", \"dice\", \"dice\", \"dice\", \"dice\", \"dio\", \"dio\", \"dio\", \"dos\", \"dos\", \"d\\u00eda\", \"d\\u00eda\", \"d\\u00edas\", \"d\\u00edas\", \"d\\u00edas\", \"econ\\u00f3mica\", \"eficaz\", \"elecciones\", \"elecciones\", \"eliminen\", \"emergencia\", \"entrar\", \"evitar\", \"evitar\", \"fallecidos\", \"fin\", \"fin\", \"firma\", \"firma\", \"frente\", \"gente\", \"gente\", \"gente\", \"gobierno\", \"gobierno\", \"gobierno\", \"hace\", \"hace\", \"hacer\", \"hacer\", \"hecho\", \"hecho\", \"hoy\", \"hoy\", \"hoy\", \"informaci\\u00f3n\", \"informaci\\u00f3n\", \"informaci\\u00f3n\", \"informaci\\u00f3n\", \"invitamos\", \"invitamos\", \"leer\", \"leer\", \"leer\", \"luego\", \"l\\u00f3pez\", \"mal\", \"manos\", \"manos\", \"medidas\", \"medio\", \"medio\", \"medio\", \"mejor\", \"menos\", \"menos\", \"meses\", \"mil\", \"millones\", \"millones\", \"minsaludcol\", \"momento\", \"momento\", \"muertes\", \"muertos\", \"muertos\", \"mundial\", \"mundial\", \"mundo\", \"mundo\", \"nacional\", \"nacional\", \"necesario\", \"negativas\", \"noticia\", \"noticia\", \"nueva\", \"nueva\", \"nuevo\", \"nuevo\", \"nuevos\", \"pacientes\", \"pacientes\", \"pandemia\", \"pandemia\", \"parte\", \"parte\", \"parte\", \"pa\\u00eds\", \"pa\\u00eds\", \"pa\\u00eds\", \"pa\\u00edses\", \"pa\\u00edses\", \"pcr\", \"personas\", \"personas\", \"personas\", \"personas\", \"petici\\u00f3n\", \"pfizer\", \"posible\", \"posible\", \"positivo\", \"positivo\", \"positivos\", \"presidente\", \"presidente\", \"prevenci\\u00f3n\", \"prevenci\\u00f3n\", \"primer\", \"primer\", \"prueba\", \"prueba\", \"pruebas\", \"puede\", \"pues\", \"q\", \"recuperados\", \"reducir\", \"reducir\", \"reporte\", \"reporte\", \"requisito\", \"resultados\", \"riesgo\", \"salud\", \"salud\", \"salud\", \"salud\", \"santos\", \"seguimiento\", \"segunda\", \"segunda\", \"seguridad\", \"seg\\u00fan\", \"seg\\u00fan\", \"selecci\\u00f3n\", \"semana\", \"semana\", \"semanas\", \"ser\", \"ser\", \"ser\", \"ser\", \"si\", \"sigue\", \"sigue\", \"sigue\", \"situaci\\u00f3n\", \"situaci\\u00f3n\", \"social\", \"solo\", \"solo\", \"s\\u00edntomas\", \"tan\", \"tapabocas\", \"tener\", \"tener\", \"tiempo\", \"tiempo\", \"tiempos\", \"todas\", \"trabajo\", \"trabajo\", \"tras\", \"tras\", \"tras\", \"trav\\u00e9s\", \"trav\\u00e9s\", \"trump\", \"trump\", \"unidos\", \"unidos\", \"unidos\", \"uso\", \"uso\", \"va\", \"va\", \"va\", \"vacuna\", \"van\", \"vargas\", \"ver\", \"ver\", \"vez\", \"vez\", \"vez\", \"viajeros\", \"vida\", \"virus\", \"v\\u00eda\", \"v\\u00eda\", \"v\\u00eda\"]}, \"R\": 30, \"lambda.step\": 0.01, \"plot.opts\": {\"xlab\": \"PC1\", \"ylab\": \"PC2\"}, \"topic.order\": [4, 3, 5, 2, 1]};\n",
       "\n",
       "function LDAvis_load_lib(url, callback){\n",
       "  var s = document.createElement('script');\n",
       "  s.src = url;\n",
       "  s.async = true;\n",
       "  s.onreadystatechange = s.onload = callback;\n",
       "  s.onerror = function(){console.warn(\"failed to load library \" + url);};\n",
       "  document.getElementsByTagName(\"head\")[0].appendChild(s);\n",
       "}\n",
       "\n",
       "if(typeof(LDAvis) !== \"undefined\"){\n",
       "   // already loaded: just create the visualization\n",
       "   !function(LDAvis){\n",
       "       new LDAvis(\"#\" + \"ldavis_el47882395300026512306313960\", ldavis_el47882395300026512306313960_data);\n",
       "   }(LDAvis);\n",
       "}else if(typeof define === \"function\" && define.amd){\n",
       "   // require.js is available: use it to load d3/LDAvis\n",
       "   require.config({paths: {d3: \"https://cdnjs.cloudflare.com/ajax/libs/d3/3.5.5/d3.min\"}});\n",
       "   require([\"d3\"], function(d3){\n",
       "      window.d3 = d3;\n",
       "      LDAvis_load_lib(\"https://cdn.rawgit.com/bmabey/pyLDAvis/files/ldavis.v1.0.0.js\", function(){\n",
       "        new LDAvis(\"#\" + \"ldavis_el47882395300026512306313960\", ldavis_el47882395300026512306313960_data);\n",
       "      });\n",
       "    });\n",
       "}else{\n",
       "    // require.js not available: dynamically load d3 & LDAvis\n",
       "    LDAvis_load_lib(\"https://cdnjs.cloudflare.com/ajax/libs/d3/3.5.5/d3.min.js\", function(){\n",
       "         LDAvis_load_lib(\"https://cdn.rawgit.com/bmabey/pyLDAvis/files/ldavis.v1.0.0.js\", function(){\n",
       "                 new LDAvis(\"#\" + \"ldavis_el47882395300026512306313960\", ldavis_el47882395300026512306313960_data);\n",
       "            })\n",
       "         });\n",
       "}\n",
       "</script>"
      ],
      "text/plain": [
       "<IPython.core.display.HTML object>"
      ]
     },
     "execution_count": 100,
     "metadata": {},
     "output_type": "execute_result"
    }
   ],
   "source": [
    "lda_display = pyLDAvis.gensim.prepare(model, corpus, dictionary, sort_topics=True)\n",
    "pyLDAvis.display(lda_display)"
   ]
  }
 ],
 "metadata": {
  "kernelspec": {
   "display_name": "Python 3",
   "language": "python",
   "name": "python3"
  },
  "language_info": {
   "codemirror_mode": {
    "name": "ipython",
    "version": 3
   },
   "file_extension": ".py",
   "mimetype": "text/x-python",
   "name": "python",
   "nbconvert_exporter": "python",
   "pygments_lexer": "ipython3",
   "version": "3.8.3"
  }
 },
 "nbformat": 4,
 "nbformat_minor": 2
}
